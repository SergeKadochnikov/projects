{
 "cells": [
  {
   "cell_type": "markdown",
   "metadata": {
    "deletable": false,
    "editable": false,
    "id": "E0vqbgi9ay0H"
   },
   "source": [
    "# Яндекс Музыка"
   ]
  },
  {
   "cell_type": "markdown",
   "metadata": {
    "deletable": false,
    "editable": false,
    "id": "VUC88oWjTJw2"
   },
   "source": [
    "Сравнение Москвы и Петербурга окружено мифами. Например:\n",
    " * Москва — мегаполис, подчинённый жёсткому ритму рабочей недели;\n",
    " * Петербург — культурная столица, со своими вкусами.\n",
    "\n",
    "На данных Яндекс Музыки вы сравните поведение пользователей двух столиц.\n",
    "\n",
    "**Цель исследования** — проверьте три гипотезы:\n",
    "1. Активность пользователей зависит от дня недели. Причём в Москве и Петербурге это проявляется по-разному.\n",
    "2. В понедельник утром в Москве преобладают одни жанры, а в Петербурге — другие. Так же и вечером пятницы преобладают разные жанры — в зависимости от города. \n",
    "3. Москва и Петербург предпочитают разные жанры музыки. В Москве чаще слушают поп-музыку, в Петербурге — русский рэп.\n",
    "\n",
    "**Ход исследования**\n",
    "\n",
    "Данные о поведении пользователей вы получите из файла `yandex_music_project.csv`. О качестве данных ничего не известно. Поэтому перед проверкой гипотез понадобится обзор данных. \n",
    "\n",
    "Вы проверите данные на ошибки и оцените их влияние на исследование. Затем, на этапе предобработки вы поищете возможность исправить самые критичные ошибки данных.\n",
    " \n",
    "Таким образом, исследование пройдёт в три этапа:\n",
    " 1. Обзор данных.\n",
    " 2. Предобработка данных.\n",
    " 3. Проверка гипотез.\n",
    "\n"
   ]
  },
  {
   "cell_type": "markdown",
   "metadata": {
    "deletable": false,
    "editable": false,
    "id": "Ml1hmfXC_Zcs"
   },
   "source": [
    "## Обзор данных\n",
    "\n",
    "Составьте первое представление о данных Яндекс Музыки.\n",
    "\n",
    "\n"
   ]
  },
  {
   "cell_type": "markdown",
   "metadata": {
    "deletable": false,
    "editable": false,
    "id": "57eAOGIz_Zcs",
    "tags": [
     "start_task"
    ]
   },
   "source": [
    "**Задание 1**\n",
    "\n",
    "Основной инструмент аналитика — `pandas`. Импортируйте эту библиотеку."
   ]
  },
  {
   "cell_type": "code",
   "execution_count": 101,
   "metadata": {
    "deletable": false,
    "id": "AXN7PHPN_Zcs"
   },
   "outputs": [],
   "source": [
    "# импорт библиотеки pandas\n",
    "import pandas as pd"
   ]
  },
  {
   "cell_type": "markdown",
   "metadata": {
    "deletable": false,
    "editable": false,
    "id": "SG23P8tt_Zcs",
    "tags": [
     "start_task"
    ]
   },
   "source": [
    "**Задание 2**\n",
    "\n",
    "Прочитайте файл `yandex_music_project.csv` из папки `/datasets` и сохраните его в переменной `df`:"
   ]
  },
  {
   "cell_type": "code",
   "execution_count": 102,
   "metadata": {
    "deletable": false,
    "id": "fFVu7vqh_Zct"
   },
   "outputs": [],
   "source": [
    "# чтение файла с данными и сохранение в df\n",
    "df = pd.read_csv('/datasets/yandex_music_project.csv')"
   ]
  },
  {
   "cell_type": "markdown",
   "metadata": {
    "deletable": false,
    "editable": false,
    "id": "rDoOMd3uTqnZ",
    "tags": [
     "start_task"
    ]
   },
   "source": [
    "**Задание 3**\n",
    "\n",
    "\n",
    "Выведите на экран первые десять строк таблицы:"
   ]
  },
  {
   "cell_type": "code",
   "execution_count": 103,
   "metadata": {
    "deletable": false,
    "id": "oWTVX3gW_Zct"
   },
   "outputs": [
    {
     "data": {
      "text/html": [
       "<div>\n",
       "<style scoped>\n",
       "    .dataframe tbody tr th:only-of-type {\n",
       "        vertical-align: middle;\n",
       "    }\n",
       "\n",
       "    .dataframe tbody tr th {\n",
       "        vertical-align: top;\n",
       "    }\n",
       "\n",
       "    .dataframe thead th {\n",
       "        text-align: right;\n",
       "    }\n",
       "</style>\n",
       "<table border=\"1\" class=\"dataframe\">\n",
       "  <thead>\n",
       "    <tr style=\"text-align: right;\">\n",
       "      <th></th>\n",
       "      <th>userID</th>\n",
       "      <th>Track</th>\n",
       "      <th>artist</th>\n",
       "      <th>genre</th>\n",
       "      <th>City</th>\n",
       "      <th>time</th>\n",
       "      <th>Day</th>\n",
       "    </tr>\n",
       "  </thead>\n",
       "  <tbody>\n",
       "    <tr>\n",
       "      <th>0</th>\n",
       "      <td>FFB692EC</td>\n",
       "      <td>Kamigata To Boots</td>\n",
       "      <td>The Mass Missile</td>\n",
       "      <td>rock</td>\n",
       "      <td>Saint-Petersburg</td>\n",
       "      <td>20:28:33</td>\n",
       "      <td>Wednesday</td>\n",
       "    </tr>\n",
       "    <tr>\n",
       "      <th>1</th>\n",
       "      <td>55204538</td>\n",
       "      <td>Delayed Because of Accident</td>\n",
       "      <td>Andreas Rönnberg</td>\n",
       "      <td>rock</td>\n",
       "      <td>Moscow</td>\n",
       "      <td>14:07:09</td>\n",
       "      <td>Friday</td>\n",
       "    </tr>\n",
       "    <tr>\n",
       "      <th>2</th>\n",
       "      <td>20EC38</td>\n",
       "      <td>Funiculì funiculà</td>\n",
       "      <td>Mario Lanza</td>\n",
       "      <td>pop</td>\n",
       "      <td>Saint-Petersburg</td>\n",
       "      <td>20:58:07</td>\n",
       "      <td>Wednesday</td>\n",
       "    </tr>\n",
       "    <tr>\n",
       "      <th>3</th>\n",
       "      <td>A3DD03C9</td>\n",
       "      <td>Dragons in the Sunset</td>\n",
       "      <td>Fire + Ice</td>\n",
       "      <td>folk</td>\n",
       "      <td>Saint-Petersburg</td>\n",
       "      <td>08:37:09</td>\n",
       "      <td>Monday</td>\n",
       "    </tr>\n",
       "    <tr>\n",
       "      <th>4</th>\n",
       "      <td>E2DC1FAE</td>\n",
       "      <td>Soul People</td>\n",
       "      <td>Space Echo</td>\n",
       "      <td>dance</td>\n",
       "      <td>Moscow</td>\n",
       "      <td>08:34:34</td>\n",
       "      <td>Monday</td>\n",
       "    </tr>\n",
       "    <tr>\n",
       "      <th>5</th>\n",
       "      <td>842029A1</td>\n",
       "      <td>Преданная</td>\n",
       "      <td>IMPERVTOR</td>\n",
       "      <td>rusrap</td>\n",
       "      <td>Saint-Petersburg</td>\n",
       "      <td>13:09:41</td>\n",
       "      <td>Friday</td>\n",
       "    </tr>\n",
       "    <tr>\n",
       "      <th>6</th>\n",
       "      <td>4CB90AA5</td>\n",
       "      <td>True</td>\n",
       "      <td>Roman Messer</td>\n",
       "      <td>dance</td>\n",
       "      <td>Moscow</td>\n",
       "      <td>13:00:07</td>\n",
       "      <td>Wednesday</td>\n",
       "    </tr>\n",
       "    <tr>\n",
       "      <th>7</th>\n",
       "      <td>F03E1C1F</td>\n",
       "      <td>Feeling This Way</td>\n",
       "      <td>Polina Griffith</td>\n",
       "      <td>dance</td>\n",
       "      <td>Moscow</td>\n",
       "      <td>20:47:49</td>\n",
       "      <td>Wednesday</td>\n",
       "    </tr>\n",
       "    <tr>\n",
       "      <th>8</th>\n",
       "      <td>8FA1D3BE</td>\n",
       "      <td>И вновь продолжается бой</td>\n",
       "      <td>NaN</td>\n",
       "      <td>ruspop</td>\n",
       "      <td>Moscow</td>\n",
       "      <td>09:17:40</td>\n",
       "      <td>Friday</td>\n",
       "    </tr>\n",
       "    <tr>\n",
       "      <th>9</th>\n",
       "      <td>E772D5C0</td>\n",
       "      <td>Pessimist</td>\n",
       "      <td>NaN</td>\n",
       "      <td>dance</td>\n",
       "      <td>Saint-Petersburg</td>\n",
       "      <td>21:20:49</td>\n",
       "      <td>Wednesday</td>\n",
       "    </tr>\n",
       "  </tbody>\n",
       "</table>\n",
       "</div>"
      ],
      "text/plain": [
       "     userID                        Track            artist   genre  \\\n",
       "0  FFB692EC            Kamigata To Boots  The Mass Missile    rock   \n",
       "1  55204538  Delayed Because of Accident  Andreas Rönnberg    rock   \n",
       "2    20EC38            Funiculì funiculà       Mario Lanza     pop   \n",
       "3  A3DD03C9        Dragons in the Sunset        Fire + Ice    folk   \n",
       "4  E2DC1FAE                  Soul People        Space Echo   dance   \n",
       "5  842029A1                    Преданная         IMPERVTOR  rusrap   \n",
       "6  4CB90AA5                         True      Roman Messer   dance   \n",
       "7  F03E1C1F             Feeling This Way   Polina Griffith   dance   \n",
       "8  8FA1D3BE     И вновь продолжается бой               NaN  ruspop   \n",
       "9  E772D5C0                    Pessimist               NaN   dance   \n",
       "\n",
       "             City        time        Day  \n",
       "0  Saint-Petersburg  20:28:33  Wednesday  \n",
       "1            Moscow  14:07:09     Friday  \n",
       "2  Saint-Petersburg  20:58:07  Wednesday  \n",
       "3  Saint-Petersburg  08:37:09     Monday  \n",
       "4            Moscow  08:34:34     Monday  \n",
       "5  Saint-Petersburg  13:09:41     Friday  \n",
       "6            Moscow  13:00:07  Wednesday  \n",
       "7            Moscow  20:47:49  Wednesday  \n",
       "8            Moscow  09:17:40     Friday  \n",
       "9  Saint-Petersburg  21:20:49  Wednesday  "
      ]
     },
     "execution_count": 103,
     "metadata": {},
     "output_type": "execute_result"
    }
   ],
   "source": [
    "# получение первых 10 строк таблицы df\n",
    "df.head(10)"
   ]
  },
  {
   "cell_type": "markdown",
   "metadata": {
    "deletable": false,
    "editable": false,
    "id": "EO73Kwic_Zct",
    "tags": [
     "start_task"
    ]
   },
   "source": [
    "**Задание 4**\n",
    "\n",
    "\n",
    "Одной командой получить общую информацию о таблице c помощью метода `info()`:"
   ]
  },
  {
   "cell_type": "code",
   "execution_count": 104,
   "metadata": {
    "deletable": false,
    "id": "DSf2kIb-_Zct"
   },
   "outputs": [
    {
     "name": "stdout",
     "output_type": "stream",
     "text": [
      "<class 'pandas.core.frame.DataFrame'>\n",
      "RangeIndex: 65079 entries, 0 to 65078\n",
      "Data columns (total 7 columns):\n",
      " #   Column    Non-Null Count  Dtype \n",
      "---  ------    --------------  ----- \n",
      " 0     userID  65079 non-null  object\n",
      " 1   Track     63848 non-null  object\n",
      " 2   artist    57876 non-null  object\n",
      " 3   genre     63881 non-null  object\n",
      " 4     City    65079 non-null  object\n",
      " 5   time      65079 non-null  object\n",
      " 6   Day       65079 non-null  object\n",
      "dtypes: object(7)\n",
      "memory usage: 3.5+ MB\n"
     ]
    }
   ],
   "source": [
    "# получение общей информации о данных в таблице df\n",
    "df.info()"
   ]
  },
  {
   "cell_type": "markdown",
   "metadata": {
    "deletable": false,
    "editable": false,
    "id": "TaQ2Iwbr_Zct"
   },
   "source": [
    "Итак, в таблице семь столбцов. Тип данных во всех столбцах — `object`.\n",
    "\n",
    "Согласно документации к данным:\n",
    "* `userID` — идентификатор пользователя;\n",
    "* `Track` — название трека;  \n",
    "* `artist` — имя исполнителя;\n",
    "* `genre` — название жанра;\n",
    "* `City` — город пользователя;\n",
    "* `time` — время начала прослушивания;\n",
    "* `Day` — день недели.\n",
    "\n",
    "Количество значений в столбцах различается. Значит, в данных есть пропущенные значения."
   ]
  },
  {
   "cell_type": "markdown",
   "metadata": {
    "deletable": false,
    "editable": false,
    "id": "rAfziTBDmf2h",
    "tags": [
     "start_task"
    ]
   },
   "source": [
    "**Задание 5**\n",
    "\n",
    "**Вопрос со свободной формой ответа**\n",
    "\n",
    "В названиях колонок видны нарушения стиля:\n",
    "* Строчные буквы сочетаются с прописными.\n",
    "* Встречаются пробелы.\n",
    "\n",
    "Какое третье нарушение?"
   ]
  },
  {
   "cell_type": "code",
   "execution_count": 105,
   "metadata": {
    "id": "jD8EXEIvmf2h"
   },
   "outputs": [],
   "source": [
    "# Названия time и day не дают понимания о смысле данных в этих столбцах, но в самой таблице \"day\" понятен однозначно."
   ]
  },
  {
   "cell_type": "markdown",
   "metadata": {
    "deletable": false,
    "editable": false,
    "id": "MCB6-dXG_Zct"
   },
   "source": [
    "**Выводы**\n",
    "\n",
    "В каждой строке таблицы — данные о прослушанном треке. Часть колонок описывает саму композицию: название, исполнителя и жанр. Остальные данные рассказывают о пользователе: из какого он города, когда он слушал музыку. \n",
    "\n",
    "Предварительно можно утверждать, что данных достаточно для проверки гипотез. Но встречаются пропуски в данных, а в названиях колонок — расхождения с хорошим стилем.\n",
    "\n",
    "Чтобы двигаться дальше, нужно устранить проблемы в данных."
   ]
  },
  {
   "cell_type": "markdown",
   "metadata": {
    "deletable": false,
    "editable": false,
    "id": "SjYF6Ub9_Zct"
   },
   "source": [
    "## Предобработка данных\n",
    "Исправьте стиль в заголовках столбцов, исключите пропуски. Затем проверьте данные на дубликаты."
   ]
  },
  {
   "cell_type": "markdown",
   "metadata": {
    "deletable": false,
    "editable": false,
    "id": "dIaKXr29_Zct",
    "tags": [
     "start_task"
    ]
   },
   "source": [
    "### Стиль заголовков\n",
    "\n",
    "**Задание 6**\n",
    "\n",
    "Выведите на экран названия столбцов:"
   ]
  },
  {
   "cell_type": "code",
   "execution_count": 106,
   "metadata": {
    "deletable": false,
    "id": "oKOTdF_Q_Zct"
   },
   "outputs": [
    {
     "data": {
      "text/plain": [
       "Index(['  userID', 'Track', 'artist', 'genre', '  City  ', 'time', 'Day'], dtype='object')"
      ]
     },
     "execution_count": 106,
     "metadata": {},
     "output_type": "execute_result"
    }
   ],
   "source": [
    "# перечень названий столбцов таблицы df\n",
    "df.columns"
   ]
  },
  {
   "cell_type": "markdown",
   "metadata": {
    "deletable": false,
    "editable": false,
    "id": "zj5534cv_Zct",
    "tags": [
     "start_task"
    ]
   },
   "source": [
    "**Задание 7**\n",
    "\n",
    "\n",
    "Приведите названия в соответствие с хорошим стилем:\n",
    "* несколько слов в названии запишите в «змеином_регистре»,\n",
    "* все символы сделайте строчными,\n",
    "* устраните пробелы.\n",
    "\n",
    "Для этого переименуйте колонки так:\n",
    "* `'  userID'` → `'user_id'`;\n",
    "* `'Track'` → `'track'`;\n",
    "* `'  City  '` → `'city'`;\n",
    "* `'Day'` → `'day'`."
   ]
  },
  {
   "cell_type": "code",
   "execution_count": 107,
   "metadata": {
    "deletable": false,
    "id": "ISlFqs5y_Zct"
   },
   "outputs": [],
   "source": [
    "# переименование столбцов\n",
    "df=df.rename(columns={'  userID':'user_id', 'Track':'track','  City  ':'city', 'Day':'day'})"
   ]
  },
  {
   "cell_type": "markdown",
   "metadata": {
    "deletable": false,
    "editable": false,
    "id": "1dqbh00J_Zct",
    "tags": [
     "start_task"
    ]
   },
   "source": [
    "**Задание 8**\n",
    "\n",
    "\n",
    "Проверьте результат. Для этого ещё раз выведите на экран названия столбцов:"
   ]
  },
  {
   "cell_type": "code",
   "execution_count": 108,
   "metadata": {
    "deletable": false,
    "id": "d4NOAmTW_Zct"
   },
   "outputs": [
    {
     "data": {
      "text/plain": [
       "Index(['user_id', 'track', 'artist', 'genre', 'city', 'time', 'day'], dtype='object')"
      ]
     },
     "execution_count": 108,
     "metadata": {},
     "output_type": "execute_result"
    }
   ],
   "source": [
    "# проверка результатов - перечень названий столбцов\n",
    "df.columns"
   ]
  },
  {
   "cell_type": "markdown",
   "metadata": {
    "deletable": false,
    "editable": false,
    "id": "5ISfbcfY_Zct",
    "tags": [
     "start_task"
    ]
   },
   "source": [
    "### Пропуски значений\n",
    "\n",
    "**Задание 9**\n",
    "\n",
    "Сначала посчитайте, сколько в таблице пропущенных значений. Для этого достаточно двух методов `pandas`:"
   ]
  },
  {
   "cell_type": "code",
   "execution_count": 109,
   "metadata": {
    "deletable": false,
    "id": "RskX29qr_Zct"
   },
   "outputs": [
    {
     "name": "stdout",
     "output_type": "stream",
     "text": [
      "user_id       0\n",
      "track      1231\n",
      "artist     7203\n",
      "genre      1198\n",
      "city          0\n",
      "time          0\n",
      "day           0\n",
      "dtype: int64\n"
     ]
    }
   ],
   "source": [
    "# подсчёт пропусков\n",
    "print(df.isna().sum())"
   ]
  },
  {
   "cell_type": "markdown",
   "metadata": {
    "deletable": false,
    "editable": false,
    "id": "qubhgnlO_Zct"
   },
   "source": [
    "Не все пропущенные значения влияют на исследование. Так в `track` и `artist` пропуски не важны для вашей работы. Достаточно заменить их явными обозначениями.\n",
    "\n",
    "Но пропуски в `genre` могут помешать сравнению музыкальных вкусов в Москве и Санкт-Петербурге. На практике было бы правильно установить причину пропусков и восстановить данные. Такой возможности нет в учебном проекте. Придётся:\n",
    "* заполнить и эти пропуски явными обозначениями;\n",
    "* оценить, насколько они повредят расчётам. "
   ]
  },
  {
   "cell_type": "markdown",
   "metadata": {
    "deletable": false,
    "editable": false,
    "id": "fSv2laPA_Zct",
    "tags": [
     "start_task"
    ]
   },
   "source": [
    "**Задание 10**\n",
    "\n",
    "Замените пропущенные значения в столбцах `track`, `artist` и `genre` на строку `'unknown'`. Для этого создайте список `columns_to_replace`, переберите его элементы циклом `for` и для каждого столбца выполните замену пропущенных значений:"
   ]
  },
  {
   "cell_type": "code",
   "execution_count": 110,
   "metadata": {
    "deletable": false,
    "id": "KplB5qWs_Zct"
   },
   "outputs": [],
   "source": [
    "# перебор названий столбцов в цикле и замена пропущенных значений на 'unknown'\n",
    "columns_to_replace = ['track', 'artist', 'genre']\n",
    "for col in columns_to_replace:\n",
    "    df[col] = df[col].fillna('unknown')"
   ]
  },
  {
   "cell_type": "markdown",
   "metadata": {
    "deletable": false,
    "editable": false,
    "id": "Ilsm-MZo_Zct",
    "tags": [
     "start_task"
    ]
   },
   "source": [
    "**Задание 11**\n",
    "\n",
    "Убедитесь, что в таблице не осталось пропусков. Для этого ещё раз посчитайте пропущенные значения."
   ]
  },
  {
   "cell_type": "code",
   "execution_count": 111,
   "metadata": {
    "deletable": false,
    "id": "Tq4nYRX4_Zct"
   },
   "outputs": [
    {
     "name": "stdout",
     "output_type": "stream",
     "text": [
      "user_id    0\n",
      "track      0\n",
      "artist     0\n",
      "genre      0\n",
      "city       0\n",
      "time       0\n",
      "day        0\n",
      "dtype: int64\n"
     ]
    }
   ],
   "source": [
    "# подсчёт пропусков\n",
    "print(df.isna().sum())"
   ]
  },
  {
   "cell_type": "markdown",
   "metadata": {
    "deletable": false,
    "editable": false,
    "id": "BWKRtBJ3_Zct",
    "tags": [
     "start_task"
    ]
   },
   "source": [
    "### Дубликаты\n",
    "\n",
    "**Задание 12**\n",
    "\n",
    "Посчитайте явные дубликаты в таблице одной командой:"
   ]
  },
  {
   "cell_type": "code",
   "execution_count": 112,
   "metadata": {
    "deletable": false,
    "id": "36eES_S0_Zct"
   },
   "outputs": [
    {
     "data": {
      "text/plain": [
       "3826"
      ]
     },
     "execution_count": 112,
     "metadata": {},
     "output_type": "execute_result"
    }
   ],
   "source": [
    "# подсчёт явных дубликатов\n",
    "df.duplicated().sum()"
   ]
  },
  {
   "cell_type": "markdown",
   "metadata": {
    "deletable": false,
    "editable": false,
    "id": "Ot25h6XR_Zct",
    "tags": [
     "start_task"
    ]
   },
   "source": [
    "**Задание 13**\n",
    "\n",
    "Вызовите специальный метод `pandas`, чтобы удалить явные дубликаты:"
   ]
  },
  {
   "cell_type": "code",
   "execution_count": 113,
   "metadata": {
    "deletable": false,
    "id": "exFHq6tt_Zct"
   },
   "outputs": [],
   "source": [
    "# удаление явных дубликатов\n",
    "df = df.drop_duplicates()"
   ]
  },
  {
   "cell_type": "markdown",
   "metadata": {
    "deletable": false,
    "editable": false,
    "id": "Im2YwBEG_Zct",
    "tags": [
     "start_task"
    ]
   },
   "source": [
    "**Задание 14**\n",
    "\n",
    "Ещё раз посчитайте явные дубликаты в таблице — убедитесь, что полностью от них избавились:"
   ]
  },
  {
   "cell_type": "code",
   "execution_count": 114,
   "metadata": {
    "deletable": false,
    "id": "-8PuNWQ0_Zct"
   },
   "outputs": [
    {
     "data": {
      "text/plain": [
       "0"
      ]
     },
     "execution_count": 114,
     "metadata": {},
     "output_type": "execute_result"
    }
   ],
   "source": [
    "# проверка на отсутствие дубликатов\n",
    "df.duplicated().sum()"
   ]
  },
  {
   "cell_type": "markdown",
   "metadata": {
    "deletable": false,
    "editable": false,
    "id": "QlFBsxAr_Zct"
   },
   "source": [
    "Теперь избавьтесь от неявных дубликатов в колонке `genre`. Например, название одного и того же жанра может быть записано немного по-разному. Такие ошибки тоже повлияют на результат исследования."
   ]
  },
  {
   "cell_type": "markdown",
   "metadata": {
    "deletable": false,
    "editable": false,
    "id": "eSjWwsOh_Zct",
    "tags": [
     "start_task"
    ]
   },
   "source": [
    "**Задание 15**\n",
    "\n",
    "Выведите на экран список уникальных названий жанров, отсортированный в алфавитном порядке. Для этого:\n",
    "1. извлеките нужный столбец датафрейма; \n",
    "2. примените к нему метод сортировки;\n",
    "3. для отсортированного столбца вызовите метод, который вернёт уникальные значения из столбца."
   ]
  },
  {
   "cell_type": "code",
   "execution_count": 115,
   "metadata": {
    "deletable": false,
    "id": "JIUcqzZN_Zct"
   },
   "outputs": [
    {
     "name": "stdout",
     "output_type": "stream",
     "text": [
      "['acid' 'acoustic' 'action' 'adult' 'africa' 'afrikaans' 'alternative'\n",
      " 'alternativepunk' 'ambient' 'americana' 'animated' 'anime' 'arabesk'\n",
      " 'arabic' 'arena' 'argentinetango' 'art' 'audiobook' 'author' 'avantgarde'\n",
      " 'axé' 'baile' 'balkan' 'beats' 'bigroom' 'black' 'bluegrass' 'blues'\n",
      " 'bollywood' 'bossa' 'brazilian' 'breakbeat' 'breaks' 'broadway'\n",
      " 'cantautori' 'cantopop' 'canzone' 'caribbean' 'caucasian' 'celtic'\n",
      " 'chamber' 'chanson' 'children' 'chill' 'chinese' 'choral' 'christian'\n",
      " 'christmas' 'classical' 'classicmetal' 'club' 'colombian' 'comedy'\n",
      " 'conjazz' 'contemporary' 'country' 'cuban' 'dance' 'dancehall' 'dancepop'\n",
      " 'dark' 'death' 'deep' 'deutschrock' 'deutschspr' 'dirty' 'disco' 'dnb'\n",
      " 'documentary' 'downbeat' 'downtempo' 'drum' 'dub' 'dubstep' 'eastern'\n",
      " 'easy' 'electronic' 'electropop' 'emo' 'entehno' 'epicmetal' 'estrada'\n",
      " 'ethnic' 'eurofolk' 'european' 'experimental' 'extrememetal' 'fado'\n",
      " 'fairytail' 'film' 'fitness' 'flamenco' 'folk' 'folklore' 'folkmetal'\n",
      " 'folkrock' 'folktronica' 'forró' 'frankreich' 'französisch' 'french'\n",
      " 'funk' 'future' 'gangsta' 'garage' 'german' 'ghazal' 'gitarre' 'glitch'\n",
      " 'gospel' 'gothic' 'grime' 'grunge' 'gypsy' 'handsup' \"hard'n'heavy\"\n",
      " 'hardcore' 'hardstyle' 'hardtechno' 'hip' 'hip-hop' 'hiphop' 'historisch'\n",
      " 'holiday' 'hop' 'horror' 'house' 'hymn' 'idm' 'independent' 'indian'\n",
      " 'indie' 'indipop' 'industrial' 'inspirational' 'instrumental'\n",
      " 'international' 'irish' 'jam' 'japanese' 'jazz' 'jewish' 'jpop' 'jungle'\n",
      " 'k-pop' 'karadeniz' 'karaoke' 'kayokyoku' 'korean' 'laiko' 'latin'\n",
      " 'latino' 'leftfield' 'local' 'lounge' 'loungeelectronic' 'lovers'\n",
      " 'malaysian' 'mandopop' 'marschmusik' 'meditative' 'mediterranean'\n",
      " 'melodic' 'metal' 'metalcore' 'mexican' 'middle' 'minimal'\n",
      " 'miscellaneous' 'modern' 'mood' 'mpb' 'muslim' 'native' 'neoklassik'\n",
      " 'neue' 'new' 'newage' 'newwave' 'nu' 'nujazz' 'numetal' 'oceania' 'old'\n",
      " 'opera' 'orchestral' 'other' 'piano' 'podcasts' 'pop' 'popdance'\n",
      " 'popelectronic' 'popeurodance' 'poprussian' 'post' 'posthardcore'\n",
      " 'postrock' 'power' 'progmetal' 'progressive' 'psychedelic' 'punjabi'\n",
      " 'punk' 'quebecois' 'ragga' 'ram' 'rancheras' 'rap' 'rave' 'reggae'\n",
      " 'reggaeton' 'regional' 'relax' 'religious' 'retro' 'rhythm' 'rnb' 'rnr'\n",
      " 'rock' 'rockabilly' 'rockalternative' 'rockindie' 'rockother' 'romance'\n",
      " 'roots' 'ruspop' 'rusrap' 'rusrock' 'russian' 'salsa' 'samba' 'scenic'\n",
      " 'schlager' 'self' 'sertanejo' 'shanson' 'shoegazing' 'showtunes' 'singer'\n",
      " 'ska' 'skarock' 'slow' 'smooth' 'soft' 'soul' 'soulful' 'sound'\n",
      " 'soundtrack' 'southern' 'specialty' 'speech' 'spiritual' 'sport'\n",
      " 'stonerrock' 'surf' 'swing' 'synthpop' 'synthrock' 'sängerportrait'\n",
      " 'tango' 'tanzorchester' 'taraftar' 'tatar' 'tech' 'techno' 'teen'\n",
      " 'thrash' 'top' 'traditional' 'tradjazz' 'trance' 'tribal' 'trip'\n",
      " 'triphop' 'tropical' 'türk' 'türkçe' 'ukrrock' 'unknown' 'urban' 'uzbek'\n",
      " 'variété' 'vi' 'videogame' 'vocal' 'western' 'world' 'worldbeat' 'ïîï'\n",
      " 'электроника']\n"
     ]
    }
   ],
   "source": [
    "# Просмотр уникальных названий жанров\n",
    "# print(sorted(df['genre'].unique()))\n",
    "sorted_df = df.sort_values(by='genre')\n",
    "print(sorted_df['genre'].unique())\n"
   ]
  },
  {
   "cell_type": "markdown",
   "metadata": {
    "deletable": false,
    "editable": false,
    "id": "qej-Qmuo_Zct",
    "tags": [
     "start_task"
    ]
   },
   "source": [
    "**Задание 16**\n",
    "\n",
    "Просмотрите список и найдите неявные дубликаты названия `hiphop`. Это могут быть названия с ошибками или альтернативные названия того же жанра.\n",
    "\n",
    "Вы увидите следующие неявные дубликаты:\n",
    "* *hip*,\n",
    "* *hop*,\n",
    "* *hip-hop*.\n",
    "\n",
    "Чтобы очистить от них таблицу используйте метод `replace()` с двумя аргументами: списком строк-дубликатов (включащий *hip*, *hop* и *hip-hop*) и строкой с правильным значением. Вам нужно исправить колонку `genre` в таблице `df`: заменить каждое значение из списка дубликатов на верное. Вместо `hip`, `hop` и `hip-hop` в таблице должно быть значение `hiphop`:"
   ]
  },
  {
   "cell_type": "code",
   "execution_count": 116,
   "metadata": {
    "deletable": false,
    "id": "ErNDkmns_Zct"
   },
   "outputs": [],
   "source": [
    "# Устранение неявных дубликатов\n",
    "duplicates = ['hip', 'hop', 'hip-hop'] # список неправильных имён\n",
    "name = 'hiphop' # правильное имя\n",
    "df['genre'] = df['genre'].replace(duplicates, name)\n"
   ]
  },
  {
   "cell_type": "markdown",
   "metadata": {
    "deletable": false,
    "editable": false,
    "id": "zQKF16_RG15m",
    "tags": [
     "start_task"
    ]
   },
   "source": [
    "**Задание 17**\n",
    "\n",
    "Проверьте, что заменили неправильные названия:\n",
    "\n",
    "*   hip,\n",
    "*   hop,\n",
    "*   hip-hop.\n",
    "\n",
    "Выведите отсортированный список уникальных значений столбца `genre`:"
   ]
  },
  {
   "cell_type": "code",
   "execution_count": 117,
   "metadata": {
    "deletable": false,
    "id": "wvixALnFG15m"
   },
   "outputs": [
    {
     "name": "stdout",
     "output_type": "stream",
     "text": [
      "['acid' 'acoustic' 'action' 'adult' 'africa' 'afrikaans' 'alternative'\n",
      " 'alternativepunk' 'ambient' 'americana' 'animated' 'anime' 'arabesk'\n",
      " 'arabic' 'arena' 'argentinetango' 'art' 'audiobook' 'author' 'avantgarde'\n",
      " 'axé' 'baile' 'balkan' 'beats' 'bigroom' 'black' 'bluegrass' 'blues'\n",
      " 'bollywood' 'bossa' 'brazilian' 'breakbeat' 'breaks' 'broadway'\n",
      " 'cantautori' 'cantopop' 'canzone' 'caribbean' 'caucasian' 'celtic'\n",
      " 'chamber' 'chanson' 'children' 'chill' 'chinese' 'choral' 'christian'\n",
      " 'christmas' 'classical' 'classicmetal' 'club' 'colombian' 'comedy'\n",
      " 'conjazz' 'contemporary' 'country' 'cuban' 'dance' 'dancehall' 'dancepop'\n",
      " 'dark' 'death' 'deep' 'deutschrock' 'deutschspr' 'dirty' 'disco' 'dnb'\n",
      " 'documentary' 'downbeat' 'downtempo' 'drum' 'dub' 'dubstep' 'eastern'\n",
      " 'easy' 'electronic' 'electropop' 'emo' 'entehno' 'epicmetal' 'estrada'\n",
      " 'ethnic' 'eurofolk' 'european' 'experimental' 'extrememetal' 'fado'\n",
      " 'fairytail' 'film' 'fitness' 'flamenco' 'folk' 'folklore' 'folkmetal'\n",
      " 'folkrock' 'folktronica' 'forró' 'frankreich' 'französisch' 'french'\n",
      " 'funk' 'future' 'gangsta' 'garage' 'german' 'ghazal' 'gitarre' 'glitch'\n",
      " 'gospel' 'gothic' 'grime' 'grunge' 'gypsy' 'handsup' \"hard'n'heavy\"\n",
      " 'hardcore' 'hardstyle' 'hardtechno' 'hiphop' 'historisch' 'holiday'\n",
      " 'horror' 'house' 'hymn' 'idm' 'independent' 'indian' 'indie' 'indipop'\n",
      " 'industrial' 'inspirational' 'instrumental' 'international' 'irish' 'jam'\n",
      " 'japanese' 'jazz' 'jewish' 'jpop' 'jungle' 'k-pop' 'karadeniz' 'karaoke'\n",
      " 'kayokyoku' 'korean' 'laiko' 'latin' 'latino' 'leftfield' 'local'\n",
      " 'lounge' 'loungeelectronic' 'lovers' 'malaysian' 'mandopop' 'marschmusik'\n",
      " 'meditative' 'mediterranean' 'melodic' 'metal' 'metalcore' 'mexican'\n",
      " 'middle' 'minimal' 'miscellaneous' 'modern' 'mood' 'mpb' 'muslim'\n",
      " 'native' 'neoklassik' 'neue' 'new' 'newage' 'newwave' 'nu' 'nujazz'\n",
      " 'numetal' 'oceania' 'old' 'opera' 'orchestral' 'other' 'piano' 'podcasts'\n",
      " 'pop' 'popdance' 'popelectronic' 'popeurodance' 'poprussian' 'post'\n",
      " 'posthardcore' 'postrock' 'power' 'progmetal' 'progressive' 'psychedelic'\n",
      " 'punjabi' 'punk' 'quebecois' 'ragga' 'ram' 'rancheras' 'rap' 'rave'\n",
      " 'reggae' 'reggaeton' 'regional' 'relax' 'religious' 'retro' 'rhythm'\n",
      " 'rnb' 'rnr' 'rock' 'rockabilly' 'rockalternative' 'rockindie' 'rockother'\n",
      " 'romance' 'roots' 'ruspop' 'rusrap' 'rusrock' 'russian' 'salsa' 'samba'\n",
      " 'scenic' 'schlager' 'self' 'sertanejo' 'shanson' 'shoegazing' 'showtunes'\n",
      " 'singer' 'ska' 'skarock' 'slow' 'smooth' 'soft' 'soul' 'soulful' 'sound'\n",
      " 'soundtrack' 'southern' 'specialty' 'speech' 'spiritual' 'sport'\n",
      " 'stonerrock' 'surf' 'swing' 'synthpop' 'synthrock' 'sängerportrait'\n",
      " 'tango' 'tanzorchester' 'taraftar' 'tatar' 'tech' 'techno' 'teen'\n",
      " 'thrash' 'top' 'traditional' 'tradjazz' 'trance' 'tribal' 'trip'\n",
      " 'triphop' 'tropical' 'türk' 'türkçe' 'ukrrock' 'unknown' 'urban' 'uzbek'\n",
      " 'variété' 'vi' 'videogame' 'vocal' 'western' 'world' 'worldbeat' 'ïîï'\n",
      " 'электроника']\n"
     ]
    }
   ],
   "source": [
    "# Проверка на неявные дубликаты\n",
    "sorted_df = df.sort_values(by='genre')\n",
    "print(sorted_df['genre'].unique())"
   ]
  },
  {
   "cell_type": "markdown",
   "metadata": {
    "deletable": false,
    "editable": false,
    "id": "jz6a9-7HQUDd"
   },
   "source": [
    "**Выводы**\n",
    "\n",
    "Предобработка обнаружила три проблемы в данных:\n",
    "\n",
    "- нарушения в стиле заголовков,\n",
    "- пропущенные значения,\n",
    "- дубликаты — явные и неявные.\n",
    "\n",
    "Вы исправили заголовки, чтобы упростить работу с таблицей. Без дубликатов исследование станет более точным.\n",
    "\n",
    "Пропущенные значения вы заменили на `'unknown'`. Ещё предстоит увидеть, не повредят ли исследованию пропуски в колонке `genre`.\n",
    "\n",
    "Теперь можно перейти к проверке гипотез. "
   ]
  },
  {
   "cell_type": "markdown",
   "metadata": {
    "deletable": false,
    "editable": false,
    "id": "WttZHXH0SqKk"
   },
   "source": [
    "## Проверка гипотез"
   ]
  },
  {
   "cell_type": "markdown",
   "metadata": {
    "deletable": false,
    "editable": false,
    "id": "Im936VVi_Zcu"
   },
   "source": [
    "### Сравнение поведения пользователей двух столиц"
   ]
  },
  {
   "cell_type": "markdown",
   "metadata": {
    "deletable": false,
    "editable": false,
    "id": "nwt_MuaL_Zcu"
   },
   "source": [
    "Первая гипотеза утверждает, что пользователи по-разному слушают музыку в Москве и Санкт-Петербурге. Проверьте это предположение по данным о трёх днях недели — понедельнике, среде и пятнице. Для этого:\n",
    "\n",
    "* Разделите пользователей Москвы и Санкт-Петербурга.\n",
    "* Сравните, сколько треков послушала каждая группа пользователей в понедельник, среду и пятницу.\n"
   ]
  },
  {
   "cell_type": "markdown",
   "metadata": {
    "deletable": false,
    "editable": false,
    "id": "8Dw_YMmT_Zcu",
    "tags": [
     "start_task"
    ]
   },
   "source": [
    "**Задание 18**\n",
    "\n",
    "Для тренировки сначала выполните каждый из расчётов по отдельности. \n",
    "\n",
    "Оцените активность пользователей в каждом городе. Сгруппируйте данные по городу и посчитайте прослушивания в каждой группе.\n",
    "\n"
   ]
  },
  {
   "cell_type": "code",
   "execution_count": 118,
   "metadata": {
    "deletable": false,
    "id": "0_Qs96oh_Zcu"
   },
   "outputs": [
    {
     "name": "stdout",
     "output_type": "stream",
     "text": [
      "city\n",
      "Moscow              42741\n",
      "Saint-Petersburg    18512\n",
      "Name: day, dtype: int64\n"
     ]
    }
   ],
   "source": [
    "# Подсчёт прослушиваний в каждом городе\n",
    "print(df.groupby('city')['day'].count())"
   ]
  },
  {
   "cell_type": "markdown",
   "metadata": {
    "deletable": false,
    "editable": false,
    "id": "dzli3w8o_Zcu",
    "tags": [
     "start_task"
    ]
   },
   "source": [
    "В Москве прослушиваний больше, чем в Петербурге. Из этого не следует, что московские пользователи чаще слушают музыку. Просто самих пользователей в Москве больше.\n",
    "\n",
    "**Задание 19**\n",
    "\n",
    "Теперь сгруппируйте данные по дню недели и посчитайте прослушивания в понедельник, среду и пятницу. Учтите, что в данных есть информация о прослушиваниях только за эти дни.\n"
   ]
  },
  {
   "cell_type": "code",
   "execution_count": 119,
   "metadata": {
    "deletable": false,
    "id": "uZMKjiJz_Zcu"
   },
   "outputs": [
    {
     "name": "stdout",
     "output_type": "stream",
     "text": [
      "day\n",
      "Friday       21840\n",
      "Monday       21354\n",
      "Wednesday    18059\n",
      "Name: user_id, dtype: int64\n"
     ]
    }
   ],
   "source": [
    "# Подсчёт прослушиваний в каждый из трёх дней\n",
    "print(df.groupby('day')['user_id'].count())"
   ]
  },
  {
   "cell_type": "markdown",
   "metadata": {
    "deletable": false,
    "editable": false,
    "id": "cC2tNrlL_Zcu"
   },
   "source": [
    "В среднем пользователи из двух городов менее активны по средам. Но картина может измениться, если рассмотреть каждый город в отдельности."
   ]
  },
  {
   "cell_type": "markdown",
   "metadata": {
    "deletable": false,
    "editable": false,
    "id": "POzs8bGa_Zcu",
    "tags": [
     "start_task"
    ]
   },
   "source": [
    "**Задание 20**\n",
    "\n",
    "\n",
    "Вы видели, как работает группировка по городу и по дням недели. Теперь напишите функцию, которая объединит два эти расчёта.\n",
    "\n",
    "Создайте функцию `number_tracks()`, которая посчитает прослушивания для заданного дня и города. Ей понадобятся два параметра:\n",
    "* день недели,\n",
    "* название города.\n",
    "\n",
    "В функции сохраните в переменную строки исходной таблицы, у которых значение:\n",
    "  * в колонке `day` равно параметру `day`,\n",
    "  * в колонке `city` равно параметру `city`.\n",
    "\n",
    "Для этого примените последовательную фильтрацию с логической индексацией (или сложные логические выражения в одну строку, если вы уже знакомы с ними).\n",
    "\n",
    "Затем посчитайте значения в столбце `user_id` получившейся таблицы. Результат сохраните в новую переменную. Верните эту переменную из функции."
   ]
  },
  {
   "cell_type": "code",
   "execution_count": 120,
   "metadata": {
    "deletable": false,
    "id": "Nz3GdQB1_Zcu"
   },
   "outputs": [],
   "source": [
    "# <создание функции number_tracks()>\n",
    "def number_tracks(day, city):\n",
    "    track_list = df[df['day'] == day]\n",
    "    track_list = track_list[track_list['city'] == city]\n",
    "    track_list_count = track_list['user_id'].count()\n",
    "    return track_list_count\n",
    "# Объявляется функция с двумя параметрами: day, city.\n",
    "# В переменной track_list сохраняются те строки таблицы df, для которых \n",
    "# значение в столбце 'day' равно параметру day и одновременно значение\n",
    "# в столбце 'city' равно параметру city (используйте последовательную фильтрацию\n",
    "# с помощью логической индексации или сложные логические выражения в одну строку, если вы уже знакомы с ними).\n",
    "# В переменной track_list_count сохраняется число значений столбца 'user_id',\n",
    "# рассчитанное методом count() для таблицы track_list.\n",
    "# Функция возвращает число - значение track_list_count.\n",
    "\n",
    "# Функция для подсчёта прослушиваний для конкретного города и дня.\n",
    "# С помощью последовательной фильтрации с логической индексацией она \n",
    "# сначала получит из исходной таблицы строки с нужным днём,\n",
    "# затем из результата отфильтрует строки с нужным городом,\n",
    "# методом count() посчитает количество значений в колонке user_id. \n",
    "# Это количество функция вернёт в качестве результата"
   ]
  },
  {
   "cell_type": "markdown",
   "metadata": {
    "deletable": false,
    "editable": false,
    "id": "ytf7xFrFJQ2r",
    "tags": [
     "start_task"
    ]
   },
   "source": [
    "**Задание 21**\n",
    "\n",
    "Вызовите `number_tracks()` шесть раз, меняя значение параметров — так, чтобы получить данные для каждого города в каждый из трёх дней."
   ]
  },
  {
   "cell_type": "code",
   "execution_count": 121,
   "metadata": {
    "deletable": false,
    "id": "rJcRATNQ_Zcu"
   },
   "outputs": [
    {
     "data": {
      "text/plain": [
       "15740"
      ]
     },
     "execution_count": 121,
     "metadata": {},
     "output_type": "execute_result"
    }
   ],
   "source": [
    "# количество прослушиваний в Москве по понедельникам\n",
    "number_tracks('Monday','Moscow')"
   ]
  },
  {
   "cell_type": "code",
   "execution_count": 122,
   "metadata": {
    "deletable": false,
    "id": "hq_ncZ5T_Zcu"
   },
   "outputs": [
    {
     "data": {
      "text/plain": [
       "5614"
      ]
     },
     "execution_count": 122,
     "metadata": {},
     "output_type": "execute_result"
    }
   ],
   "source": [
    "# количество прослушиваний в Санкт-Петербурге по понедельникам\n",
    "number_tracks('Monday', 'Saint-Petersburg')"
   ]
  },
  {
   "cell_type": "code",
   "execution_count": 123,
   "metadata": {
    "deletable": false,
    "id": "_NTy2VPU_Zcu"
   },
   "outputs": [
    {
     "data": {
      "text/plain": [
       "11056"
      ]
     },
     "execution_count": 123,
     "metadata": {},
     "output_type": "execute_result"
    }
   ],
   "source": [
    "# количество прослушиваний в Москве по средам\n",
    "number_tracks('Wednesday', 'Moscow')"
   ]
  },
  {
   "cell_type": "code",
   "execution_count": 124,
   "metadata": {
    "deletable": false,
    "id": "j2y3TAwo_Zcu"
   },
   "outputs": [
    {
     "data": {
      "text/plain": [
       "7003"
      ]
     },
     "execution_count": 124,
     "metadata": {},
     "output_type": "execute_result"
    }
   ],
   "source": [
    "# количество прослушиваний в Санкт-Петербурге по средам\n",
    "number_tracks('Wednesday', 'Saint-Petersburg')"
   ]
  },
  {
   "cell_type": "code",
   "execution_count": 125,
   "metadata": {
    "deletable": false,
    "id": "vYDw5u_K_Zcu"
   },
   "outputs": [
    {
     "data": {
      "text/plain": [
       "15945"
      ]
     },
     "execution_count": 125,
     "metadata": {},
     "output_type": "execute_result"
    }
   ],
   "source": [
    "# количество прослушиваний в Москве по пятницам\n",
    "number_tracks('Friday', 'Moscow')"
   ]
  },
  {
   "cell_type": "code",
   "execution_count": 126,
   "metadata": {
    "deletable": false,
    "id": "8_yzFtW3_Zcu"
   },
   "outputs": [
    {
     "data": {
      "text/plain": [
       "5895"
      ]
     },
     "execution_count": 126,
     "metadata": {},
     "output_type": "execute_result"
    }
   ],
   "source": [
    "# количество прослушиваний в Санкт-Петербурге по пятницам\n",
    "number_tracks('Friday', 'Saint-Petersburg')"
   ]
  },
  {
   "cell_type": "markdown",
   "metadata": {
    "deletable": false,
    "editable": false,
    "id": "7QXffbO-_Zcu",
    "tags": [
     "start_task"
    ]
   },
   "source": [
    "**Задание 22**\n",
    "\n",
    "Создайте c помощью конструктора `pd.DataFrame` таблицу, где\n",
    "* названия колонок — `['city', 'monday', 'wednesday', 'friday']`;\n",
    "* данные — результаты, которые вы получили с помощью `number_tracks`."
   ]
  },
  {
   "cell_type": "code",
   "execution_count": 127,
   "metadata": {
    "deletable": false,
    "id": "APAcLpOr_Zcu"
   },
   "outputs": [
    {
     "data": {
      "text/html": [
       "<div>\n",
       "<style scoped>\n",
       "    .dataframe tbody tr th:only-of-type {\n",
       "        vertical-align: middle;\n",
       "    }\n",
       "\n",
       "    .dataframe tbody tr th {\n",
       "        vertical-align: top;\n",
       "    }\n",
       "\n",
       "    .dataframe thead th {\n",
       "        text-align: right;\n",
       "    }\n",
       "</style>\n",
       "<table border=\"1\" class=\"dataframe\">\n",
       "  <thead>\n",
       "    <tr style=\"text-align: right;\">\n",
       "      <th></th>\n",
       "      <th>city</th>\n",
       "      <th>monday</th>\n",
       "      <th>wednesday</th>\n",
       "      <th>friday</th>\n",
       "    </tr>\n",
       "  </thead>\n",
       "  <tbody>\n",
       "    <tr>\n",
       "      <th>0</th>\n",
       "      <td>Moscow</td>\n",
       "      <td>15740</td>\n",
       "      <td>11056</td>\n",
       "      <td>15945</td>\n",
       "    </tr>\n",
       "    <tr>\n",
       "      <th>1</th>\n",
       "      <td>Saint-Petersburg</td>\n",
       "      <td>5614</td>\n",
       "      <td>7003</td>\n",
       "      <td>5895</td>\n",
       "    </tr>\n",
       "  </tbody>\n",
       "</table>\n",
       "</div>"
      ],
      "text/plain": [
       "               city  monday  wednesday  friday\n",
       "0            Moscow   15740      11056   15945\n",
       "1  Saint-Petersburg    5614       7003    5895"
      ]
     },
     "execution_count": 127,
     "metadata": {},
     "output_type": "execute_result"
    }
   ],
   "source": [
    "# Таблица с результатами\n",
    "columns = ['city', 'monday', 'wednesday', 'friday']\n",
    "data = [['Moscow', 15740, 11056, 15945], ['Saint-Petersburg', 5614, 7003, 5895]]\n",
    "pd.DataFrame(data = data, columns = columns)"
   ]
  },
  {
   "cell_type": "markdown",
   "metadata": {
    "deletable": false,
    "editable": false,
    "id": "-EgPIHYu_Zcu"
   },
   "source": [
    "**Выводы**\n",
    "\n",
    "Данные показывают разницу поведения пользователей:\n",
    "\n",
    "- В Москве пик прослушиваний приходится на понедельник и пятницу, а в среду заметен спад.\n",
    "- В Петербурге, наоборот, больше слушают музыку по средам. Активность в понедельник и пятницу здесь почти в равной мере уступает среде.\n",
    "\n",
    "Значит, данные говорят в пользу первой гипотезы."
   ]
  },
  {
   "cell_type": "markdown",
   "metadata": {
    "deletable": false,
    "editable": false,
    "id": "atZAxtq4_Zcu"
   },
   "source": [
    "### Музыка в начале и в конце недели"
   ]
  },
  {
   "cell_type": "markdown",
   "metadata": {
    "deletable": false,
    "editable": false,
    "id": "eXrQqXFH_Zcu"
   },
   "source": [
    "Согласно второй гипотезе, утром в понедельник в Москве преобладают одни жанры, а в Петербурге — другие. Так же и вечером пятницы преобладают разные жанры — в зависимости от города."
   ]
  },
  {
   "cell_type": "markdown",
   "metadata": {
    "deletable": false,
    "editable": false,
    "id": "S8UcW6Hw_Zcu",
    "tags": [
     "start_task"
    ]
   },
   "source": [
    "**Задание 23**\n",
    "\n",
    "Сохраните таблицы с данными в две переменные:\n",
    "* по Москве — в `moscow_general`;\n",
    "* по Санкт-Петербургу — в `spb_general`."
   ]
  },
  {
   "cell_type": "code",
   "execution_count": 128,
   "metadata": {
    "deletable": false,
    "id": "qeaFfM_P_Zcu"
   },
   "outputs": [],
   "source": [
    "# получение таблицы moscow_general из тех строк таблицы df, \n",
    "# для которых значение в столбце 'city' равно 'Moscow'\n",
    "moscow_general = df[df['city'] == 'Moscow']"
   ]
  },
  {
   "cell_type": "code",
   "execution_count": 129,
   "metadata": {
    "deletable": false,
    "id": "ORaVRKto_Zcu"
   },
   "outputs": [],
   "source": [
    "# получение таблицы spb_general из тех строк таблицы df,\n",
    "# для которых значение в столбце 'city' равно 'Saint-Petersburg'\n",
    "spb_general = df[df['city'] == 'Saint-Petersburg']"
   ]
  },
  {
   "cell_type": "markdown",
   "metadata": {
    "deletable": false,
    "editable": false,
    "id": "MEJV-CX2_Zcu",
    "tags": [
     "start_task"
    ]
   },
   "source": [
    "**Задание 24**\n",
    "\n",
    "Создайте функцию `genre_weekday()` с четырьмя параметрами:\n",
    "* таблица (датафрейм) с данными,\n",
    "* день недели,\n",
    "* начальная временная метка в формате 'hh:mm', \n",
    "* последняя временная метка в формате 'hh:mm'.\n",
    "\n",
    "Функция должна вернуть информацию о топ-10 жанров тех треков, которые прослушивали в указанный день, в промежутке между двумя отметками времени."
   ]
  },
  {
   "cell_type": "code",
   "execution_count": 130,
   "metadata": {
    "deletable": false,
    "id": "laJT9BYl_Zcu"
   },
   "outputs": [],
   "source": [
    "# Объявление функции genre_weekday() с параметрами table, day, time1, time2,\n",
    "# которая возвращает информацию о самых популярных жанрах в указанный день в\n",
    "# заданное время:\n",
    "# 1) в переменную genre_df сохраняются те строки переданного датафрейма table, для\n",
    "#    которых одновременно:\n",
    "#    - значение в столбце day равно значению аргумента day\n",
    "#    - значение в столбце time больше значения аргумента time1\n",
    "#    - значение в столбце time меньше значения аргумента time2\n",
    "#    Используйте последовательную фильтрацию с помощью логической индексации.\n",
    "# 2) сгруппировать датафрейм genre_df по столбцу genre, взять один из его\n",
    "#    столбцов и посчитать методом count() количество записей для каждого из\n",
    "#    присутствующих жанров, получившийся Series записать в переменную\n",
    "#    genre_df_count  \n",
    "# 3) отсортировать genre_df_count по убыванию встречаемости и сохранить\n",
    "#    в переменную genre_df_sorted\n",
    "# 4) вернуть Series из 10 первых значений genre_df_sorted, это будут топ-10\n",
    "#    популярных жанров (в указанный день, в заданное время)\n",
    "    \n",
    "\n",
    "def genre_weekday(df, day, time1, time2):\n",
    "    # последовательная фильтрация\n",
    "    # оставляем в genre_df только те строки df, у которых день равен day\n",
    "    genre_df = df[df['day'] == day]\n",
    "    # оставляем в genre_df только те строки genre_df, у которых время меньше time2\n",
    "    genre_df = genre_df[genre_df['time'] < time2 ]\n",
    "    # оставляем в genre_df только те строки genre_df, у которых время больше time1\n",
    "    genre_df = genre_df[genre_df['time'] > time1 ]\n",
    "    # сгруппируем отфильтрованный датафрейм по столбцу с названиями жанров, возьмём столбец genre и посчитаем кол-во строк для каждого жанра методом count()\n",
    "    genre_df_grouped = genre_df.groupby('genre')['genre'].count()\n",
    "    # отсортируем результат по убыванию (чтобы в начале Series оказались самые популярные жанры)\n",
    "    genre_df_sorted = genre_df_grouped.sort_values(ascending=False)\n",
    "    # вернём Series с 10 самыми популярными жанрами в указанный отрезок времени заданного дня\n",
    "    return genre_df_sorted[:10]"
   ]
  },
  {
   "cell_type": "markdown",
   "metadata": {
    "deletable": false,
    "editable": false,
    "id": "la2s2_PF_Zcu",
    "tags": [
     "start_task"
    ]
   },
   "source": [
    "**Задание 25**\n",
    "\n",
    "\n",
    "Cравните результаты функции `genre_weekday()` для Москвы и Санкт-Петербурга в понедельник утром (с 7:00 до 11:00) и в пятницу вечером (с 17:00 до 23:00):"
   ]
  },
  {
   "cell_type": "code",
   "execution_count": 131,
   "metadata": {
    "deletable": false,
    "id": "yz7itPUQ_Zcu"
   },
   "outputs": [
    {
     "data": {
      "text/plain": [
       "genre\n",
       "pop            781\n",
       "dance          549\n",
       "electronic     480\n",
       "rock           474\n",
       "hiphop         286\n",
       "ruspop         186\n",
       "world          181\n",
       "rusrap         175\n",
       "alternative    164\n",
       "unknown        161\n",
       "Name: genre, dtype: int64"
      ]
     },
     "execution_count": 131,
     "metadata": {},
     "output_type": "execute_result"
    }
   ],
   "source": [
    "# вызов функции для утра понедельника в Москве (вместо df — таблица moscow_general)\n",
    "# объекты, хранящие время, являются строками и сравниваются как строки\n",
    "# пример вызова: genre_weekday(moscow_general, 'Monday', '07:00', '11:00')\n",
    "genre_weekday(moscow_general, 'Monday', '07:00', '11:00')"
   ]
  },
  {
   "cell_type": "code",
   "execution_count": 132,
   "metadata": {
    "deletable": false,
    "id": "kwUcHPdy_Zcu"
   },
   "outputs": [
    {
     "data": {
      "text/plain": [
       "genre\n",
       "pop            218\n",
       "dance          182\n",
       "rock           162\n",
       "electronic     147\n",
       "hiphop          80\n",
       "ruspop          64\n",
       "alternative     58\n",
       "rusrap          55\n",
       "jazz            44\n",
       "classical       40\n",
       "Name: genre, dtype: int64"
      ]
     },
     "execution_count": 132,
     "metadata": {},
     "output_type": "execute_result"
    }
   ],
   "source": [
    "# вызов функции для утра понедельника в Петербурге (вместо df — таблица spb_general)\n",
    "genre_weekday(spb_general, 'Monday', '07:00', '11:00')"
   ]
  },
  {
   "cell_type": "code",
   "execution_count": 133,
   "metadata": {
    "deletable": false,
    "id": "EzXVRE1o_Zcu"
   },
   "outputs": [
    {
     "data": {
      "text/plain": [
       "genre\n",
       "pop            713\n",
       "rock           517\n",
       "dance          495\n",
       "electronic     482\n",
       "hiphop         273\n",
       "world          208\n",
       "ruspop         170\n",
       "alternative    163\n",
       "classical      163\n",
       "rusrap         142\n",
       "Name: genre, dtype: int64"
      ]
     },
     "execution_count": 133,
     "metadata": {},
     "output_type": "execute_result"
    }
   ],
   "source": [
    "# вызов функции для вечера пятницы в Москве\n",
    "genre_weekday(moscow_general, 'Friday', '17:00', '23:00')"
   ]
  },
  {
   "cell_type": "code",
   "execution_count": 134,
   "metadata": {
    "deletable": false,
    "id": "JZaEKu5v_Zcu"
   },
   "outputs": [
    {
     "data": {
      "text/plain": [
       "genre\n",
       "pop            256\n",
       "electronic     216\n",
       "rock           216\n",
       "dance          210\n",
       "hiphop          97\n",
       "alternative     63\n",
       "jazz            61\n",
       "classical       60\n",
       "rusrap          59\n",
       "world           54\n",
       "Name: genre, dtype: int64"
      ]
     },
     "execution_count": 134,
     "metadata": {},
     "output_type": "execute_result"
    }
   ],
   "source": [
    "# вызов функции для вечера пятницы в Петербурге\n",
    "genre_weekday(spb_general, 'Friday', '17:00', '23:00')"
   ]
  },
  {
   "cell_type": "markdown",
   "metadata": {
    "deletable": false,
    "editable": false,
    "id": "wrCe4MNX_Zcu"
   },
   "source": [
    "**Выводы**\n",
    "\n",
    "Если сравнить топ-10 жанров в понедельник утром, можно сделать такие выводы:\n",
    "\n",
    "1. В Москве и Петербурге слушают похожую музыку. Единственное отличие — в московский рейтинг вошёл жанр “world”, а в петербургский — джаз и классика.\n",
    "\n",
    "2. В Москве пропущенных значений оказалось так много, что значение `'unknown'` заняло десятое место среди самых популярных жанров. Значит, пропущенные значения занимают существенную долю в данных и угрожают достоверности исследования.\n",
    "\n",
    "Вечер пятницы не меняет эту картину. Некоторые жанры поднимаются немного выше, другие спускаются, но в целом топ-10 остаётся тем же самым.\n",
    "\n",
    "Таким образом, вторая гипотеза подтвердилась лишь частично:\n",
    "* Пользователи слушают похожую музыку в начале недели и в конце.\n",
    "* Разница между Москвой и Петербургом не слишком выражена. В Москве чаще слушают русскую популярную музыку, в Петербурге — джаз.\n",
    "\n",
    "Однако пропуски в данных ставят под сомнение этот результат. В Москве их так много, что рейтинг топ-10 мог бы выглядеть иначе, если бы не утерянные  данные о жанрах."
   ]
  },
  {
   "cell_type": "markdown",
   "metadata": {
    "deletable": false,
    "editable": false,
    "id": "JolODAqr_Zcu"
   },
   "source": [
    "### Жанровые предпочтения в Москве и Петербурге\n",
    "\n",
    "Гипотеза: Петербург — столица рэпа, музыку этого жанра там слушают чаще, чем в Москве.  А Москва — город контрастов, в котором, тем не менее, преобладает поп-музыка."
   ]
  },
  {
   "cell_type": "markdown",
   "metadata": {
    "deletable": false,
    "editable": false,
    "id": "DlegSvaT_Zcu",
    "tags": [
     "start_task"
    ]
   },
   "source": [
    "**Задание 26**\n",
    "\n",
    "Сгруппируйте таблицу `moscow_general` по жанру и посчитайте прослушивания треков каждого жанра методом `count()`. Затем отсортируйте результат в порядке убывания и сохраните его в таблице `moscow_genres`."
   ]
  },
  {
   "cell_type": "code",
   "execution_count": 135,
   "metadata": {
    "deletable": false,
    "id": "r19lIPke_Zcu"
   },
   "outputs": [],
   "source": [
    "# одной строкой: группировка таблицы moscow_general по столбцу 'genre', \n",
    "# подсчёт числа значений 'genre' в этой группировке методом count(), \n",
    "# сортировка получившегося Series в порядке убывания и сохранение в moscow_genres\n",
    "moscow_genres_group = moscow_general.groupby('genre')['genre'].count()\n",
    "moscow_genres = moscow_genres_group.sort_values(ascending=False)"
   ]
  },
  {
   "cell_type": "markdown",
   "metadata": {
    "deletable": false,
    "editable": false,
    "id": "6kMuomxTiIr8",
    "tags": [
     "start_task"
    ]
   },
   "source": [
    "**Задание 27**\n",
    "\n",
    "Выведите на экран первые десять строк `moscow_genres`:"
   ]
  },
  {
   "cell_type": "code",
   "execution_count": 136,
   "metadata": {
    "deletable": false,
    "id": "WhCSooF8_Zcv"
   },
   "outputs": [
    {
     "name": "stdout",
     "output_type": "stream",
     "text": [
      "genre\n",
      "pop            5892\n",
      "dance          4435\n",
      "rock           3965\n",
      "electronic     3786\n",
      "hiphop         2096\n",
      "classical      1616\n",
      "world          1432\n",
      "alternative    1379\n",
      "ruspop         1372\n",
      "rusrap         1161\n",
      "Name: genre, dtype: int64\n"
     ]
    }
   ],
   "source": [
    "# просмотр первых 10 строк moscow_genres\n",
    "print(moscow_genres.head(10))"
   ]
  },
  {
   "cell_type": "markdown",
   "metadata": {
    "deletable": false,
    "editable": false,
    "id": "cnPG2vnN_Zcv",
    "tags": [
     "start_task"
    ]
   },
   "source": [
    "**Задание 28**\n",
    "\n",
    "\n",
    "Теперь повторите то же и для Петербурга.\n",
    "\n",
    "Сгруппируйте таблицу `spb_general` по жанру. Посчитайте прослушивания треков каждого жанра. Результат отсортируйте в порядке убывания и сохраните в таблице `spb_genres`:\n"
   ]
  },
  {
   "cell_type": "code",
   "execution_count": 137,
   "metadata": {
    "deletable": false,
    "id": "gluLIpE7_Zcv"
   },
   "outputs": [],
   "source": [
    "# одной строкой: группировка таблицы spb_general по столбцу 'genre', \n",
    "# подсчёт числа значений 'genre' в этой группировке методом count(), \n",
    "# сортировка получившегося Series в порядке убывания и сохранение в spb_genres\n",
    "spb_genres_group = spb_general.groupby('genre')['genre'].count()\n",
    "spb_genres = spb_genres_group.sort_values(ascending=False)"
   ]
  },
  {
   "cell_type": "markdown",
   "metadata": {
    "deletable": false,
    "editable": false,
    "id": "5Doha_ODgyQ8",
    "tags": [
     "start_task"
    ]
   },
   "source": [
    "**Задание 29**\n",
    "\n",
    "Выведите на экран первые десять строк `spb_genres`:"
   ]
  },
  {
   "cell_type": "code",
   "execution_count": 138,
   "metadata": {
    "deletable": false,
    "id": "uaGJHjVU_Zcv"
   },
   "outputs": [
    {
     "name": "stdout",
     "output_type": "stream",
     "text": [
      "genre\n",
      "pop            2431\n",
      "dance          1932\n",
      "rock           1879\n",
      "electronic     1736\n",
      "hiphop          960\n",
      "alternative     649\n",
      "classical       646\n",
      "rusrap          564\n",
      "ruspop          538\n",
      "world           515\n",
      "Name: genre, dtype: int64\n"
     ]
    }
   ],
   "source": [
    "# просмотр первых 10 строк spb_genres\n",
    "print(spb_genres.head(10))"
   ]
  },
  {
   "cell_type": "markdown",
   "metadata": {
    "deletable": false,
    "editable": false,
    "id": "RY51YJYu_Zcv"
   },
   "source": [
    "**Выводы**"
   ]
  },
  {
   "cell_type": "markdown",
   "metadata": {
    "deletable": false,
    "editable": false,
    "id": "nVhnJEm__Zcv"
   },
   "source": [
    "Гипотеза частично подтвердилась:\n",
    "* Поп-музыка — самый популярный жанр в Москве, как и предполагала гипотеза. Более того, в топ-10 жанров встречается близкий жанр — русская популярная музыка.\n",
    "* Вопреки ожиданиям, рэп одинаково популярен в Москве и Петербурге. \n"
   ]
  },
  {
   "cell_type": "markdown",
   "metadata": {
    "deletable": false,
    "editable": false,
    "id": "ykKQ0N65_Zcv"
   },
   "source": [
    "## Итоги исследования"
   ]
  },
  {
   "cell_type": "markdown",
   "metadata": {
    "deletable": false,
    "editable": false,
    "id": "tjUwbHb3_Zcv"
   },
   "source": [
    "Вы проверили три гипотезы и установили:\n",
    "\n",
    "1. День недели по-разному влияет на активность пользователей в Москве и Петербурге. \n",
    "\n",
    "Первая гипотеза полностью подтвердилась.\n",
    "\n",
    "2. Музыкальные предпочтения не сильно меняются в течение недели — будь то Москва или Петербург. Небольшие различия заметны в начале недели, по понедельникам:\n",
    "* в Москве слушают музыку жанра “world”,\n",
    "* в Петербурге — джаз и классику.\n",
    "\n",
    "Таким образом, вторая гипотеза подтвердилась лишь отчасти. Этот результат мог оказаться иным, если бы не пропуски в данных.\n",
    "\n",
    "3. Во вкусах пользователей Москвы и Петербурга больше общего чем различий. Вопреки ожиданиям, предпочтения жанров в Петербурге напоминают московские.\n",
    "\n",
    "Третья гипотеза не подтвердилась. Если различия в предпочтениях и существуют, на основной массе пользователей они незаметны.\n",
    "\n",
    "**На практике исследования содержат проверки статистических гипотез.**\n",
    "Из данных одного сервиса не всегда можно сделать вывод о всех жителях города.\n",
    "Проверки статистических гипотез покажут, насколько они достоверны, исходя из имеющихся данных. \n",
    "С методами проверок гипотез вы ещё познакомитесь в следующих темах."
   ]
  }
 ],
 "metadata": {
  "ExecuteTimeLog": [
   {
    "duration": 418,
    "start_time": "2023-01-19T21:00:46.497Z"
   },
   {
    "duration": 63,
    "start_time": "2023-01-19T21:00:49.707Z"
   },
   {
    "duration": 49,
    "start_time": "2023-01-19T21:01:21.878Z"
   },
   {
    "duration": 178,
    "start_time": "2023-01-19T21:02:00.647Z"
   },
   {
    "duration": 19,
    "start_time": "2023-01-19T21:02:24.806Z"
   },
   {
    "duration": 46,
    "start_time": "2023-01-19T21:03:11.275Z"
   },
   {
    "duration": 4,
    "start_time": "2023-01-19T21:10:47.244Z"
   },
   {
    "duration": 1129,
    "start_time": "2023-01-19T21:24:31.777Z"
   },
   {
    "duration": 5,
    "start_time": "2023-01-19T21:26:00.196Z"
   },
   {
    "duration": 81,
    "start_time": "2023-01-20T08:19:17.522Z"
   },
   {
    "duration": 93,
    "start_time": "2023-01-20T08:19:25.604Z"
   },
   {
    "duration": 76,
    "start_time": "2023-01-20T08:20:03.242Z"
   },
   {
    "duration": 70,
    "start_time": "2023-01-20T08:20:24.920Z"
   },
   {
    "duration": 68,
    "start_time": "2023-01-20T08:21:21.308Z"
   },
   {
    "duration": 43,
    "start_time": "2023-01-20T08:22:54.366Z"
   },
   {
    "duration": 2,
    "start_time": "2023-01-20T08:23:28.436Z"
   },
   {
    "duration": 388,
    "start_time": "2023-01-20T08:23:43.020Z"
   },
   {
    "duration": 217,
    "start_time": "2023-01-20T08:23:48.418Z"
   },
   {
    "duration": 16,
    "start_time": "2023-01-20T08:23:48.877Z"
   },
   {
    "duration": 27,
    "start_time": "2023-01-20T08:23:49.466Z"
   },
   {
    "duration": 2,
    "start_time": "2023-01-20T08:23:51.618Z"
   },
   {
    "duration": 4,
    "start_time": "2023-01-20T08:23:53.833Z"
   },
   {
    "duration": 11,
    "start_time": "2023-01-20T08:23:56.989Z"
   },
   {
    "duration": 5,
    "start_time": "2023-01-20T08:24:18.005Z"
   },
   {
    "duration": 22,
    "start_time": "2023-01-20T08:25:46.243Z"
   },
   {
    "duration": 29,
    "start_time": "2023-01-20T08:30:01.685Z"
   },
   {
    "duration": 8,
    "start_time": "2023-01-20T08:30:17.527Z"
   },
   {
    "duration": 18,
    "start_time": "2023-01-20T08:30:27.152Z"
   },
   {
    "duration": 21,
    "start_time": "2023-01-20T08:30:56.866Z"
   },
   {
    "duration": 9,
    "start_time": "2023-01-20T08:31:41.901Z"
   },
   {
    "duration": 7,
    "start_time": "2023-01-20T08:31:55.816Z"
   },
   {
    "duration": 67,
    "start_time": "2023-01-20T08:32:38.618Z"
   },
   {
    "duration": 68,
    "start_time": "2023-01-20T08:35:06.831Z"
   },
   {
    "duration": 69,
    "start_time": "2023-01-20T08:35:20.039Z"
   },
   {
    "duration": 1148,
    "start_time": "2023-01-20T08:36:42.226Z"
   },
   {
    "duration": 6,
    "start_time": "2023-01-20T08:37:01.824Z"
   },
   {
    "duration": 7,
    "start_time": "2023-01-20T09:01:31.683Z"
   },
   {
    "duration": 12,
    "start_time": "2023-01-20T09:01:46.427Z"
   },
   {
    "duration": 12,
    "start_time": "2023-01-20T09:05:39.039Z"
   },
   {
    "duration": 2,
    "start_time": "2023-01-20T09:06:10.695Z"
   },
   {
    "duration": 189,
    "start_time": "2023-01-20T09:06:10.699Z"
   },
   {
    "duration": 27,
    "start_time": "2023-01-20T09:06:10.890Z"
   },
   {
    "duration": 29,
    "start_time": "2023-01-20T09:06:10.919Z"
   },
   {
    "duration": 2,
    "start_time": "2023-01-20T09:06:10.950Z"
   },
   {
    "duration": 9,
    "start_time": "2023-01-20T09:06:10.954Z"
   },
   {
    "duration": 14,
    "start_time": "2023-01-20T09:06:10.965Z"
   },
   {
    "duration": 9,
    "start_time": "2023-01-20T09:06:10.981Z"
   },
   {
    "duration": 46,
    "start_time": "2023-01-20T09:06:10.992Z"
   },
   {
    "duration": 23,
    "start_time": "2023-01-20T09:06:11.040Z"
   },
   {
    "duration": 29,
    "start_time": "2023-01-20T09:06:11.065Z"
   },
   {
    "duration": 74,
    "start_time": "2023-01-20T09:06:11.096Z"
   },
   {
    "duration": 90,
    "start_time": "2023-01-20T09:06:11.172Z"
   },
   {
    "duration": 67,
    "start_time": "2023-01-20T09:06:11.264Z"
   },
   {
    "duration": 6,
    "start_time": "2023-01-20T09:06:11.333Z"
   },
   {
    "duration": 14,
    "start_time": "2023-01-20T09:06:11.341Z"
   },
   {
    "duration": 9,
    "start_time": "2023-01-20T09:06:11.357Z"
   },
   {
    "duration": 3,
    "start_time": "2023-01-20T09:06:11.367Z"
   },
   {
    "duration": 7,
    "start_time": "2023-01-20T09:06:11.372Z"
   },
   {
    "duration": 9,
    "start_time": "2023-01-20T09:06:11.402Z"
   },
   {
    "duration": 14,
    "start_time": "2023-01-20T09:06:11.412Z"
   },
   {
    "duration": 5,
    "start_time": "2023-01-20T09:06:11.428Z"
   },
   {
    "duration": 9,
    "start_time": "2023-01-20T09:06:11.435Z"
   },
   {
    "duration": 8,
    "start_time": "2023-01-20T09:06:11.446Z"
   },
   {
    "duration": 115,
    "start_time": "2023-01-20T09:06:11.456Z"
   },
   {
    "duration": 6,
    "start_time": "2023-01-20T09:06:11.573Z"
   },
   {
    "duration": 6,
    "start_time": "2023-01-20T09:06:11.580Z"
   },
   {
    "duration": 8,
    "start_time": "2023-01-20T09:06:11.588Z"
   },
   {
    "duration": 17,
    "start_time": "2023-01-20T09:06:11.599Z"
   },
   {
    "duration": 72,
    "start_time": "2023-01-20T09:06:11.618Z"
   },
   {
    "duration": 0,
    "start_time": "2023-01-20T09:06:11.691Z"
   },
   {
    "duration": 0,
    "start_time": "2023-01-20T09:06:11.692Z"
   },
   {
    "duration": 0,
    "start_time": "2023-01-20T09:06:11.694Z"
   },
   {
    "duration": 0,
    "start_time": "2023-01-20T09:06:11.695Z"
   },
   {
    "duration": 0,
    "start_time": "2023-01-20T09:06:11.697Z"
   },
   {
    "duration": 0,
    "start_time": "2023-01-20T09:06:11.698Z"
   },
   {
    "duration": 0,
    "start_time": "2023-01-20T09:06:11.699Z"
   },
   {
    "duration": 0,
    "start_time": "2023-01-20T09:06:11.701Z"
   },
   {
    "duration": 678,
    "start_time": "2023-01-20T09:09:33.779Z"
   },
   {
    "duration": 28,
    "start_time": "2023-01-20T09:10:20.122Z"
   },
   {
    "duration": 35,
    "start_time": "2023-01-20T09:11:43.348Z"
   },
   {
    "duration": 3,
    "start_time": "2023-01-20T10:15:34.747Z"
   },
   {
    "duration": 69,
    "start_time": "2023-01-20T10:17:17.716Z"
   },
   {
    "duration": 8,
    "start_time": "2023-01-20T10:17:26.660Z"
   },
   {
    "duration": 2,
    "start_time": "2023-01-20T10:18:45.215Z"
   },
   {
    "duration": 194,
    "start_time": "2023-01-20T10:18:45.220Z"
   },
   {
    "duration": 10,
    "start_time": "2023-01-20T10:18:45.416Z"
   },
   {
    "duration": 35,
    "start_time": "2023-01-20T10:18:45.428Z"
   },
   {
    "duration": 2,
    "start_time": "2023-01-20T10:18:45.465Z"
   },
   {
    "duration": 9,
    "start_time": "2023-01-20T10:18:45.468Z"
   },
   {
    "duration": 24,
    "start_time": "2023-01-20T10:18:45.479Z"
   },
   {
    "duration": 4,
    "start_time": "2023-01-20T10:18:45.505Z"
   },
   {
    "duration": 42,
    "start_time": "2023-01-20T10:18:45.511Z"
   },
   {
    "duration": 26,
    "start_time": "2023-01-20T10:18:45.555Z"
   },
   {
    "duration": 35,
    "start_time": "2023-01-20T10:18:45.584Z"
   },
   {
    "duration": 89,
    "start_time": "2023-01-20T10:18:45.621Z"
   },
   {
    "duration": 92,
    "start_time": "2023-01-20T10:18:45.712Z"
   },
   {
    "duration": 61,
    "start_time": "2023-01-20T10:18:45.806Z"
   },
   {
    "duration": 6,
    "start_time": "2023-01-20T10:18:45.868Z"
   },
   {
    "duration": 34,
    "start_time": "2023-01-20T10:18:45.876Z"
   },
   {
    "duration": 6,
    "start_time": "2023-01-20T10:18:45.912Z"
   },
   {
    "duration": 36,
    "start_time": "2023-01-20T10:18:45.920Z"
   },
   {
    "duration": 51,
    "start_time": "2023-01-20T10:18:45.958Z"
   },
   {
    "duration": 4,
    "start_time": "2023-01-20T10:18:46.010Z"
   },
   {
    "duration": 14,
    "start_time": "2023-01-20T10:18:46.016Z"
   },
   {
    "duration": 21,
    "start_time": "2023-01-20T10:18:46.032Z"
   },
   {
    "duration": 19,
    "start_time": "2023-01-20T10:18:46.054Z"
   },
   {
    "duration": 20,
    "start_time": "2023-01-20T10:18:46.075Z"
   },
   {
    "duration": 10,
    "start_time": "2023-01-20T10:18:46.097Z"
   },
   {
    "duration": 15,
    "start_time": "2023-01-20T10:18:46.109Z"
   },
   {
    "duration": 11,
    "start_time": "2023-01-20T10:18:46.126Z"
   },
   {
    "duration": 10,
    "start_time": "2023-01-20T10:18:46.140Z"
   },
   {
    "duration": 5,
    "start_time": "2023-01-20T10:18:46.155Z"
   },
   {
    "duration": 73,
    "start_time": "2023-01-20T10:18:46.163Z"
   },
   {
    "duration": 0,
    "start_time": "2023-01-20T10:18:46.239Z"
   },
   {
    "duration": 0,
    "start_time": "2023-01-20T10:18:46.240Z"
   },
   {
    "duration": 0,
    "start_time": "2023-01-20T10:18:46.242Z"
   },
   {
    "duration": 0,
    "start_time": "2023-01-20T10:18:46.243Z"
   },
   {
    "duration": 0,
    "start_time": "2023-01-20T10:18:46.245Z"
   },
   {
    "duration": 0,
    "start_time": "2023-01-20T10:18:46.247Z"
   },
   {
    "duration": 0,
    "start_time": "2023-01-20T10:18:46.248Z"
   },
   {
    "duration": 0,
    "start_time": "2023-01-20T10:18:46.250Z"
   },
   {
    "duration": 2,
    "start_time": "2023-01-20T10:20:54.556Z"
   },
   {
    "duration": 188,
    "start_time": "2023-01-20T10:20:54.560Z"
   },
   {
    "duration": 10,
    "start_time": "2023-01-20T10:20:54.750Z"
   },
   {
    "duration": 42,
    "start_time": "2023-01-20T10:20:54.761Z"
   },
   {
    "duration": 9,
    "start_time": "2023-01-20T10:20:54.805Z"
   },
   {
    "duration": 11,
    "start_time": "2023-01-20T10:20:54.816Z"
   },
   {
    "duration": 15,
    "start_time": "2023-01-20T10:20:54.828Z"
   },
   {
    "duration": 10,
    "start_time": "2023-01-20T10:20:54.845Z"
   },
   {
    "duration": 28,
    "start_time": "2023-01-20T10:20:54.856Z"
   },
   {
    "duration": 25,
    "start_time": "2023-01-20T10:20:54.886Z"
   },
   {
    "duration": 23,
    "start_time": "2023-01-20T10:20:54.915Z"
   },
   {
    "duration": 83,
    "start_time": "2023-01-20T10:20:54.940Z"
   },
   {
    "duration": 67,
    "start_time": "2023-01-20T10:20:55.024Z"
   },
   {
    "duration": 75,
    "start_time": "2023-01-20T10:20:55.093Z"
   },
   {
    "duration": 7,
    "start_time": "2023-01-20T10:20:55.169Z"
   },
   {
    "duration": 33,
    "start_time": "2023-01-20T10:20:55.177Z"
   },
   {
    "duration": 8,
    "start_time": "2023-01-20T10:20:55.212Z"
   },
   {
    "duration": 34,
    "start_time": "2023-01-20T10:20:55.222Z"
   },
   {
    "duration": 50,
    "start_time": "2023-01-20T10:20:55.258Z"
   },
   {
    "duration": 3,
    "start_time": "2023-01-20T10:20:55.311Z"
   },
   {
    "duration": 17,
    "start_time": "2023-01-20T10:20:55.316Z"
   },
   {
    "duration": 13,
    "start_time": "2023-01-20T10:20:55.335Z"
   },
   {
    "duration": 21,
    "start_time": "2023-01-20T10:20:55.350Z"
   },
   {
    "duration": 20,
    "start_time": "2023-01-20T10:20:55.373Z"
   },
   {
    "duration": 18,
    "start_time": "2023-01-20T10:20:55.394Z"
   },
   {
    "duration": 18,
    "start_time": "2023-01-20T10:20:55.414Z"
   },
   {
    "duration": 16,
    "start_time": "2023-01-20T10:20:55.433Z"
   },
   {
    "duration": 48,
    "start_time": "2023-01-20T10:20:55.450Z"
   },
   {
    "duration": 6,
    "start_time": "2023-01-20T10:20:55.502Z"
   },
   {
    "duration": 69,
    "start_time": "2023-01-20T10:20:55.510Z"
   },
   {
    "duration": 0,
    "start_time": "2023-01-20T10:20:55.581Z"
   },
   {
    "duration": 0,
    "start_time": "2023-01-20T10:20:55.582Z"
   },
   {
    "duration": 0,
    "start_time": "2023-01-20T10:20:55.583Z"
   },
   {
    "duration": 0,
    "start_time": "2023-01-20T10:20:55.585Z"
   },
   {
    "duration": 0,
    "start_time": "2023-01-20T10:20:55.586Z"
   },
   {
    "duration": 0,
    "start_time": "2023-01-20T10:20:55.587Z"
   },
   {
    "duration": 0,
    "start_time": "2023-01-20T10:20:55.589Z"
   },
   {
    "duration": 0,
    "start_time": "2023-01-20T10:20:55.590Z"
   },
   {
    "duration": 4,
    "start_time": "2023-01-20T10:27:33.591Z"
   },
   {
    "duration": 3,
    "start_time": "2023-01-20T10:27:37.291Z"
   },
   {
    "duration": 212,
    "start_time": "2023-01-20T10:27:37.296Z"
   },
   {
    "duration": 11,
    "start_time": "2023-01-20T10:27:37.510Z"
   },
   {
    "duration": 62,
    "start_time": "2023-01-20T10:27:37.522Z"
   },
   {
    "duration": 21,
    "start_time": "2023-01-20T10:27:37.586Z"
   },
   {
    "duration": 23,
    "start_time": "2023-01-20T10:27:37.609Z"
   },
   {
    "duration": 27,
    "start_time": "2023-01-20T10:27:37.634Z"
   },
   {
    "duration": 20,
    "start_time": "2023-01-20T10:27:37.663Z"
   },
   {
    "duration": 42,
    "start_time": "2023-01-20T10:27:37.685Z"
   },
   {
    "duration": 31,
    "start_time": "2023-01-20T10:27:37.729Z"
   },
   {
    "duration": 38,
    "start_time": "2023-01-20T10:27:37.763Z"
   },
   {
    "duration": 77,
    "start_time": "2023-01-20T10:27:37.802Z"
   },
   {
    "duration": 72,
    "start_time": "2023-01-20T10:27:37.881Z"
   },
   {
    "duration": 69,
    "start_time": "2023-01-20T10:27:37.955Z"
   },
   {
    "duration": 6,
    "start_time": "2023-01-20T10:27:38.026Z"
   },
   {
    "duration": 21,
    "start_time": "2023-01-20T10:27:38.033Z"
   },
   {
    "duration": 16,
    "start_time": "2023-01-20T10:27:38.055Z"
   },
   {
    "duration": 46,
    "start_time": "2023-01-20T10:27:38.072Z"
   },
   {
    "duration": 29,
    "start_time": "2023-01-20T10:27:38.120Z"
   },
   {
    "duration": 4,
    "start_time": "2023-01-20T10:27:38.151Z"
   },
   {
    "duration": 31,
    "start_time": "2023-01-20T10:27:38.156Z"
   },
   {
    "duration": 23,
    "start_time": "2023-01-20T10:27:38.189Z"
   },
   {
    "duration": 16,
    "start_time": "2023-01-20T10:27:38.213Z"
   },
   {
    "duration": 18,
    "start_time": "2023-01-20T10:27:38.230Z"
   },
   {
    "duration": 21,
    "start_time": "2023-01-20T10:27:38.249Z"
   },
   {
    "duration": 39,
    "start_time": "2023-01-20T10:27:38.272Z"
   },
   {
    "duration": 2,
    "start_time": "2023-01-20T10:27:38.313Z"
   },
   {
    "duration": 12,
    "start_time": "2023-01-20T10:27:38.317Z"
   },
   {
    "duration": 8,
    "start_time": "2023-01-20T10:27:38.333Z"
   },
   {
    "duration": 97,
    "start_time": "2023-01-20T10:27:38.343Z"
   },
   {
    "duration": 0,
    "start_time": "2023-01-20T10:27:38.442Z"
   },
   {
    "duration": 0,
    "start_time": "2023-01-20T10:27:38.443Z"
   },
   {
    "duration": 0,
    "start_time": "2023-01-20T10:27:38.444Z"
   },
   {
    "duration": 0,
    "start_time": "2023-01-20T10:27:38.446Z"
   },
   {
    "duration": 0,
    "start_time": "2023-01-20T10:27:38.447Z"
   },
   {
    "duration": 0,
    "start_time": "2023-01-20T10:27:38.448Z"
   },
   {
    "duration": 0,
    "start_time": "2023-01-20T10:27:38.449Z"
   },
   {
    "duration": 0,
    "start_time": "2023-01-20T10:27:38.451Z"
   },
   {
    "duration": 8,
    "start_time": "2023-01-20T10:29:39.353Z"
   },
   {
    "duration": 9,
    "start_time": "2023-01-20T10:30:41.008Z"
   },
   {
    "duration": 2,
    "start_time": "2023-01-20T10:30:51.344Z"
   },
   {
    "duration": 194,
    "start_time": "2023-01-20T10:30:51.348Z"
   },
   {
    "duration": 12,
    "start_time": "2023-01-20T10:30:51.544Z"
   },
   {
    "duration": 38,
    "start_time": "2023-01-20T10:30:51.557Z"
   },
   {
    "duration": 9,
    "start_time": "2023-01-20T10:30:51.604Z"
   },
   {
    "duration": 12,
    "start_time": "2023-01-20T10:30:51.614Z"
   },
   {
    "duration": 25,
    "start_time": "2023-01-20T10:30:51.628Z"
   },
   {
    "duration": 16,
    "start_time": "2023-01-20T10:30:51.660Z"
   },
   {
    "duration": 37,
    "start_time": "2023-01-20T10:30:51.678Z"
   },
   {
    "duration": 45,
    "start_time": "2023-01-20T10:30:51.717Z"
   },
   {
    "duration": 32,
    "start_time": "2023-01-20T10:30:51.764Z"
   },
   {
    "duration": 82,
    "start_time": "2023-01-20T10:30:51.798Z"
   },
   {
    "duration": 68,
    "start_time": "2023-01-20T10:30:51.883Z"
   },
   {
    "duration": 62,
    "start_time": "2023-01-20T10:30:51.952Z"
   },
   {
    "duration": 6,
    "start_time": "2023-01-20T10:30:52.015Z"
   },
   {
    "duration": 21,
    "start_time": "2023-01-20T10:30:52.023Z"
   },
   {
    "duration": 7,
    "start_time": "2023-01-20T10:30:52.046Z"
   },
   {
    "duration": 31,
    "start_time": "2023-01-20T10:30:52.055Z"
   },
   {
    "duration": 30,
    "start_time": "2023-01-20T10:30:52.102Z"
   },
   {
    "duration": 4,
    "start_time": "2023-01-20T10:30:52.134Z"
   },
   {
    "duration": 41,
    "start_time": "2023-01-20T10:30:52.139Z"
   },
   {
    "duration": 14,
    "start_time": "2023-01-20T10:30:52.182Z"
   },
   {
    "duration": 25,
    "start_time": "2023-01-20T10:30:52.198Z"
   },
   {
    "duration": 15,
    "start_time": "2023-01-20T10:30:52.225Z"
   },
   {
    "duration": 19,
    "start_time": "2023-01-20T10:30:52.242Z"
   },
   {
    "duration": 41,
    "start_time": "2023-01-20T10:30:52.262Z"
   },
   {
    "duration": 10,
    "start_time": "2023-01-20T10:30:52.305Z"
   },
   {
    "duration": 0,
    "start_time": "2023-01-20T10:30:52.316Z"
   },
   {
    "duration": 0,
    "start_time": "2023-01-20T10:30:52.318Z"
   },
   {
    "duration": 0,
    "start_time": "2023-01-20T10:30:52.319Z"
   },
   {
    "duration": 0,
    "start_time": "2023-01-20T10:30:52.320Z"
   },
   {
    "duration": 0,
    "start_time": "2023-01-20T10:30:52.321Z"
   },
   {
    "duration": 0,
    "start_time": "2023-01-20T10:30:52.323Z"
   },
   {
    "duration": 0,
    "start_time": "2023-01-20T10:30:52.324Z"
   },
   {
    "duration": 0,
    "start_time": "2023-01-20T10:30:52.325Z"
   },
   {
    "duration": 0,
    "start_time": "2023-01-20T10:30:52.326Z"
   },
   {
    "duration": 0,
    "start_time": "2023-01-20T10:30:52.327Z"
   },
   {
    "duration": 0,
    "start_time": "2023-01-20T10:30:52.328Z"
   },
   {
    "duration": 90,
    "start_time": "2023-01-20T10:33:29.322Z"
   },
   {
    "duration": 9,
    "start_time": "2023-01-20T10:33:42.562Z"
   },
   {
    "duration": 3,
    "start_time": "2023-01-20T11:35:21.248Z"
   },
   {
    "duration": 190,
    "start_time": "2023-01-20T11:35:21.252Z"
   },
   {
    "duration": 11,
    "start_time": "2023-01-20T11:35:21.444Z"
   },
   {
    "duration": 29,
    "start_time": "2023-01-20T11:35:21.457Z"
   },
   {
    "duration": 4,
    "start_time": "2023-01-20T11:35:21.504Z"
   },
   {
    "duration": 8,
    "start_time": "2023-01-20T11:35:21.520Z"
   },
   {
    "duration": 16,
    "start_time": "2023-01-20T11:35:21.530Z"
   },
   {
    "duration": 7,
    "start_time": "2023-01-20T11:35:21.549Z"
   },
   {
    "duration": 25,
    "start_time": "2023-01-20T11:35:21.559Z"
   },
   {
    "duration": 34,
    "start_time": "2023-01-20T11:35:21.586Z"
   },
   {
    "duration": 24,
    "start_time": "2023-01-20T11:35:21.622Z"
   },
   {
    "duration": 93,
    "start_time": "2023-01-20T11:35:21.648Z"
   },
   {
    "duration": 98,
    "start_time": "2023-01-20T11:35:21.742Z"
   },
   {
    "duration": 79,
    "start_time": "2023-01-20T11:35:21.842Z"
   },
   {
    "duration": 47,
    "start_time": "2023-01-20T11:35:21.923Z"
   },
   {
    "duration": 12,
    "start_time": "2023-01-20T11:35:21.972Z"
   },
   {
    "duration": 22,
    "start_time": "2023-01-20T11:35:21.985Z"
   },
   {
    "duration": 35,
    "start_time": "2023-01-20T11:35:22.008Z"
   },
   {
    "duration": 29,
    "start_time": "2023-01-20T11:35:22.045Z"
   },
   {
    "duration": 31,
    "start_time": "2023-01-20T11:35:22.076Z"
   },
   {
    "duration": 22,
    "start_time": "2023-01-20T11:35:22.112Z"
   },
   {
    "duration": 15,
    "start_time": "2023-01-20T11:35:22.136Z"
   },
   {
    "duration": 18,
    "start_time": "2023-01-20T11:35:22.152Z"
   },
   {
    "duration": 39,
    "start_time": "2023-01-20T11:35:22.173Z"
   },
   {
    "duration": 19,
    "start_time": "2023-01-20T11:35:22.214Z"
   },
   {
    "duration": 17,
    "start_time": "2023-01-20T11:35:22.235Z"
   },
   {
    "duration": 9,
    "start_time": "2023-01-20T11:35:22.253Z"
   },
   {
    "duration": 39,
    "start_time": "2023-01-20T11:35:22.264Z"
   },
   {
    "duration": 16,
    "start_time": "2023-01-20T11:35:22.305Z"
   },
   {
    "duration": 75,
    "start_time": "2023-01-20T11:35:22.323Z"
   },
   {
    "duration": 0,
    "start_time": "2023-01-20T11:35:22.399Z"
   },
   {
    "duration": 0,
    "start_time": "2023-01-20T11:35:22.400Z"
   },
   {
    "duration": 0,
    "start_time": "2023-01-20T11:35:22.401Z"
   },
   {
    "duration": 0,
    "start_time": "2023-01-20T11:35:22.402Z"
   },
   {
    "duration": 0,
    "start_time": "2023-01-20T11:35:22.403Z"
   },
   {
    "duration": 0,
    "start_time": "2023-01-20T11:35:22.404Z"
   },
   {
    "duration": 0,
    "start_time": "2023-01-20T11:35:22.404Z"
   },
   {
    "duration": 0,
    "start_time": "2023-01-20T11:35:22.410Z"
   },
   {
    "duration": 13,
    "start_time": "2023-01-20T11:40:28.459Z"
   },
   {
    "duration": 2,
    "start_time": "2023-01-20T11:40:37.557Z"
   },
   {
    "duration": 200,
    "start_time": "2023-01-20T11:40:37.561Z"
   },
   {
    "duration": 11,
    "start_time": "2023-01-20T11:40:37.763Z"
   },
   {
    "duration": 50,
    "start_time": "2023-01-20T11:40:37.775Z"
   },
   {
    "duration": 34,
    "start_time": "2023-01-20T11:40:37.827Z"
   },
   {
    "duration": 36,
    "start_time": "2023-01-20T11:40:37.863Z"
   },
   {
    "duration": 36,
    "start_time": "2023-01-20T11:40:37.901Z"
   },
   {
    "duration": 32,
    "start_time": "2023-01-20T11:40:37.938Z"
   },
   {
    "duration": 71,
    "start_time": "2023-01-20T11:40:37.971Z"
   },
   {
    "duration": 45,
    "start_time": "2023-01-20T11:40:38.044Z"
   },
   {
    "duration": 48,
    "start_time": "2023-01-20T11:40:38.091Z"
   },
   {
    "duration": 78,
    "start_time": "2023-01-20T11:40:38.140Z"
   },
   {
    "duration": 67,
    "start_time": "2023-01-20T11:40:38.219Z"
   },
   {
    "duration": 62,
    "start_time": "2023-01-20T11:40:38.288Z"
   },
   {
    "duration": 66,
    "start_time": "2023-01-20T11:40:38.352Z"
   },
   {
    "duration": 10,
    "start_time": "2023-01-20T11:40:38.420Z"
   },
   {
    "duration": 50,
    "start_time": "2023-01-20T11:40:38.432Z"
   },
   {
    "duration": 11,
    "start_time": "2023-01-20T11:40:38.484Z"
   },
   {
    "duration": 33,
    "start_time": "2023-01-20T11:40:38.503Z"
   },
   {
    "duration": 4,
    "start_time": "2023-01-20T11:40:38.538Z"
   },
   {
    "duration": 23,
    "start_time": "2023-01-20T11:40:38.543Z"
   },
   {
    "duration": 16,
    "start_time": "2023-01-20T11:40:38.568Z"
   },
   {
    "duration": 20,
    "start_time": "2023-01-20T11:40:38.604Z"
   },
   {
    "duration": 16,
    "start_time": "2023-01-20T11:40:38.625Z"
   },
   {
    "duration": 27,
    "start_time": "2023-01-20T11:40:38.642Z"
   },
   {
    "duration": 29,
    "start_time": "2023-01-20T11:40:38.671Z"
   },
   {
    "duration": 9,
    "start_time": "2023-01-20T11:40:38.717Z"
   },
   {
    "duration": 23,
    "start_time": "2023-01-20T11:40:38.728Z"
   },
   {
    "duration": 15,
    "start_time": "2023-01-20T11:40:38.755Z"
   },
   {
    "duration": 75,
    "start_time": "2023-01-20T11:40:38.772Z"
   },
   {
    "duration": 0,
    "start_time": "2023-01-20T11:40:38.848Z"
   },
   {
    "duration": 0,
    "start_time": "2023-01-20T11:40:38.849Z"
   },
   {
    "duration": 0,
    "start_time": "2023-01-20T11:40:38.850Z"
   },
   {
    "duration": 0,
    "start_time": "2023-01-20T11:40:38.852Z"
   },
   {
    "duration": 0,
    "start_time": "2023-01-20T11:40:38.853Z"
   },
   {
    "duration": 0,
    "start_time": "2023-01-20T11:40:38.854Z"
   },
   {
    "duration": 0,
    "start_time": "2023-01-20T11:40:38.855Z"
   },
   {
    "duration": 0,
    "start_time": "2023-01-20T11:40:38.856Z"
   },
   {
    "duration": 11,
    "start_time": "2023-01-20T11:41:28.968Z"
   },
   {
    "duration": 19,
    "start_time": "2023-01-20T11:42:47.607Z"
   },
   {
    "duration": 15,
    "start_time": "2023-01-20T11:42:48.574Z"
   },
   {
    "duration": 18,
    "start_time": "2023-01-20T11:42:49.234Z"
   },
   {
    "duration": 26,
    "start_time": "2023-01-20T11:42:49.793Z"
   },
   {
    "duration": 23,
    "start_time": "2023-01-20T11:42:52.969Z"
   },
   {
    "duration": 19,
    "start_time": "2023-01-20T11:42:54.036Z"
   },
   {
    "duration": 19,
    "start_time": "2023-01-20T11:44:06.813Z"
   },
   {
    "duration": 7,
    "start_time": "2023-01-20T12:10:06.313Z"
   },
   {
    "duration": 4,
    "start_time": "2023-01-20T12:10:17.892Z"
   },
   {
    "duration": 194,
    "start_time": "2023-01-20T12:10:17.898Z"
   },
   {
    "duration": 21,
    "start_time": "2023-01-20T12:10:18.094Z"
   },
   {
    "duration": 30,
    "start_time": "2023-01-20T12:10:18.118Z"
   },
   {
    "duration": 3,
    "start_time": "2023-01-20T12:10:18.150Z"
   },
   {
    "duration": 7,
    "start_time": "2023-01-20T12:10:18.156Z"
   },
   {
    "duration": 43,
    "start_time": "2023-01-20T12:10:18.167Z"
   },
   {
    "duration": 8,
    "start_time": "2023-01-20T12:10:18.212Z"
   },
   {
    "duration": 28,
    "start_time": "2023-01-20T12:10:18.222Z"
   },
   {
    "duration": 24,
    "start_time": "2023-01-20T12:10:18.252Z"
   },
   {
    "duration": 35,
    "start_time": "2023-01-20T12:10:18.278Z"
   },
   {
    "duration": 65,
    "start_time": "2023-01-20T12:10:18.315Z"
   },
   {
    "duration": 81,
    "start_time": "2023-01-20T12:10:18.382Z"
   },
   {
    "duration": 97,
    "start_time": "2023-01-20T12:10:18.465Z"
   },
   {
    "duration": 55,
    "start_time": "2023-01-20T12:10:18.564Z"
   },
   {
    "duration": 11,
    "start_time": "2023-01-20T12:10:18.621Z"
   },
   {
    "duration": 75,
    "start_time": "2023-01-20T12:10:18.634Z"
   },
   {
    "duration": 12,
    "start_time": "2023-01-20T12:10:18.710Z"
   },
   {
    "duration": 12,
    "start_time": "2023-01-20T12:10:18.723Z"
   },
   {
    "duration": 4,
    "start_time": "2023-01-20T12:10:18.737Z"
   },
   {
    "duration": 24,
    "start_time": "2023-01-20T12:10:18.743Z"
   },
   {
    "duration": 55,
    "start_time": "2023-01-20T12:10:18.769Z"
   },
   {
    "duration": 23,
    "start_time": "2023-01-20T12:10:18.826Z"
   },
   {
    "duration": 22,
    "start_time": "2023-01-20T12:10:18.853Z"
   },
   {
    "duration": 50,
    "start_time": "2023-01-20T12:10:18.877Z"
   },
   {
    "duration": 17,
    "start_time": "2023-01-20T12:10:18.929Z"
   },
   {
    "duration": 9,
    "start_time": "2023-01-20T12:10:18.948Z"
   },
   {
    "duration": 19,
    "start_time": "2023-01-20T12:10:18.959Z"
   },
   {
    "duration": 32,
    "start_time": "2023-01-20T12:10:18.980Z"
   },
   {
    "duration": 5,
    "start_time": "2023-01-20T12:10:19.014Z"
   },
   {
    "duration": 8,
    "start_time": "2023-01-20T12:10:19.021Z"
   },
   {
    "duration": 7,
    "start_time": "2023-01-20T12:10:19.031Z"
   },
   {
    "duration": 10,
    "start_time": "2023-01-20T12:10:19.040Z"
   },
   {
    "duration": 7,
    "start_time": "2023-01-20T12:10:19.052Z"
   },
   {
    "duration": 6,
    "start_time": "2023-01-20T12:10:19.061Z"
   },
   {
    "duration": 19,
    "start_time": "2023-01-20T12:10:19.069Z"
   },
   {
    "duration": 7,
    "start_time": "2023-01-20T12:10:19.090Z"
   },
   {
    "duration": 15,
    "start_time": "2023-01-20T12:10:19.100Z"
   },
   {
    "duration": 35,
    "start_time": "2023-01-20T12:34:37.670Z"
   },
   {
    "duration": 4,
    "start_time": "2023-01-20T12:34:55.186Z"
   },
   {
    "duration": 196,
    "start_time": "2023-01-20T12:34:55.192Z"
   },
   {
    "duration": 20,
    "start_time": "2023-01-20T12:34:55.391Z"
   },
   {
    "duration": 37,
    "start_time": "2023-01-20T12:34:55.413Z"
   },
   {
    "duration": 16,
    "start_time": "2023-01-20T12:34:55.453Z"
   },
   {
    "duration": 30,
    "start_time": "2023-01-20T12:34:55.471Z"
   },
   {
    "duration": 14,
    "start_time": "2023-01-20T12:34:55.503Z"
   },
   {
    "duration": 20,
    "start_time": "2023-01-20T12:34:55.519Z"
   },
   {
    "duration": 45,
    "start_time": "2023-01-20T12:34:55.541Z"
   },
   {
    "duration": 19,
    "start_time": "2023-01-20T12:34:55.588Z"
   },
   {
    "duration": 32,
    "start_time": "2023-01-20T12:34:55.611Z"
   },
   {
    "duration": 102,
    "start_time": "2023-01-20T12:34:55.646Z"
   },
   {
    "duration": 79,
    "start_time": "2023-01-20T12:34:55.750Z"
   },
   {
    "duration": 75,
    "start_time": "2023-01-20T12:34:55.830Z"
   },
   {
    "duration": 49,
    "start_time": "2023-01-20T12:34:55.907Z"
   },
   {
    "duration": 18,
    "start_time": "2023-01-20T12:34:55.958Z"
   },
   {
    "duration": 76,
    "start_time": "2023-01-20T12:34:55.979Z"
   },
   {
    "duration": 12,
    "start_time": "2023-01-20T12:34:56.057Z"
   },
   {
    "duration": 16,
    "start_time": "2023-01-20T12:34:56.071Z"
   },
   {
    "duration": 6,
    "start_time": "2023-01-20T12:34:56.102Z"
   },
   {
    "duration": 27,
    "start_time": "2023-01-20T12:34:56.109Z"
   },
   {
    "duration": 16,
    "start_time": "2023-01-20T12:34:56.137Z"
   },
   {
    "duration": 48,
    "start_time": "2023-01-20T12:34:56.156Z"
   },
   {
    "duration": 16,
    "start_time": "2023-01-20T12:34:56.206Z"
   },
   {
    "duration": 20,
    "start_time": "2023-01-20T12:34:56.224Z"
   },
   {
    "duration": 22,
    "start_time": "2023-01-20T12:34:56.247Z"
   },
   {
    "duration": 12,
    "start_time": "2023-01-20T12:34:56.303Z"
   },
   {
    "duration": 27,
    "start_time": "2023-01-20T12:34:56.317Z"
   },
   {
    "duration": 15,
    "start_time": "2023-01-20T12:34:56.347Z"
   },
   {
    "duration": 14,
    "start_time": "2023-01-20T12:34:56.365Z"
   },
   {
    "duration": 36,
    "start_time": "2023-01-20T12:34:56.381Z"
   },
   {
    "duration": 17,
    "start_time": "2023-01-20T12:34:56.419Z"
   },
   {
    "duration": 22,
    "start_time": "2023-01-20T12:34:56.438Z"
   },
   {
    "duration": 42,
    "start_time": "2023-01-20T12:34:56.462Z"
   },
   {
    "duration": 3,
    "start_time": "2023-01-20T12:34:56.506Z"
   },
   {
    "duration": 17,
    "start_time": "2023-01-20T12:34:56.511Z"
   },
   {
    "duration": 7,
    "start_time": "2023-01-20T12:34:56.531Z"
   },
   {
    "duration": 15,
    "start_time": "2023-01-20T12:34:56.540Z"
   },
   {
    "duration": 3,
    "start_time": "2023-01-20T13:01:09.428Z"
   },
   {
    "duration": 192,
    "start_time": "2023-01-20T13:01:09.433Z"
   },
   {
    "duration": 10,
    "start_time": "2023-01-20T13:01:09.627Z"
   },
   {
    "duration": 59,
    "start_time": "2023-01-20T13:01:09.639Z"
   },
   {
    "duration": 8,
    "start_time": "2023-01-20T13:01:09.700Z"
   },
   {
    "duration": 36,
    "start_time": "2023-01-20T13:01:09.709Z"
   },
   {
    "duration": 14,
    "start_time": "2023-01-20T13:01:09.747Z"
   },
   {
    "duration": 8,
    "start_time": "2023-01-20T13:01:09.762Z"
   },
   {
    "duration": 30,
    "start_time": "2023-01-20T13:01:09.772Z"
   },
   {
    "duration": 21,
    "start_time": "2023-01-20T13:01:09.804Z"
   },
   {
    "duration": 32,
    "start_time": "2023-01-20T13:01:09.828Z"
   },
   {
    "duration": 85,
    "start_time": "2023-01-20T13:01:09.861Z"
   },
   {
    "duration": 80,
    "start_time": "2023-01-20T13:01:09.948Z"
   },
   {
    "duration": 57,
    "start_time": "2023-01-20T13:01:10.030Z"
   },
   {
    "duration": 56,
    "start_time": "2023-01-20T13:01:10.089Z"
   },
   {
    "duration": 10,
    "start_time": "2023-01-20T13:01:10.147Z"
   },
   {
    "duration": 73,
    "start_time": "2023-01-20T13:01:10.159Z"
   },
   {
    "duration": 10,
    "start_time": "2023-01-20T13:01:10.234Z"
   },
   {
    "duration": 12,
    "start_time": "2023-01-20T13:01:10.246Z"
   },
   {
    "duration": 6,
    "start_time": "2023-01-20T13:01:10.267Z"
   },
   {
    "duration": 37,
    "start_time": "2023-01-20T13:01:10.275Z"
   },
   {
    "duration": 13,
    "start_time": "2023-01-20T13:01:10.314Z"
   },
   {
    "duration": 15,
    "start_time": "2023-01-20T13:01:10.329Z"
   },
   {
    "duration": 15,
    "start_time": "2023-01-20T13:01:10.345Z"
   },
   {
    "duration": 48,
    "start_time": "2023-01-20T13:01:10.362Z"
   },
   {
    "duration": 15,
    "start_time": "2023-01-20T13:01:10.412Z"
   },
   {
    "duration": 9,
    "start_time": "2023-01-20T13:01:10.428Z"
   },
   {
    "duration": 15,
    "start_time": "2023-01-20T13:01:10.439Z"
   },
   {
    "duration": 11,
    "start_time": "2023-01-20T13:01:10.457Z"
   },
   {
    "duration": 10,
    "start_time": "2023-01-20T13:01:10.470Z"
   },
   {
    "duration": 18,
    "start_time": "2023-01-20T13:01:10.503Z"
   },
   {
    "duration": 11,
    "start_time": "2023-01-20T13:01:10.522Z"
   },
   {
    "duration": 22,
    "start_time": "2023-01-20T13:01:10.535Z"
   },
   {
    "duration": 12,
    "start_time": "2023-01-20T13:01:10.558Z"
   },
   {
    "duration": 34,
    "start_time": "2023-01-20T13:01:10.571Z"
   },
   {
    "duration": 0,
    "start_time": "2023-01-20T13:01:10.608Z"
   },
   {
    "duration": 0,
    "start_time": "2023-01-20T13:01:10.609Z"
   },
   {
    "duration": 0,
    "start_time": "2023-01-20T13:01:10.611Z"
   },
   {
    "duration": 109,
    "start_time": "2023-01-20T13:06:39.514Z"
   },
   {
    "duration": 4,
    "start_time": "2023-01-20T13:06:49.419Z"
   },
   {
    "duration": 3,
    "start_time": "2023-01-20T13:07:04.513Z"
   },
   {
    "duration": 177,
    "start_time": "2023-01-20T13:07:04.518Z"
   },
   {
    "duration": 10,
    "start_time": "2023-01-20T13:07:04.702Z"
   },
   {
    "duration": 29,
    "start_time": "2023-01-20T13:07:04.714Z"
   },
   {
    "duration": 3,
    "start_time": "2023-01-20T13:07:04.745Z"
   },
   {
    "duration": 13,
    "start_time": "2023-01-20T13:07:04.750Z"
   },
   {
    "duration": 16,
    "start_time": "2023-01-20T13:07:04.764Z"
   },
   {
    "duration": 24,
    "start_time": "2023-01-20T13:07:04.782Z"
   },
   {
    "duration": 23,
    "start_time": "2023-01-20T13:07:04.808Z"
   },
   {
    "duration": 20,
    "start_time": "2023-01-20T13:07:04.833Z"
   },
   {
    "duration": 22,
    "start_time": "2023-01-20T13:07:04.857Z"
   },
   {
    "duration": 69,
    "start_time": "2023-01-20T13:07:04.902Z"
   },
   {
    "duration": 81,
    "start_time": "2023-01-20T13:07:04.973Z"
   },
   {
    "duration": 110,
    "start_time": "2023-01-20T13:07:05.056Z"
   },
   {
    "duration": 53,
    "start_time": "2023-01-20T13:07:05.168Z"
   },
   {
    "duration": 14,
    "start_time": "2023-01-20T13:07:05.223Z"
   },
   {
    "duration": 46,
    "start_time": "2023-01-20T13:07:05.239Z"
   },
   {
    "duration": 11,
    "start_time": "2023-01-20T13:07:05.302Z"
   },
   {
    "duration": 10,
    "start_time": "2023-01-20T13:07:05.315Z"
   },
   {
    "duration": 4,
    "start_time": "2023-01-20T13:07:05.326Z"
   },
   {
    "duration": 28,
    "start_time": "2023-01-20T13:07:05.331Z"
   },
   {
    "duration": 15,
    "start_time": "2023-01-20T13:07:05.361Z"
   },
   {
    "duration": 14,
    "start_time": "2023-01-20T13:07:05.404Z"
   },
   {
    "duration": 13,
    "start_time": "2023-01-20T13:07:05.420Z"
   },
   {
    "duration": 17,
    "start_time": "2023-01-20T13:07:05.434Z"
   },
   {
    "duration": 15,
    "start_time": "2023-01-20T13:07:05.453Z"
   },
   {
    "duration": 39,
    "start_time": "2023-01-20T13:07:05.470Z"
   },
   {
    "duration": 23,
    "start_time": "2023-01-20T13:07:05.511Z"
   },
   {
    "duration": 11,
    "start_time": "2023-01-20T13:07:05.538Z"
   },
   {
    "duration": 5,
    "start_time": "2023-01-20T13:07:05.551Z"
   },
   {
    "duration": 30,
    "start_time": "2023-01-20T13:07:05.558Z"
   },
   {
    "duration": 25,
    "start_time": "2023-01-20T13:07:05.589Z"
   },
   {
    "duration": 20,
    "start_time": "2023-01-20T13:07:05.615Z"
   },
   {
    "duration": 14,
    "start_time": "2023-01-20T13:07:05.636Z"
   },
   {
    "duration": 15,
    "start_time": "2023-01-20T13:07:05.652Z"
   },
   {
    "duration": 34,
    "start_time": "2023-01-20T13:07:05.669Z"
   },
   {
    "duration": 0,
    "start_time": "2023-01-20T13:07:05.705Z"
   },
   {
    "duration": 0,
    "start_time": "2023-01-20T13:07:05.705Z"
   },
   {
    "duration": 25,
    "start_time": "2023-01-20T13:07:32.468Z"
   },
   {
    "duration": 10,
    "start_time": "2023-01-20T13:08:11.035Z"
   },
   {
    "duration": 14,
    "start_time": "2023-01-20T13:08:21.563Z"
   },
   {
    "duration": 2,
    "start_time": "2023-01-20T13:08:43.916Z"
   },
   {
    "duration": 219,
    "start_time": "2023-01-20T13:08:43.920Z"
   },
   {
    "duration": 15,
    "start_time": "2023-01-20T13:08:44.141Z"
   },
   {
    "duration": 53,
    "start_time": "2023-01-20T13:08:44.158Z"
   },
   {
    "duration": 17,
    "start_time": "2023-01-20T13:08:44.214Z"
   },
   {
    "duration": 18,
    "start_time": "2023-01-20T13:08:44.233Z"
   },
   {
    "duration": 31,
    "start_time": "2023-01-20T13:08:44.254Z"
   },
   {
    "duration": 18,
    "start_time": "2023-01-20T13:08:44.287Z"
   },
   {
    "duration": 41,
    "start_time": "2023-01-20T13:08:44.307Z"
   },
   {
    "duration": 36,
    "start_time": "2023-01-20T13:08:44.350Z"
   },
   {
    "duration": 25,
    "start_time": "2023-01-20T13:08:44.389Z"
   },
   {
    "duration": 85,
    "start_time": "2023-01-20T13:08:44.416Z"
   },
   {
    "duration": 72,
    "start_time": "2023-01-20T13:08:44.503Z"
   },
   {
    "duration": 73,
    "start_time": "2023-01-20T13:08:44.577Z"
   },
   {
    "duration": 58,
    "start_time": "2023-01-20T13:08:44.651Z"
   },
   {
    "duration": 12,
    "start_time": "2023-01-20T13:08:44.711Z"
   },
   {
    "duration": 55,
    "start_time": "2023-01-20T13:08:44.725Z"
   },
   {
    "duration": 22,
    "start_time": "2023-01-20T13:08:44.782Z"
   },
   {
    "duration": 16,
    "start_time": "2023-01-20T13:08:44.806Z"
   },
   {
    "duration": 4,
    "start_time": "2023-01-20T13:08:44.823Z"
   },
   {
    "duration": 22,
    "start_time": "2023-01-20T13:08:44.828Z"
   },
   {
    "duration": 15,
    "start_time": "2023-01-20T13:08:44.852Z"
   },
   {
    "duration": 42,
    "start_time": "2023-01-20T13:08:44.869Z"
   },
   {
    "duration": 15,
    "start_time": "2023-01-20T13:08:44.912Z"
   },
   {
    "duration": 16,
    "start_time": "2023-01-20T13:08:44.929Z"
   },
   {
    "duration": 16,
    "start_time": "2023-01-20T13:08:44.946Z"
   },
   {
    "duration": 9,
    "start_time": "2023-01-20T13:08:44.964Z"
   },
   {
    "duration": 38,
    "start_time": "2023-01-20T13:08:44.975Z"
   },
   {
    "duration": 24,
    "start_time": "2023-01-20T13:08:45.016Z"
   },
   {
    "duration": 24,
    "start_time": "2023-01-20T13:08:45.042Z"
   },
   {
    "duration": 68,
    "start_time": "2023-01-20T13:08:45.069Z"
   },
   {
    "duration": 39,
    "start_time": "2023-01-20T13:08:45.138Z"
   },
   {
    "duration": 35,
    "start_time": "2023-01-20T13:08:45.178Z"
   },
   {
    "duration": 46,
    "start_time": "2023-01-20T13:08:45.215Z"
   },
   {
    "duration": 28,
    "start_time": "2023-01-20T13:08:45.263Z"
   },
   {
    "duration": 0,
    "start_time": "2023-01-20T13:08:45.292Z"
   },
   {
    "duration": 1,
    "start_time": "2023-01-20T13:08:45.293Z"
   },
   {
    "duration": 0,
    "start_time": "2023-01-20T13:08:45.295Z"
   },
   {
    "duration": 1147,
    "start_time": "2023-01-20T13:09:18.795Z"
   },
   {
    "duration": 3,
    "start_time": "2023-01-20T13:09:31.992Z"
   },
   {
    "duration": 170,
    "start_time": "2023-01-20T13:09:31.997Z"
   },
   {
    "duration": 11,
    "start_time": "2023-01-20T13:09:32.169Z"
   },
   {
    "duration": 33,
    "start_time": "2023-01-20T13:09:32.182Z"
   },
   {
    "duration": 5,
    "start_time": "2023-01-20T13:09:32.217Z"
   },
   {
    "duration": 8,
    "start_time": "2023-01-20T13:09:32.224Z"
   },
   {
    "duration": 13,
    "start_time": "2023-01-20T13:09:32.233Z"
   },
   {
    "duration": 4,
    "start_time": "2023-01-20T13:09:32.247Z"
   },
   {
    "duration": 25,
    "start_time": "2023-01-20T13:09:32.252Z"
   },
   {
    "duration": 36,
    "start_time": "2023-01-20T13:09:32.279Z"
   },
   {
    "duration": 29,
    "start_time": "2023-01-20T13:09:32.318Z"
   },
   {
    "duration": 72,
    "start_time": "2023-01-20T13:09:32.348Z"
   },
   {
    "duration": 64,
    "start_time": "2023-01-20T13:09:32.422Z"
   },
   {
    "duration": 63,
    "start_time": "2023-01-20T13:09:32.488Z"
   },
   {
    "duration": 61,
    "start_time": "2023-01-20T13:09:32.553Z"
   },
   {
    "duration": 10,
    "start_time": "2023-01-20T13:09:32.616Z"
   },
   {
    "duration": 55,
    "start_time": "2023-01-20T13:09:32.628Z"
   },
   {
    "duration": 23,
    "start_time": "2023-01-20T13:09:32.686Z"
   },
   {
    "duration": 15,
    "start_time": "2023-01-20T13:09:32.712Z"
   },
   {
    "duration": 10,
    "start_time": "2023-01-20T13:09:32.729Z"
   },
   {
    "duration": 38,
    "start_time": "2023-01-20T13:09:32.740Z"
   },
   {
    "duration": 31,
    "start_time": "2023-01-20T13:09:32.780Z"
   },
   {
    "duration": 28,
    "start_time": "2023-01-20T13:09:32.813Z"
   },
   {
    "duration": 27,
    "start_time": "2023-01-20T13:09:32.842Z"
   },
   {
    "duration": 19,
    "start_time": "2023-01-20T13:09:32.871Z"
   },
   {
    "duration": 28,
    "start_time": "2023-01-20T13:09:32.892Z"
   },
   {
    "duration": 9,
    "start_time": "2023-01-20T13:09:32.922Z"
   },
   {
    "duration": 25,
    "start_time": "2023-01-20T13:09:32.933Z"
   },
   {
    "duration": 14,
    "start_time": "2023-01-20T13:09:32.962Z"
   },
   {
    "duration": 8,
    "start_time": "2023-01-20T13:09:32.978Z"
   },
   {
    "duration": 39,
    "start_time": "2023-01-20T13:09:32.989Z"
   },
   {
    "duration": 33,
    "start_time": "2023-01-20T13:09:33.030Z"
   },
   {
    "duration": 30,
    "start_time": "2023-01-20T13:09:33.065Z"
   },
   {
    "duration": 14,
    "start_time": "2023-01-20T13:09:33.097Z"
   },
   {
    "duration": 1116,
    "start_time": "2023-01-20T13:09:33.113Z"
   },
   {
    "duration": 0,
    "start_time": "2023-01-20T13:09:34.231Z"
   },
   {
    "duration": 0,
    "start_time": "2023-01-20T13:09:34.233Z"
   },
   {
    "duration": 0,
    "start_time": "2023-01-20T13:09:34.235Z"
   },
   {
    "duration": 9,
    "start_time": "2023-01-20T13:10:39.141Z"
   },
   {
    "duration": 4,
    "start_time": "2023-01-20T13:15:06.574Z"
   },
   {
    "duration": 7,
    "start_time": "2023-01-20T13:16:37.112Z"
   },
   {
    "duration": 3,
    "start_time": "2023-01-20T13:16:45.627Z"
   },
   {
    "duration": 175,
    "start_time": "2023-01-20T13:16:45.634Z"
   },
   {
    "duration": 10,
    "start_time": "2023-01-20T13:16:45.811Z"
   },
   {
    "duration": 30,
    "start_time": "2023-01-20T13:16:45.823Z"
   },
   {
    "duration": 2,
    "start_time": "2023-01-20T13:16:45.855Z"
   },
   {
    "duration": 5,
    "start_time": "2023-01-20T13:16:45.860Z"
   },
   {
    "duration": 36,
    "start_time": "2023-01-20T13:16:45.867Z"
   },
   {
    "duration": 6,
    "start_time": "2023-01-20T13:16:45.905Z"
   },
   {
    "duration": 27,
    "start_time": "2023-01-20T13:16:45.913Z"
   },
   {
    "duration": 21,
    "start_time": "2023-01-20T13:16:45.943Z"
   },
   {
    "duration": 39,
    "start_time": "2023-01-20T13:16:45.967Z"
   },
   {
    "duration": 69,
    "start_time": "2023-01-20T13:16:46.008Z"
   },
   {
    "duration": 81,
    "start_time": "2023-01-20T13:16:46.079Z"
   },
   {
    "duration": 66,
    "start_time": "2023-01-20T13:16:46.161Z"
   },
   {
    "duration": 46,
    "start_time": "2023-01-20T13:16:46.231Z"
   },
   {
    "duration": 26,
    "start_time": "2023-01-20T13:16:46.279Z"
   },
   {
    "duration": 51,
    "start_time": "2023-01-20T13:16:46.307Z"
   },
   {
    "duration": 11,
    "start_time": "2023-01-20T13:16:46.360Z"
   },
   {
    "duration": 35,
    "start_time": "2023-01-20T13:16:46.373Z"
   },
   {
    "duration": 3,
    "start_time": "2023-01-20T13:16:46.410Z"
   },
   {
    "duration": 22,
    "start_time": "2023-01-20T13:16:46.415Z"
   },
   {
    "duration": 14,
    "start_time": "2023-01-20T13:16:46.439Z"
   },
   {
    "duration": 15,
    "start_time": "2023-01-20T13:16:46.455Z"
   },
   {
    "duration": 41,
    "start_time": "2023-01-20T13:16:46.472Z"
   },
   {
    "duration": 18,
    "start_time": "2023-01-20T13:16:46.515Z"
   },
   {
    "duration": 17,
    "start_time": "2023-01-20T13:16:46.534Z"
   },
   {
    "duration": 10,
    "start_time": "2023-01-20T13:16:46.553Z"
   },
   {
    "duration": 47,
    "start_time": "2023-01-20T13:16:46.565Z"
   },
   {
    "duration": 11,
    "start_time": "2023-01-20T13:16:46.613Z"
   },
   {
    "duration": 5,
    "start_time": "2023-01-20T13:16:46.626Z"
   },
   {
    "duration": 24,
    "start_time": "2023-01-20T13:16:46.632Z"
   },
   {
    "duration": 12,
    "start_time": "2023-01-20T13:16:46.657Z"
   },
   {
    "duration": 46,
    "start_time": "2023-01-20T13:16:46.670Z"
   },
   {
    "duration": 14,
    "start_time": "2023-01-20T13:16:46.718Z"
   },
   {
    "duration": 8,
    "start_time": "2023-01-20T13:16:46.734Z"
   },
   {
    "duration": 5,
    "start_time": "2023-01-20T13:16:46.744Z"
   },
   {
    "duration": 10,
    "start_time": "2023-01-20T13:16:46.751Z"
   },
   {
    "duration": 5,
    "start_time": "2023-01-20T13:16:46.762Z"
   },
   {
    "duration": 411,
    "start_time": "2023-01-26T11:00:51.708Z"
   },
   {
    "duration": 227,
    "start_time": "2023-01-26T11:00:52.121Z"
   },
   {
    "duration": 18,
    "start_time": "2023-01-26T11:00:52.350Z"
   },
   {
    "duration": 34,
    "start_time": "2023-01-26T11:00:52.370Z"
   },
   {
    "duration": 3,
    "start_time": "2023-01-26T11:00:52.405Z"
   },
   {
    "duration": 10,
    "start_time": "2023-01-26T11:00:52.410Z"
   },
   {
    "duration": 16,
    "start_time": "2023-01-26T11:00:52.422Z"
   },
   {
    "duration": 8,
    "start_time": "2023-01-26T11:00:52.440Z"
   },
   {
    "duration": 25,
    "start_time": "2023-01-26T11:00:52.450Z"
   },
   {
    "duration": 34,
    "start_time": "2023-01-26T11:00:52.477Z"
   },
   {
    "duration": 23,
    "start_time": "2023-01-26T11:00:52.512Z"
   },
   {
    "duration": 86,
    "start_time": "2023-01-26T11:00:52.536Z"
   },
   {
    "duration": 80,
    "start_time": "2023-01-26T11:00:52.624Z"
   },
   {
    "duration": 66,
    "start_time": "2023-01-26T11:00:52.705Z"
   },
   {
    "duration": 61,
    "start_time": "2023-01-26T11:00:52.773Z"
   },
   {
    "duration": 11,
    "start_time": "2023-01-26T11:00:52.836Z"
   },
   {
    "duration": 59,
    "start_time": "2023-01-26T11:00:52.848Z"
   },
   {
    "duration": 10,
    "start_time": "2023-01-26T11:00:52.909Z"
   },
   {
    "duration": 17,
    "start_time": "2023-01-26T11:00:52.921Z"
   },
   {
    "duration": 14,
    "start_time": "2023-01-26T11:00:52.940Z"
   },
   {
    "duration": 43,
    "start_time": "2023-01-26T11:00:52.956Z"
   },
   {
    "duration": 31,
    "start_time": "2023-01-26T11:00:53.001Z"
   },
   {
    "duration": 37,
    "start_time": "2023-01-26T11:00:53.035Z"
   },
   {
    "duration": 30,
    "start_time": "2023-01-26T11:00:53.075Z"
   },
   {
    "duration": 23,
    "start_time": "2023-01-26T11:00:53.107Z"
   },
   {
    "duration": 18,
    "start_time": "2023-01-26T11:00:53.132Z"
   },
   {
    "duration": 19,
    "start_time": "2023-01-26T11:00:53.152Z"
   },
   {
    "duration": 36,
    "start_time": "2023-01-26T11:00:53.176Z"
   },
   {
    "duration": 26,
    "start_time": "2023-01-26T11:00:53.213Z"
   },
   {
    "duration": 26,
    "start_time": "2023-01-26T11:00:53.241Z"
   },
   {
    "duration": 34,
    "start_time": "2023-01-26T11:00:53.269Z"
   },
   {
    "duration": 22,
    "start_time": "2023-01-26T11:00:53.305Z"
   },
   {
    "duration": 42,
    "start_time": "2023-01-26T11:00:53.329Z"
   },
   {
    "duration": 18,
    "start_time": "2023-01-26T11:00:53.373Z"
   },
   {
    "duration": 16,
    "start_time": "2023-01-26T11:00:53.393Z"
   },
   {
    "duration": 25,
    "start_time": "2023-01-26T11:00:53.410Z"
   },
   {
    "duration": 20,
    "start_time": "2023-01-26T11:00:53.437Z"
   },
   {
    "duration": 29,
    "start_time": "2023-01-26T11:00:53.458Z"
   },
   {
    "duration": 10,
    "start_time": "2023-01-26T11:01:22.741Z"
   },
   {
    "duration": 11,
    "start_time": "2023-01-26T11:01:35.763Z"
   },
   {
    "duration": 3,
    "start_time": "2023-01-26T11:01:40.432Z"
   },
   {
    "duration": 209,
    "start_time": "2023-01-26T11:01:40.436Z"
   },
   {
    "duration": 13,
    "start_time": "2023-01-26T11:01:40.647Z"
   },
   {
    "duration": 45,
    "start_time": "2023-01-26T11:01:40.661Z"
   },
   {
    "duration": 4,
    "start_time": "2023-01-26T11:01:40.709Z"
   },
   {
    "duration": 12,
    "start_time": "2023-01-26T11:01:40.714Z"
   },
   {
    "duration": 17,
    "start_time": "2023-01-26T11:01:40.728Z"
   },
   {
    "duration": 10,
    "start_time": "2023-01-26T11:01:40.747Z"
   },
   {
    "duration": 26,
    "start_time": "2023-01-26T11:01:40.759Z"
   },
   {
    "duration": 31,
    "start_time": "2023-01-26T11:01:40.787Z"
   },
   {
    "duration": 48,
    "start_time": "2023-01-26T11:01:40.821Z"
   },
   {
    "duration": 105,
    "start_time": "2023-01-26T11:01:40.871Z"
   },
   {
    "duration": 82,
    "start_time": "2023-01-26T11:01:40.978Z"
   },
   {
    "duration": 69,
    "start_time": "2023-01-26T11:01:41.062Z"
   },
   {
    "duration": 48,
    "start_time": "2023-01-26T11:01:41.133Z"
   },
   {
    "duration": 28,
    "start_time": "2023-01-26T11:01:41.183Z"
   },
   {
    "duration": 91,
    "start_time": "2023-01-26T11:01:41.213Z"
   },
   {
    "duration": 11,
    "start_time": "2023-01-26T11:01:41.306Z"
   },
   {
    "duration": 26,
    "start_time": "2023-01-26T11:01:41.319Z"
   },
   {
    "duration": 6,
    "start_time": "2023-01-26T11:01:41.347Z"
   },
   {
    "duration": 38,
    "start_time": "2023-01-26T11:01:41.354Z"
   },
   {
    "duration": 24,
    "start_time": "2023-01-26T11:01:41.394Z"
   },
   {
    "duration": 40,
    "start_time": "2023-01-26T11:01:41.419Z"
   },
   {
    "duration": 17,
    "start_time": "2023-01-26T11:01:41.461Z"
   },
   {
    "duration": 19,
    "start_time": "2023-01-26T11:01:41.481Z"
   },
   {
    "duration": 34,
    "start_time": "2023-01-26T11:01:41.502Z"
   },
   {
    "duration": 13,
    "start_time": "2023-01-26T11:01:41.538Z"
   },
   {
    "duration": 33,
    "start_time": "2023-01-26T11:01:41.554Z"
   },
   {
    "duration": 16,
    "start_time": "2023-01-26T11:01:41.591Z"
   },
   {
    "duration": 17,
    "start_time": "2023-01-26T11:01:41.609Z"
   },
   {
    "duration": 44,
    "start_time": "2023-01-26T11:01:41.628Z"
   },
   {
    "duration": 30,
    "start_time": "2023-01-26T11:01:41.674Z"
   },
   {
    "duration": 31,
    "start_time": "2023-01-26T11:01:41.706Z"
   },
   {
    "duration": 25,
    "start_time": "2023-01-26T11:01:41.740Z"
   },
   {
    "duration": 43,
    "start_time": "2023-01-26T11:01:41.767Z"
   },
   {
    "duration": 15,
    "start_time": "2023-01-26T11:01:41.813Z"
   },
   {
    "duration": 30,
    "start_time": "2023-01-26T11:01:41.830Z"
   },
   {
    "duration": 14,
    "start_time": "2023-01-26T11:01:41.862Z"
   },
   {
    "duration": 3,
    "start_time": "2023-01-26T11:06:35.328Z"
   },
   {
    "duration": 3,
    "start_time": "2023-01-26T11:06:43.854Z"
   },
   {
    "duration": 180,
    "start_time": "2023-01-26T11:06:43.859Z"
   },
   {
    "duration": 11,
    "start_time": "2023-01-26T11:06:44.041Z"
   },
   {
    "duration": 30,
    "start_time": "2023-01-26T11:06:44.054Z"
   },
   {
    "duration": 16,
    "start_time": "2023-01-26T11:06:44.088Z"
   },
   {
    "duration": 27,
    "start_time": "2023-01-26T11:06:44.107Z"
   },
   {
    "duration": 25,
    "start_time": "2023-01-26T11:06:44.136Z"
   },
   {
    "duration": 13,
    "start_time": "2023-01-26T11:06:44.164Z"
   },
   {
    "duration": 50,
    "start_time": "2023-01-26T11:06:44.179Z"
   },
   {
    "duration": 29,
    "start_time": "2023-01-26T11:06:44.231Z"
   },
   {
    "duration": 30,
    "start_time": "2023-01-26T11:06:44.263Z"
   },
   {
    "duration": 92,
    "start_time": "2023-01-26T11:06:44.295Z"
   },
   {
    "duration": 67,
    "start_time": "2023-01-26T11:06:44.404Z"
   },
   {
    "duration": 75,
    "start_time": "2023-01-26T11:06:44.473Z"
   },
   {
    "duration": 60,
    "start_time": "2023-01-26T11:06:44.550Z"
   },
   {
    "duration": 11,
    "start_time": "2023-01-26T11:06:44.611Z"
   },
   {
    "duration": 48,
    "start_time": "2023-01-26T11:06:44.623Z"
   },
   {
    "duration": 34,
    "start_time": "2023-01-26T11:06:44.672Z"
   },
   {
    "duration": 10,
    "start_time": "2023-01-26T11:06:44.707Z"
   },
   {
    "duration": 16,
    "start_time": "2023-01-26T11:06:44.719Z"
   },
   {
    "duration": 86,
    "start_time": "2023-01-26T11:06:44.737Z"
   },
   {
    "duration": 0,
    "start_time": "2023-01-26T11:06:44.825Z"
   },
   {
    "duration": 0,
    "start_time": "2023-01-26T11:06:44.826Z"
   },
   {
    "duration": 0,
    "start_time": "2023-01-26T11:06:44.827Z"
   },
   {
    "duration": 0,
    "start_time": "2023-01-26T11:06:44.827Z"
   },
   {
    "duration": 0,
    "start_time": "2023-01-26T11:06:44.828Z"
   },
   {
    "duration": 0,
    "start_time": "2023-01-26T11:06:44.829Z"
   },
   {
    "duration": 0,
    "start_time": "2023-01-26T11:06:44.830Z"
   },
   {
    "duration": 0,
    "start_time": "2023-01-26T11:06:44.830Z"
   },
   {
    "duration": 0,
    "start_time": "2023-01-26T11:06:44.832Z"
   },
   {
    "duration": 0,
    "start_time": "2023-01-26T11:06:44.833Z"
   },
   {
    "duration": 0,
    "start_time": "2023-01-26T11:06:44.834Z"
   },
   {
    "duration": 0,
    "start_time": "2023-01-26T11:06:44.834Z"
   },
   {
    "duration": 0,
    "start_time": "2023-01-26T11:06:44.835Z"
   },
   {
    "duration": 0,
    "start_time": "2023-01-26T11:06:44.836Z"
   },
   {
    "duration": 0,
    "start_time": "2023-01-26T11:06:44.837Z"
   },
   {
    "duration": 0,
    "start_time": "2023-01-26T11:06:44.838Z"
   },
   {
    "duration": 0,
    "start_time": "2023-01-26T11:06:44.839Z"
   },
   {
    "duration": 2,
    "start_time": "2023-01-26T11:09:30.187Z"
   },
   {
    "duration": 209,
    "start_time": "2023-01-26T11:09:30.191Z"
   },
   {
    "duration": 19,
    "start_time": "2023-01-26T11:09:30.402Z"
   },
   {
    "duration": 49,
    "start_time": "2023-01-26T11:09:30.423Z"
   },
   {
    "duration": 46,
    "start_time": "2023-01-26T11:09:30.474Z"
   },
   {
    "duration": 44,
    "start_time": "2023-01-26T11:09:30.522Z"
   },
   {
    "duration": 34,
    "start_time": "2023-01-26T11:09:30.568Z"
   },
   {
    "duration": 26,
    "start_time": "2023-01-26T11:09:30.617Z"
   },
   {
    "duration": 44,
    "start_time": "2023-01-26T11:09:30.646Z"
   },
   {
    "duration": 51,
    "start_time": "2023-01-26T11:09:30.692Z"
   },
   {
    "duration": 44,
    "start_time": "2023-01-26T11:09:30.746Z"
   },
   {
    "duration": 92,
    "start_time": "2023-01-26T11:09:30.791Z"
   },
   {
    "duration": 71,
    "start_time": "2023-01-26T11:09:30.884Z"
   },
   {
    "duration": 68,
    "start_time": "2023-01-26T11:09:30.957Z"
   },
   {
    "duration": 45,
    "start_time": "2023-01-26T11:09:31.027Z"
   },
   {
    "duration": 24,
    "start_time": "2023-01-26T11:09:31.074Z"
   },
   {
    "duration": 83,
    "start_time": "2023-01-26T11:09:31.099Z"
   },
   {
    "duration": 11,
    "start_time": "2023-01-26T11:09:31.184Z"
   },
   {
    "duration": 44,
    "start_time": "2023-01-26T11:09:31.196Z"
   },
   {
    "duration": 22,
    "start_time": "2023-01-26T11:09:31.242Z"
   },
   {
    "duration": 54,
    "start_time": "2023-01-26T11:09:31.266Z"
   },
   {
    "duration": 43,
    "start_time": "2023-01-26T11:09:31.321Z"
   },
   {
    "duration": 60,
    "start_time": "2023-01-26T11:09:31.365Z"
   },
   {
    "duration": 30,
    "start_time": "2023-01-26T11:09:31.427Z"
   },
   {
    "duration": 35,
    "start_time": "2023-01-26T11:09:31.459Z"
   },
   {
    "duration": 40,
    "start_time": "2023-01-26T11:09:31.495Z"
   },
   {
    "duration": 37,
    "start_time": "2023-01-26T11:09:31.537Z"
   },
   {
    "duration": 25,
    "start_time": "2023-01-26T11:09:31.576Z"
   },
   {
    "duration": 24,
    "start_time": "2023-01-26T11:09:31.605Z"
   },
   {
    "duration": 11,
    "start_time": "2023-01-26T11:09:31.630Z"
   },
   {
    "duration": 38,
    "start_time": "2023-01-26T11:09:31.643Z"
   },
   {
    "duration": 44,
    "start_time": "2023-01-26T11:09:31.682Z"
   },
   {
    "duration": 34,
    "start_time": "2023-01-26T11:09:31.727Z"
   },
   {
    "duration": 12,
    "start_time": "2023-01-26T11:09:31.762Z"
   },
   {
    "duration": 12,
    "start_time": "2023-01-26T11:09:31.775Z"
   },
   {
    "duration": 24,
    "start_time": "2023-01-26T11:09:31.789Z"
   },
   {
    "duration": 23,
    "start_time": "2023-01-26T11:09:31.815Z"
   },
   {
    "duration": 6,
    "start_time": "2023-01-26T11:09:31.840Z"
   }
  ],
  "colab": {
   "collapsed_sections": [
    "E0vqbgi9ay0H",
    "VUC88oWjTJw2"
   ],
   "name": "automatization_template_upd4.ipynb",
   "provenance": []
  },
  "kernelspec": {
   "display_name": "Python 3 (ipykernel)",
   "language": "python",
   "name": "python3"
  },
  "language_info": {
   "codemirror_mode": {
    "name": "ipython",
    "version": 3
   },
   "file_extension": ".py",
   "mimetype": "text/x-python",
   "name": "python",
   "nbconvert_exporter": "python",
   "pygments_lexer": "ipython3",
   "version": "3.9.13"
  },
  "toc": {
   "base_numbering": 1,
   "nav_menu": {
    "height": "215px",
    "width": "403px"
   },
   "number_sections": true,
   "sideBar": true,
   "skip_h1_title": true,
   "title_cell": "Table of Contents",
   "title_sidebar": "Contents",
   "toc_cell": false,
   "toc_position": {
    "height": "calc(100% - 180px)",
    "left": "10px",
    "top": "150px",
    "width": "285.825px"
   },
   "toc_section_display": true,
   "toc_window_display": false
  }
 },
 "nbformat": 4,
 "nbformat_minor": 1
}
