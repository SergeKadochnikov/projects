{
 "cells": [
  {
   "cell_type": "markdown",
   "metadata": {},
   "source": [
    "## часть . Приоритизация гипотез."
   ]
  },
  {
   "cell_type": "markdown",
   "metadata": {},
   "source": [
    "### Вводные данные"
   ]
  },
  {
   "cell_type": "markdown",
   "metadata": {},
   "source": [
    "В файле /datasets/hypothesis.csv 9 гипотез по увеличению выручки интернет-магазина с указанными параметрами Reach, Impact, Confidence, Effort.\n",
    "Выведем их на экран:"
   ]
  },
  {
   "cell_type": "code",
   "execution_count": 1,
   "metadata": {},
   "outputs": [],
   "source": [
    "# Загружаем библиотеки для обоих частей проекта\n",
    "import pandas as pd\n",
    "import scipy.stats as stats\n",
    "import datetime as dt\n",
    "import numpy as np\n",
    "import matplotlib.pyplot as plt"
   ]
  },
  {
   "cell_type": "code",
   "execution_count": 2,
   "metadata": {},
   "outputs": [
    {
     "data": {
      "text/html": [
       "<div>\n",
       "<style scoped>\n",
       "    .dataframe tbody tr th:only-of-type {\n",
       "        vertical-align: middle;\n",
       "    }\n",
       "\n",
       "    .dataframe tbody tr th {\n",
       "        vertical-align: top;\n",
       "    }\n",
       "\n",
       "    .dataframe thead th {\n",
       "        text-align: right;\n",
       "    }\n",
       "</style>\n",
       "<table border=\"1\" class=\"dataframe\">\n",
       "  <thead>\n",
       "    <tr style=\"text-align: right;\">\n",
       "      <th></th>\n",
       "      <th>Hypothesis</th>\n",
       "      <th>Reach</th>\n",
       "      <th>Impact</th>\n",
       "      <th>Confidence</th>\n",
       "      <th>Efforts</th>\n",
       "    </tr>\n",
       "  </thead>\n",
       "  <tbody>\n",
       "    <tr>\n",
       "      <th>0</th>\n",
       "      <td>Добавить два новых канала привлечения трафика,...</td>\n",
       "      <td>3</td>\n",
       "      <td>10</td>\n",
       "      <td>8</td>\n",
       "      <td>6</td>\n",
       "    </tr>\n",
       "    <tr>\n",
       "      <th>1</th>\n",
       "      <td>Запустить собственную службу доставки, что сок...</td>\n",
       "      <td>2</td>\n",
       "      <td>5</td>\n",
       "      <td>4</td>\n",
       "      <td>10</td>\n",
       "    </tr>\n",
       "    <tr>\n",
       "      <th>2</th>\n",
       "      <td>Добавить блоки рекомендаций товаров на сайт ин...</td>\n",
       "      <td>8</td>\n",
       "      <td>3</td>\n",
       "      <td>7</td>\n",
       "      <td>3</td>\n",
       "    </tr>\n",
       "    <tr>\n",
       "      <th>3</th>\n",
       "      <td>Изменить структура категорий, что увеличит кон...</td>\n",
       "      <td>8</td>\n",
       "      <td>3</td>\n",
       "      <td>3</td>\n",
       "      <td>8</td>\n",
       "    </tr>\n",
       "    <tr>\n",
       "      <th>4</th>\n",
       "      <td>Изменить цвет фона главной страницы, чтобы уве...</td>\n",
       "      <td>3</td>\n",
       "      <td>1</td>\n",
       "      <td>1</td>\n",
       "      <td>1</td>\n",
       "    </tr>\n",
       "    <tr>\n",
       "      <th>5</th>\n",
       "      <td>Добавить страницу отзывов клиентов о магазине,...</td>\n",
       "      <td>3</td>\n",
       "      <td>2</td>\n",
       "      <td>2</td>\n",
       "      <td>3</td>\n",
       "    </tr>\n",
       "    <tr>\n",
       "      <th>6</th>\n",
       "      <td>Показать на главной странице баннеры с актуаль...</td>\n",
       "      <td>5</td>\n",
       "      <td>3</td>\n",
       "      <td>8</td>\n",
       "      <td>3</td>\n",
       "    </tr>\n",
       "    <tr>\n",
       "      <th>7</th>\n",
       "      <td>Добавить форму подписки на все основные страни...</td>\n",
       "      <td>10</td>\n",
       "      <td>7</td>\n",
       "      <td>8</td>\n",
       "      <td>5</td>\n",
       "    </tr>\n",
       "    <tr>\n",
       "      <th>8</th>\n",
       "      <td>Запустить акцию, дающую скидку на товар в день...</td>\n",
       "      <td>1</td>\n",
       "      <td>9</td>\n",
       "      <td>9</td>\n",
       "      <td>5</td>\n",
       "    </tr>\n",
       "  </tbody>\n",
       "</table>\n",
       "</div>"
      ],
      "text/plain": [
       "                                          Hypothesis  Reach  Impact  \\\n",
       "0  Добавить два новых канала привлечения трафика,...      3      10   \n",
       "1  Запустить собственную службу доставки, что сок...      2       5   \n",
       "2  Добавить блоки рекомендаций товаров на сайт ин...      8       3   \n",
       "3  Изменить структура категорий, что увеличит кон...      8       3   \n",
       "4  Изменить цвет фона главной страницы, чтобы уве...      3       1   \n",
       "5  Добавить страницу отзывов клиентов о магазине,...      3       2   \n",
       "6  Показать на главной странице баннеры с актуаль...      5       3   \n",
       "7  Добавить форму подписки на все основные страни...     10       7   \n",
       "8  Запустить акцию, дающую скидку на товар в день...      1       9   \n",
       "\n",
       "   Confidence  Efforts  \n",
       "0           8        6  \n",
       "1           4       10  \n",
       "2           7        3  \n",
       "3           3        8  \n",
       "4           1        1  \n",
       "5           2        3  \n",
       "6           8        3  \n",
       "7           8        5  \n",
       "8           9        5  "
      ]
     },
     "metadata": {},
     "output_type": "display_data"
    }
   ],
   "source": [
    "data = pd.read_csv('/datasets/hypothesis.csv', sep=',')\n",
    "display(data)"
   ]
  },
  {
   "cell_type": "markdown",
   "metadata": {},
   "source": [
    "Таблица выглядит красиво, но соблюдаем правила оформления - переходим в нижний регистр"
   ]
  },
  {
   "cell_type": "code",
   "execution_count": 3,
   "metadata": {},
   "outputs": [],
   "source": [
    "data.columns = data.columns.str.lower()"
   ]
  },
  {
   "cell_type": "markdown",
   "metadata": {},
   "source": [
    "### Задачи\n",
    "#### \n",
    "Примените фреймворк ICE для приоритизации гипотез. Отсортируйте их по убыванию приоритета."
   ]
  },
  {
   "cell_type": "markdown",
   "metadata": {},
   "source": [
    "Задача\n",
    "Примените фреймворк ICE для приоритизации гипотез. Отсортируйте их по убыванию приоритета.\n",
    "Примените фреймворк RICE для приоритизации гипотез. Отсортируйте их по убыванию приоритета.\n",
    "Укажите, как изменилась приоритизация гипотез при применении RICE вместо ICE. Объясните, почему так произошло."
   ]
  },
  {
   "cell_type": "code",
   "execution_count": 4,
   "metadata": {
    "scrolled": true
   },
   "outputs": [
    {
     "data": {
      "text/html": [
       "<div>\n",
       "<style scoped>\n",
       "    .dataframe tbody tr th:only-of-type {\n",
       "        vertical-align: middle;\n",
       "    }\n",
       "\n",
       "    .dataframe tbody tr th {\n",
       "        vertical-align: top;\n",
       "    }\n",
       "\n",
       "    .dataframe thead th {\n",
       "        text-align: right;\n",
       "    }\n",
       "</style>\n",
       "<table border=\"1\" class=\"dataframe\">\n",
       "  <thead>\n",
       "    <tr style=\"text-align: right;\">\n",
       "      <th></th>\n",
       "      <th>hypothesis</th>\n",
       "      <th>ICE</th>\n",
       "    </tr>\n",
       "  </thead>\n",
       "  <tbody>\n",
       "    <tr>\n",
       "      <th>8</th>\n",
       "      <td>Запустить акцию, дающую скидку на товар в день...</td>\n",
       "      <td>16.2</td>\n",
       "    </tr>\n",
       "    <tr>\n",
       "      <th>0</th>\n",
       "      <td>Добавить два новых канала привлечения трафика,...</td>\n",
       "      <td>13.3</td>\n",
       "    </tr>\n",
       "    <tr>\n",
       "      <th>7</th>\n",
       "      <td>Добавить форму подписки на все основные страни...</td>\n",
       "      <td>11.2</td>\n",
       "    </tr>\n",
       "    <tr>\n",
       "      <th>6</th>\n",
       "      <td>Показать на главной странице баннеры с актуаль...</td>\n",
       "      <td>8.0</td>\n",
       "    </tr>\n",
       "    <tr>\n",
       "      <th>2</th>\n",
       "      <td>Добавить блоки рекомендаций товаров на сайт ин...</td>\n",
       "      <td>7.0</td>\n",
       "    </tr>\n",
       "    <tr>\n",
       "      <th>1</th>\n",
       "      <td>Запустить собственную службу доставки, что сок...</td>\n",
       "      <td>2.0</td>\n",
       "    </tr>\n",
       "    <tr>\n",
       "      <th>5</th>\n",
       "      <td>Добавить страницу отзывов клиентов о магазине,...</td>\n",
       "      <td>1.3</td>\n",
       "    </tr>\n",
       "    <tr>\n",
       "      <th>3</th>\n",
       "      <td>Изменить структура категорий, что увеличит кон...</td>\n",
       "      <td>1.1</td>\n",
       "    </tr>\n",
       "    <tr>\n",
       "      <th>4</th>\n",
       "      <td>Изменить цвет фона главной страницы, чтобы уве...</td>\n",
       "      <td>1.0</td>\n",
       "    </tr>\n",
       "  </tbody>\n",
       "</table>\n",
       "</div>"
      ],
      "text/plain": [
       "                                          hypothesis   ICE\n",
       "8  Запустить акцию, дающую скидку на товар в день...  16.2\n",
       "0  Добавить два новых канала привлечения трафика,...  13.3\n",
       "7  Добавить форму подписки на все основные страни...  11.2\n",
       "6  Показать на главной странице баннеры с актуаль...   8.0\n",
       "2  Добавить блоки рекомендаций товаров на сайт ин...   7.0\n",
       "1  Запустить собственную службу доставки, что сок...   2.0\n",
       "5  Добавить страницу отзывов клиентов о магазине,...   1.3\n",
       "3  Изменить структура категорий, что увеличит кон...   1.1\n",
       "4  Изменить цвет фона главной страницы, чтобы уве...   1.0"
      ]
     },
     "metadata": {},
     "output_type": "display_data"
    }
   ],
   "source": [
    "data['ICE'] = round((data['impact'] * data['confidence']) / data['efforts'],1)\n",
    "display (data[['hypothesis','ICE']].sort_values(by='ICE', ascending=False))"
   ]
  },
  {
   "cell_type": "markdown",
   "metadata": {},
   "source": [
    "Гипотезы 1, 8, 9 - самые интересные. Гипотезы 3 и 7 держим \"на карандаше\""
   ]
  },
  {
   "cell_type": "markdown",
   "metadata": {},
   "source": [
    "####  \n",
    "Примените фреймворк RICE для приоритизации гипотез. Отсортируйте их по убыванию приоритета."
   ]
  },
  {
   "cell_type": "code",
   "execution_count": 5,
   "metadata": {},
   "outputs": [
    {
     "name": "stdout",
     "output_type": "stream",
     "text": [
      "                                          hypothesis   RICE\n",
      "7  Добавить форму подписки на все основные страни...  112.0\n",
      "2  Добавить блоки рекомендаций товаров на сайт ин...   56.0\n",
      "0  Добавить два новых канала привлечения трафика,...   40.0\n",
      "6  Показать на главной странице баннеры с актуаль...   40.0\n",
      "8  Запустить акцию, дающую скидку на товар в день...   16.2\n",
      "3  Изменить структура категорий, что увеличит кон...    9.0\n",
      "1  Запустить собственную службу доставки, что сок...    4.0\n",
      "5  Добавить страницу отзывов клиентов о магазине,...    4.0\n",
      "4  Изменить цвет фона главной страницы, чтобы уве...    3.0\n"
     ]
    }
   ],
   "source": [
    "data['RICE'] = (data['reach'] * data['impact'] * data['confidence']) / data['efforts']\n",
    "print (data[['hypothesis','RICE']].sort_values(by='RICE', ascending=False))"
   ]
  },
  {
   "cell_type": "markdown",
   "metadata": {},
   "source": [
    "По методу RICE однозначный лидер - гипотеза 8. Так же стоит обратить внимание на гипотезы 1, 3 и 7"
   ]
  },
  {
   "cell_type": "markdown",
   "metadata": {},
   "source": [
    "### Выводы\n",
    "Укажите, как изменилась приоритизация гипотез при применении RICE вместо ICE. Объясните, почему так произошло."
   ]
  },
  {
   "cell_type": "markdown",
   "metadata": {},
   "source": [
    "Метод RICE отличается от ICE учетом влияния охвата аудитории. Поэтому лидер ICE-метода - гипотеза 9 - за счет мизерного охвата оказалась слабой в методе RICE.\n",
    "\n",
    "Гипотеза 8, выглядевшая сильной по ICE за счет охвата оказалась потенциально самой интересной для работы.\n",
    "\n",
    "**ВЫВОД**\n",
    "По итогам ICE и RICE анализа я выбрал бы для проработки гипотезы 8, 3 и 1"
   ]
  },
  {
   "cell_type": "code",
   "execution_count": 6,
   "metadata": {},
   "outputs": [
    {
     "name": "stdout",
     "output_type": "stream",
     "text": [
      "Гипотеза 8: Добавить форму подписки на все основные страницы, чтобы собрать базу клиентов для email-рассылок - максимальный охват и существенное воздействие при средних затратах\n",
      "\n",
      "Гипотеза 3: Добавить блоки рекомендаций товаров на сайт интернет магазина, чтобы повысить конверсию и средний чек заказа - высокий охват с высокой уверенность в успех при низких затратах\n",
      "\n",
      "Гипотеза 1: Добавить два новых канала привлечения трафика, что позволит привлекать на 30% больше пользователей - сильное воздействие с большой уверенностью в результате со средними затратами - таргетированное воздествие на определенную группу\n"
     ]
    }
   ],
   "source": [
    "print('Гипотеза 8:',data['hypothesis'][7], '- максимальный охват и существенное воздействие при средних затратах')\n",
    "print ()\n",
    "print('Гипотеза 3:',data['hypothesis'][2], '- высокий охват с высокой уверенность в успех при низких затратах')\n",
    "print ()\n",
    "print('Гипотеза 1:',data['hypothesis'][0], '- сильное воздействие с большой уверенностью в результате со средними затратами - таргетированное воздествие на определенную группу')      "
   ]
  },
  {
   "cell_type": "markdown",
   "metadata": {},
   "source": [
    "## часть. Анализ A/B-теста.\n",
    "### Вводные данные"
   ]
  },
  {
   "cell_type": "code",
   "execution_count": 7,
   "metadata": {},
   "outputs": [
    {
     "data": {
      "text/html": [
       "<div>\n",
       "<style scoped>\n",
       "    .dataframe tbody tr th:only-of-type {\n",
       "        vertical-align: middle;\n",
       "    }\n",
       "\n",
       "    .dataframe tbody tr th {\n",
       "        vertical-align: top;\n",
       "    }\n",
       "\n",
       "    .dataframe thead th {\n",
       "        text-align: right;\n",
       "    }\n",
       "</style>\n",
       "<table border=\"1\" class=\"dataframe\">\n",
       "  <thead>\n",
       "    <tr style=\"text-align: right;\">\n",
       "      <th></th>\n",
       "      <th>transactionId</th>\n",
       "      <th>visitorId</th>\n",
       "      <th>date</th>\n",
       "      <th>revenue</th>\n",
       "      <th>group</th>\n",
       "    </tr>\n",
       "  </thead>\n",
       "  <tbody>\n",
       "    <tr>\n",
       "      <th>0</th>\n",
       "      <td>3667963787</td>\n",
       "      <td>3312258926</td>\n",
       "      <td>2019-08-15</td>\n",
       "      <td>1650</td>\n",
       "      <td>B</td>\n",
       "    </tr>\n",
       "    <tr>\n",
       "      <th>1</th>\n",
       "      <td>2804400009</td>\n",
       "      <td>3642806036</td>\n",
       "      <td>2019-08-15</td>\n",
       "      <td>730</td>\n",
       "      <td>B</td>\n",
       "    </tr>\n",
       "    <tr>\n",
       "      <th>2</th>\n",
       "      <td>2961555356</td>\n",
       "      <td>4069496402</td>\n",
       "      <td>2019-08-15</td>\n",
       "      <td>400</td>\n",
       "      <td>A</td>\n",
       "    </tr>\n",
       "    <tr>\n",
       "      <th>3</th>\n",
       "      <td>3797467345</td>\n",
       "      <td>1196621759</td>\n",
       "      <td>2019-08-15</td>\n",
       "      <td>9759</td>\n",
       "      <td>B</td>\n",
       "    </tr>\n",
       "    <tr>\n",
       "      <th>4</th>\n",
       "      <td>2282983706</td>\n",
       "      <td>2322279887</td>\n",
       "      <td>2019-08-15</td>\n",
       "      <td>2308</td>\n",
       "      <td>B</td>\n",
       "    </tr>\n",
       "    <tr>\n",
       "      <th>5</th>\n",
       "      <td>182168103</td>\n",
       "      <td>935554773</td>\n",
       "      <td>2019-08-15</td>\n",
       "      <td>2210</td>\n",
       "      <td>B</td>\n",
       "    </tr>\n",
       "    <tr>\n",
       "      <th>6</th>\n",
       "      <td>398296753</td>\n",
       "      <td>2900797465</td>\n",
       "      <td>2019-08-15</td>\n",
       "      <td>1860</td>\n",
       "      <td>B</td>\n",
       "    </tr>\n",
       "    <tr>\n",
       "      <th>7</th>\n",
       "      <td>2626614568</td>\n",
       "      <td>78758296</td>\n",
       "      <td>2019-08-15</td>\n",
       "      <td>1044</td>\n",
       "      <td>A</td>\n",
       "    </tr>\n",
       "    <tr>\n",
       "      <th>8</th>\n",
       "      <td>1576988021</td>\n",
       "      <td>295230930</td>\n",
       "      <td>2019-08-15</td>\n",
       "      <td>13710</td>\n",
       "      <td>A</td>\n",
       "    </tr>\n",
       "    <tr>\n",
       "      <th>9</th>\n",
       "      <td>1506739906</td>\n",
       "      <td>1882260405</td>\n",
       "      <td>2019-08-15</td>\n",
       "      <td>1855</td>\n",
       "      <td>B</td>\n",
       "    </tr>\n",
       "  </tbody>\n",
       "</table>\n",
       "</div>"
      ],
      "text/plain": [
       "   transactionId   visitorId       date  revenue group\n",
       "0     3667963787  3312258926 2019-08-15     1650     B\n",
       "1     2804400009  3642806036 2019-08-15      730     B\n",
       "2     2961555356  4069496402 2019-08-15      400     A\n",
       "3     3797467345  1196621759 2019-08-15     9759     B\n",
       "4     2282983706  2322279887 2019-08-15     2308     B\n",
       "5      182168103   935554773 2019-08-15     2210     B\n",
       "6      398296753  2900797465 2019-08-15     1860     B\n",
       "7     2626614568    78758296 2019-08-15     1044     A\n",
       "8     1576988021   295230930 2019-08-15    13710     A\n",
       "9     1506739906  1882260405 2019-08-15     1855     B"
      ]
     },
     "metadata": {},
     "output_type": "display_data"
    },
    {
     "data": {
      "text/html": [
       "<div>\n",
       "<style scoped>\n",
       "    .dataframe tbody tr th:only-of-type {\n",
       "        vertical-align: middle;\n",
       "    }\n",
       "\n",
       "    .dataframe tbody tr th {\n",
       "        vertical-align: top;\n",
       "    }\n",
       "\n",
       "    .dataframe thead th {\n",
       "        text-align: right;\n",
       "    }\n",
       "</style>\n",
       "<table border=\"1\" class=\"dataframe\">\n",
       "  <thead>\n",
       "    <tr style=\"text-align: right;\">\n",
       "      <th></th>\n",
       "      <th>date</th>\n",
       "      <th>group</th>\n",
       "      <th>visitors</th>\n",
       "    </tr>\n",
       "  </thead>\n",
       "  <tbody>\n",
       "    <tr>\n",
       "      <th>0</th>\n",
       "      <td>2019-08-01</td>\n",
       "      <td>A</td>\n",
       "      <td>719</td>\n",
       "    </tr>\n",
       "    <tr>\n",
       "      <th>1</th>\n",
       "      <td>2019-08-02</td>\n",
       "      <td>A</td>\n",
       "      <td>619</td>\n",
       "    </tr>\n",
       "    <tr>\n",
       "      <th>2</th>\n",
       "      <td>2019-08-03</td>\n",
       "      <td>A</td>\n",
       "      <td>507</td>\n",
       "    </tr>\n",
       "    <tr>\n",
       "      <th>3</th>\n",
       "      <td>2019-08-04</td>\n",
       "      <td>A</td>\n",
       "      <td>717</td>\n",
       "    </tr>\n",
       "    <tr>\n",
       "      <th>4</th>\n",
       "      <td>2019-08-05</td>\n",
       "      <td>A</td>\n",
       "      <td>756</td>\n",
       "    </tr>\n",
       "    <tr>\n",
       "      <th>5</th>\n",
       "      <td>2019-08-06</td>\n",
       "      <td>A</td>\n",
       "      <td>667</td>\n",
       "    </tr>\n",
       "    <tr>\n",
       "      <th>6</th>\n",
       "      <td>2019-08-07</td>\n",
       "      <td>A</td>\n",
       "      <td>644</td>\n",
       "    </tr>\n",
       "    <tr>\n",
       "      <th>7</th>\n",
       "      <td>2019-08-08</td>\n",
       "      <td>A</td>\n",
       "      <td>610</td>\n",
       "    </tr>\n",
       "    <tr>\n",
       "      <th>8</th>\n",
       "      <td>2019-08-09</td>\n",
       "      <td>A</td>\n",
       "      <td>617</td>\n",
       "    </tr>\n",
       "    <tr>\n",
       "      <th>9</th>\n",
       "      <td>2019-08-10</td>\n",
       "      <td>A</td>\n",
       "      <td>406</td>\n",
       "    </tr>\n",
       "  </tbody>\n",
       "</table>\n",
       "</div>"
      ],
      "text/plain": [
       "        date group  visitors\n",
       "0 2019-08-01     A       719\n",
       "1 2019-08-02     A       619\n",
       "2 2019-08-03     A       507\n",
       "3 2019-08-04     A       717\n",
       "4 2019-08-05     A       756\n",
       "5 2019-08-06     A       667\n",
       "6 2019-08-07     A       644\n",
       "7 2019-08-08     A       610\n",
       "8 2019-08-09     A       617\n",
       "9 2019-08-10     A       406"
      ]
     },
     "metadata": {},
     "output_type": "display_data"
    },
    {
     "name": "stdout",
     "output_type": "stream",
     "text": [
      "<class 'pandas.core.frame.DataFrame'>\n",
      "RangeIndex: 1197 entries, 0 to 1196\n",
      "Data columns (total 5 columns):\n",
      " #   Column         Non-Null Count  Dtype         \n",
      "---  ------         --------------  -----         \n",
      " 0   transactionId  1197 non-null   int64         \n",
      " 1   visitorId      1197 non-null   int64         \n",
      " 2   date           1197 non-null   datetime64[ns]\n",
      " 3   revenue        1197 non-null   int64         \n",
      " 4   group          1197 non-null   object        \n",
      "dtypes: datetime64[ns](1), int64(3), object(1)\n",
      "memory usage: 46.9+ KB\n",
      "<class 'pandas.core.frame.DataFrame'>\n",
      "RangeIndex: 62 entries, 0 to 61\n",
      "Data columns (total 3 columns):\n",
      " #   Column    Non-Null Count  Dtype         \n",
      "---  ------    --------------  -----         \n",
      " 0   date      62 non-null     datetime64[ns]\n",
      " 1   group     62 non-null     object        \n",
      " 2   visitors  62 non-null     int64         \n",
      "dtypes: datetime64[ns](1), int64(1), object(1)\n",
      "memory usage: 1.6+ KB\n"
     ]
    }
   ],
   "source": [
    "orders = pd.read_csv('/datasets/orders.csv', sep=',')\n",
    "orders['date'] = orders['date'].map(\n",
    "    lambda x: dt.datetime.strptime(x, '%Y-%m-%d')\n",
    ")\n",
    "\n",
    "visitors = pd.read_csv(\n",
    "    '/datasets/visitors.csv', sep=','\n",
    ")\n",
    "visitors['date'] = visitors['date'].map(\n",
    "    lambda x: dt.datetime.strptime(x, '%Y-%m-%d')\n",
    ")\n",
    "display (orders.head(10))\n",
    "display (visitors.head(10))\n",
    "orders.info()\n",
    "visitors.info()"
   ]
  },
  {
   "cell_type": "code",
   "execution_count": 8,
   "metadata": {},
   "outputs": [
    {
     "data": {
      "text/plain": [
       "0"
      ]
     },
     "execution_count": 8,
     "metadata": {},
     "output_type": "execute_result"
    }
   ],
   "source": [
    "# Проверка дупликатов\n",
    "orders.duplicated().sum()"
   ]
  },
  {
   "cell_type": "code",
   "execution_count": 9,
   "metadata": {},
   "outputs": [
    {
     "data": {
      "text/plain": [
       "0"
      ]
     },
     "execution_count": 9,
     "metadata": {},
     "output_type": "execute_result"
    }
   ],
   "source": [
    "visitors.duplicated().sum()"
   ]
  },
  {
   "cell_type": "code",
   "execution_count": 10,
   "metadata": {},
   "outputs": [
    {
     "name": "stdout",
     "output_type": "stream",
     "text": [
      "group\n",
      "A    557\n",
      "B    640\n",
      "Name: visitorId, dtype: int64\n"
     ]
    },
    {
     "data": {
      "text/plain": [
       "1031"
      ]
     },
     "execution_count": 10,
     "metadata": {},
     "output_type": "execute_result"
    }
   ],
   "source": [
    "# Проверим составы групп и количество уникальных пользователей.\n",
    "print(orders.groupby('group')['visitorId'].count())\n",
    "orders['visitorId'].nunique()"
   ]
  },
  {
   "cell_type": "markdown",
   "metadata": {},
   "source": [
    "### Задачи\n",
    "\n",
    "#### Постройте график кумулятивной выручки по группам. \n",
    "Сделайте выводы и предположения."
   ]
  },
  {
   "cell_type": "code",
   "execution_count": 11,
   "metadata": {},
   "outputs": [],
   "source": [
    "# создаем массив уникальных пар значений дат и групп теста\n",
    "datesGroups = orders[['date','group']].drop_duplicates()\n",
    "\n",
    "# получаем агрегированные кумулятивные по дням данные о заказах \n",
    "ordersAggregated = datesGroups.apply(lambda x: orders[np.logical_and(orders['date'] \n",
    "                <= x['date'], orders['group'] == x['group'])].agg({'date' : 'max', \n",
    "                'group' : 'max','transactionId' : 'nunique', 'visitorId' : 'nunique', \n",
    "                'revenue' : 'sum'}), axis=1).sort_values(by=['date','group'])\n",
    "\n",
    "# получаем агрегированные кумулятивные по дням данные о посетителях интернет-магазина \n",
    "visitorsAggregated = datesGroups.apply(lambda x: visitors[np.logical_and(visitors['date'] \n",
    "   <= x['date'], visitors['group'] == x['group'])].agg({'date' : 'max', 'group' : 'max', \n",
    "   'visitors' : 'sum'}), axis=1).sort_values(by=['date','group'])\n"
   ]
  },
  {
   "cell_type": "code",
   "execution_count": 12,
   "metadata": {},
   "outputs": [
    {
     "name": "stdout",
     "output_type": "stream",
     "text": [
      "        date group  orders  buyers  revenue  visitors\n",
      "0 2019-08-01     A      24      20   148579       719\n",
      "1 2019-08-01     B      21      20   101217       713\n",
      "2 2019-08-02     A      44      38   242401      1338\n",
      "3 2019-08-02     B      45      43   266748      1294\n",
      "4 2019-08-03     A      68      62   354874      1845\n"
     ]
    }
   ],
   "source": [
    "# объединяем кумулятивные данные в одной таблице и присваиваем ее столбцам понятные названия\n",
    "cumulativeData = ordersAggregated.merge(visitorsAggregated, left_on=['date', 'group'], \n",
    "                 right_on=['date', 'group'])\n",
    "cumulativeData.columns = ['date', 'group', 'orders', 'buyers', 'revenue', 'visitors']\n",
    "\n",
    "print(cumulativeData.head(5)) \n"
   ]
  },
  {
   "cell_type": "code",
   "execution_count": 13,
   "metadata": {},
   "outputs": [
    {
     "data": {
      "image/png": "[encoded data removed]",
      "text/plain": [
       "<Figure size 720x432 with 1 Axes>"
      ]
     },
     "metadata": {
      "needs_background": "light"
     },
     "output_type": "display_data"
    }
   ],
   "source": [
    "# датафрейм с кумулятивным количеством заказов и кумулятивной выручкой по дням в группе А\n",
    "cumulativeRevenueA = cumulativeData[cumulativeData['group']=='A'][['date','revenue', 'orders', 'visitors']]\n",
    "\n",
    "# датафрейм с кумулятивным количеством заказов и кумулятивной выручкой по дням в группе B\n",
    "cumulativeRevenueB = cumulativeData[cumulativeData['group']=='B'][['date','revenue', 'orders', 'visitors']]\n",
    "plt.figure(figsize=(10, 6))\n",
    "# Строим график выручки группы А\n",
    "plt.plot(cumulativeRevenueA['date'], cumulativeRevenueA['revenue'], label='A')\n",
    "\n",
    "# Строим график выручки группы B\n",
    "plt.plot(cumulativeRevenueB['date'], cumulativeRevenueB['revenue'], label='B')\n",
    "\n",
    "plt.title('График кумулятивной выручки по группам')\n",
    "plt.xlabel('Даты')\n",
    "plt.ylabel('Кумулятивная выручка, руб.')\n",
    "plt.xticks(rotation=45, horizontalalignment='right')\n",
    "\n",
    "plt.legend(); "
   ]
  },
  {
   "cell_type": "markdown",
   "metadata": {},
   "source": [
    "Выручка растет в обеих группах равномерно, за исклчением нескольких скачков, вызванных, вероятно, большим заказом или большим количеством заказов.\n",
    "\n",
    "На протяжении всего теста группа B постоянно слегка опережает группу А до явного скачка."
   ]
  },
  {
   "cell_type": "markdown",
   "metadata": {},
   "source": [
    "#### Постройте график кумулятивного среднего чека по группам. \n",
    "Сделайте выводы и предположения."
   ]
  },
  {
   "cell_type": "code",
   "execution_count": 14,
   "metadata": {},
   "outputs": [
    {
     "data": {
      "image/png": "[encoded data removed]",
      "text/plain": [
       "<Figure size 720x432 with 1 Axes>"
      ]
     },
     "metadata": {
      "needs_background": "light"
     },
     "output_type": "display_data"
    }
   ],
   "source": [
    "plt.figure(figsize=(10, 6))\n",
    "plt.plot(cumulativeRevenueA['date'], cumulativeRevenueA['revenue']/cumulativeRevenueA['orders'], label='A')\n",
    "plt.plot(cumulativeRevenueB['date'], cumulativeRevenueB['revenue']/cumulativeRevenueB['orders'], label='B')\n",
    "plt.title('График кумулятивного среднего чека по группам')\n",
    "plt.xlabel('Даты')\n",
    "plt.ylabel('Кумулятивный средний чек, руб.')\n",
    "plt.xticks(rotation=45, horizontalalignment='right')\n",
    "plt.legend(); "
   ]
  },
  {
   "cell_type": "markdown",
   "metadata": {},
   "source": [
    "Средний чек группы А к середине периода теста уже близок к установившемуся уровню, но через заказы, которые, вероятно, относятся к аномальным, судя по скачкообразному росту. \n",
    "\n",
    "В группе В средний чек до большой аномалии стал раньше приближаться к уровню установившихся значений, но большой заказ естественно поднял средний чек, почле чего значение стало снижаться. До своего установшегося уровня группа B в таком виде дойдет гораздо позже окончания теста."
   ]
  },
  {
   "cell_type": "markdown",
   "metadata": {},
   "source": [
    "#### Постройте график относительного изменения кумулятивного среднего чека группы B к группе A. \n",
    "Сделайте выводы и предположения."
   ]
  },
  {
   "cell_type": "code",
   "execution_count": 15,
   "metadata": {},
   "outputs": [
    {
     "data": {
      "image/png": "[encoded data removed]",
      "text/plain": [
       "<Figure size 720x432 with 1 Axes>"
      ]
     },
     "metadata": {
      "needs_background": "light"
     },
     "output_type": "display_data"
    }
   ],
   "source": [
    "# собираем данные в одном датафрейме\n",
    "mergedCumulativeRevenue = cumulativeRevenueA.merge(cumulativeRevenueB, left_on='date', right_on='date', how='left', suffixes=['A', 'B'])\n",
    "\n",
    "# cтроим отношение средних чеков\n",
    "plt.figure(figsize=(10, 6))\n",
    "plt.plot(mergedCumulativeRevenue['date'], (mergedCumulativeRevenue['revenueB']/mergedCumulativeRevenue['ordersB'])/(mergedCumulativeRevenue['revenueA']/mergedCumulativeRevenue['ordersA'])-1)\n",
    "\n",
    "# добавляем ось X\n",
    "plt.axhline(y=0, color='black', linestyle='--')\n",
    "plt.xlabel('Даты')\n",
    "plt.xticks(rotation=45, horizontalalignment='right')\n",
    "plt.title('График относительного изменения кумулятивного среднего чека В/А');"
   ]
  },
  {
   "cell_type": "markdown",
   "metadata": {},
   "source": [
    "На графике относительного изменения кумулятивного среднего чека еще более отчетливо видно влияние аномалий из-за резких изменений значения параметра как численно, так и по знаку.\n"
   ]
  },
  {
   "cell_type": "markdown",
   "metadata": {},
   "source": [
    "#### Постройте график кумулятивного среднего количества заказов на посетителя по группам. \n",
    "Сделайте выводы и предположения."
   ]
  },
  {
   "cell_type": "code",
   "execution_count": 16,
   "metadata": {},
   "outputs": [
    {
     "data": {
      "image/png": "[encoded data removed]",
      "text/plain": [
       "<Figure size 720x432 with 1 Axes>"
      ]
     },
     "metadata": {
      "needs_background": "light"
     },
     "output_type": "display_data"
    }
   ],
   "source": [
    "plt.figure(figsize=(10, 6))\n",
    "plt.plot(cumulativeRevenueA['date'], cumulativeRevenueA['orders']/cumulativeRevenueA['visitors'], label='A')\n",
    "plt.plot(cumulativeRevenueB['date'], cumulativeRevenueB['orders']/cumulativeRevenueB['visitors'], label='B')\n",
    "plt.title('График кумулятивного среднего количества заказов на посетителя по группам')\n",
    "plt.xlabel('Даты')\n",
    "plt.ylabel('Кумулятивное среднее кол-вл заказов')\n",
    "plt.xticks(rotation=45, horizontalalignment='right')\n",
    "plt.legend(); "
   ]
  },
  {
   "cell_type": "markdown",
   "metadata": {},
   "source": [
    "По итогам нескольких дней исследования и накопления данных графики обоих групп стабилизировались, но аномалия в группе B подняла график, после чего значение среднего количества заказов стало иметь тенденцию на снижение, т.к значимость аномалии при увеличении количества данных снижается.\n",
    "\n",
    "При это график группы А явно отстает от группы В.\n",
    "\n",
    "Вывод-размышление:  Группа В на сырых данных выглядит явно лучше и хочется посомтреть те же графики на очищенных данных. Но внутри меня возникает вопрос - аномальные двнные могут являться следствием разделения на группы - не сделали бы что-то новое, не получили бы такой большой заказ или просто сразу много заказов. То есть  большой закаказ конечно же редкость, но редкость \"законная\", влияние которой стоит учитывать."
   ]
  },
  {
   "cell_type": "markdown",
   "metadata": {},
   "source": [
    "#### Постройте график относительного изменения кумулятивного среднего количества заказов на посетителя группы B к группе A. \n",
    "Сделайте выводы и предположения."
   ]
  },
  {
   "cell_type": "code",
   "execution_count": 17,
   "metadata": {},
   "outputs": [
    {
     "data": {
      "image/png": "[encoded data removed]",
      "text/plain": [
       "<Figure size 720x432 with 1 Axes>"
      ]
     },
     "metadata": {
      "needs_background": "light"
     },
     "output_type": "display_data"
    }
   ],
   "source": [
    "# собираем данные в одном датафрейме\n",
    "mergedCumulativeOrders = cumulativeRevenueA.merge(cumulativeRevenueB, \n",
    "                         left_on='date', right_on='date', how='left', suffixes=['A', 'B'])\n",
    "\n",
    "# cтроим отношение средних количеств заказов\n",
    "plt.figure(figsize=(10, 6))\n",
    "plt.plot(mergedCumulativeOrders['date'], \n",
    "    (mergedCumulativeRevenue['ordersB']/mergedCumulativeRevenue['visitorsB'])\n",
    "         /(mergedCumulativeRevenue['ordersA']/mergedCumulativeRevenue['visitorsA'])-1)\n",
    "plt.title('График относительного изменения кумулятивного среднего количества заказов')\n",
    "# добавляем ось X\n",
    "plt.axhline(y=0, color='black', linestyle='--')\n",
    "plt.xlabel('Даты')\n",
    "plt.ylabel('Кумулятивное среднее кол-вл заказов')\n",
    "plt.xticks(rotation=45, horizontalalignment='right');"
   ]
  },
  {
   "cell_type": "markdown",
   "metadata": {},
   "source": [
    "При накоплении данных отношение среднего количества заказов стабилизируется в районе 0,15, то есть среднее количетво заказов на пользователя в группе В на ~15% выше, чем в группе А.  "
   ]
  },
  {
   "cell_type": "markdown",
   "metadata": {},
   "source": [
    "#### Постройте точечный график количества заказов по пользователям. \n",
    "Сделайте выводы и предположения."
   ]
  },
  {
   "cell_type": "code",
   "execution_count": 18,
   "metadata": {},
   "outputs": [
    {
     "name": "stdout",
     "output_type": "stream",
     "text": [
      "       visitorId  orders\n",
      "1023  4256040402      11\n",
      "591   2458001652      11\n",
      "569   2378935119       9\n",
      "487   2038680547       8\n",
      "44     199603092       5\n",
      "744   3062433592       5\n",
      "55     237748145       5\n",
      "917   3803269165       5\n",
      "299   1230306981       5\n",
      "897   3717692402       5\n"
     ]
    }
   ],
   "source": [
    "ordersByUsers = (\n",
    "    orders.groupby('visitorId', as_index=False)\n",
    "    .agg({'transactionId': 'nunique'})\n",
    ")\n",
    " \n",
    "ordersByUsers.columns = ['visitorId', 'orders']\n",
    "print(ordersByUsers.sort_values(by='orders', ascending=False).head(10)) "
   ]
  },
  {
   "cell_type": "markdown",
   "metadata": {},
   "source": []
  },
  {
   "cell_type": "markdown",
   "metadata": {},
   "source": [
    "По сухим цифрам 4 пользователя отличаются от ровного строя остальных из первой десятки. Посмотрим тоже самое в точках."
   ]
  },
  {
   "cell_type": "code",
   "execution_count": 19,
   "metadata": {},
   "outputs": [
    {
     "data": {
      "image/png": "[encoded data removed]",
      "text/plain": [
       "<Figure size 720x432 with 1 Axes>"
      ]
     },
     "metadata": {
      "needs_background": "light"
     },
     "output_type": "display_data"
    }
   ],
   "source": [
    "x_values = pd.Series(range(0,len(ordersByUsers)))\n",
    "plt.figure(figsize=(10, 6))\n",
    "plt.title('Точечный график количества заказов по пользователям')\n",
    "plt.scatter(x_values, ordersByUsers['orders'])\n",
    "plt.xlabel('Номер клиента')\n",
    "plt.ylabel('Количество заказов'); "
   ]
  },
  {
   "cell_type": "markdown",
   "metadata": {},
   "source": [
    "В точках виден следующий вывод: 1-2 заказа - это норма, 3 заказа - редкость, 4 и более - единичные случаи, которые можно отнести к аномалиям. Проверим по перцентилям."
   ]
  },
  {
   "cell_type": "markdown",
   "metadata": {},
   "source": [
    "#### Посчитайте 95-й и 99-й перцентили количества заказов на пользователя. \n",
    "Выберите границу для определения аномальных пользователей."
   ]
  },
  {
   "cell_type": "code",
   "execution_count": 20,
   "metadata": {},
   "outputs": [
    {
     "name": "stdout",
     "output_type": "stream",
     "text": [
      "[1. 2. 4.]\n"
     ]
    }
   ],
   "source": [
    "print(np.percentile(ordersByUsers['orders'], [90, 95, 99])) "
   ]
  },
  {
   "cell_type": "markdown",
   "metadata": {},
   "source": [
    "5% пользователей оформили 3 и более заказов, 1 % пользователе оформили 5 и более заказов. Верхней границей выберу **3 заказа**, т.к. данных с 4 заказами судя по графику меньшне, чем с 5-ю, так что много не потеряем."
   ]
  },
  {
   "cell_type": "markdown",
   "metadata": {},
   "source": [
    "#### Постройте точечный график стоимостей заказов. \n",
    "Сделайте выводы и предположения."
   ]
  },
  {
   "cell_type": "code",
   "execution_count": 21,
   "metadata": {},
   "outputs": [
    {
     "data": {
      "image/png": "[encoded data removed]",
      "text/plain": [
       "<Figure size 432x288 with 1 Axes>"
      ]
     },
     "metadata": {
      "needs_background": "light"
     },
     "output_type": "display_data"
    }
   ],
   "source": [
    "x_values = pd.Series(range(0,len(orders['revenue'])))\n",
    "plt.scatter(x_values, orders['revenue']); "
   ]
  },
  {
   "cell_type": "markdown",
   "metadata": {},
   "source": [
    "Точную границу выбросов здесь не определить."
   ]
  },
  {
   "cell_type": "code",
   "execution_count": 22,
   "metadata": {},
   "outputs": [
    {
     "data": {
      "image/png": "[encoded data removed]",
      "text/plain": [
       "<Figure size 720x432 with 1 Axes>"
      ]
     },
     "metadata": {
      "needs_background": "light"
     },
     "output_type": "display_data"
    }
   ],
   "source": [
    "x_values = pd.Series(range(0,len(orders['revenue'])))\n",
    "plt.figure(figsize=(10, 6))\n",
    "plt.title('Точечный график стоимостей заказов')\n",
    "plt.scatter(x_values, orders['revenue'])\n",
    "plt.xlabel('Номер заказа')\n",
    "plt.ylabel('Объем заказов, руб')\n",
    "plt.ylim([0, 100000]); "
   ]
  },
  {
   "cell_type": "markdown",
   "metadata": {},
   "source": [
    "При отьрасывании явных аномалий картина станоися более ясной. Вместе с процентилями можно будет назначить корректную границу по аномаоиям."
   ]
  },
  {
   "cell_type": "markdown",
   "metadata": {},
   "source": [
    "#### Посчитайте 95-й и 99-й перцентили стоимости заказов. \n",
    "Выберите границу для определения аномальных заказов."
   ]
  },
  {
   "cell_type": "code",
   "execution_count": 23,
   "metadata": {},
   "outputs": [
    {
     "name": "stdout",
     "output_type": "stream",
     "text": [
      "[18168.  28000.  58233.2]\n"
     ]
    }
   ],
   "source": [
    "print(np.percentile(orders['revenue'], [90, 95, 99])) "
   ]
  },
  {
   "cell_type": "markdown",
   "metadata": {},
   "source": [
    "5% заказов на сумму более 28000 рублей, 1 % заказов на сумму более 58233 рублей. Осторожно отрезать можно на уровне **50 000 рублей**."
   ]
  },
  {
   "cell_type": "markdown",
   "metadata": {},
   "source": [
    "#### Посчитайте статистическую значимость различий в среднем количестве заказов на посетителя между группами по «сырым» данным. \n",
    "Сделайте выводы и предположения."
   ]
  },
  {
   "cell_type": "markdown",
   "metadata": {},
   "source": [
    "Сформулируем гипотезы. Нулевая: различий в среднем количестве заказов между группами нет. Альтернативная: различия в среднем между группами есть.\n",
    "**Уровень значимости alpha приму равным 0.05**"
   ]
  },
  {
   "cell_type": "code",
   "execution_count": 24,
   "metadata": {},
   "outputs": [
    {
     "name": "stdout",
     "output_type": "stream",
     "text": [
      "        date  ordersPerDateA  revenuePerDateA  ordersPerDateB  \\\n",
      "0 2019-08-01              24           148579              21   \n",
      "1 2019-08-02              20            93822              24   \n",
      "2 2019-08-03              24           112473              16   \n",
      "3 2019-08-04              16            70825              17   \n",
      "4 2019-08-05              25           124218              23   \n",
      "\n",
      "   revenuePerDateB  ordersCummulativeA  revenueCummulativeA  \\\n",
      "0           101217                  24               148579   \n",
      "1           165531                  44               242401   \n",
      "2           114248                  68               354874   \n",
      "3           108571                  84               425699   \n",
      "4            92428                 109               549917   \n",
      "\n",
      "   ordersCummulativeB  revenueCummulativeB  visitorsPerDateA  \\\n",
      "0                  21               101217               719   \n",
      "1                  45               266748               619   \n",
      "2                  61               380996               507   \n",
      "3                  78               489567               717   \n",
      "4                 101               581995               756   \n",
      "\n",
      "   visitorsPerDateB  visitorsCummulativeA  visitorsCummulativeB  \n",
      "0               713                   719                   713  \n",
      "1               581                  1338                  1294  \n",
      "2               509                  1845                  1803  \n",
      "3               770                  2562                  2573  \n",
      "4               707                  3318                  3280  \n"
     ]
    }
   ],
   "source": [
    "# Собираем данные по группам в одном датафрейме\n",
    "visitorsADaily = visitors[visitors['group'] == 'A'][['date', 'visitors']]\n",
    "visitorsADaily.columns = ['date', 'visitorsPerDateA']\n",
    "\n",
    "visitorsACummulative = visitorsADaily.apply(\n",
    "    lambda x: visitorsADaily[visitorsADaily['date'] <= x['date']].agg(\n",
    "        {'date': 'max', 'visitorsPerDateA': 'sum'}\n",
    "    ),\n",
    "    axis=1,\n",
    ")\n",
    "visitorsACummulative.columns = ['date', 'visitorsCummulativeA']\n",
    "\n",
    "visitorsBDaily = visitors[visitors['group'] == 'B'][['date', 'visitors']]\n",
    "visitorsBDaily.columns = ['date', 'visitorsPerDateB']\n",
    "\n",
    "visitorsBCummulative = visitorsBDaily.apply(\n",
    "    lambda x: visitorsBDaily[visitorsBDaily['date'] <= x['date']].agg(\n",
    "        {'date': 'max', 'visitorsPerDateB': 'sum'}\n",
    "    ),\n",
    "    axis=1,\n",
    ")\n",
    "visitorsBCummulative.columns = ['date', 'visitorsCummulativeB']\n",
    "\n",
    "ordersADaily = (\n",
    "    orders[orders['group'] == 'A'][['date', 'transactionId', 'visitorId', 'revenue']]\n",
    "    .groupby('date', as_index=False)\n",
    "    .agg({'transactionId': pd.Series.nunique, 'revenue': 'sum'})\n",
    ")\n",
    "ordersADaily.columns = ['date', 'ordersPerDateA', 'revenuePerDateA']\n",
    "\n",
    "ordersACummulative = ordersADaily.apply(\n",
    "    lambda x: ordersADaily[ordersADaily['date'] <= x['date']].agg(\n",
    "        {'date': 'max', 'ordersPerDateA': 'sum', 'revenuePerDateA': 'sum'}\n",
    "    ),\n",
    "    axis=1,\n",
    ").sort_values(by=['date'])\n",
    "ordersACummulative.columns = [\n",
    "    'date',\n",
    "    'ordersCummulativeA',\n",
    "    'revenueCummulativeA',\n",
    "]\n",
    "\n",
    "ordersBDaily = (\n",
    "    orders[orders['group'] == 'B'][['date', 'transactionId', 'visitorId', 'revenue']]\n",
    "    .groupby('date', as_index=False)\n",
    "    .agg({'transactionId': pd.Series.nunique, 'revenue': 'sum'})\n",
    ")\n",
    "ordersBDaily.columns = ['date', 'ordersPerDateB', 'revenuePerDateB']\n",
    "\n",
    "ordersBCummulative = ordersBDaily.apply(\n",
    "    lambda x: ordersBDaily[ordersBDaily['date'] <= x['date']].agg(\n",
    "        {'date': 'max', 'ordersPerDateB': 'sum', 'revenuePerDateB': 'sum'}\n",
    "    ),\n",
    "    axis=1,\n",
    ").sort_values(by=['date'])\n",
    "ordersBCummulative.columns = [\n",
    "    'date',\n",
    "    'ordersCummulativeB',\n",
    "    'revenueCummulativeB',\n",
    "]\n",
    "\n",
    "dataset = (\n",
    "    ordersADaily.merge(\n",
    "        ordersBDaily, left_on='date', right_on='date', how='left'\n",
    "    )\n",
    "    .merge(ordersACummulative, left_on='date', right_on='date', how='left')\n",
    "    .merge(ordersBCummulative, left_on='date', right_on='date', how='left')\n",
    "    .merge(visitorsADaily, left_on='date', right_on='date', how='left')\n",
    "    .merge(visitorsBDaily, left_on='date', right_on='date', how='left')\n",
    "    .merge(visitorsACummulative, left_on='date', right_on='date', how='left')\n",
    "    .merge(visitorsBCummulative, left_on='date', right_on='date', how='left')\n",
    ")\n",
    "\n",
    "print(dataset.head(5)) "
   ]
  },
  {
   "cell_type": "code",
   "execution_count": 25,
   "metadata": {},
   "outputs": [],
   "source": [
    "# Посчитаем статистическую значимость различия в среднем количестве заказов между группами.\n",
    "# Создадим переменные ordersByUsersA и ordersByUsersB со столбцами ['userId', 'orders']. \n",
    "# В них для пользователей, которые заказывали хотя бы 1 раз, укажем число совершённых заказов. \n",
    "ordersByUsersA = (\n",
    "    orders[orders['group'] == 'A']\n",
    "    .groupby('visitorId', as_index=False)\n",
    "    .agg({'transactionId': pd.Series.nunique})\n",
    ")\n",
    "ordersByUsersA.columns = ['userId', 'orders']\n",
    "\n",
    "ordersByUsersB = (\n",
    "    orders[orders['group'] == 'B']\n",
    "    .groupby('visitorId', as_index=False)\n",
    "    .agg({'transactionId': pd.Series.nunique})\n",
    ")\n",
    "ordersByUsersB.columns = ['visitorId', 'orders']"
   ]
  },
  {
   "cell_type": "code",
   "execution_count": 26,
   "metadata": {},
   "outputs": [],
   "source": [
    "# Объявим переменные sampleA и sampleB, в которых пользователям из разных групп \n",
    "# будет соответствовать количество заказов. \n",
    "\n",
    "sampleA = pd.concat([ordersByUsersA['orders'],pd.Series(0, \n",
    "        index=np.arange(dataset['visitorsPerDateA'].sum() - len(ordersByUsersA['orders'])),\n",
    "        name='orders')],axis=0)\n",
    "\n",
    "sampleB = pd.concat([ordersByUsersB['orders'],pd.Series(0, \n",
    "        index=np.arange(dataset['visitorsPerDateB'].sum() - len(ordersByUsersB['orders'])),\n",
    "        name='orders')],axis=0)"
   ]
  },
  {
   "cell_type": "code",
   "execution_count": 27,
   "metadata": {},
   "outputs": [
    {
     "name": "stdout",
     "output_type": "stream",
     "text": [
      "P-value = 0.017\n",
      "Относительный прирост среднего числа заказов группы B = 0.138\n"
     ]
    }
   ],
   "source": [
    "# Выведем относительный прирост среднего числа заказов группы B: \n",
    "ordersByUsersA = (\n",
    "    orders[orders['group'] == 'A']\n",
    "    .groupby('visitorId', as_index=False)\n",
    "    .agg({'transactionId': pd.Series.nunique})\n",
    ")\n",
    "ordersByUsersA.columns = ['visitorId', 'orders']\n",
    "\n",
    "ordersByUsersB = (\n",
    "    orders[orders['group'] == 'B']\n",
    "    .groupby('visitorId', as_index=False)\n",
    "    .agg({'transactionId': pd.Series.nunique})\n",
    ")\n",
    "ordersByUsersB.columns = ['visitorId', 'orders']\n",
    "\n",
    "sampleA = pd.concat(\n",
    "    [\n",
    "        ordersByUsersA['orders'],\n",
    "        pd.Series(\n",
    "            0,\n",
    "            index=np.arange(\n",
    "                dataset['visitorsPerDateA'].sum() - len(ordersByUsersA['orders'])\n",
    "            ),\n",
    "            name='orders',\n",
    "        ),\n",
    "    ],\n",
    "    axis=0,\n",
    ")\n",
    "\n",
    "sampleB = pd.concat(\n",
    "    [\n",
    "        ordersByUsersB['orders'],\n",
    "        pd.Series(\n",
    "            0,\n",
    "            index=np.arange(\n",
    "                dataset['visitorsPerDateB'].sum() - len(ordersByUsersB['orders'])\n",
    "            ),\n",
    "            name='orders',\n",
    "        ),\n",
    "    ],\n",
    "    axis=0,\n",
    ")\n",
    "\n",
    "print('P-value =',\"{0:.3f}\".format(stats.mannwhitneyu(sampleA, sampleB)[1]))\n",
    "\n",
    "print('Относительный прирост среднего числа заказов группы B =',\"{0:.3f}\".format(sampleB.mean() / sampleA.mean() - 1))\n",
    " "
   ]
  },
  {
   "cell_type": "markdown",
   "metadata": {},
   "source": [
    "P-value меньше **0,05**, значит, нулевую гипотезу о том, что статистически значимых различий в среднем числе заказов между группами нет, отвергаем. **Различия по сырым данным есть**.\n",
    "Относительный выигрыш группы В - 13.8%"
   ]
  },
  {
   "cell_type": "markdown",
   "metadata": {},
   "source": [
    "#### Посчитайте статистическую значимость различий в среднем чеке заказа между группами по «сырым» данным. \n",
    "Сделайте выводы и предположения."
   ]
  },
  {
   "cell_type": "markdown",
   "metadata": {},
   "source": [
    "Нулевая гипотеза: различий в среднем чеке между группами нет. Альтернативная гипотеза: различия в среднем чеке между группами есть. \n",
    "\n",
    "Чтобы рассчитать статистическую значимость различий в среднем чеке, передадим критерию mannwhitneyu() данные о выручке с заказов. "
   ]
  },
  {
   "cell_type": "code",
   "execution_count": 28,
   "metadata": {},
   "outputs": [
    {
     "name": "stdout",
     "output_type": "stream",
     "text": [
      "P-value = 0.729\n",
      "Относительный прирост среднего чека группы B к А = 0.259\n"
     ]
    }
   ],
   "source": [
    "print('P-value =','{0:.3f}'.format(stats.mannwhitneyu(orders[orders['group']=='A']['revenue'], orders[orders['group']=='B']['revenue'])[1]))\n",
    "print('Относительный прирост среднего чека группы B к А =','{0:.3f}'.format(orders[orders['group']=='B']['revenue'].mean()/orders[orders['group']=='A']['revenue'].mean()-1)) "
   ]
  },
  {
   "cell_type": "markdown",
   "metadata": {},
   "source": [
    "P-value значительно больше 0.05. Значит, причин отвергать нулевую гипотезу и считать, что в среднем чеке есть различия, нет. Впрочем, средний чек группы B значительно выше среднего чека группы A."
   ]
  },
  {
   "cell_type": "markdown",
   "metadata": {},
   "source": [
    "#### Посчитайте статистическую значимость различий в среднем количестве заказов на посетителя между группами по «очищенным» данным. \n",
    "Сделайте выводы и предположения."
   ]
  },
  {
   "cell_type": "markdown",
   "metadata": {},
   "source": [
    "Срежем пользователей с числом заказов больше 3 и суммой заказов более 50 000 рублей.\n",
    "\n",
    "Сделаем срезы пользователей с числом заказов больше 3 — usersWithManyOrders и пользователей, совершивших заказы дороже 50 000 — usersWithExpensiveOrders. Объединим их в таблице abnormalUsers. "
   ]
  },
  {
   "cell_type": "code",
   "execution_count": 29,
   "metadata": {
    "scrolled": true
   },
   "outputs": [
    {
     "name": "stdout",
     "output_type": "stream",
     "text": [
      "1099    148427295\n",
      "18      199603092\n",
      "23      237748145\n",
      "1137    759473111\n",
      "949     887908475\n",
      "Name: visitorId, dtype: int64\n",
      "26\n"
     ]
    }
   ],
   "source": [
    "usersWithManyOrders = pd.concat(\n",
    "    [\n",
    "        ordersByUsersA[ordersByUsersA['orders'] > 3]['visitorId'],\n",
    "        ordersByUsersB[ordersByUsersB['orders'] > 3]['visitorId'],\n",
    "    ],\n",
    "    axis=0,\n",
    ")\n",
    "usersWithExpensiveOrders = orders[orders['revenue'] > 50000]['visitorId']\n",
    "abnormalUsers = (\n",
    "    pd.concat([usersWithManyOrders, usersWithExpensiveOrders], axis=0)\n",
    "    .drop_duplicates()\n",
    "    .sort_values()\n",
    ")\n",
    "print(abnormalUsers.head(5))\n",
    "print(abnormalUsers.shape[0]) "
   ]
  },
  {
   "cell_type": "markdown",
   "metadata": {},
   "source": [
    "Всего 26 аномальных пользователя убираются из датасета\n",
    "\n",
    "Посчитаем статистическую значимость различий в среднем количестве заказов между группами теста по очищенным данным.\n",
    "\n",
    "Сформулируем гипотезы на очищенных данных. Нулевая: различий в среднем количестве заказов между группами нет. Альтернативная: различия в среднем между группами есть. Уровень значимости alpha приму равным 0.05\n",
    "\n",
    "\n",
    "Сначала подготовим выборки количества заказов по пользователям по группам теста:"
   ]
  },
  {
   "cell_type": "code",
   "execution_count": 30,
   "metadata": {},
   "outputs": [],
   "source": [
    "sampleAFiltered = pd.concat(\n",
    "    [\n",
    "        ordersByUsersA[\n",
    "            np.logical_not(ordersByUsersA['visitorId'].isin(abnormalUsers))\n",
    "        ]['orders'],\n",
    "        pd.Series(\n",
    "            0,\n",
    "            index=np.arange(\n",
    "                dataset['visitorsPerDateA'].sum() - len(ordersByUsersA['orders'])\n",
    "            ),\n",
    "            name='orders',\n",
    "        ),\n",
    "    ],\n",
    "    axis=0,\n",
    ")\n",
    "\n",
    "sampleBFiltered = pd.concat(\n",
    "    [\n",
    "        ordersByUsersB[\n",
    "            np.logical_not(ordersByUsersB['visitorId'].isin(abnormalUsers))\n",
    "        ]['orders'],\n",
    "        pd.Series(\n",
    "            0,\n",
    "            index=np.arange(\n",
    "                dataset['visitorsPerDateB'].sum() - len(ordersByUsersB['orders'])\n",
    "            ),\n",
    "            name='orders',\n",
    "        ),\n",
    "    ],\n",
    "    axis=0,\n",
    ") "
   ]
  },
  {
   "cell_type": "code",
   "execution_count": 31,
   "metadata": {},
   "outputs": [
    {
     "name": "stdout",
     "output_type": "stream",
     "text": [
      "P-value = 0.011\n",
      "Относительный прирост среднего числа заказов группы B = 0.158\n"
     ]
    }
   ],
   "source": [
    "# Применим статистический критерий Манна-Уитни к полученным отфильтрованным выборкам:\n",
    "print('P-value =','{0:.3f}'.format(stats.mannwhitneyu(sampleAFiltered, sampleBFiltered)[1]))\n",
    "print('Относительный прирост среднего числа заказов группы B =','{0:.3f}'.format(sampleBFiltered.mean()/sampleAFiltered.mean()-1)) "
   ]
  },
  {
   "cell_type": "markdown",
   "metadata": {},
   "source": [
    "P-value еще уменьшился, оставаясь  меньше 0,05.\n",
    "Отношение среднего количества заказов увеличилось в сторону группы В"
   ]
  },
  {
   "cell_type": "markdown",
   "metadata": {},
   "source": [
    "#### Посчитайте статистическую значимость различий в среднем чеке заказа между группами по «очищенным» данным. \n",
    "Сделайте выводы и предположения."
   ]
  },
  {
   "cell_type": "markdown",
   "metadata": {},
   "source": [
    "Нулевая гипотеза: различий в среднем чеке между группами нет. Альтернативная гипотеза: различия в среднем чеке между группами есть. "
   ]
  },
  {
   "cell_type": "code",
   "execution_count": 32,
   "metadata": {},
   "outputs": [
    {
     "name": "stdout",
     "output_type": "stream",
     "text": [
      "P-value = 0.819\n",
      "Относительный прирост среднего чека группы B к А = 0.024\n"
     ]
    }
   ],
   "source": [
    "print('P-value =',\n",
    "    '{0:.3f}'.format(\n",
    "        stats.mannwhitneyu(\n",
    "            orders[\n",
    "                np.logical_and(\n",
    "                    orders['group'] == 'A',\n",
    "                    np.logical_not(orders['visitorId'].isin(abnormalUsers)),\n",
    "                )\n",
    "            ]['revenue'],\n",
    "            orders[\n",
    "                np.logical_and(\n",
    "                    orders['group'] == 'B',\n",
    "                    np.logical_not(orders['visitorId'].isin(abnormalUsers)),\n",
    "                )\n",
    "            ]['revenue'],\n",
    "        )[1]\n",
    "    )\n",
    ")\n",
    "\n",
    "print('Относительный прирост среднего чека группы B к А =',\n",
    "    \"{0:.3f}\".format(\n",
    "        orders[\n",
    "            np.logical_and(\n",
    "                orders['group'] == 'B',\n",
    "                np.logical_not(orders['visitorId'].isin(abnormalUsers)),\n",
    "            )\n",
    "        ]['revenue'].mean()\n",
    "        / orders[\n",
    "            np.logical_and(\n",
    "                orders['group'] == 'A',\n",
    "                np.logical_not(orders['visitorId'].isin(abnormalUsers)),\n",
    "            )\n",
    "        ]['revenue'].mean()\n",
    "        - 1\n",
    "    )\n",
    ") "
   ]
  },
  {
   "attachments": {
    "image-3.png": {
     "image/png": "[encoded data removed]"
    },
    "image-4.png": {
     "image/png": "[encoded data removed]"
    }
   },
   "cell_type": "markdown",
   "metadata": {},
   "source": [
    "#### Примите решение по результатам теста и объясните его. \n",
    "По итогам теста принимается решение **Остановить тест, зафиксировать победу группы В.**\n",
    "\n",
    "- Есть статистически значимое различие по среднему количеству заказов между группами как по «сырым», так и по данным после фильтрации аномалий. Отношение числа заказов между группами достигает 15.8% - Это явный успех заказчика.\n",
    "- Нет статистически значимого различия по среднему чеку между группами ни по «сырым», ни по данным после фильтрации аномалий, но есть разница в относительном чеке по группам - аномалии довели различие до 26%, в то время как без них разница составляет всего 2,4%.\n",
    "\n",
    "График различия среднего количества заказов подтверждает, что результаты группы В гораздо лучше группы А. Цель достигнута\n",
    "\n",
    "![image-3.png](attachment:image-3.png)\n",
    "\n",
    "График различия среднего чека так же говорит о том, что результаты группы B лучше. Без учета аномалий группа В все равно показала лучше результат, хоть и не такой значительный.\n",
    "\n",
    "![image-4.png](attachment:image-4.png)\n",
    "\n",
    "То есть без учета аномалий можно зафиксировать прирост количества заказов на 15-16% при практически неизменном среднем чеке. Произошло **привлечение новых клиентов**.\n",
    "\n",
    "С учетом аномалий результаты группы B становятся позитивными и по среднему чеку."
   ]
  }
 ],
 "metadata": {
  "ExecuteTimeLog": [
   {
    "duration": 407,
    "start_time": "2023-05-11T19:22:03.573Z"
   },
   {
    "duration": 82,
    "start_time": "2023-05-11T19:22:04.116Z"
   },
   {
    "duration": 29,
    "start_time": "2023-05-11T19:28:12.130Z"
   },
   {
    "duration": 29,
    "start_time": "2023-05-11T19:28:18.916Z"
   },
   {
    "duration": 28,
    "start_time": "2023-05-11T19:28:49.314Z"
   },
   {
    "duration": 29,
    "start_time": "2023-05-11T19:40:31.024Z"
   },
   {
    "duration": 3,
    "start_time": "2023-05-11T19:40:37.641Z"
   },
   {
    "duration": 10,
    "start_time": "2023-05-11T19:40:41.780Z"
   },
   {
    "duration": 77,
    "start_time": "2023-05-11T19:41:37.197Z"
   },
   {
    "duration": 61,
    "start_time": "2023-05-11T19:41:55.523Z"
   },
   {
    "duration": 9,
    "start_time": "2023-05-11T19:42:29.061Z"
   },
   {
    "duration": 7,
    "start_time": "2023-05-11T19:44:01.776Z"
   },
   {
    "duration": 10,
    "start_time": "2023-05-11T19:48:21.896Z"
   },
   {
    "duration": 6,
    "start_time": "2023-05-11T19:48:44.981Z"
   },
   {
    "duration": 8,
    "start_time": "2023-05-11T19:54:39.870Z"
   },
   {
    "duration": 7,
    "start_time": "2023-05-11T20:14:42.883Z"
   },
   {
    "duration": 4,
    "start_time": "2023-05-11T20:15:08.848Z"
   },
   {
    "duration": 5,
    "start_time": "2023-05-11T20:19:38.951Z"
   },
   {
    "duration": 4,
    "start_time": "2023-05-11T20:19:56.757Z"
   },
   {
    "duration": 6,
    "start_time": "2023-05-11T20:21:04.433Z"
   },
   {
    "duration": 7,
    "start_time": "2023-05-11T20:21:22.486Z"
   },
   {
    "duration": 106,
    "start_time": "2023-05-11T20:22:04.027Z"
   },
   {
    "duration": 5,
    "start_time": "2023-05-11T20:22:24.347Z"
   },
   {
    "duration": 441,
    "start_time": "2023-05-11T20:40:57.185Z"
   },
   {
    "duration": 459,
    "start_time": "2023-05-11T20:43:21.620Z"
   },
   {
    "duration": 419,
    "start_time": "2023-05-11T20:43:53.966Z"
   },
   {
    "duration": 64,
    "start_time": "2023-05-11T20:44:22.903Z"
   },
   {
    "duration": 75,
    "start_time": "2023-05-11T20:45:23.438Z"
   },
   {
    "duration": 92,
    "start_time": "2023-05-11T20:46:16.071Z"
   },
   {
    "duration": 102,
    "start_time": "2023-05-11T20:47:06.118Z"
   },
   {
    "duration": 9,
    "start_time": "2023-05-11T20:54:37.384Z"
   },
   {
    "duration": 153,
    "start_time": "2023-05-11T20:55:23.754Z"
   },
   {
    "duration": 259,
    "start_time": "2023-05-11T20:56:41.408Z"
   },
   {
    "duration": 820,
    "start_time": "2023-05-13T10:45:52.630Z"
   },
   {
    "duration": 99,
    "start_time": "2023-05-13T10:45:53.565Z"
   },
   {
    "duration": 4,
    "start_time": "2023-05-13T10:45:55.333Z"
   },
   {
    "duration": 9,
    "start_time": "2023-05-13T10:45:58.387Z"
   },
   {
    "duration": 16,
    "start_time": "2023-05-13T10:46:01.115Z"
   },
   {
    "duration": 4,
    "start_time": "2023-05-13T10:46:05.534Z"
   },
   {
    "duration": 253,
    "start_time": "2023-05-13T10:46:12.239Z"
   },
   {
    "duration": 290,
    "start_time": "2023-05-13T10:46:16.464Z"
   },
   {
    "duration": 10,
    "start_time": "2023-05-13T10:46:30.678Z"
   },
   {
    "duration": 111,
    "start_time": "2023-05-13T10:46:36.091Z"
   },
   {
    "duration": 513,
    "start_time": "2023-05-13T10:47:30.102Z"
   },
   {
    "duration": 253,
    "start_time": "2023-05-13T10:47:39.112Z"
   },
   {
    "duration": 175,
    "start_time": "2023-05-13T10:47:55.756Z"
   },
   {
    "duration": 233,
    "start_time": "2023-05-13T10:55:34.572Z"
   },
   {
    "duration": 151,
    "start_time": "2023-05-13T10:58:46.111Z"
   },
   {
    "duration": 173,
    "start_time": "2023-05-13T10:59:00.534Z"
   },
   {
    "duration": 162,
    "start_time": "2023-05-13T10:59:12.131Z"
   },
   {
    "duration": 159,
    "start_time": "2023-05-13T10:59:24.902Z"
   },
   {
    "duration": 162,
    "start_time": "2023-05-13T11:09:37.141Z"
   },
   {
    "duration": 382,
    "start_time": "2023-05-13T11:22:01.145Z"
   },
   {
    "duration": 1347,
    "start_time": "2023-05-14T18:23:18.073Z"
   },
   {
    "duration": 166,
    "start_time": "2023-05-14T18:23:19.428Z"
   },
   {
    "duration": 4,
    "start_time": "2023-05-14T18:23:20.934Z"
   },
   {
    "duration": 10,
    "start_time": "2023-05-14T18:23:22.582Z"
   },
   {
    "duration": 12,
    "start_time": "2023-05-14T18:23:24.198Z"
   },
   {
    "duration": 7,
    "start_time": "2023-05-14T18:23:26.220Z"
   },
   {
    "duration": 306,
    "start_time": "2023-05-14T18:23:27.722Z"
   },
   {
    "duration": 331,
    "start_time": "2023-05-14T18:23:29.194Z"
   },
   {
    "duration": 17,
    "start_time": "2023-05-14T18:23:29.791Z"
   },
   {
    "duration": 303,
    "start_time": "2023-05-14T18:23:30.268Z"
   },
   {
    "duration": 205,
    "start_time": "2023-05-14T18:23:32.926Z"
   },
   {
    "duration": 352,
    "start_time": "2023-05-14T18:23:36.181Z"
   },
   {
    "duration": 309,
    "start_time": "2023-05-14T18:24:04.937Z"
   },
   {
    "duration": 118,
    "start_time": "2023-05-14T18:27:22.033Z"
   },
   {
    "duration": 1543,
    "start_time": "2023-05-14T18:36:02.758Z"
   },
   {
    "duration": 204,
    "start_time": "2023-05-14T18:37:08.930Z"
   },
   {
    "duration": 200,
    "start_time": "2023-05-14T18:37:11.230Z"
   },
   {
    "duration": 267,
    "start_time": "2023-05-14T18:37:14.036Z"
   },
   {
    "duration": 205,
    "start_time": "2023-05-14T18:37:18.035Z"
   },
   {
    "duration": 346,
    "start_time": "2023-05-14T18:55:07.580Z"
   },
   {
    "duration": 356,
    "start_time": "2023-05-14T18:57:08.724Z"
   },
   {
    "duration": 21,
    "start_time": "2023-05-14T19:02:53.626Z"
   },
   {
    "duration": 7,
    "start_time": "2023-05-14T19:04:27.305Z"
   },
   {
    "duration": 6,
    "start_time": "2023-05-14T19:04:41.327Z"
   },
   {
    "duration": 299,
    "start_time": "2023-05-14T19:05:25.001Z"
   },
   {
    "duration": 10,
    "start_time": "2023-05-14T19:15:31.548Z"
   },
   {
    "duration": 12,
    "start_time": "2023-05-14T19:16:09.543Z"
   },
   {
    "duration": 6,
    "start_time": "2023-05-14T19:16:29.725Z"
   },
   {
    "duration": 9,
    "start_time": "2023-05-14T19:17:07.982Z"
   },
   {
    "duration": 130,
    "start_time": "2023-05-14T19:19:38.535Z"
   },
   {
    "duration": 5,
    "start_time": "2023-05-14T19:23:03.263Z"
   },
   {
    "duration": 1310,
    "start_time": "2023-05-14T19:34:45.426Z"
   },
   {
    "duration": 139,
    "start_time": "2023-05-14T19:35:20.320Z"
   },
   {
    "duration": 4,
    "start_time": "2023-05-14T19:38:56.247Z"
   },
   {
    "duration": 11,
    "start_time": "2023-05-14T19:43:11.371Z"
   },
   {
    "duration": 120,
    "start_time": "2023-05-14T19:43:14.636Z"
   },
   {
    "duration": 5,
    "start_time": "2023-05-14T19:43:16.165Z"
   },
   {
    "duration": 137,
    "start_time": "2023-05-14T19:43:18.789Z"
   },
   {
    "duration": 262,
    "start_time": "2023-05-14T19:49:16.452Z"
   },
   {
    "duration": 14,
    "start_time": "2023-05-14T19:55:42.308Z"
   },
   {
    "duration": 145,
    "start_time": "2023-05-14T19:56:26.058Z"
   },
   {
    "duration": 1199,
    "start_time": "2023-05-14T19:56:28.302Z"
   },
   {
    "duration": 1619,
    "start_time": "2023-05-14T19:57:21.164Z"
   },
   {
    "duration": 6,
    "start_time": "2023-05-14T19:58:49.727Z"
   },
   {
    "duration": 1693,
    "start_time": "2023-05-14T20:01:15.598Z"
   },
   {
    "duration": 180,
    "start_time": "2023-05-14T20:01:38.218Z"
   },
   {
    "duration": 11,
    "start_time": "2023-05-14T20:18:31.659Z"
   },
   {
    "duration": 1824,
    "start_time": "2023-05-14T20:25:56.824Z"
   },
   {
    "duration": 159,
    "start_time": "2023-05-14T20:27:01.422Z"
   },
   {
    "duration": 11,
    "start_time": "2023-05-14T20:27:06.107Z"
   },
   {
    "duration": 13,
    "start_time": "2023-05-14T20:27:08.187Z"
   },
   {
    "duration": 8,
    "start_time": "2023-05-14T20:27:34.154Z"
   },
   {
    "duration": 1339,
    "start_time": "2023-05-14T20:30:13.201Z"
   },
   {
    "duration": 1266,
    "start_time": "2023-05-14T20:30:33.637Z"
   },
   {
    "duration": 1430,
    "start_time": "2023-05-14T20:30:45.593Z"
   },
   {
    "duration": 8,
    "start_time": "2023-05-14T20:31:10.192Z"
   },
   {
    "duration": 23,
    "start_time": "2023-05-14T20:31:43.091Z"
   },
   {
    "duration": 15,
    "start_time": "2023-05-14T20:36:11.237Z"
   },
   {
    "duration": 9,
    "start_time": "2023-05-14T21:10:46.986Z"
   },
   {
    "duration": 7,
    "start_time": "2023-05-14T21:10:53.333Z"
   },
   {
    "duration": 21,
    "start_time": "2023-05-14T21:10:54.178Z"
   },
   {
    "duration": 12,
    "start_time": "2023-05-14T21:10:56.107Z"
   },
   {
    "duration": 148,
    "start_time": "2023-05-14T21:19:18.939Z"
   },
   {
    "duration": 146,
    "start_time": "2023-05-14T21:19:42.359Z"
   },
   {
    "duration": 166,
    "start_time": "2023-05-14T21:20:11.430Z"
   },
   {
    "duration": 159,
    "start_time": "2023-05-14T21:21:22.142Z"
   },
   {
    "duration": 177,
    "start_time": "2023-05-14T21:21:50.533Z"
   },
   {
    "duration": 162,
    "start_time": "2023-05-14T21:27:50.717Z"
   },
   {
    "duration": 401,
    "start_time": "2023-05-14T21:38:02.777Z"
   },
   {
    "duration": 96,
    "start_time": "2023-05-14T21:38:22.542Z"
   },
   {
    "duration": 253,
    "start_time": "2023-05-14T21:45:33.669Z"
   },
   {
    "duration": 284,
    "start_time": "2023-05-14T21:46:27.299Z"
   },
   {
    "duration": 187,
    "start_time": "2023-05-14T21:47:38.025Z"
   },
   {
    "duration": 242,
    "start_time": "2023-05-14T21:48:21.727Z"
   },
   {
    "duration": 119,
    "start_time": "2023-05-14T21:48:48.614Z"
   },
   {
    "duration": 3,
    "start_time": "2023-05-14T21:50:12.163Z"
   },
   {
    "duration": 32,
    "start_time": "2023-05-14T21:50:12.402Z"
   },
   {
    "duration": 4,
    "start_time": "2023-05-14T21:50:12.819Z"
   },
   {
    "duration": 8,
    "start_time": "2023-05-14T21:50:13.766Z"
   },
   {
    "duration": 9,
    "start_time": "2023-05-14T21:50:18.278Z"
   },
   {
    "duration": 5,
    "start_time": "2023-05-14T21:50:22.601Z"
   },
   {
    "duration": 92,
    "start_time": "2023-05-14T21:50:23.280Z"
   },
   {
    "duration": 241,
    "start_time": "2023-05-14T21:50:24.003Z"
   },
   {
    "duration": 9,
    "start_time": "2023-05-14T21:50:24.279Z"
   },
   {
    "duration": 160,
    "start_time": "2023-05-14T21:50:24.616Z"
   },
   {
    "duration": 153,
    "start_time": "2023-05-14T21:50:26.281Z"
   },
   {
    "duration": 266,
    "start_time": "2023-05-14T21:50:27.675Z"
   },
   {
    "duration": 214,
    "start_time": "2023-05-14T21:50:28.819Z"
   },
   {
    "duration": 256,
    "start_time": "2023-05-14T21:50:29.531Z"
   },
   {
    "duration": 10,
    "start_time": "2023-05-14T21:50:30.274Z"
   },
   {
    "duration": 115,
    "start_time": "2023-05-14T21:50:30.982Z"
   },
   {
    "duration": 4,
    "start_time": "2023-05-14T21:50:31.706Z"
   },
   {
    "duration": 120,
    "start_time": "2023-05-14T21:50:32.432Z"
   },
   {
    "duration": 4,
    "start_time": "2023-05-14T21:50:33.657Z"
   },
   {
    "duration": 291,
    "start_time": "2023-05-14T21:50:35.190Z"
   },
   {
    "duration": 134,
    "start_time": "2023-05-14T21:50:35.483Z"
   },
   {
    "duration": 6,
    "start_time": "2023-05-14T21:50:35.715Z"
   },
   {
    "duration": 146,
    "start_time": "2023-05-14T21:50:36.295Z"
   },
   {
    "duration": 11,
    "start_time": "2023-05-14T21:50:42.623Z"
   },
   {
    "duration": 8,
    "start_time": "2023-05-14T21:50:45.659Z"
   },
   {
    "duration": 7,
    "start_time": "2023-05-14T21:50:47.061Z"
   },
   {
    "duration": 24,
    "start_time": "2023-05-14T21:50:47.872Z"
   },
   {
    "duration": 13,
    "start_time": "2023-05-14T21:50:50.295Z"
   },
   {
    "duration": 1379,
    "start_time": "2023-05-15T18:40:03.769Z"
   },
   {
    "duration": 171,
    "start_time": "2023-05-15T18:40:05.151Z"
   },
   {
    "duration": 3,
    "start_time": "2023-05-15T18:40:05.324Z"
   },
   {
    "duration": 28,
    "start_time": "2023-05-15T18:40:05.330Z"
   },
   {
    "duration": 7,
    "start_time": "2023-05-15T18:40:05.360Z"
   },
   {
    "duration": 28,
    "start_time": "2023-05-15T18:40:05.369Z"
   },
   {
    "duration": 246,
    "start_time": "2023-05-15T18:40:05.404Z"
   },
   {
    "duration": 292,
    "start_time": "2023-05-15T18:40:05.652Z"
   },
   {
    "duration": 10,
    "start_time": "2023-05-15T18:40:05.945Z"
   },
   {
    "duration": 290,
    "start_time": "2023-05-15T18:40:05.957Z"
   },
   {
    "duration": 184,
    "start_time": "2023-05-15T18:40:06.250Z"
   },
   {
    "duration": 314,
    "start_time": "2023-05-15T18:40:06.435Z"
   },
   {
    "duration": 208,
    "start_time": "2023-05-15T18:40:06.750Z"
   },
   {
    "duration": 357,
    "start_time": "2023-05-15T18:40:06.960Z"
   },
   {
    "duration": 12,
    "start_time": "2023-05-15T18:40:07.319Z"
   },
   {
    "duration": 130,
    "start_time": "2023-05-15T18:40:07.333Z"
   },
   {
    "duration": 4,
    "start_time": "2023-05-15T18:40:07.464Z"
   },
   {
    "duration": 150,
    "start_time": "2023-05-15T18:40:07.470Z"
   },
   {
    "duration": 6,
    "start_time": "2023-05-15T18:40:07.622Z"
   },
   {
    "duration": 276,
    "start_time": "2023-05-15T18:40:07.629Z"
   },
   {
    "duration": 145,
    "start_time": "2023-05-15T18:40:07.907Z"
   },
   {
    "duration": 8,
    "start_time": "2023-05-15T18:40:08.054Z"
   },
   {
    "duration": 169,
    "start_time": "2023-05-15T18:40:08.064Z"
   },
   {
    "duration": 9,
    "start_time": "2023-05-15T18:40:08.234Z"
   },
   {
    "duration": 17,
    "start_time": "2023-05-15T18:40:08.245Z"
   },
   {
    "duration": 33,
    "start_time": "2023-05-15T18:40:08.263Z"
   },
   {
    "duration": 23,
    "start_time": "2023-05-15T18:40:08.299Z"
   },
   {
    "duration": 13,
    "start_time": "2023-05-15T18:40:08.325Z"
   },
   {
    "duration": 46,
    "start_time": "2023-05-15T19:57:00.614Z"
   },
   {
    "duration": 1132,
    "start_time": "2023-05-15T19:57:06.641Z"
   },
   {
    "duration": 124,
    "start_time": "2023-05-15T19:57:07.775Z"
   },
   {
    "duration": 3,
    "start_time": "2023-05-15T19:57:11.144Z"
   },
   {
    "duration": 11,
    "start_time": "2023-05-15T19:57:14.247Z"
   },
   {
    "duration": 60,
    "start_time": "2023-05-15T19:58:05.564Z"
   },
   {
    "duration": 9,
    "start_time": "2023-05-15T19:59:29.097Z"
   },
   {
    "duration": 12,
    "start_time": "2023-05-15T20:00:46.575Z"
   },
   {
    "duration": 7,
    "start_time": "2023-05-15T20:11:38.184Z"
   },
   {
    "duration": 211,
    "start_time": "2023-05-15T20:11:48.431Z"
   },
   {
    "duration": 6,
    "start_time": "2023-05-15T20:11:49.929Z"
   },
   {
    "duration": 7,
    "start_time": "2023-05-15T20:12:17.491Z"
   },
   {
    "duration": 5,
    "start_time": "2023-05-15T20:12:28.387Z"
   },
   {
    "duration": 97,
    "start_time": "2023-05-15T20:18:07.322Z"
   },
   {
    "duration": 101,
    "start_time": "2023-05-15T20:18:38.704Z"
   },
   {
    "duration": 6,
    "start_time": "2023-05-15T20:18:42.802Z"
   },
   {
    "duration": 6,
    "start_time": "2023-05-15T20:18:43.388Z"
   },
   {
    "duration": 5,
    "start_time": "2023-05-15T20:23:50.048Z"
   },
   {
    "duration": 7,
    "start_time": "2023-05-15T20:26:16.549Z"
   },
   {
    "duration": 11,
    "start_time": "2023-05-15T20:44:42.403Z"
   },
   {
    "duration": 251,
    "start_time": "2023-05-15T20:44:52.633Z"
   },
   {
    "duration": 10,
    "start_time": "2023-05-15T20:44:53.510Z"
   },
   {
    "duration": 256,
    "start_time": "2023-05-15T20:44:54.331Z"
   },
   {
    "duration": 143,
    "start_time": "2023-05-15T20:48:37.967Z"
   },
   {
    "duration": 169,
    "start_time": "2023-05-15T20:49:09.523Z"
   },
   {
    "duration": 186,
    "start_time": "2023-05-15T20:49:19.377Z"
   },
   {
    "duration": 163,
    "start_time": "2023-05-15T20:51:05.536Z"
   },
   {
    "duration": 205,
    "start_time": "2023-05-15T20:51:56.708Z"
   },
   {
    "duration": 271,
    "start_time": "2023-05-15T20:52:58.787Z"
   },
   {
    "duration": 250,
    "start_time": "2023-05-15T20:53:24.068Z"
   },
   {
    "duration": 185,
    "start_time": "2023-05-15T20:53:42.216Z"
   },
   {
    "duration": 258,
    "start_time": "2023-05-15T20:55:54.280Z"
   },
   {
    "duration": 183,
    "start_time": "2023-05-15T20:56:05.179Z"
   },
   {
    "duration": 350,
    "start_time": "2023-05-15T20:57:57.988Z"
   },
   {
    "duration": 207,
    "start_time": "2023-05-15T20:59:12.413Z"
   },
   {
    "duration": 260,
    "start_time": "2023-05-15T21:03:07.727Z"
   },
   {
    "duration": 9,
    "start_time": "2023-05-15T21:04:49.569Z"
   },
   {
    "duration": 8,
    "start_time": "2023-05-15T21:04:54.797Z"
   },
   {
    "duration": 124,
    "start_time": "2023-05-15T21:04:57.562Z"
   },
   {
    "duration": 148,
    "start_time": "2023-05-15T21:07:03.281Z"
   },
   {
    "duration": 117,
    "start_time": "2023-05-15T21:08:00.877Z"
   },
   {
    "duration": 156,
    "start_time": "2023-05-15T21:12:23.804Z"
   },
   {
    "duration": 124,
    "start_time": "2023-05-15T21:12:38.501Z"
   },
   {
    "duration": 139,
    "start_time": "2023-05-15T21:14:14.418Z"
   },
   {
    "duration": 214,
    "start_time": "2023-05-15T21:15:50.592Z"
   },
   {
    "duration": 134,
    "start_time": "2023-05-15T21:17:20.506Z"
   },
   {
    "duration": 159,
    "start_time": "2023-05-15T21:18:31.500Z"
   },
   {
    "duration": 10,
    "start_time": "2023-05-15T21:20:29.277Z"
   },
   {
    "duration": 9,
    "start_time": "2023-05-15T21:20:40.746Z"
   },
   {
    "duration": 7,
    "start_time": "2023-05-15T21:27:41.470Z"
   },
   {
    "duration": 11,
    "start_time": "2023-05-15T21:27:48.179Z"
   },
   {
    "duration": 9,
    "start_time": "2023-05-15T21:27:51.084Z"
   },
   {
    "duration": 9,
    "start_time": "2023-05-15T21:27:57.112Z"
   },
   {
    "duration": 8,
    "start_time": "2023-05-15T21:27:58.599Z"
   },
   {
    "duration": 23,
    "start_time": "2023-05-15T21:28:01.299Z"
   },
   {
    "duration": 13,
    "start_time": "2023-05-15T21:36:00.975Z"
   },
   {
    "duration": 4,
    "start_time": "2023-05-15T21:42:09.766Z"
   },
   {
    "duration": 38,
    "start_time": "2023-05-15T21:42:09.771Z"
   },
   {
    "duration": 3,
    "start_time": "2023-05-15T21:42:09.811Z"
   },
   {
    "duration": 17,
    "start_time": "2023-05-15T21:42:09.816Z"
   },
   {
    "duration": 15,
    "start_time": "2023-05-15T21:42:09.835Z"
   },
   {
    "duration": 9,
    "start_time": "2023-05-15T21:42:09.852Z"
   },
   {
    "duration": 113,
    "start_time": "2023-05-15T21:42:09.863Z"
   },
   {
    "duration": 6,
    "start_time": "2023-05-15T21:42:09.978Z"
   },
   {
    "duration": 9,
    "start_time": "2023-05-15T21:42:09.986Z"
   },
   {
    "duration": 14,
    "start_time": "2023-05-15T21:42:09.997Z"
   },
   {
    "duration": 304,
    "start_time": "2023-05-15T21:42:10.012Z"
   },
   {
    "duration": 10,
    "start_time": "2023-05-15T21:42:10.318Z"
   },
   {
    "duration": 248,
    "start_time": "2023-05-15T21:42:10.329Z"
   },
   {
    "duration": 294,
    "start_time": "2023-05-15T21:42:10.578Z"
   },
   {
    "duration": 334,
    "start_time": "2023-05-15T21:42:10.874Z"
   },
   {
    "duration": 255,
    "start_time": "2023-05-15T21:42:11.210Z"
   },
   {
    "duration": 383,
    "start_time": "2023-05-15T21:42:11.467Z"
   },
   {
    "duration": 8,
    "start_time": "2023-05-15T21:42:11.851Z"
   },
   {
    "duration": 148,
    "start_time": "2023-05-15T21:42:11.861Z"
   },
   {
    "duration": 5,
    "start_time": "2023-05-15T21:42:12.010Z"
   },
   {
    "duration": 155,
    "start_time": "2023-05-15T21:42:12.016Z"
   },
   {
    "duration": 177,
    "start_time": "2023-05-15T21:42:12.172Z"
   },
   {
    "duration": 4,
    "start_time": "2023-05-15T21:42:12.351Z"
   },
   {
    "duration": 250,
    "start_time": "2023-05-15T21:42:12.358Z"
   },
   {
    "duration": 169,
    "start_time": "2023-05-15T21:42:12.610Z"
   },
   {
    "duration": 19,
    "start_time": "2023-05-15T21:42:12.780Z"
   },
   {
    "duration": 173,
    "start_time": "2023-05-15T21:42:12.801Z"
   },
   {
    "duration": 24,
    "start_time": "2023-05-15T21:42:12.976Z"
   },
   {
    "duration": 10,
    "start_time": "2023-05-15T21:42:13.001Z"
   },
   {
    "duration": 13,
    "start_time": "2023-05-15T21:42:13.013Z"
   },
   {
    "duration": 27,
    "start_time": "2023-05-15T21:42:13.028Z"
   },
   {
    "duration": 15,
    "start_time": "2023-05-15T21:42:13.057Z"
   },
   {
    "duration": 1260,
    "start_time": "2023-07-22T18:03:29.951Z"
   },
   {
    "duration": 181,
    "start_time": "2023-07-22T18:03:31.214Z"
   },
   {
    "duration": 3,
    "start_time": "2023-07-22T18:03:31.397Z"
   },
   {
    "duration": 97,
    "start_time": "2023-07-22T18:03:31.401Z"
   },
   {
    "duration": 30,
    "start_time": "2023-07-22T18:03:31.501Z"
   },
   {
    "duration": 87,
    "start_time": "2023-07-22T18:03:31.535Z"
   },
   {
    "duration": 362,
    "start_time": "2023-07-22T18:03:31.624Z"
   },
   {
    "duration": 7,
    "start_time": "2023-07-22T18:03:31.988Z"
   },
   {
    "duration": 18,
    "start_time": "2023-07-22T18:03:31.996Z"
   },
   {
    "duration": 18,
    "start_time": "2023-07-22T18:03:32.015Z"
   },
   {
    "duration": 393,
    "start_time": "2023-07-22T18:03:32.034Z"
   },
   {
    "duration": 33,
    "start_time": "2023-07-22T18:03:32.429Z"
   },
   {
    "duration": 406,
    "start_time": "2023-07-22T18:03:32.464Z"
   },
   {
    "duration": 239,
    "start_time": "2023-07-22T18:03:32.878Z"
   },
   {
    "duration": 368,
    "start_time": "2023-07-22T18:03:33.119Z"
   },
   {
    "duration": 325,
    "start_time": "2023-07-22T18:03:33.489Z"
   },
   {
    "duration": 324,
    "start_time": "2023-07-22T18:03:33.816Z"
   },
   {
    "duration": 10,
    "start_time": "2023-07-22T18:03:34.142Z"
   },
   {
    "duration": 233,
    "start_time": "2023-07-22T18:03:34.153Z"
   },
   {
    "duration": 5,
    "start_time": "2023-07-22T18:03:34.387Z"
   },
   {
    "duration": 136,
    "start_time": "2023-07-22T18:03:34.393Z"
   },
   {
    "duration": 202,
    "start_time": "2023-07-22T18:03:34.535Z"
   },
   {
    "duration": 7,
    "start_time": "2023-07-22T18:03:34.739Z"
   },
   {
    "duration": 325,
    "start_time": "2023-07-22T18:03:34.750Z"
   },
   {
    "duration": 251,
    "start_time": "2023-07-22T18:03:35.077Z"
   },
   {
    "duration": 7,
    "start_time": "2023-07-22T18:03:35.332Z"
   },
   {
    "duration": 322,
    "start_time": "2023-07-22T18:03:35.341Z"
   },
   {
    "duration": 16,
    "start_time": "2023-07-22T18:03:35.665Z"
   },
   {
    "duration": 31,
    "start_time": "2023-07-22T18:03:35.684Z"
   },
   {
    "duration": 19,
    "start_time": "2023-07-22T18:03:35.717Z"
   },
   {
    "duration": 67,
    "start_time": "2023-07-22T18:03:35.738Z"
   },
   {
    "duration": 13,
    "start_time": "2023-07-22T18:03:35.806Z"
   }
  ],
  "kernelspec": {
   "display_name": "Python 3 (ipykernel)",
   "language": "python",
   "name": "python3"
  },
  "language_info": {
   "codemirror_mode": {
    "name": "ipython",
    "version": 3
   },
   "file_extension": ".py",
   "mimetype": "text/x-python",
   "name": "python",
   "nbconvert_exporter": "python",
   "pygments_lexer": "ipython3",
   "version": "3.9.5"
  },
  "toc": {
   "base_numbering": 1,
   "nav_menu": {},
   "number_sections": true,
   "sideBar": true,
   "skip_h1_title": true,
   "title_cell": "Table of Contents",
   "title_sidebar": "Contents",
   "toc_cell": false,
   "toc_position": {},
   "toc_section_display": true,
   "toc_window_display": false
  }
 },
 "nbformat": 4,
 "nbformat_minor": 2
}
