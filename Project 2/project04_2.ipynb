{
 "cells": [
  {
   "cell_type": "markdown",
   "id": "386f2ae7",
   "metadata": {
    "deletable": false,
    "editable": false,
    "id": "386f2ae7"
   },
   "source": [
    "# Исследование надежности заемщиков\n"
   ]
  },
  {
   "cell_type": "markdown",
   "id": "ffe86f65",
   "metadata": {
    "deletable": false,
    "editable": false,
    "id": "ffe86f65"
   },
   "source": [
    "Во второй части проекта вы выполните шаги 3 и 4. Их вручную проверит ревьюер.\n",
    "Чтобы вам не пришлось писать код заново для шагов 1 и 2, мы добавили авторские решения в ячейки с кодом. \n",
    "\n"
   ]
  },
  {
   "cell_type": "markdown",
   "id": "26613308",
   "metadata": {
    "deletable": false,
    "editable": false,
    "id": "26613308"
   },
   "source": [
    "## Откройте таблицу и изучите общую информацию о данных"
   ]
  },
  {
   "cell_type": "markdown",
   "id": "3c9f838e",
   "metadata": {
    "deletable": false,
    "editable": false,
    "id": "3c9f838e"
   },
   "source": [
    "**Задание 1. Импортируйте библиотеку pandas. Считайте данные из csv-файла в датафрейм и сохраните в переменную `data`. Путь к файлу:**\n",
    "\n",
    "`/datasets/data.csv`"
   ]
  },
  {
   "cell_type": "code",
   "execution_count": 1,
   "id": "77a68a90",
   "metadata": {
    "deletable": false,
    "id": "77a68a90"
   },
   "outputs": [],
   "source": [
    "import pandas as pd\n",
    "\n",
    "try:\n",
    "    data = pd.read_csv('/datasets/data.csv')\n",
    "except:\n",
    "    data = pd.read_csv('https://code.s3.yandex.net/datasets/data.csv')"
   ]
  },
  {
   "cell_type": "markdown",
   "id": "45365635",
   "metadata": {
    "deletable": false,
    "editable": false,
    "id": "45365635"
   },
   "source": [
    "**Задание 2. Выведите первые 20 строчек датафрейма `data` на экран.**"
   ]
  },
  {
   "cell_type": "code",
   "execution_count": 2,
   "id": "b0451a9a",
   "metadata": {
    "deletable": false,
    "id": "b0451a9a",
    "outputId": "1a8f3ef2-d323-4ec2-ddf7-89670b5944c4"
   },
   "outputs": [
    {
     "data": {
      "text/html": [
       "<div>\n",
       "<style scoped>\n",
       "    .dataframe tbody tr th:only-of-type {\n",
       "        vertical-align: middle;\n",
       "    }\n",
       "\n",
       "    .dataframe tbody tr th {\n",
       "        vertical-align: top;\n",
       "    }\n",
       "\n",
       "    .dataframe thead th {\n",
       "        text-align: right;\n",
       "    }\n",
       "</style>\n",
       "<table border=\"1\" class=\"dataframe\">\n",
       "  <thead>\n",
       "    <tr style=\"text-align: right;\">\n",
       "      <th></th>\n",
       "      <th>children</th>\n",
       "      <th>days_employed</th>\n",
       "      <th>dob_years</th>\n",
       "      <th>education</th>\n",
       "      <th>education_id</th>\n",
       "      <th>family_status</th>\n",
       "      <th>family_status_id</th>\n",
       "      <th>gender</th>\n",
       "      <th>income_type</th>\n",
       "      <th>debt</th>\n",
       "      <th>total_income</th>\n",
       "      <th>purpose</th>\n",
       "    </tr>\n",
       "  </thead>\n",
       "  <tbody>\n",
       "    <tr>\n",
       "      <th>0</th>\n",
       "      <td>1</td>\n",
       "      <td>-8437.673028</td>\n",
       "      <td>42</td>\n",
       "      <td>высшее</td>\n",
       "      <td>0</td>\n",
       "      <td>женат / замужем</td>\n",
       "      <td>0</td>\n",
       "      <td>F</td>\n",
       "      <td>сотрудник</td>\n",
       "      <td>0</td>\n",
       "      <td>253875.639453</td>\n",
       "      <td>покупка жилья</td>\n",
       "    </tr>\n",
       "    <tr>\n",
       "      <th>1</th>\n",
       "      <td>1</td>\n",
       "      <td>-4024.803754</td>\n",
       "      <td>36</td>\n",
       "      <td>среднее</td>\n",
       "      <td>1</td>\n",
       "      <td>женат / замужем</td>\n",
       "      <td>0</td>\n",
       "      <td>F</td>\n",
       "      <td>сотрудник</td>\n",
       "      <td>0</td>\n",
       "      <td>112080.014102</td>\n",
       "      <td>приобретение автомобиля</td>\n",
       "    </tr>\n",
       "    <tr>\n",
       "      <th>2</th>\n",
       "      <td>0</td>\n",
       "      <td>-5623.422610</td>\n",
       "      <td>33</td>\n",
       "      <td>Среднее</td>\n",
       "      <td>1</td>\n",
       "      <td>женат / замужем</td>\n",
       "      <td>0</td>\n",
       "      <td>M</td>\n",
       "      <td>сотрудник</td>\n",
       "      <td>0</td>\n",
       "      <td>145885.952297</td>\n",
       "      <td>покупка жилья</td>\n",
       "    </tr>\n",
       "    <tr>\n",
       "      <th>3</th>\n",
       "      <td>3</td>\n",
       "      <td>-4124.747207</td>\n",
       "      <td>32</td>\n",
       "      <td>среднее</td>\n",
       "      <td>1</td>\n",
       "      <td>женат / замужем</td>\n",
       "      <td>0</td>\n",
       "      <td>M</td>\n",
       "      <td>сотрудник</td>\n",
       "      <td>0</td>\n",
       "      <td>267628.550329</td>\n",
       "      <td>дополнительное образование</td>\n",
       "    </tr>\n",
       "    <tr>\n",
       "      <th>4</th>\n",
       "      <td>0</td>\n",
       "      <td>340266.072047</td>\n",
       "      <td>53</td>\n",
       "      <td>среднее</td>\n",
       "      <td>1</td>\n",
       "      <td>гражданский брак</td>\n",
       "      <td>1</td>\n",
       "      <td>F</td>\n",
       "      <td>пенсионер</td>\n",
       "      <td>0</td>\n",
       "      <td>158616.077870</td>\n",
       "      <td>сыграть свадьбу</td>\n",
       "    </tr>\n",
       "    <tr>\n",
       "      <th>5</th>\n",
       "      <td>0</td>\n",
       "      <td>-926.185831</td>\n",
       "      <td>27</td>\n",
       "      <td>высшее</td>\n",
       "      <td>0</td>\n",
       "      <td>гражданский брак</td>\n",
       "      <td>1</td>\n",
       "      <td>M</td>\n",
       "      <td>компаньон</td>\n",
       "      <td>0</td>\n",
       "      <td>255763.565419</td>\n",
       "      <td>покупка жилья</td>\n",
       "    </tr>\n",
       "    <tr>\n",
       "      <th>6</th>\n",
       "      <td>0</td>\n",
       "      <td>-2879.202052</td>\n",
       "      <td>43</td>\n",
       "      <td>высшее</td>\n",
       "      <td>0</td>\n",
       "      <td>женат / замужем</td>\n",
       "      <td>0</td>\n",
       "      <td>F</td>\n",
       "      <td>компаньон</td>\n",
       "      <td>0</td>\n",
       "      <td>240525.971920</td>\n",
       "      <td>операции с жильем</td>\n",
       "    </tr>\n",
       "    <tr>\n",
       "      <th>7</th>\n",
       "      <td>0</td>\n",
       "      <td>-152.779569</td>\n",
       "      <td>50</td>\n",
       "      <td>СРЕДНЕЕ</td>\n",
       "      <td>1</td>\n",
       "      <td>женат / замужем</td>\n",
       "      <td>0</td>\n",
       "      <td>M</td>\n",
       "      <td>сотрудник</td>\n",
       "      <td>0</td>\n",
       "      <td>135823.934197</td>\n",
       "      <td>образование</td>\n",
       "    </tr>\n",
       "    <tr>\n",
       "      <th>8</th>\n",
       "      <td>2</td>\n",
       "      <td>-6929.865299</td>\n",
       "      <td>35</td>\n",
       "      <td>ВЫСШЕЕ</td>\n",
       "      <td>0</td>\n",
       "      <td>гражданский брак</td>\n",
       "      <td>1</td>\n",
       "      <td>F</td>\n",
       "      <td>сотрудник</td>\n",
       "      <td>0</td>\n",
       "      <td>95856.832424</td>\n",
       "      <td>на проведение свадьбы</td>\n",
       "    </tr>\n",
       "    <tr>\n",
       "      <th>9</th>\n",
       "      <td>0</td>\n",
       "      <td>-2188.756445</td>\n",
       "      <td>41</td>\n",
       "      <td>среднее</td>\n",
       "      <td>1</td>\n",
       "      <td>женат / замужем</td>\n",
       "      <td>0</td>\n",
       "      <td>M</td>\n",
       "      <td>сотрудник</td>\n",
       "      <td>0</td>\n",
       "      <td>144425.938277</td>\n",
       "      <td>покупка жилья для семьи</td>\n",
       "    </tr>\n",
       "    <tr>\n",
       "      <th>10</th>\n",
       "      <td>2</td>\n",
       "      <td>-4171.483647</td>\n",
       "      <td>36</td>\n",
       "      <td>высшее</td>\n",
       "      <td>0</td>\n",
       "      <td>женат / замужем</td>\n",
       "      <td>0</td>\n",
       "      <td>M</td>\n",
       "      <td>компаньон</td>\n",
       "      <td>0</td>\n",
       "      <td>113943.491460</td>\n",
       "      <td>покупка недвижимости</td>\n",
       "    </tr>\n",
       "    <tr>\n",
       "      <th>11</th>\n",
       "      <td>0</td>\n",
       "      <td>-792.701887</td>\n",
       "      <td>40</td>\n",
       "      <td>среднее</td>\n",
       "      <td>1</td>\n",
       "      <td>женат / замужем</td>\n",
       "      <td>0</td>\n",
       "      <td>F</td>\n",
       "      <td>сотрудник</td>\n",
       "      <td>0</td>\n",
       "      <td>77069.234271</td>\n",
       "      <td>покупка коммерческой недвижимости</td>\n",
       "    </tr>\n",
       "    <tr>\n",
       "      <th>12</th>\n",
       "      <td>0</td>\n",
       "      <td>NaN</td>\n",
       "      <td>65</td>\n",
       "      <td>среднее</td>\n",
       "      <td>1</td>\n",
       "      <td>гражданский брак</td>\n",
       "      <td>1</td>\n",
       "      <td>M</td>\n",
       "      <td>пенсионер</td>\n",
       "      <td>0</td>\n",
       "      <td>NaN</td>\n",
       "      <td>сыграть свадьбу</td>\n",
       "    </tr>\n",
       "    <tr>\n",
       "      <th>13</th>\n",
       "      <td>0</td>\n",
       "      <td>-1846.641941</td>\n",
       "      <td>54</td>\n",
       "      <td>неоконченное высшее</td>\n",
       "      <td>2</td>\n",
       "      <td>женат / замужем</td>\n",
       "      <td>0</td>\n",
       "      <td>F</td>\n",
       "      <td>сотрудник</td>\n",
       "      <td>0</td>\n",
       "      <td>130458.228857</td>\n",
       "      <td>приобретение автомобиля</td>\n",
       "    </tr>\n",
       "    <tr>\n",
       "      <th>14</th>\n",
       "      <td>0</td>\n",
       "      <td>-1844.956182</td>\n",
       "      <td>56</td>\n",
       "      <td>высшее</td>\n",
       "      <td>0</td>\n",
       "      <td>гражданский брак</td>\n",
       "      <td>1</td>\n",
       "      <td>F</td>\n",
       "      <td>компаньон</td>\n",
       "      <td>1</td>\n",
       "      <td>165127.911772</td>\n",
       "      <td>покупка жилой недвижимости</td>\n",
       "    </tr>\n",
       "    <tr>\n",
       "      <th>15</th>\n",
       "      <td>1</td>\n",
       "      <td>-972.364419</td>\n",
       "      <td>26</td>\n",
       "      <td>среднее</td>\n",
       "      <td>1</td>\n",
       "      <td>женат / замужем</td>\n",
       "      <td>0</td>\n",
       "      <td>F</td>\n",
       "      <td>сотрудник</td>\n",
       "      <td>0</td>\n",
       "      <td>116820.904450</td>\n",
       "      <td>строительство собственной недвижимости</td>\n",
       "    </tr>\n",
       "    <tr>\n",
       "      <th>16</th>\n",
       "      <td>0</td>\n",
       "      <td>-1719.934226</td>\n",
       "      <td>35</td>\n",
       "      <td>среднее</td>\n",
       "      <td>1</td>\n",
       "      <td>женат / замужем</td>\n",
       "      <td>0</td>\n",
       "      <td>F</td>\n",
       "      <td>сотрудник</td>\n",
       "      <td>0</td>\n",
       "      <td>289202.704229</td>\n",
       "      <td>недвижимость</td>\n",
       "    </tr>\n",
       "    <tr>\n",
       "      <th>17</th>\n",
       "      <td>0</td>\n",
       "      <td>-2369.999720</td>\n",
       "      <td>33</td>\n",
       "      <td>высшее</td>\n",
       "      <td>0</td>\n",
       "      <td>гражданский брак</td>\n",
       "      <td>1</td>\n",
       "      <td>M</td>\n",
       "      <td>сотрудник</td>\n",
       "      <td>0</td>\n",
       "      <td>90410.586745</td>\n",
       "      <td>строительство недвижимости</td>\n",
       "    </tr>\n",
       "    <tr>\n",
       "      <th>18</th>\n",
       "      <td>0</td>\n",
       "      <td>400281.136913</td>\n",
       "      <td>53</td>\n",
       "      <td>среднее</td>\n",
       "      <td>1</td>\n",
       "      <td>вдовец / вдова</td>\n",
       "      <td>2</td>\n",
       "      <td>F</td>\n",
       "      <td>пенсионер</td>\n",
       "      <td>0</td>\n",
       "      <td>56823.777243</td>\n",
       "      <td>на покупку подержанного автомобиля</td>\n",
       "    </tr>\n",
       "    <tr>\n",
       "      <th>19</th>\n",
       "      <td>0</td>\n",
       "      <td>-10038.818549</td>\n",
       "      <td>48</td>\n",
       "      <td>СРЕДНЕЕ</td>\n",
       "      <td>1</td>\n",
       "      <td>в разводе</td>\n",
       "      <td>3</td>\n",
       "      <td>F</td>\n",
       "      <td>сотрудник</td>\n",
       "      <td>0</td>\n",
       "      <td>242831.107982</td>\n",
       "      <td>на покупку своего автомобиля</td>\n",
       "    </tr>\n",
       "  </tbody>\n",
       "</table>\n",
       "</div>"
      ],
      "text/plain": [
       "    children  days_employed  dob_years            education  education_id  \\\n",
       "0          1   -8437.673028         42               высшее             0   \n",
       "1          1   -4024.803754         36              среднее             1   \n",
       "2          0   -5623.422610         33              Среднее             1   \n",
       "3          3   -4124.747207         32              среднее             1   \n",
       "4          0  340266.072047         53              среднее             1   \n",
       "5          0    -926.185831         27               высшее             0   \n",
       "6          0   -2879.202052         43               высшее             0   \n",
       "7          0    -152.779569         50              СРЕДНЕЕ             1   \n",
       "8          2   -6929.865299         35               ВЫСШЕЕ             0   \n",
       "9          0   -2188.756445         41              среднее             1   \n",
       "10         2   -4171.483647         36               высшее             0   \n",
       "11         0    -792.701887         40              среднее             1   \n",
       "12         0            NaN         65              среднее             1   \n",
       "13         0   -1846.641941         54  неоконченное высшее             2   \n",
       "14         0   -1844.956182         56               высшее             0   \n",
       "15         1    -972.364419         26              среднее             1   \n",
       "16         0   -1719.934226         35              среднее             1   \n",
       "17         0   -2369.999720         33               высшее             0   \n",
       "18         0  400281.136913         53              среднее             1   \n",
       "19         0  -10038.818549         48              СРЕДНЕЕ             1   \n",
       "\n",
       "       family_status  family_status_id gender income_type  debt  \\\n",
       "0    женат / замужем                 0      F   сотрудник     0   \n",
       "1    женат / замужем                 0      F   сотрудник     0   \n",
       "2    женат / замужем                 0      M   сотрудник     0   \n",
       "3    женат / замужем                 0      M   сотрудник     0   \n",
       "4   гражданский брак                 1      F   пенсионер     0   \n",
       "5   гражданский брак                 1      M   компаньон     0   \n",
       "6    женат / замужем                 0      F   компаньон     0   \n",
       "7    женат / замужем                 0      M   сотрудник     0   \n",
       "8   гражданский брак                 1      F   сотрудник     0   \n",
       "9    женат / замужем                 0      M   сотрудник     0   \n",
       "10   женат / замужем                 0      M   компаньон     0   \n",
       "11   женат / замужем                 0      F   сотрудник     0   \n",
       "12  гражданский брак                 1      M   пенсионер     0   \n",
       "13   женат / замужем                 0      F   сотрудник     0   \n",
       "14  гражданский брак                 1      F   компаньон     1   \n",
       "15   женат / замужем                 0      F   сотрудник     0   \n",
       "16   женат / замужем                 0      F   сотрудник     0   \n",
       "17  гражданский брак                 1      M   сотрудник     0   \n",
       "18    вдовец / вдова                 2      F   пенсионер     0   \n",
       "19         в разводе                 3      F   сотрудник     0   \n",
       "\n",
       "     total_income                                 purpose  \n",
       "0   253875.639453                           покупка жилья  \n",
       "1   112080.014102                 приобретение автомобиля  \n",
       "2   145885.952297                           покупка жилья  \n",
       "3   267628.550329              дополнительное образование  \n",
       "4   158616.077870                         сыграть свадьбу  \n",
       "5   255763.565419                           покупка жилья  \n",
       "6   240525.971920                       операции с жильем  \n",
       "7   135823.934197                             образование  \n",
       "8    95856.832424                   на проведение свадьбы  \n",
       "9   144425.938277                 покупка жилья для семьи  \n",
       "10  113943.491460                    покупка недвижимости  \n",
       "11   77069.234271       покупка коммерческой недвижимости  \n",
       "12            NaN                         сыграть свадьбу  \n",
       "13  130458.228857                 приобретение автомобиля  \n",
       "14  165127.911772              покупка жилой недвижимости  \n",
       "15  116820.904450  строительство собственной недвижимости  \n",
       "16  289202.704229                            недвижимость  \n",
       "17   90410.586745              строительство недвижимости  \n",
       "18   56823.777243      на покупку подержанного автомобиля  \n",
       "19  242831.107982            на покупку своего автомобиля  "
      ]
     },
     "execution_count": 2,
     "metadata": {},
     "output_type": "execute_result"
    }
   ],
   "source": [
    "data.head(20)"
   ]
  },
  {
   "cell_type": "markdown",
   "id": "0ed8f27f",
   "metadata": {
    "deletable": false,
    "editable": false,
    "id": "0ed8f27f"
   },
   "source": [
    "**Задание 3. Выведите основную информацию о датафрейме с помощью метода `info()`.**"
   ]
  },
  {
   "cell_type": "code",
   "execution_count": 3,
   "id": "ab3f863b",
   "metadata": {
    "deletable": false,
    "id": "ab3f863b",
    "outputId": "15376089-8dad-46c9-b520-c05248d43158"
   },
   "outputs": [
    {
     "name": "stdout",
     "output_type": "stream",
     "text": [
      "<class 'pandas.core.frame.DataFrame'>\n",
      "RangeIndex: 21525 entries, 0 to 21524\n",
      "Data columns (total 12 columns):\n",
      " #   Column            Non-Null Count  Dtype  \n",
      "---  ------            --------------  -----  \n",
      " 0   children          21525 non-null  int64  \n",
      " 1   days_employed     19351 non-null  float64\n",
      " 2   dob_years         21525 non-null  int64  \n",
      " 3   education         21525 non-null  object \n",
      " 4   education_id      21525 non-null  int64  \n",
      " 5   family_status     21525 non-null  object \n",
      " 6   family_status_id  21525 non-null  int64  \n",
      " 7   gender            21525 non-null  object \n",
      " 8   income_type       21525 non-null  object \n",
      " 9   debt              21525 non-null  int64  \n",
      " 10  total_income      19351 non-null  float64\n",
      " 11  purpose           21525 non-null  object \n",
      "dtypes: float64(2), int64(5), object(5)\n",
      "memory usage: 2.0+ MB\n"
     ]
    }
   ],
   "source": [
    "data.info()"
   ]
  },
  {
   "cell_type": "markdown",
   "id": "60e3e22d",
   "metadata": {
    "deletable": false,
    "editable": false,
    "id": "60e3e22d"
   },
   "source": [
    "## Предобработка данных"
   ]
  },
  {
   "cell_type": "markdown",
   "id": "03dc170c",
   "metadata": {
    "deletable": false,
    "editable": false,
    "id": "03dc170c"
   },
   "source": [
    "### Удаление пропусков"
   ]
  },
  {
   "cell_type": "markdown",
   "id": "a4f54eef",
   "metadata": {
    "deletable": false,
    "editable": false,
    "id": "a4f54eef"
   },
   "source": [
    "**Задание 4. Выведите количество пропущенных значений для каждого столбца. Используйте комбинацию двух методов.**"
   ]
  },
  {
   "cell_type": "code",
   "execution_count": 4,
   "id": "2dc372b2",
   "metadata": {
    "deletable": false,
    "id": "2dc372b2",
    "outputId": "81f4d817-781c-465c-ed15-91ce4446810d"
   },
   "outputs": [
    {
     "data": {
      "text/plain": [
       "children               0\n",
       "days_employed       2174\n",
       "dob_years              0\n",
       "education              0\n",
       "education_id           0\n",
       "family_status          0\n",
       "family_status_id       0\n",
       "gender                 0\n",
       "income_type            0\n",
       "debt                   0\n",
       "total_income        2174\n",
       "purpose                0\n",
       "dtype: int64"
      ]
     },
     "execution_count": 4,
     "metadata": {},
     "output_type": "execute_result"
    }
   ],
   "source": [
    "data.isna().sum()"
   ]
  },
  {
   "cell_type": "markdown",
   "id": "9bd56f89",
   "metadata": {},
   "source": [
    "**Задание 4.1 Гипотеза. Проверить в одинаковых ли строках отсутствуют значения**"
   ]
  },
  {
   "cell_type": "code",
   "execution_count": 5,
   "id": "c79d9642",
   "metadata": {},
   "outputs": [
    {
     "name": "stdout",
     "output_type": "stream",
     "text": [
      "       children  days_employed  dob_years education  education_id  \\\n",
      "12            0            NaN         65   среднее             1   \n",
      "26            0            NaN         41   среднее             1   \n",
      "29            0            NaN         63   среднее             1   \n",
      "41            0            NaN         50   среднее             1   \n",
      "55            0            NaN         54   среднее             1   \n",
      "...         ...            ...        ...       ...           ...   \n",
      "21489         2            NaN         47   Среднее             1   \n",
      "21495         1            NaN         50   среднее             1   \n",
      "21497         0            NaN         48    ВЫСШЕЕ             0   \n",
      "21502         1            NaN         42   среднее             1   \n",
      "21510         2            NaN         28   среднее             1   \n",
      "\n",
      "               family_status  family_status_id gender  income_type  debt  \\\n",
      "12          гражданский брак                 1      M    пенсионер     0   \n",
      "26           женат / замужем                 0      M  госслужащий     0   \n",
      "29     Не женат / не замужем                 4      F    пенсионер     0   \n",
      "41           женат / замужем                 0      F  госслужащий     0   \n",
      "55          гражданский брак                 1      F    пенсионер     1   \n",
      "...                      ...               ...    ...          ...   ...   \n",
      "21489        женат / замужем                 0      M    компаньон     0   \n",
      "21495       гражданский брак                 1      F    сотрудник     0   \n",
      "21497        женат / замужем                 0      F    компаньон     0   \n",
      "21502        женат / замужем                 0      F    сотрудник     0   \n",
      "21510        женат / замужем                 0      F    сотрудник     0   \n",
      "\n",
      "       total_income                           purpose  \n",
      "12              NaN                   сыграть свадьбу  \n",
      "26              NaN                       образование  \n",
      "29              NaN  строительство жилой недвижимости  \n",
      "41              NaN  сделка с подержанным автомобилем  \n",
      "55              NaN                   сыграть свадьбу  \n",
      "...             ...                               ...  \n",
      "21489           NaN              сделка с автомобилем  \n",
      "21495           NaN                           свадьба  \n",
      "21497           NaN        строительство недвижимости  \n",
      "21502           NaN  строительство жилой недвижимости  \n",
      "21510           NaN           приобретение автомобиля  \n",
      "\n",
      "[2174 rows x 12 columns]\n"
     ]
    }
   ],
   "source": [
    "print (data.loc[(data['days_employed'].isna()) & (data['total_income'].isna())])"
   ]
  },
  {
   "cell_type": "markdown",
   "id": "f6376637",
   "metadata": {},
   "source": [
    "Вывод - отсутствующие данные в одних и тех же строках."
   ]
  },
  {
   "cell_type": "markdown",
   "id": "14f011b1",
   "metadata": {
    "deletable": false,
    "editable": false,
    "id": "14f011b1"
   },
   "source": [
    "**Задание 5. В двух столбцах есть пропущенные значения. Один из них — `days_employed`. Пропуски в этом столбце вы обработаете на следующем этапе. Другой столбец с пропущенными значениями — `total_income` — хранит данные о доходах. На сумму дохода сильнее всего влияет тип занятости, поэтому заполнить пропуски в этом столбце нужно медианным значением по каждому типу из столбца `income_type`. Например, у человека с типом занятости `сотрудник` пропуск в столбце `total_income` должен быть заполнен медианным доходом среди всех записей с тем же типом.**"
   ]
  },
  {
   "cell_type": "markdown",
   "id": "dde02cf1",
   "metadata": {},
   "source": [
    "Перебираем датасет по каждому уникальному значению 'income_type' и при соответствующем значении 'income_type' и пропуске в 'total_income', пропуск заменяется медианным значением 'total_income'для группы соответствующей группы 'income_type'"
   ]
  },
  {
   "cell_type": "code",
   "execution_count": 6,
   "id": "bdabfb6e",
   "metadata": {
    "deletable": false,
    "id": "bdabfb6e"
   },
   "outputs": [],
   "source": [
    "for t in data['income_type'].unique():\n",
    "    data.loc[(data['income_type'] == t) & (data['total_income'].isna()), 'total_income'] = \\\n",
    "    data.loc[(data['income_type'] == t), 'total_income'].median()"
   ]
  },
  {
   "cell_type": "markdown",
   "id": "5be34059",
   "metadata": {
    "deletable": false,
    "editable": false,
    "id": "5be34059"
   },
   "source": [
    "### Обработка аномальных значений"
   ]
  },
  {
   "cell_type": "markdown",
   "id": "a87606cb",
   "metadata": {
    "deletable": false,
    "editable": false,
    "id": "a87606cb"
   },
   "source": [
    "**Задание 6. В данных могут встречаться артефакты (аномалии) — значения, которые не отражают действительность и появились по какой-то ошибке. таким артефактом будет отрицательное количество дней трудового стажа в столбце `days_employed`. Для реальных данных это нормально. Обработайте значения в этом столбце: замените все отрицательные значения положительными с помощью метода `abs()`.**"
   ]
  },
  {
   "cell_type": "code",
   "execution_count": 7,
   "id": "020c46cc",
   "metadata": {
    "deletable": false,
    "id": "020c46cc"
   },
   "outputs": [],
   "source": [
    "data['days_employed'] = data['days_employed'].abs()"
   ]
  },
  {
   "cell_type": "markdown",
   "id": "45538a3a",
   "metadata": {
    "deletable": false,
    "editable": false,
    "id": "45538a3a"
   },
   "source": [
    "**Задание 7. Для каждого типа занятости выведите медианное значение трудового стажа `days_employed` в днях.**"
   ]
  },
  {
   "cell_type": "code",
   "execution_count": 8,
   "id": "cd3e6328",
   "metadata": {
    "deletable": false,
    "id": "cd3e6328",
    "outputId": "801ef80e-522b-4668-f34e-565af7432bcf"
   },
   "outputs": [
    {
     "data": {
      "text/plain": [
       "income_type\n",
       "безработный        366413.652744\n",
       "в декрете            3296.759962\n",
       "госслужащий          2689.368353\n",
       "компаньон            1547.382223\n",
       "пенсионер          365213.306266\n",
       "предприниматель       520.848083\n",
       "сотрудник            1574.202821\n",
       "студент               578.751554\n",
       "Name: days_employed, dtype: float64"
      ]
     },
     "execution_count": 8,
     "metadata": {},
     "output_type": "execute_result"
    }
   ],
   "source": [
    "data.groupby('income_type')['days_employed'].agg('median')"
   ]
  },
  {
   "cell_type": "markdown",
   "id": "90c5f058",
   "metadata": {
    "deletable": false,
    "editable": false,
    "id": "90c5f058"
   },
   "source": [
    "У двух типов (безработные и пенсионеры) получатся аномально большие значения. Исправить такие значения сложно, поэтому оставьте их как есть."
   ]
  },
  {
   "cell_type": "markdown",
   "id": "9652e50d",
   "metadata": {
    "deletable": false,
    "editable": false,
    "id": "9652e50d"
   },
   "source": [
    "**Задание 8. Выведите перечень уникальных значений столбца `children`.**"
   ]
  },
  {
   "cell_type": "code",
   "execution_count": 9,
   "id": "dbb37b8e",
   "metadata": {
    "deletable": false,
    "id": "dbb37b8e",
    "outputId": "6975b15c-7f95-4697-d16d-a0c79b657b03"
   },
   "outputs": [
    {
     "data": {
      "text/plain": [
       "array([ 1,  0,  3,  2, -1,  4, 20,  5], dtype=int64)"
      ]
     },
     "execution_count": 9,
     "metadata": {},
     "output_type": "execute_result"
    }
   ],
   "source": [
    "data['children'].unique()"
   ]
  },
  {
   "cell_type": "markdown",
   "id": "2b8b0715",
   "metadata": {
    "deletable": false,
    "editable": false,
    "id": "2b8b0715"
   },
   "source": [
    "**Задание 9. В столбце `children` есть два аномальных значения. Удалите строки, в которых встречаются такие аномальные значения из датафрейма `data`.**"
   ]
  },
  {
   "cell_type": "code",
   "execution_count": 10,
   "id": "20009df8",
   "metadata": {
    "deletable": false,
    "id": "20009df8"
   },
   "outputs": [],
   "source": [
    "data = data[(data['children'] != -1) & (data['children'] != 20)]"
   ]
  },
  {
   "cell_type": "markdown",
   "id": "8c6ac9f1",
   "metadata": {
    "deletable": false,
    "editable": false,
    "id": "8c6ac9f1"
   },
   "source": [
    "**Задание 10. Ещё раз выведите перечень уникальных значений столбца `children`, чтобы убедиться, что артефакты удалены.**"
   ]
  },
  {
   "cell_type": "code",
   "execution_count": 11,
   "id": "07337b81",
   "metadata": {
    "deletable": false,
    "id": "07337b81",
    "outputId": "b2097101-d49d-44d9-901b-32a65c9463d1"
   },
   "outputs": [
    {
     "data": {
      "text/plain": [
       "array([1, 0, 3, 2, 4, 5], dtype=int64)"
      ]
     },
     "execution_count": 11,
     "metadata": {},
     "output_type": "execute_result"
    }
   ],
   "source": [
    "data['children'].unique()"
   ]
  },
  {
   "cell_type": "markdown",
   "id": "ee3f52d4",
   "metadata": {
    "deletable": false,
    "editable": false,
    "id": "ee3f52d4"
   },
   "source": [
    "### Удаление пропусков (продолжение)"
   ]
  },
  {
   "cell_type": "markdown",
   "id": "a700b0e4",
   "metadata": {
    "deletable": false,
    "editable": false,
    "id": "a700b0e4"
   },
   "source": [
    "**Задание 11. Заполните пропуски в столбце `days_employed` медианными значениями по каждого типа занятости `income_type`.**"
   ]
  },
  {
   "cell_type": "code",
   "execution_count": 12,
   "id": "61946b83",
   "metadata": {
    "deletable": false,
    "id": "61946b83"
   },
   "outputs": [],
   "source": [
    "for t in data['income_type'].unique():\n",
    "    data.loc[(data['income_type'] == t) & (data['days_employed'].isna()), 'days_employed'] = \\\n",
    "    data.loc[(data['income_type'] == t), 'days_employed'].median()"
   ]
  },
  {
   "cell_type": "markdown",
   "id": "550dcd9b",
   "metadata": {
    "deletable": false,
    "editable": false,
    "id": "550dcd9b"
   },
   "source": [
    "**Задание 12. Убедитесь, что все пропуски заполнены. Проверьте себя и ещё раз выведите количество пропущенных значений для каждого столбца с помощью двух методов.**"
   ]
  },
  {
   "cell_type": "code",
   "execution_count": 13,
   "id": "937c7014",
   "metadata": {
    "deletable": false,
    "id": "937c7014",
    "outputId": "8da1e4e1-358e-4e87-98c9-f261bce0a7b2"
   },
   "outputs": [
    {
     "data": {
      "text/plain": [
       "children            0\n",
       "days_employed       0\n",
       "dob_years           0\n",
       "education           0\n",
       "education_id        0\n",
       "family_status       0\n",
       "family_status_id    0\n",
       "gender              0\n",
       "income_type         0\n",
       "debt                0\n",
       "total_income        0\n",
       "purpose             0\n",
       "dtype: int64"
      ]
     },
     "execution_count": 13,
     "metadata": {},
     "output_type": "execute_result"
    }
   ],
   "source": [
    "data.isna().sum()"
   ]
  },
  {
   "cell_type": "markdown",
   "id": "d522e295",
   "metadata": {
    "deletable": false,
    "editable": false,
    "id": "d522e295"
   },
   "source": [
    "### Изменение типов данных"
   ]
  },
  {
   "cell_type": "markdown",
   "id": "c229c581",
   "metadata": {
    "deletable": false,
    "editable": false,
    "id": "c229c581"
   },
   "source": [
    "**Задание 13. Замените вещественный тип данных в столбце `total_income` на целочисленный с помощью метода `astype()`.**"
   ]
  },
  {
   "cell_type": "code",
   "execution_count": 14,
   "id": "31036462",
   "metadata": {
    "deletable": false,
    "id": "31036462"
   },
   "outputs": [],
   "source": [
    "data['total_income'] = data['total_income'].astype(int)"
   ]
  },
  {
   "cell_type": "markdown",
   "id": "b8e3d1d9",
   "metadata": {
    "deletable": false,
    "editable": false,
    "id": "b8e3d1d9"
   },
   "source": [
    "### Обработка дубликатов"
   ]
  },
  {
   "cell_type": "markdown",
   "id": "9be53c49",
   "metadata": {
    "deletable": false,
    "editable": false,
    "id": "9be53c49"
   },
   "source": [
    "**Задание 14. Обработайте неявные дубликаты в столбце `education`. В этом столбце есть одни и те же значения, но записанные по-разному: с использованием заглавных и строчных букв. Приведите их к нижнему регистру.**"
   ]
  },
  {
   "cell_type": "code",
   "execution_count": 15,
   "id": "d89e73e1",
   "metadata": {
    "deletable": false,
    "id": "d89e73e1"
   },
   "outputs": [],
   "source": [
    "data['education'] = data['education'].str.lower()"
   ]
  },
  {
   "cell_type": "markdown",
   "id": "01d4500e",
   "metadata": {
    "deletable": false,
    "editable": false,
    "id": "01d4500e"
   },
   "source": [
    "**Задание 15. Выведите на экран количество строк-дубликатов в данных. Если такие строки присутствуют, удалите их.**"
   ]
  },
  {
   "cell_type": "code",
   "execution_count": 16,
   "id": "e10efb23",
   "metadata": {
    "deletable": false,
    "id": "e10efb23",
    "outputId": "9684deba-1934-42d1-99e1-cda61740f822"
   },
   "outputs": [
    {
     "data": {
      "text/plain": [
       "71"
      ]
     },
     "execution_count": 16,
     "metadata": {},
     "output_type": "execute_result"
    }
   ],
   "source": [
    "data.duplicated().sum()"
   ]
  },
  {
   "cell_type": "code",
   "execution_count": 17,
   "id": "df853f20",
   "metadata": {
    "deletable": false,
    "id": "df853f20"
   },
   "outputs": [],
   "source": [
    "data = data.drop_duplicates()"
   ]
  },
  {
   "cell_type": "markdown",
   "id": "627be38f",
   "metadata": {
    "deletable": false,
    "editable": false,
    "id": "627be38f"
   },
   "source": [
    "### Категоризация данных"
   ]
  },
  {
   "cell_type": "markdown",
   "id": "4684c3e0",
   "metadata": {
    "deletable": false,
    "editable": false,
    "id": "4684c3e0"
   },
   "source": [
    "**Задание 16. На основании диапазонов, указанных ниже, создайте в датафрейме `data` столбец `total_income_category` с категориями:**\n",
    "\n",
    "- 0–30000 — `'E'`;\n",
    "- 30001–50000 — `'D'`;\n",
    "- 50001–200000 — `'C'`;\n",
    "- 200001–1000000 — `'B'`;\n",
    "- 1000001 и выше — `'A'`.\n",
    "\n",
    "\n",
    "**Например, кредитополучателю с доходом 25000 нужно назначить категорию `'E'`, а клиенту, получающему 235000, — `'B'`. Используйте собственную функцию с именем `categorize_income()` и метод `apply()`.**"
   ]
  },
  {
   "cell_type": "code",
   "execution_count": 18,
   "id": "78965238",
   "metadata": {
    "deletable": false,
    "id": "78965238"
   },
   "outputs": [],
   "source": [
    "def categorize_income(income):\n",
    "    try:\n",
    "        if 0 <= income <= 30000:\n",
    "            return 'E'\n",
    "        elif 30001 <= income <= 50000:\n",
    "            return 'D'\n",
    "        elif 50001 <= income <= 200000:\n",
    "            return 'C'\n",
    "        elif 200001 <= income <= 1000000:\n",
    "            return 'B'\n",
    "        elif income >= 1000001:\n",
    "            return 'A'\n",
    "    except:\n",
    "        pass"
   ]
  },
  {
   "cell_type": "code",
   "execution_count": 19,
   "id": "0980ada1",
   "metadata": {
    "deletable": false,
    "id": "0980ada1"
   },
   "outputs": [],
   "source": [
    "data['total_income_category'] = data['total_income'].apply(categorize_income)"
   ]
  },
  {
   "cell_type": "markdown",
   "id": "9917bba0",
   "metadata": {
    "deletable": false,
    "editable": false,
    "id": "9917bba0"
   },
   "source": [
    "**Задание 17. Выведите на экран перечень уникальных целей взятия кредита из столбца `purpose`.**"
   ]
  },
  {
   "cell_type": "code",
   "execution_count": 20,
   "id": "ee07b65e",
   "metadata": {
    "deletable": false,
    "id": "ee07b65e",
    "outputId": "673c12d9-7d7e-4ae0-9812-c622c89dd244"
   },
   "outputs": [
    {
     "data": {
      "text/plain": [
       "array(['покупка жилья', 'приобретение автомобиля',\n",
       "       'дополнительное образование', 'сыграть свадьбу',\n",
       "       'операции с жильем', 'образование', 'на проведение свадьбы',\n",
       "       'покупка жилья для семьи', 'покупка недвижимости',\n",
       "       'покупка коммерческой недвижимости', 'покупка жилой недвижимости',\n",
       "       'строительство собственной недвижимости', 'недвижимость',\n",
       "       'строительство недвижимости', 'на покупку подержанного автомобиля',\n",
       "       'на покупку своего автомобиля',\n",
       "       'операции с коммерческой недвижимостью',\n",
       "       'строительство жилой недвижимости', 'жилье',\n",
       "       'операции со своей недвижимостью', 'автомобили',\n",
       "       'заняться образованием', 'сделка с подержанным автомобилем',\n",
       "       'получение образования', 'автомобиль', 'свадьба',\n",
       "       'получение дополнительного образования', 'покупка своего жилья',\n",
       "       'операции с недвижимостью', 'получение высшего образования',\n",
       "       'свой автомобиль', 'сделка с автомобилем',\n",
       "       'профильное образование', 'высшее образование',\n",
       "       'покупка жилья для сдачи', 'на покупку автомобиля', 'ремонт жилью',\n",
       "       'заняться высшим образованием'], dtype=object)"
      ]
     },
     "execution_count": 20,
     "metadata": {},
     "output_type": "execute_result"
    }
   ],
   "source": [
    "data['purpose'].unique()"
   ]
  },
  {
   "cell_type": "markdown",
   "id": "52b79d56",
   "metadata": {
    "deletable": false,
    "editable": false,
    "id": "52b79d56"
   },
   "source": [
    "**Задание 18. Создайте функцию, которая на основании данных из столбца `purpose` сформирует новый столбец `purpose_category`, в который войдут следующие категории:**\n",
    "\n",
    "- `'операции с автомобилем'`,\n",
    "- `'операции с недвижимостью'`,\n",
    "- `'проведение свадьбы'`,\n",
    "- `'получение образования'`.\n",
    "\n",
    "**Например, если в столбце `purpose` находится подстрока `'на покупку автомобиля'`, то в столбце `purpose_category` должна появиться строка `'операции с автомобилем'`.**\n",
    "\n",
    "**Используйте собственную функцию с именем `categorize_purpose()` и метод `apply()`. Изучите данные в столбце `purpose` и определите, какие подстроки помогут вам правильно определить категорию.**"
   ]
  },
  {
   "cell_type": "code",
   "execution_count": 21,
   "id": "be41da5d",
   "metadata": {
    "deletable": false,
    "id": "be41da5d"
   },
   "outputs": [],
   "source": [
    "def categorize_purpose(row):\n",
    "    try:\n",
    "        if 'автом' in row:\n",
    "            return 'операции с автомобилем'\n",
    "        elif 'жил' in row or 'недвиж' in row:\n",
    "            return 'операции с недвижимостью'\n",
    "        elif 'свад' in row:\n",
    "            return 'проведение свадьбы'\n",
    "        elif 'образов' in row:\n",
    "            return 'получение образования'\n",
    "    except:\n",
    "        return 'нет категории'"
   ]
  },
  {
   "cell_type": "code",
   "execution_count": 22,
   "id": "94c4a19a",
   "metadata": {
    "deletable": false,
    "id": "94c4a19a"
   },
   "outputs": [],
   "source": [
    "data['purpose_category'] = data['purpose'].apply(categorize_purpose)"
   ]
  },
  {
   "cell_type": "markdown",
   "id": "3d596c34",
   "metadata": {
    "deletable": false,
    "editable": false,
    "id": "3d596c34"
   },
   "source": [
    "### Шаг 3. Исследуйте данные и ответьте на вопросы"
   ]
  },
  {
   "cell_type": "markdown",
   "id": "648db036",
   "metadata": {
    "deletable": false,
    "editable": false,
    "id": "648db036"
   },
   "source": [
    "#### 3.1 Есть ли зависимость между количеством детей и возвратом кредита в срок?"
   ]
  },
  {
   "cell_type": "code",
   "execution_count": 23,
   "id": "7fcff25e",
   "metadata": {
    "deletable": false,
    "id": "7fcff25e"
   },
   "outputs": [],
   "source": [
    "# Ваш код будет здесь. Вы можете создавать новые ячейки."
   ]
  },
  {
   "cell_type": "code",
   "execution_count": 24,
   "id": "41f54b57",
   "metadata": {},
   "outputs": [
    {
     "data": {
      "text/plain": [
       "array([0, 1], dtype=int64)"
      ]
     },
     "execution_count": 24,
     "metadata": {},
     "output_type": "execute_result"
    }
   ],
   "source": [
    "# Проверяем данные в столбце задолженности\n",
    "data['debt'].unique()\n",
    "# ответ - 0, 1 (int) - все в порядке"
   ]
  },
  {
   "cell_type": "code",
   "execution_count": 25,
   "id": "c553c58b",
   "metadata": {},
   "outputs": [
    {
     "name": "stdout",
     "output_type": "stream",
     "text": [
      "8.046457607433217\n"
     ]
    }
   ],
   "source": [
    "# Выведем среднюю величину непогашенной вовремя задолженности в процентах\n",
    "print (data['debt'].sum()/21525 * 100)"
   ]
  },
  {
   "cell_type": "code",
   "execution_count": 26,
   "id": "5b53219e",
   "metadata": {},
   "outputs": [
    {
     "data": {
      "text/plain": [
       "children\n",
       "0    14091\n",
       "1     4808\n",
       "2     2052\n",
       "3      330\n",
       "4       41\n",
       "5        9\n",
       "Name: debt, dtype: int64"
      ]
     },
     "execution_count": 26,
     "metadata": {},
     "output_type": "execute_result"
    }
   ],
   "source": [
    "# Проверяем общее количество записей по каждому значению 'children'\n",
    "\n",
    "kids_count = data.groupby('children')['debt'].count()\n",
    "kids_count"
   ]
  },
  {
   "cell_type": "code",
   "execution_count": 27,
   "id": "17a4406e",
   "metadata": {},
   "outputs": [
    {
     "data": {
      "text/plain": [
       "1732"
      ]
     },
     "execution_count": 27,
     "metadata": {},
     "output_type": "execute_result"
    }
   ],
   "source": [
    "data['debt'].sum()"
   ]
  },
  {
   "cell_type": "code",
   "execution_count": 28,
   "id": "d39b4122",
   "metadata": {},
   "outputs": [
    {
     "data": {
      "text/plain": [
       "children\n",
       "0    0.075438\n",
       "1    0.092346\n",
       "2    0.094542\n",
       "3    0.081818\n",
       "4    0.097561\n",
       "5    0.000000\n",
       "Name: debt, dtype: float64"
      ]
     },
     "execution_count": 28,
     "metadata": {},
     "output_type": "execute_result"
    }
   ],
   "source": [
    "# Далее рассчитываем процент задержек на каждое количество детей\n",
    "kids_data = data.groupby('children')['debt'].sum() / data.groupby('children')['debt'].count()\n",
    "kids_stat = range(6)\n",
    "kids_data"
   ]
  },
  {
   "cell_type": "code",
   "execution_count": 29,
   "id": "f7369e58",
   "metadata": {},
   "outputs": [
    {
     "data": {
      "text/plain": [
       "[100.0,\n",
       " 122.41286472999688,\n",
       " 125.32361791905286,\n",
       " 108.45719661335842,\n",
       " 129.32565449831358,\n",
       " 0.0]"
      ]
     },
     "execution_count": 29,
     "metadata": {},
     "output_type": "execute_result"
    }
   ],
   "source": [
    "# И дополнительно посмотрим соотношение результатов относительно группы \"0 детей\", как самой большой \n",
    "# по чистенности и с наименьшим относительным количеством задержек по кредиту. Т.к. базовая величина для сравнения минимальна,\n",
    "# то на мой взгляд сравнивать удобно в величинах больше 100%\n",
    "# Результат для 5 детей отбрасываем, т.к. количество таких случаев крайне мало в датасете(0,0413%)\n",
    "\n",
    "ratio = []\n",
    "for i in range(len(kids_data)):\n",
    "    ratio.append(kids_data[i]/kids_data[0]*100)\n",
    "ratio"
   ]
  },
  {
   "cell_type": "code",
   "execution_count": 30,
   "id": "ccad5951",
   "metadata": {},
   "outputs": [
    {
     "data": {
      "text/html": [
       "<div>\n",
       "<style scoped>\n",
       "    .dataframe tbody tr th:only-of-type {\n",
       "        vertical-align: middle;\n",
       "    }\n",
       "\n",
       "    .dataframe tbody tr th {\n",
       "        vertical-align: top;\n",
       "    }\n",
       "\n",
       "    .dataframe thead th {\n",
       "        text-align: right;\n",
       "    }\n",
       "</style>\n",
       "<table border=\"1\" class=\"dataframe\">\n",
       "  <thead>\n",
       "    <tr style=\"text-align: right;\">\n",
       "      <th></th>\n",
       "      <th>parameter\\Число детей</th>\n",
       "      <th>0</th>\n",
       "      <th>1</th>\n",
       "      <th>2</th>\n",
       "      <th>3</th>\n",
       "      <th>4</th>\n",
       "      <th>5</th>\n",
       "    </tr>\n",
       "  </thead>\n",
       "  <tbody>\n",
       "    <tr>\n",
       "      <th>0</th>\n",
       "      <td>Количество</td>\n",
       "      <td>14091.00</td>\n",
       "      <td>4808.00</td>\n",
       "      <td>2052.00</td>\n",
       "      <td>330.00</td>\n",
       "      <td>41.00</td>\n",
       "      <td>9.0</td>\n",
       "    </tr>\n",
       "    <tr>\n",
       "      <th>1</th>\n",
       "      <td>% задержек</td>\n",
       "      <td>7.54</td>\n",
       "      <td>9.23</td>\n",
       "      <td>9.45</td>\n",
       "      <td>8.18</td>\n",
       "      <td>9.75</td>\n",
       "      <td>0.0</td>\n",
       "    </tr>\n",
       "    <tr>\n",
       "      <th>2</th>\n",
       "      <td>Сравнение, %</td>\n",
       "      <td>100.00</td>\n",
       "      <td>122.40</td>\n",
       "      <td>125.30</td>\n",
       "      <td>108.45</td>\n",
       "      <td>129.32</td>\n",
       "      <td>NaN</td>\n",
       "    </tr>\n",
       "  </tbody>\n",
       "</table>\n",
       "</div>"
      ],
      "text/plain": [
       "  parameter\\Число детей         0        1        2       3       4    5\n",
       "0            Количество  14091.00  4808.00  2052.00  330.00   41.00  9.0\n",
       "1            % задержек      7.54     9.23     9.45    8.18    9.75  0.0\n",
       "2          Сравнение, %    100.00   122.40   125.30  108.45  129.32  NaN"
      ]
     },
     "execution_count": 30,
     "metadata": {},
     "output_type": "execute_result"
    }
   ],
   "source": [
    "columns = ['parameter\\Число детей', 0, 1, 2, 3, 4, 5]\n",
    "dataframe1 = ['Количество', 14091, 4808, 2052, 330, 41, 9], ['% задержек', 7.54, 9.23, 9.45, 8.18, 9.75, 0], ['Сравнение, %',100, 122.4, 125.3, 108.45, 129.32]\n",
    "pd.DataFrame(data = dataframe1, columns = columns)\n",
    "\n"
   ]
  },
  {
   "cell_type": "markdown",
   "id": "949aec7b",
   "metadata": {},
   "source": [
    "<div class=\"alert alert-warning\">\n",
    "    \n",
    "**Артём:** 👉 Так лучше не делать. На случай изменения датасета, лучше работать с переменными.\n",
    "\n",
    "</div>"
   ]
  },
  {
   "cell_type": "code",
   "execution_count": 31,
   "id": "f97545d5",
   "metadata": {
    "scrolled": true
   },
   "outputs": [
    {
     "data": {
      "text/html": [
       "<div>\n",
       "<style scoped>\n",
       "    .dataframe tbody tr th:only-of-type {\n",
       "        vertical-align: middle;\n",
       "    }\n",
       "\n",
       "    .dataframe tbody tr th {\n",
       "        vertical-align: top;\n",
       "    }\n",
       "\n",
       "    .dataframe thead tr th {\n",
       "        text-align: left;\n",
       "    }\n",
       "\n",
       "    .dataframe thead tr:last-of-type th {\n",
       "        text-align: right;\n",
       "    }\n",
       "</style>\n",
       "<table border=\"1\" class=\"dataframe\">\n",
       "  <thead>\n",
       "    <tr>\n",
       "      <th></th>\n",
       "      <th>sum</th>\n",
       "      <th>count</th>\n",
       "      <th>% задержек</th>\n",
       "      <th>Сравнение, %</th>\n",
       "    </tr>\n",
       "    <tr>\n",
       "      <th></th>\n",
       "      <th>debt</th>\n",
       "      <th>debt</th>\n",
       "      <th></th>\n",
       "      <th></th>\n",
       "    </tr>\n",
       "    <tr>\n",
       "      <th>children</th>\n",
       "      <th></th>\n",
       "      <th></th>\n",
       "      <th></th>\n",
       "      <th></th>\n",
       "    </tr>\n",
       "  </thead>\n",
       "  <tbody>\n",
       "    <tr>\n",
       "      <th>0</th>\n",
       "      <td>1063</td>\n",
       "      <td>14091</td>\n",
       "      <td>7.543822</td>\n",
       "      <td>100.000000</td>\n",
       "    </tr>\n",
       "    <tr>\n",
       "      <th>1</th>\n",
       "      <td>444</td>\n",
       "      <td>4808</td>\n",
       "      <td>9.234609</td>\n",
       "      <td>122.412865</td>\n",
       "    </tr>\n",
       "    <tr>\n",
       "      <th>2</th>\n",
       "      <td>194</td>\n",
       "      <td>2052</td>\n",
       "      <td>9.454191</td>\n",
       "      <td>125.323618</td>\n",
       "    </tr>\n",
       "    <tr>\n",
       "      <th>3</th>\n",
       "      <td>27</td>\n",
       "      <td>330</td>\n",
       "      <td>8.181818</td>\n",
       "      <td>108.457197</td>\n",
       "    </tr>\n",
       "    <tr>\n",
       "      <th>4</th>\n",
       "      <td>4</td>\n",
       "      <td>41</td>\n",
       "      <td>9.756098</td>\n",
       "      <td>129.325654</td>\n",
       "    </tr>\n",
       "    <tr>\n",
       "      <th>5</th>\n",
       "      <td>0</td>\n",
       "      <td>9</td>\n",
       "      <td>0.000000</td>\n",
       "      <td>0.000000</td>\n",
       "    </tr>\n",
       "  </tbody>\n",
       "</table>\n",
       "</div>"
      ],
      "text/plain": [
       "           sum  count % задержек Сравнение, %\n",
       "          debt   debt                        \n",
       "children                                     \n",
       "0         1063  14091   7.543822   100.000000\n",
       "1          444   4808   9.234609   122.412865\n",
       "2          194   2052   9.454191   125.323618\n",
       "3           27    330   8.181818   108.457197\n",
       "4            4     41   9.756098   129.325654\n",
       "5            0      9   0.000000     0.000000"
      ]
     },
     "execution_count": 31,
     "metadata": {},
     "output_type": "execute_result"
    }
   ],
   "source": [
    "# Повторил таблицу через pivot_table. Для меня для красоты оформления остались следующие вопросы:\n",
    "# 1. как округлить вывод думя знаками и сразу прицепить знак \"%\"\n",
    "# 2. Как поменять название столбцов в выводе?\n",
    "\n",
    "data_pivot = data.pivot_table(index=['children'], values = 'debt',aggfunc=['sum', 'count'])\n",
    "data_pivot['% задержек'] = data_pivot['sum'] / data_pivot['count'] * 100\n",
    "data_pivot['Сравнение, %'] = data_pivot['% задержек'] / data_pivot['% задержек'][0]*100\n",
    "data_pivot"
   ]
  },
  {
   "cell_type": "code",
   "execution_count": 32,
   "id": "429b82af",
   "metadata": {},
   "outputs": [
    {
     "data": {
      "text/html": [
       "<div>\n",
       "<style scoped>\n",
       "    .dataframe tbody tr th:only-of-type {\n",
       "        vertical-align: middle;\n",
       "    }\n",
       "\n",
       "    .dataframe tbody tr th {\n",
       "        vertical-align: top;\n",
       "    }\n",
       "\n",
       "    .dataframe thead th {\n",
       "        text-align: right;\n",
       "    }\n",
       "</style>\n",
       "<table border=\"1\" class=\"dataframe\">\n",
       "  <thead>\n",
       "    <tr style=\"text-align: right;\">\n",
       "      <th>family_status</th>\n",
       "      <th>Не женат / не замужем</th>\n",
       "      <th>в разводе</th>\n",
       "      <th>вдовец / вдова</th>\n",
       "      <th>гражданский брак</th>\n",
       "      <th>женат / замужем</th>\n",
       "    </tr>\n",
       "    <tr>\n",
       "      <th>children</th>\n",
       "      <th></th>\n",
       "      <th></th>\n",
       "      <th></th>\n",
       "      <th></th>\n",
       "      <th></th>\n",
       "    </tr>\n",
       "  </thead>\n",
       "  <tbody>\n",
       "    <tr>\n",
       "      <th>0</th>\n",
       "      <td>9.283820</td>\n",
       "      <td>7.015306</td>\n",
       "      <td>6.257379</td>\n",
       "      <td>8.388278</td>\n",
       "      <td>6.909480</td>\n",
       "    </tr>\n",
       "    <tr>\n",
       "      <th>1</th>\n",
       "      <td>11.581292</td>\n",
       "      <td>6.730769</td>\n",
       "      <td>9.090909</td>\n",
       "      <td>11.859296</td>\n",
       "      <td>8.268908</td>\n",
       "    </tr>\n",
       "    <tr>\n",
       "      <th>2</th>\n",
       "      <td>12.000000</td>\n",
       "      <td>8.641975</td>\n",
       "      <td>15.000000</td>\n",
       "      <td>8.746356</td>\n",
       "      <td>9.458578</td>\n",
       "    </tr>\n",
       "    <tr>\n",
       "      <th>3</th>\n",
       "      <td>12.500000</td>\n",
       "      <td>9.090909</td>\n",
       "      <td>0.000000</td>\n",
       "      <td>14.285714</td>\n",
       "      <td>6.827309</td>\n",
       "    </tr>\n",
       "    <tr>\n",
       "      <th>4</th>\n",
       "      <td>50.000000</td>\n",
       "      <td>0.000000</td>\n",
       "      <td>0.000000</td>\n",
       "      <td>0.000000</td>\n",
       "      <td>10.344828</td>\n",
       "    </tr>\n",
       "    <tr>\n",
       "      <th>5</th>\n",
       "      <td>NaN</td>\n",
       "      <td>NaN</td>\n",
       "      <td>NaN</td>\n",
       "      <td>0.000000</td>\n",
       "      <td>0.000000</td>\n",
       "    </tr>\n",
       "  </tbody>\n",
       "</table>\n",
       "</div>"
      ],
      "text/plain": [
       "family_status  Не женат / не замужем  в разводе  вдовец / вдова  \\\n",
       "children                                                          \n",
       "0                           9.283820   7.015306        6.257379   \n",
       "1                          11.581292   6.730769        9.090909   \n",
       "2                          12.000000   8.641975       15.000000   \n",
       "3                          12.500000   9.090909        0.000000   \n",
       "4                          50.000000   0.000000        0.000000   \n",
       "5                                NaN        NaN             NaN   \n",
       "\n",
       "family_status  гражданский брак  женат / замужем  \n",
       "children                                          \n",
       "0                      8.388278         6.909480  \n",
       "1                     11.859296         8.268908  \n",
       "2                      8.746356         9.458578  \n",
       "3                     14.285714         6.827309  \n",
       "4                      0.000000        10.344828  \n",
       "5                      0.000000         0.000000  "
      ]
     },
     "execution_count": 32,
     "metadata": {},
     "output_type": "execute_result"
    }
   ],
   "source": [
    "data_pivot1 = data.pivot_table(index=['children'], columns='family_status', values = 'debt',aggfunc=['count', 'sum'])\n",
    "data_pivot1 = data_pivot1['sum'] / data_pivot1['count'] * 100\n",
    "data_pivot1"
   ]
  },
  {
   "cell_type": "code",
   "execution_count": 33,
   "id": "c5bbbeca",
   "metadata": {},
   "outputs": [
    {
     "data": {
      "image/png": "[encoded data removed]",
      "text/plain": [
       "<Figure size 640x480 with 2 Axes>"
      ]
     },
     "metadata": {},
     "output_type": "display_data"
    }
   ],
   "source": [
    "import seaborn\n",
    "seaborn.heatmap(data_pivot1, xticklabels='family_status', yticklabels='children', annot=True, \n",
    "                vmin=6.2, vmax=15, center= 8, cmap='RdYlGn');"
   ]
  },
  {
   "cell_type": "markdown",
   "id": "2eb9088e",
   "metadata": {
    "deletable": false,
    "id": "2eb9088e"
   },
   "source": [
    "#### **Вывод:** \n",
    "Заемщики без детей показывают самый низкий процент задержки выплат. Наличие детей увеличивает вероятность задержки выплаты в среднем на 20%.\n",
    "Данные для заемщиков с 4-5 детьми не стоит учитывать из-за очень малого объема данных."
   ]
  },
  {
   "cell_type": "markdown",
   "id": "74c9b3a7",
   "metadata": {
    "deletable": false,
    "editable": false,
    "id": "74c9b3a7"
   },
   "source": [
    "#### 3.2 Есть ли зависимость между семейным положением и возвратом кредита в срок?"
   ]
  },
  {
   "cell_type": "code",
   "execution_count": 34,
   "id": "8098ab3b",
   "metadata": {
    "deletable": false,
    "id": "8098ab3b"
   },
   "outputs": [
    {
     "data": {
      "text/plain": [
       "family_status\n",
       "Не женат / не замужем     2796\n",
       "в разводе                 1189\n",
       "вдовец / вдова             951\n",
       "гражданский брак          4134\n",
       "женат / замужем          12261\n",
       "Name: debt, dtype: int64"
      ]
     },
     "execution_count": 34,
     "metadata": {},
     "output_type": "execute_result"
    }
   ],
   "source": [
    "# Проверяем общее количество записей по каждому значению 'family_status'\n",
    "family_count = data.groupby('family_status')['debt'].count()\n",
    "family_count"
   ]
  },
  {
   "cell_type": "code",
   "execution_count": 35,
   "id": "83c9da1e",
   "metadata": {},
   "outputs": [
    {
     "data": {
      "text/plain": [
       "family_status\n",
       "Не женат / не замужем    0.097639\n",
       "в разводе                0.070648\n",
       "вдовец / вдова           0.066246\n",
       "гражданский брак         0.093130\n",
       "женат / замужем          0.075606\n",
       "Name: debt, dtype: float64"
      ]
     },
     "execution_count": 35,
     "metadata": {},
     "output_type": "execute_result"
    }
   ],
   "source": [
    "# Далее рассчитываем процент задержек на каждый тип семейного положения, создаем список Семейных положений\n",
    "family_data = data.groupby('family_status')['debt'].sum() / data.groupby('family_status')['debt'].count()\n",
    "family_stat = data['family_status'].sort_values().unique()\n",
    "family_data"
   ]
  },
  {
   "cell_type": "code",
   "execution_count": 36,
   "id": "3c450166",
   "metadata": {},
   "outputs": [],
   "source": [
    "# И дополнительно сравним результаты относительно группы \"женат / замужемй\", как самой большой \n",
    "# по чистенности. \n",
    "# Т.к. базовая величина для сравнения не является максимальной или минимальной, то для сравнения здесь удобно применить формулу (1-a/b)\n",
    "ratio_f = []\n",
    "for i in range(len(family_data)):\n",
    "    ratio_f.append((family_data[i] - family_data[4] )* 100 / family_data[4])"
   ]
  },
  {
   "cell_type": "code",
   "execution_count": 37,
   "id": "28134d9c",
   "metadata": {},
   "outputs": [
    {
     "data": {
      "text/html": [
       "<div>\n",
       "<style scoped>\n",
       "    .dataframe tbody tr th:only-of-type {\n",
       "        vertical-align: middle;\n",
       "    }\n",
       "\n",
       "    .dataframe tbody tr th {\n",
       "        vertical-align: top;\n",
       "    }\n",
       "\n",
       "    .dataframe thead th {\n",
       "        text-align: right;\n",
       "    }\n",
       "</style>\n",
       "<table border=\"1\" class=\"dataframe\">\n",
       "  <thead>\n",
       "    <tr style=\"text-align: right;\">\n",
       "      <th></th>\n",
       "      <th>Статус</th>\n",
       "      <th>Количество</th>\n",
       "      <th>% задержек</th>\n",
       "      <th>Сравнение, %</th>\n",
       "    </tr>\n",
       "  </thead>\n",
       "  <tbody>\n",
       "    <tr>\n",
       "      <th>0</th>\n",
       "      <td>Не женат / не замужем</td>\n",
       "      <td>2796</td>\n",
       "      <td>9.763948</td>\n",
       "      <td>29.143228</td>\n",
       "    </tr>\n",
       "    <tr>\n",
       "      <th>1</th>\n",
       "      <td>в разводе</td>\n",
       "      <td>1189</td>\n",
       "      <td>7.064760</td>\n",
       "      <td>-6.557685</td>\n",
       "    </tr>\n",
       "    <tr>\n",
       "      <th>2</th>\n",
       "      <td>вдовец / вдова</td>\n",
       "      <td>951</td>\n",
       "      <td>6.624606</td>\n",
       "      <td>-12.379406</td>\n",
       "    </tr>\n",
       "    <tr>\n",
       "      <th>3</th>\n",
       "      <td>гражданский брак</td>\n",
       "      <td>4134</td>\n",
       "      <td>9.313014</td>\n",
       "      <td>23.178927</td>\n",
       "    </tr>\n",
       "    <tr>\n",
       "      <th>4</th>\n",
       "      <td>женат / замужем</td>\n",
       "      <td>12261</td>\n",
       "      <td>7.560558</td>\n",
       "      <td>0.000000</td>\n",
       "    </tr>\n",
       "  </tbody>\n",
       "</table>\n",
       "</div>"
      ],
      "text/plain": [
       "                  Статус  Количество  % задержек  Сравнение, %\n",
       "0  Не женат / не замужем        2796    9.763948     29.143228\n",
       "1              в разводе        1189    7.064760     -6.557685\n",
       "2         вдовец / вдова         951    6.624606    -12.379406\n",
       "3       гражданский брак        4134    9.313014     23.178927\n",
       "4        женат / замужем       12261    7.560558      0.000000"
      ]
     },
     "execution_count": 37,
     "metadata": {},
     "output_type": "execute_result"
    }
   ],
   "source": [
    "# Заполнение dataframe автоматически через индексы посчитанных величин\n",
    "dataframe2 = []\n",
    "columns = ['Статус', 'Количество', '% задержек', 'Сравнение, %']\n",
    "for e in range(len(family_data)):\n",
    "    dataframe2.append([family_stat[e], family_count[e], family_data[e]*100, ratio_f[e]])\n",
    "pd.DataFrame(data = dataframe2, columns = columns)\n",
    "\n",
    "# Такая ориентация таблицы мне видится более удачной, чем в главе о количестве детей. Осталось округлить значения."
   ]
  },
  {
   "cell_type": "markdown",
   "id": "c389ca63",
   "metadata": {
    "deletable": false,
    "id": "c389ca63"
   },
   "source": [
    "**Вывод:** \n",
    "Семейное положение явно влияет на возврат кредита в срок. \n",
    "\n",
    "Якорная часть выборки - семейные люди, вероятно еще без детей, судя по предыдущему исследованию. Процент невозврата минимальный среди всех. Данная категория мною выбрана как  база для сравнения.\n",
    "\n",
    "Люди, не вступившие в официальный брак чаще других не возвращаю кредиты во время, скорее всего это связано с маленьким жизненным опытом - недооценка своих возможностей по возвращению кредита. К этой категории я причисляю и гражданский брак в виду отсутствия официального оформления отношений. По сравнению с семейными людьми они задерживают платежи на 23-29% чаще.\n",
    "\n",
    "Умудренные опытом люди после брака наиболее ответственно подходят к получению и выплате кредита - процент задержек минимальный. Такая группа людей наименее рисковая для банка\n"
   ]
  },
  {
   "cell_type": "markdown",
   "id": "9529de68",
   "metadata": {
    "deletable": false,
    "editable": false,
    "id": "9529de68"
   },
   "source": [
    "#### 3.3 Есть ли зависимость между уровнем дохода и возвратом кредита в срок?"
   ]
  },
  {
   "cell_type": "code",
   "execution_count": 38,
   "id": "8787f44a",
   "metadata": {
    "deletable": false,
    "id": "8787f44a"
   },
   "outputs": [
    {
     "data": {
      "text/plain": [
       "total_income_category\n",
       "A       25\n",
       "B     5014\n",
       "C    15921\n",
       "D      349\n",
       "E       22\n",
       "Name: debt, dtype: int64"
      ]
     },
     "execution_count": 38,
     "metadata": {},
     "output_type": "execute_result"
    }
   ],
   "source": [
    "# Проверяем общее количество записей по каждой категории уровня дохода\n",
    "income_count = data.groupby('total_income_category')['debt'].count()\n",
    "income_count"
   ]
  },
  {
   "cell_type": "code",
   "execution_count": 39,
   "id": "165bd93e",
   "metadata": {},
   "outputs": [
    {
     "data": {
      "text/plain": [
       "total_income_category\n",
       "A    0.080000\n",
       "B    0.070602\n",
       "C    0.084982\n",
       "D    0.060172\n",
       "E    0.090909\n",
       "Name: debt, dtype: float64"
      ]
     },
     "execution_count": 39,
     "metadata": {},
     "output_type": "execute_result"
    }
   ],
   "source": [
    "# Далее рассчитываем процент задержек по каждой категории дохода.\n",
    "data_income = data.groupby('total_income_category')['debt'].sum() / data.groupby('total_income_category')['debt'].count()\n",
    "data_income"
   ]
  },
  {
   "cell_type": "markdown",
   "id": "6dd14b57",
   "metadata": {
    "deletable": false,
    "id": "6dd14b57"
   },
   "source": [
    "**Вывод:** \n",
    "В указанных категориях проблематично провести анализ, т.к. 2 из 5 групп суммарно охватываюь 99.5% записей. Кроме того результаты по категориям идут волнами, без какого-либо тренда.\n",
    "Основываясь на двух категориях, можно сказать, что  заемщики с высоким доходом реже задерживают выплату кредита, чем заемщики со средним доходом. \n",
    "\n",
    "Делать выводы по группам A, D, E нельзя ввиду крайне малого количества статистических данных."
   ]
  },
  {
   "cell_type": "markdown",
   "id": "b030954f",
   "metadata": {},
   "source": [
    "<div class=\"alert alert-info\">\n",
    "\n",
    "<b>✍️</b> Как лучше проводить категоризацию количественных данных.\n",
    "    \n",
    "Сейчас самая маленькая категория в 728 раз меньше самой большой. Это может отразиться на результатах исследования. Когда мы делим на категории количественные данные, то лучше их делать примерно одинаковыми. Для этого можно воспользоваться методом `qcut()`. Пример:\n",
    "    \n",
    "```py\n",
    "pd.qcut(df['total_income'], 4)\n",
    "```\n",
    "    \n",
    "```\n",
    "Name: total_income, Length: 21453, dtype: category\n",
    "Categories (4, interval[float64]): [(20666.999, 107620.0]  (107620.0, 142594.0]  (142594.0, 195818.0]  (195818.0, 2265604.0]]\n",
    "```\n",
    "                                                                                                               \n",
    "Что внутри: \n",
    "    \n",
    "```py\n",
    "pd.qcut(датафрейм['столбец'], количество_категорий)\n",
    "``` \n",
    "    \n",
    "Итого у нас 4 категории:\n",
    "<ul>\n",
    "  <li>меньше 107_620</li>\n",
    "  <li>от 107_620 до 142_594</li>\n",
    "  <li>от 142_594 до 195_818</li>\n",
    "  <li>от 195_818</li>\n",
    "</ul>\n",
    "    \n",
    "---\n",
    "Дополнительно:<br>\n",
    "<a href=\"https://pandas.pydata.org/pandas-docs/stable/reference/api/pandas.qcut.html\"\n",
    "   target=\"_blank\">\n",
    "  📖 Официальная документация.\n",
    "</a><br>\n",
    "<a href=\"https://dfedorov.spb.ru/pandas/Разделение%20данных%20в%20Pandas%20с%20помощью%20qcut%20и%20cut.html?\"\n",
    "   target=\"_blank\">\n",
    "  📖 Статья на русском.\n",
    "</a>\n",
    "</div>"
   ]
  },
  {
   "cell_type": "markdown",
   "id": "1dcc9b12",
   "metadata": {
    "deletable": false,
    "editable": false,
    "id": "1dcc9b12"
   },
   "source": [
    "#### 3.4 Как разные цели кредита влияют на его возврат в срок?"
   ]
  },
  {
   "cell_type": "code",
   "execution_count": 40,
   "id": "c602bc8b",
   "metadata": {
    "deletable": false,
    "id": "c602bc8b"
   },
   "outputs": [
    {
     "data": {
      "text/plain": [
       "purpose_category\n",
       "операции с автомобилем       4279\n",
       "операции с недвижимостью    10751\n",
       "получение образования        3988\n",
       "проведение свадьбы           2313\n",
       "Name: debt, dtype: int64"
      ]
     },
     "execution_count": 40,
     "metadata": {},
     "output_type": "execute_result"
    }
   ],
   "source": [
    "# Проверяем общее количество записей по каждой категории цели кредита\n",
    "purpose_count = data.groupby('purpose_category')['debt'].count()\n",
    "purpose_count"
   ]
  },
  {
   "cell_type": "code",
   "execution_count": 41,
   "id": "529600a8",
   "metadata": {},
   "outputs": [
    {
     "data": {
      "text/plain": [
       "purpose_category\n",
       "операции с автомобилем      0.093480\n",
       "операции с недвижимостью    0.072551\n",
       "получение образования       0.092528\n",
       "проведение свадьбы          0.079118\n",
       "Name: debt, dtype: float64"
      ]
     },
     "execution_count": 41,
     "metadata": {},
     "output_type": "execute_result"
    }
   ],
   "source": [
    "## Далее рассчитываем процент задержек по каждой категории целей кредита.\n",
    "data_purpose = data.groupby('purpose_category')['debt'].sum() / data.groupby('purpose_category')['debt'].count()\n",
    "data_purpose"
   ]
  },
  {
   "cell_type": "markdown",
   "id": "cf05ed63",
   "metadata": {
    "deletable": false,
    "id": "cf05ed63"
   },
   "source": [
    "**Вывод:** \n",
    "Все 4 категории представлены большим числом записей и результаты могут четко использоваться банком как статистические для определения ставки кредита.\n",
    "\n",
    "Ипотека - самый серьезный вид кредита - к этому виду кредита относятся наиболее основательно, поэтому процент задержек минимальный среди остальных.\n",
    "\n",
    "Кредитный автомобиль - это роскошь, актив, который падает в цене и требует постоянных расходов, поэтому полагаю по данной категории проблемы с задержками выше остальных.\n",
    "\n",
    "Образование - скорее всего высокий процент связан с необходимостью получения новых знаний для увеличвения дохода, но не всегда получается применить эти знания. Обучение - процесс длительный.\n",
    "\n",
    "Свадьбы в этой выборке соответствуют примерно среднему уровню задержек. Невысокий доход молодых семей может компенсироваться подарками, что позволяет быть этой категории в середине по проценту задержек."
   ]
  },
  {
   "cell_type": "markdown",
   "id": "46c1f10b",
   "metadata": {
    "deletable": false,
    "editable": false,
    "id": "46c1f10b"
   },
   "source": [
    "#### 3.5 Приведите возможные причины появления пропусков в исходных данных."
   ]
  },
  {
   "cell_type": "markdown",
   "id": "3697d2a9",
   "metadata": {
    "deletable": false,
    "id": "3697d2a9"
   },
   "source": [
    "*Ответ:* \n",
    "При сопоставлении только цифр по пропущенным данным я могу сделать следующий вывод:\n",
    "т.к. пропуски в стаже и в доходе совпадают, то, вероятно,\n",
    "- системная ошибка в передаче данных о трудовой деятельности\n",
    "- заемщик работает \"в серую\", т.е. не может официально подтвердить свои доходы и стаж. Но тогда банк вряд ли выдал кредит.\n",
    "- можно предположить, что заемщик действительно не имеет трудового стажа и дохода, но тогда бы на месте банка я бы не стал сотрудничать с таким клиентом.\n",
    "\n",
    "Поэтому я считаю, что это системная ошибка, возможно, все эти кредиты были выдани либо одним человеком, либо в одном отделении банка, либо при обработке данных что-то изменилось (версия ПО), вследствие чего часть данных потерялась."
   ]
  },
  {
   "cell_type": "markdown",
   "id": "3137d257",
   "metadata": {
    "deletable": false,
    "editable": false,
    "id": "3137d257"
   },
   "source": [
    "#### 3.6 Объясните, почему заполнить пропуски медианным значением — лучшее решение для количественных переменных."
   ]
  },
  {
   "cell_type": "markdown",
   "id": "cf40012a",
   "metadata": {
    "deletable": false,
    "id": "cf40012a"
   },
   "source": [
    "*Ответ:* Медианное значение не чувствительно к аномальным данным, которые могут попасть в датасет, таким образом мы добавим данные среднего объекта анализа, а не средние данные всех объектов, которые уже зависят от аномалий."
   ]
  },
  {
   "cell_type": "markdown",
   "id": "57bc304e",
   "metadata": {
    "deletable": false,
    "editable": false,
    "id": "57bc304e"
   },
   "source": [
    "### Шаг 4: общий вывод."
   ]
  },
  {
   "cell_type": "markdown",
   "id": "1ab75d1c",
   "metadata": {
    "deletable": false,
    "id": "1ab75d1c"
   },
   "source": []
  },
  {
   "attachments": {
    "image-2.png": {
     "image/png": "[encoded data removed]"
    },
    "image-3.png": {
     "image/png": "[encoded data removed]"
    }
   },
   "cell_type": "markdown",
   "id": "3c17afe4",
   "metadata": {},
   "source": [
    "### Постановка задачи\n",
    "Разобраться, влияет ли семейное положение и количество детей клиента на факт погашения кредита в срок. \n",
    "### Общие выводы\n",
    "- Средний процент задержек по кредиту в датасете - **8,05%**\n",
    "- В 10% датасета отсутствуют одновременно данные по стажу и доходу. Эта ошибка носит системный характер - создателю датасета необходимо найти причину такой ошибки.\n",
    "### Выводы по задаче\n",
    "#### Влияние количества детей\n",
    "![image-2.png](attachment:image-2.png)\n",
    "\n",
    "- Заемщики без детей показывают самый низкий процент задержки выплат - **7.54%**. \n",
    "- Наличие детей увеличивает вероятность задержки выплаты до **9.45%**, что более чем на 20% больше, чем у группы без детей. \n",
    "- Данные для заемщиков с 4-5 детьми не стоит учитывать из-за очень малого объема данных в этих группах.\n",
    "\n",
    "#### Влияние семейного положения\n",
    "![image-3.png](attachment:image-3.png)\n",
    "\n",
    "Семейное положение явно влияет на возврат кредита в срок.\n",
    "\n",
    "- Якорная часть выборки - семейные люди, вероятно еще без детей, судя по предыдущему исследованию. Процент невозврата **7.56%**, что ниже среднего по выборке. Данная категория мною выбрана как база для сравнения.\n",
    "\n",
    "- Люди, не вступившие в официальный брак чаще других - **9.76%** - не возвращаю кредиты во время, скорее всего это связано с маленьким жизненным опытом - недооценка своих возможностей по возвращению кредита. К этой категории я причисляю и гражданский брак  - **9.31%** -  в виду отсутствия официального оформления отношений. По сравнению с семейными людьми они задерживают платежи на 23-29% чаще.\n",
    "\n",
    "- Умудренные опытом люди после брака наиболее ответственно подходят к получению и выплате кредита - процент задержек минимальный: **6,62%** у вдовцов и **7,06%** у разведенных. Такая группа людей наименее рисковая для банка\n",
    "\n",
    "\n"
   ]
  },
  {
   "cell_type": "code",
   "execution_count": null,
   "id": "cc874e8b",
   "metadata": {},
   "outputs": [],
   "source": []
  }
 ],
 "metadata": {
  "ExecuteTimeLog": [
   {
    "duration": 44,
    "start_time": "2023-02-01T20:03:23.953Z"
   },
   {
    "duration": 531,
    "start_time": "2023-02-01T20:03:34.003Z"
   },
   {
    "duration": 36,
    "start_time": "2023-02-01T20:03:34.537Z"
   },
   {
    "duration": 34,
    "start_time": "2023-02-01T20:03:34.575Z"
   },
   {
    "duration": 12,
    "start_time": "2023-02-01T20:03:34.611Z"
   },
   {
    "duration": 44,
    "start_time": "2023-02-01T20:03:34.624Z"
   },
   {
    "duration": 3,
    "start_time": "2023-02-01T20:03:34.669Z"
   },
   {
    "duration": 16,
    "start_time": "2023-02-01T20:03:34.674Z"
   },
   {
    "duration": 5,
    "start_time": "2023-02-01T20:03:34.691Z"
   },
   {
    "duration": 32,
    "start_time": "2023-02-01T20:03:34.697Z"
   },
   {
    "duration": 15,
    "start_time": "2023-02-01T20:03:34.731Z"
   },
   {
    "duration": 34,
    "start_time": "2023-02-01T20:03:34.748Z"
   },
   {
    "duration": 8,
    "start_time": "2023-02-01T20:03:34.784Z"
   },
   {
    "duration": 20,
    "start_time": "2023-02-01T20:03:34.794Z"
   },
   {
    "duration": 40,
    "start_time": "2023-02-01T20:03:34.816Z"
   },
   {
    "duration": 66,
    "start_time": "2023-02-01T20:03:34.858Z"
   },
   {
    "duration": 47,
    "start_time": "2023-02-01T20:03:34.925Z"
   },
   {
    "duration": 43,
    "start_time": "2023-02-01T20:03:34.973Z"
   },
   {
    "duration": 43,
    "start_time": "2023-02-01T20:03:35.018Z"
   },
   {
    "duration": 55,
    "start_time": "2023-02-01T20:03:35.062Z"
   },
   {
    "duration": 30,
    "start_time": "2023-02-01T20:03:35.119Z"
   },
   {
    "duration": 41,
    "start_time": "2023-02-01T20:03:35.151Z"
   },
   {
    "duration": 63,
    "start_time": "2023-02-01T20:03:35.193Z"
   },
   {
    "duration": 56,
    "start_time": "2023-02-01T20:03:35.258Z"
   },
   {
    "duration": 35,
    "start_time": "2023-02-01T20:03:35.316Z"
   },
   {
    "duration": 29,
    "start_time": "2023-02-01T20:03:35.353Z"
   },
   {
    "duration": 2,
    "start_time": "2023-02-01T20:03:46.792Z"
   },
   {
    "duration": 5,
    "start_time": "2023-02-01T20:04:24.796Z"
   },
   {
    "duration": 4,
    "start_time": "2023-02-01T20:05:58.563Z"
   },
   {
    "duration": 68,
    "start_time": "2023-02-01T20:17:36.357Z"
   },
   {
    "duration": 25,
    "start_time": "2023-02-01T20:19:18.113Z"
   },
   {
    "duration": 24,
    "start_time": "2023-02-01T20:21:46.213Z"
   },
   {
    "duration": 41,
    "start_time": "2023-02-01T20:21:56.717Z"
   },
   {
    "duration": 45,
    "start_time": "2023-02-01T20:24:21.927Z"
   },
   {
    "duration": 36,
    "start_time": "2023-02-01T20:24:45.574Z"
   },
   {
    "duration": 41,
    "start_time": "2023-02-01T20:24:59.714Z"
   },
   {
    "duration": 55,
    "start_time": "2023-02-01T20:26:57.230Z"
   },
   {
    "duration": 350,
    "start_time": "2023-02-01T20:27:50.437Z"
   },
   {
    "duration": 51,
    "start_time": "2023-02-01T20:28:24.727Z"
   },
   {
    "duration": 24,
    "start_time": "2023-02-01T20:34:38.130Z"
   },
   {
    "duration": 358,
    "start_time": "2023-02-01T20:35:59.552Z"
   },
   {
    "duration": 357,
    "start_time": "2023-02-01T20:36:26.653Z"
   },
   {
    "duration": 62,
    "start_time": "2023-02-01T20:41:27.202Z"
   },
   {
    "duration": 55,
    "start_time": "2023-02-01T20:49:58.045Z"
   },
   {
    "duration": 55,
    "start_time": "2023-02-01T20:54:23.589Z"
   },
   {
    "duration": 47,
    "start_time": "2023-02-01T20:55:26.241Z"
   },
   {
    "duration": 48,
    "start_time": "2023-02-01T20:56:49.710Z"
   },
   {
    "duration": 62,
    "start_time": "2023-02-01T20:56:53.458Z"
   },
   {
    "duration": 15,
    "start_time": "2023-02-01T20:56:53.522Z"
   },
   {
    "duration": 14,
    "start_time": "2023-02-01T20:56:53.538Z"
   },
   {
    "duration": 13,
    "start_time": "2023-02-01T20:56:53.554Z"
   },
   {
    "duration": 50,
    "start_time": "2023-02-01T20:56:53.569Z"
   },
   {
    "duration": 4,
    "start_time": "2023-02-01T20:56:53.621Z"
   },
   {
    "duration": 13,
    "start_time": "2023-02-01T20:56:53.627Z"
   },
   {
    "duration": 6,
    "start_time": "2023-02-01T20:56:53.642Z"
   },
   {
    "duration": 10,
    "start_time": "2023-02-01T20:56:53.649Z"
   },
   {
    "duration": 5,
    "start_time": "2023-02-01T20:56:53.660Z"
   },
   {
    "duration": 46,
    "start_time": "2023-02-01T20:56:53.666Z"
   },
   {
    "duration": 8,
    "start_time": "2023-02-01T20:56:53.714Z"
   },
   {
    "duration": 6,
    "start_time": "2023-02-01T20:56:53.724Z"
   },
   {
    "duration": 15,
    "start_time": "2023-02-01T20:56:53.732Z"
   },
   {
    "duration": 21,
    "start_time": "2023-02-01T20:56:53.748Z"
   },
   {
    "duration": 39,
    "start_time": "2023-02-01T20:56:53.770Z"
   },
   {
    "duration": 4,
    "start_time": "2023-02-01T20:56:53.811Z"
   },
   {
    "duration": 11,
    "start_time": "2023-02-01T20:56:53.816Z"
   },
   {
    "duration": 14,
    "start_time": "2023-02-01T20:56:53.829Z"
   },
   {
    "duration": 4,
    "start_time": "2023-02-01T20:56:53.844Z"
   },
   {
    "duration": 12,
    "start_time": "2023-02-01T20:56:53.849Z"
   },
   {
    "duration": 2,
    "start_time": "2023-02-01T20:56:53.862Z"
   },
   {
    "duration": 14,
    "start_time": "2023-02-01T20:56:53.866Z"
   },
   {
    "duration": 63,
    "start_time": "2023-02-01T20:56:53.881Z"
   },
   {
    "duration": 3,
    "start_time": "2023-02-01T20:56:53.945Z"
   },
   {
    "duration": 5,
    "start_time": "2023-02-01T20:56:53.950Z"
   },
   {
    "duration": 6,
    "start_time": "2023-02-01T20:56:53.957Z"
   },
   {
    "duration": 706,
    "start_time": "2023-02-01T20:57:43.690Z"
   },
   {
    "duration": 669,
    "start_time": "2023-02-01T20:58:38.285Z"
   },
   {
    "duration": 35,
    "start_time": "2023-02-01T21:01:10.434Z"
   },
   {
    "duration": 30,
    "start_time": "2023-02-01T21:01:34.340Z"
   },
   {
    "duration": 4,
    "start_time": "2023-02-01T21:05:57.131Z"
   },
   {
    "duration": 5,
    "start_time": "2023-02-01T21:06:26.465Z"
   },
   {
    "duration": 6,
    "start_time": "2023-02-01T21:06:40.480Z"
   },
   {
    "duration": 8,
    "start_time": "2023-02-01T21:07:19.236Z"
   },
   {
    "duration": 14,
    "start_time": "2023-02-01T21:07:52.432Z"
   },
   {
    "duration": 7,
    "start_time": "2023-02-01T21:08:12.422Z"
   },
   {
    "duration": 11,
    "start_time": "2023-02-01T21:28:08.832Z"
   },
   {
    "duration": 12,
    "start_time": "2023-02-01T21:28:32.781Z"
   },
   {
    "duration": 11,
    "start_time": "2023-02-01T21:28:46.720Z"
   },
   {
    "duration": 10,
    "start_time": "2023-02-01T21:30:34.033Z"
   },
   {
    "duration": 9,
    "start_time": "2023-02-01T21:32:23.958Z"
   },
   {
    "duration": 8,
    "start_time": "2023-02-01T21:32:33.103Z"
   },
   {
    "duration": 60,
    "start_time": "2023-02-01T21:33:00.496Z"
   },
   {
    "duration": 53,
    "start_time": "2023-02-01T21:33:14.419Z"
   },
   {
    "duration": 44,
    "start_time": "2023-02-01T21:33:19.693Z"
   },
   {
    "duration": 8,
    "start_time": "2023-02-01T21:33:28.923Z"
   },
   {
    "duration": 9,
    "start_time": "2023-02-01T21:34:00.162Z"
   },
   {
    "duration": 9,
    "start_time": "2023-02-01T21:34:15.820Z"
   },
   {
    "duration": 59,
    "start_time": "2023-02-02T06:53:13.184Z"
   },
   {
    "duration": 47,
    "start_time": "2023-02-02T06:53:47.877Z"
   },
   {
    "duration": 43,
    "start_time": "2023-02-02T06:54:23.300Z"
   },
   {
    "duration": 505,
    "start_time": "2023-02-02T06:54:47.712Z"
   },
   {
    "duration": 22,
    "start_time": "2023-02-02T06:54:48.219Z"
   },
   {
    "duration": 14,
    "start_time": "2023-02-02T06:54:48.243Z"
   },
   {
    "duration": 17,
    "start_time": "2023-02-02T06:54:48.258Z"
   },
   {
    "duration": 47,
    "start_time": "2023-02-02T06:54:48.277Z"
   },
   {
    "duration": 4,
    "start_time": "2023-02-02T06:54:48.325Z"
   },
   {
    "duration": 12,
    "start_time": "2023-02-02T06:54:48.331Z"
   },
   {
    "duration": 4,
    "start_time": "2023-02-02T06:54:48.344Z"
   },
   {
    "duration": 9,
    "start_time": "2023-02-02T06:54:48.350Z"
   },
   {
    "duration": 12,
    "start_time": "2023-02-02T06:54:48.361Z"
   },
   {
    "duration": 44,
    "start_time": "2023-02-02T06:54:48.374Z"
   },
   {
    "duration": 10,
    "start_time": "2023-02-02T06:54:48.420Z"
   },
   {
    "duration": 6,
    "start_time": "2023-02-02T06:54:48.431Z"
   },
   {
    "duration": 14,
    "start_time": "2023-02-02T06:54:48.438Z"
   },
   {
    "duration": 19,
    "start_time": "2023-02-02T06:54:48.453Z"
   },
   {
    "duration": 40,
    "start_time": "2023-02-02T06:54:48.473Z"
   },
   {
    "duration": 4,
    "start_time": "2023-02-02T06:54:48.514Z"
   },
   {
    "duration": 13,
    "start_time": "2023-02-02T06:54:48.519Z"
   },
   {
    "duration": 10,
    "start_time": "2023-02-02T06:54:48.534Z"
   },
   {
    "duration": 7,
    "start_time": "2023-02-02T06:54:48.545Z"
   },
   {
    "duration": 16,
    "start_time": "2023-02-02T06:54:48.554Z"
   },
   {
    "duration": 14,
    "start_time": "2023-02-02T06:54:48.571Z"
   },
   {
    "duration": 13,
    "start_time": "2023-02-02T06:54:48.586Z"
   },
   {
    "duration": 10,
    "start_time": "2023-02-02T06:54:48.601Z"
   },
   {
    "duration": 2,
    "start_time": "2023-02-02T06:54:48.613Z"
   },
   {
    "duration": 6,
    "start_time": "2023-02-02T06:54:48.616Z"
   },
   {
    "duration": 14,
    "start_time": "2023-02-02T06:54:48.623Z"
   },
   {
    "duration": 9,
    "start_time": "2023-02-02T06:55:56.300Z"
   },
   {
    "duration": 6,
    "start_time": "2023-02-02T06:58:13.909Z"
   },
   {
    "duration": 12,
    "start_time": "2023-02-02T07:01:46.646Z"
   },
   {
    "duration": 6,
    "start_time": "2023-02-02T07:03:07.510Z"
   },
   {
    "duration": 22,
    "start_time": "2023-02-02T07:04:25.181Z"
   },
   {
    "duration": 8,
    "start_time": "2023-02-02T07:04:50.670Z"
   },
   {
    "duration": 36,
    "start_time": "2023-02-02T07:07:04.821Z"
   },
   {
    "duration": 65,
    "start_time": "2023-02-02T07:07:17.753Z"
   },
   {
    "duration": 15,
    "start_time": "2023-02-02T07:07:17.820Z"
   },
   {
    "duration": 26,
    "start_time": "2023-02-02T07:07:17.837Z"
   },
   {
    "duration": 40,
    "start_time": "2023-02-02T07:07:17.865Z"
   },
   {
    "duration": 52,
    "start_time": "2023-02-02T07:07:17.906Z"
   },
   {
    "duration": 9,
    "start_time": "2023-02-02T07:07:17.960Z"
   },
   {
    "duration": 30,
    "start_time": "2023-02-02T07:07:17.970Z"
   },
   {
    "duration": 40,
    "start_time": "2023-02-02T07:07:18.002Z"
   },
   {
    "duration": 36,
    "start_time": "2023-02-02T07:07:18.043Z"
   },
   {
    "duration": 34,
    "start_time": "2023-02-02T07:07:18.081Z"
   },
   {
    "duration": 83,
    "start_time": "2023-02-02T07:07:18.117Z"
   },
   {
    "duration": 117,
    "start_time": "2023-02-02T07:07:18.202Z"
   },
   {
    "duration": 40,
    "start_time": "2023-02-02T07:07:18.320Z"
   },
   {
    "duration": 53,
    "start_time": "2023-02-02T07:07:18.362Z"
   },
   {
    "duration": 34,
    "start_time": "2023-02-02T07:07:18.417Z"
   },
   {
    "duration": 31,
    "start_time": "2023-02-02T07:07:18.452Z"
   },
   {
    "duration": 9,
    "start_time": "2023-02-02T07:07:18.485Z"
   },
   {
    "duration": 38,
    "start_time": "2023-02-02T07:07:18.496Z"
   },
   {
    "duration": 22,
    "start_time": "2023-02-02T07:07:18.536Z"
   },
   {
    "duration": 49,
    "start_time": "2023-02-02T07:07:18.559Z"
   },
   {
    "duration": 36,
    "start_time": "2023-02-02T07:07:18.610Z"
   },
   {
    "duration": 31,
    "start_time": "2023-02-02T07:07:18.647Z"
   },
   {
    "duration": 32,
    "start_time": "2023-02-02T07:07:18.680Z"
   },
   {
    "duration": 29,
    "start_time": "2023-02-02T07:07:18.714Z"
   },
   {
    "duration": 36,
    "start_time": "2023-02-02T07:07:18.745Z"
   },
   {
    "duration": 20,
    "start_time": "2023-02-02T07:07:18.783Z"
   },
   {
    "duration": 21,
    "start_time": "2023-02-02T07:07:18.804Z"
   },
   {
    "duration": 33,
    "start_time": "2023-02-02T07:07:18.828Z"
   },
   {
    "duration": 45,
    "start_time": "2023-02-02T07:12:32.097Z"
   },
   {
    "duration": 4,
    "start_time": "2023-02-02T07:12:43.086Z"
   },
   {
    "duration": 10,
    "start_time": "2023-02-02T07:30:46.209Z"
   },
   {
    "duration": 5,
    "start_time": "2023-02-02T07:56:18.253Z"
   },
   {
    "duration": 7,
    "start_time": "2023-02-02T07:56:27.957Z"
   },
   {
    "duration": 10,
    "start_time": "2023-02-02T07:57:49.419Z"
   },
   {
    "duration": 65,
    "start_time": "2023-02-02T08:09:32.236Z"
   },
   {
    "duration": 15,
    "start_time": "2023-02-02T08:09:32.303Z"
   },
   {
    "duration": 20,
    "start_time": "2023-02-02T08:09:32.320Z"
   },
   {
    "duration": 10,
    "start_time": "2023-02-02T08:09:32.342Z"
   },
   {
    "duration": 56,
    "start_time": "2023-02-02T08:09:32.354Z"
   },
   {
    "duration": 5,
    "start_time": "2023-02-02T08:09:32.411Z"
   },
   {
    "duration": 15,
    "start_time": "2023-02-02T08:09:32.417Z"
   },
   {
    "duration": 5,
    "start_time": "2023-02-02T08:09:32.434Z"
   },
   {
    "duration": 9,
    "start_time": "2023-02-02T08:09:32.440Z"
   },
   {
    "duration": 6,
    "start_time": "2023-02-02T08:09:32.452Z"
   },
   {
    "duration": 62,
    "start_time": "2023-02-02T08:09:32.459Z"
   },
   {
    "duration": 10,
    "start_time": "2023-02-02T08:09:32.522Z"
   },
   {
    "duration": 7,
    "start_time": "2023-02-02T08:09:32.533Z"
   },
   {
    "duration": 20,
    "start_time": "2023-02-02T08:09:32.541Z"
   },
   {
    "duration": 26,
    "start_time": "2023-02-02T08:09:32.563Z"
   },
   {
    "duration": 25,
    "start_time": "2023-02-02T08:09:32.590Z"
   },
   {
    "duration": 4,
    "start_time": "2023-02-02T08:09:32.617Z"
   },
   {
    "duration": 14,
    "start_time": "2023-02-02T08:09:32.623Z"
   },
   {
    "duration": 6,
    "start_time": "2023-02-02T08:09:32.638Z"
   },
   {
    "duration": 5,
    "start_time": "2023-02-02T08:09:32.645Z"
   },
   {
    "duration": 23,
    "start_time": "2023-02-02T08:09:32.651Z"
   },
   {
    "duration": 5,
    "start_time": "2023-02-02T08:09:32.676Z"
   },
   {
    "duration": 12,
    "start_time": "2023-02-02T08:09:32.682Z"
   },
   {
    "duration": 18,
    "start_time": "2023-02-02T08:09:32.702Z"
   },
   {
    "duration": 4,
    "start_time": "2023-02-02T08:09:32.722Z"
   },
   {
    "duration": 18,
    "start_time": "2023-02-02T08:09:32.728Z"
   },
   {
    "duration": 6,
    "start_time": "2023-02-02T08:09:32.747Z"
   },
   {
    "duration": 13,
    "start_time": "2023-02-02T08:09:32.756Z"
   },
   {
    "duration": 19,
    "start_time": "2023-02-02T08:09:32.770Z"
   },
   {
    "duration": 2,
    "start_time": "2023-02-02T08:09:32.791Z"
   },
   {
    "duration": 66,
    "start_time": "2023-02-02T08:10:02.884Z"
   },
   {
    "duration": 17,
    "start_time": "2023-02-02T08:10:02.953Z"
   },
   {
    "duration": 40,
    "start_time": "2023-02-02T08:10:02.973Z"
   },
   {
    "duration": 14,
    "start_time": "2023-02-02T08:10:03.016Z"
   },
   {
    "duration": 69,
    "start_time": "2023-02-02T08:10:03.032Z"
   },
   {
    "duration": 4,
    "start_time": "2023-02-02T08:10:03.103Z"
   },
   {
    "duration": 28,
    "start_time": "2023-02-02T08:10:03.109Z"
   },
   {
    "duration": 20,
    "start_time": "2023-02-02T08:10:03.139Z"
   },
   {
    "duration": 21,
    "start_time": "2023-02-02T08:10:03.160Z"
   },
   {
    "duration": 31,
    "start_time": "2023-02-02T08:10:03.185Z"
   },
   {
    "duration": 56,
    "start_time": "2023-02-02T08:10:03.218Z"
   },
   {
    "duration": 9,
    "start_time": "2023-02-02T08:10:03.276Z"
   },
   {
    "duration": 36,
    "start_time": "2023-02-02T08:10:03.286Z"
   },
   {
    "duration": 38,
    "start_time": "2023-02-02T08:10:03.324Z"
   },
   {
    "duration": 34,
    "start_time": "2023-02-02T08:10:03.363Z"
   },
   {
    "duration": 31,
    "start_time": "2023-02-02T08:10:03.399Z"
   },
   {
    "duration": 30,
    "start_time": "2023-02-02T08:10:03.432Z"
   },
   {
    "duration": 49,
    "start_time": "2023-02-02T08:10:03.463Z"
   },
   {
    "duration": 36,
    "start_time": "2023-02-02T08:10:03.514Z"
   },
   {
    "duration": 44,
    "start_time": "2023-02-02T08:10:03.552Z"
   },
   {
    "duration": 40,
    "start_time": "2023-02-02T08:10:03.598Z"
   },
   {
    "duration": 19,
    "start_time": "2023-02-02T08:10:03.639Z"
   },
   {
    "duration": 32,
    "start_time": "2023-02-02T08:10:03.660Z"
   },
   {
    "duration": 22,
    "start_time": "2023-02-02T08:10:03.694Z"
   },
   {
    "duration": 27,
    "start_time": "2023-02-02T08:10:03.718Z"
   },
   {
    "duration": 38,
    "start_time": "2023-02-02T08:10:03.747Z"
   },
   {
    "duration": 12,
    "start_time": "2023-02-02T08:10:03.786Z"
   },
   {
    "duration": 28,
    "start_time": "2023-02-02T08:10:03.802Z"
   },
   {
    "duration": 21,
    "start_time": "2023-02-02T08:10:03.832Z"
   },
   {
    "duration": 24,
    "start_time": "2023-02-02T08:10:03.854Z"
   },
   {
    "duration": 7,
    "start_time": "2023-02-02T08:24:50.820Z"
   },
   {
    "duration": 9,
    "start_time": "2023-02-02T08:25:01.226Z"
   },
   {
    "duration": 10,
    "start_time": "2023-02-02T08:25:32.642Z"
   },
   {
    "duration": 13,
    "start_time": "2023-02-02T08:26:20.347Z"
   },
   {
    "duration": 4,
    "start_time": "2023-02-02T09:00:19.662Z"
   },
   {
    "duration": 21,
    "start_time": "2023-02-02T09:00:44.125Z"
   },
   {
    "duration": 18,
    "start_time": "2023-02-02T09:01:07.710Z"
   },
   {
    "duration": 10,
    "start_time": "2023-02-02T09:01:33.853Z"
   },
   {
    "duration": 67,
    "start_time": "2023-02-02T09:01:43.437Z"
   },
   {
    "duration": 21,
    "start_time": "2023-02-02T09:01:43.506Z"
   },
   {
    "duration": 30,
    "start_time": "2023-02-02T09:01:43.529Z"
   },
   {
    "duration": 11,
    "start_time": "2023-02-02T09:01:43.561Z"
   },
   {
    "duration": 48,
    "start_time": "2023-02-02T09:01:43.574Z"
   },
   {
    "duration": 4,
    "start_time": "2023-02-02T09:01:43.624Z"
   },
   {
    "duration": 27,
    "start_time": "2023-02-02T09:01:43.630Z"
   },
   {
    "duration": 13,
    "start_time": "2023-02-02T09:01:43.659Z"
   },
   {
    "duration": 17,
    "start_time": "2023-02-02T09:01:43.674Z"
   },
   {
    "duration": 7,
    "start_time": "2023-02-02T09:01:43.694Z"
   },
   {
    "duration": 50,
    "start_time": "2023-02-02T09:01:43.704Z"
   },
   {
    "duration": 11,
    "start_time": "2023-02-02T09:01:43.756Z"
   },
   {
    "duration": 7,
    "start_time": "2023-02-02T09:01:43.768Z"
   },
   {
    "duration": 16,
    "start_time": "2023-02-02T09:01:43.777Z"
   },
   {
    "duration": 28,
    "start_time": "2023-02-02T09:01:43.794Z"
   },
   {
    "duration": 20,
    "start_time": "2023-02-02T09:01:43.823Z"
   },
   {
    "duration": 4,
    "start_time": "2023-02-02T09:01:43.845Z"
   },
   {
    "duration": 27,
    "start_time": "2023-02-02T09:01:43.850Z"
   },
   {
    "duration": 9,
    "start_time": "2023-02-02T09:01:43.878Z"
   },
   {
    "duration": 17,
    "start_time": "2023-02-02T09:01:43.889Z"
   },
   {
    "duration": 13,
    "start_time": "2023-02-02T09:01:43.908Z"
   },
   {
    "duration": 7,
    "start_time": "2023-02-02T09:01:43.922Z"
   },
   {
    "duration": 9,
    "start_time": "2023-02-02T09:01:43.931Z"
   },
   {
    "duration": 14,
    "start_time": "2023-02-02T09:01:43.942Z"
   },
   {
    "duration": 6,
    "start_time": "2023-02-02T09:01:43.958Z"
   },
   {
    "duration": 19,
    "start_time": "2023-02-02T09:01:43.965Z"
   },
   {
    "duration": 13,
    "start_time": "2023-02-02T09:01:43.986Z"
   },
   {
    "duration": 11,
    "start_time": "2023-02-02T09:01:44.003Z"
   },
   {
    "duration": 11,
    "start_time": "2023-02-02T09:01:44.015Z"
   },
   {
    "duration": 18,
    "start_time": "2023-02-02T09:01:44.028Z"
   },
   {
    "duration": 16,
    "start_time": "2023-02-02T09:01:44.048Z"
   },
   {
    "duration": 10,
    "start_time": "2023-02-02T09:02:43.734Z"
   },
   {
    "duration": 11,
    "start_time": "2023-02-02T09:03:30.893Z"
   },
   {
    "duration": 12,
    "start_time": "2023-02-02T09:03:50.740Z"
   },
   {
    "duration": 8,
    "start_time": "2023-02-02T09:03:53.461Z"
   },
   {
    "duration": 68,
    "start_time": "2023-02-02T09:03:58.051Z"
   },
   {
    "duration": 17,
    "start_time": "2023-02-02T09:03:58.121Z"
   },
   {
    "duration": 20,
    "start_time": "2023-02-02T09:03:58.139Z"
   },
   {
    "duration": 17,
    "start_time": "2023-02-02T09:03:58.161Z"
   },
   {
    "duration": 38,
    "start_time": "2023-02-02T09:03:58.180Z"
   },
   {
    "duration": 41,
    "start_time": "2023-02-02T09:03:58.219Z"
   },
   {
    "duration": 3,
    "start_time": "2023-02-02T09:03:58.262Z"
   },
   {
    "duration": 18,
    "start_time": "2023-02-02T09:03:58.267Z"
   },
   {
    "duration": 17,
    "start_time": "2023-02-02T09:03:58.287Z"
   },
   {
    "duration": 6,
    "start_time": "2023-02-02T09:03:58.307Z"
   },
   {
    "duration": 7,
    "start_time": "2023-02-02T09:03:58.315Z"
   },
   {
    "duration": 51,
    "start_time": "2023-02-02T09:03:58.323Z"
   },
   {
    "duration": 29,
    "start_time": "2023-02-02T09:03:58.376Z"
   },
   {
    "duration": 12,
    "start_time": "2023-02-02T09:03:58.406Z"
   },
   {
    "duration": 22,
    "start_time": "2023-02-02T09:03:58.421Z"
   },
   {
    "duration": 32,
    "start_time": "2023-02-02T09:03:58.445Z"
   },
   {
    "duration": 23,
    "start_time": "2023-02-02T09:03:58.479Z"
   },
   {
    "duration": 4,
    "start_time": "2023-02-02T09:03:58.504Z"
   },
   {
    "duration": 17,
    "start_time": "2023-02-02T09:03:58.510Z"
   },
   {
    "duration": 11,
    "start_time": "2023-02-02T09:03:58.529Z"
   },
   {
    "duration": 14,
    "start_time": "2023-02-02T09:03:58.542Z"
   },
   {
    "duration": 28,
    "start_time": "2023-02-02T09:03:58.558Z"
   },
   {
    "duration": 23,
    "start_time": "2023-02-02T09:03:58.588Z"
   },
   {
    "duration": 15,
    "start_time": "2023-02-02T09:03:58.613Z"
   },
   {
    "duration": 24,
    "start_time": "2023-02-02T09:03:58.630Z"
   },
   {
    "duration": 7,
    "start_time": "2023-02-02T09:03:58.656Z"
   },
   {
    "duration": 14,
    "start_time": "2023-02-02T09:03:58.664Z"
   },
   {
    "duration": 5,
    "start_time": "2023-02-02T09:03:58.681Z"
   },
   {
    "duration": 15,
    "start_time": "2023-02-02T09:03:58.688Z"
   },
   {
    "duration": 15,
    "start_time": "2023-02-02T09:03:58.704Z"
   },
   {
    "duration": 18,
    "start_time": "2023-02-02T09:03:58.721Z"
   },
   {
    "duration": 23,
    "start_time": "2023-02-02T09:03:58.741Z"
   },
   {
    "duration": 7,
    "start_time": "2023-02-02T09:04:37.653Z"
   },
   {
    "duration": 9,
    "start_time": "2023-02-02T09:04:50.935Z"
   },
   {
    "duration": 6,
    "start_time": "2023-02-02T09:05:27.802Z"
   },
   {
    "duration": 50,
    "start_time": "2023-02-02T21:11:49.362Z"
   },
   {
    "duration": 506,
    "start_time": "2023-02-02T21:12:11.058Z"
   },
   {
    "duration": 24,
    "start_time": "2023-02-02T21:12:11.566Z"
   },
   {
    "duration": 15,
    "start_time": "2023-02-02T21:12:11.592Z"
   },
   {
    "duration": 10,
    "start_time": "2023-02-02T21:12:11.609Z"
   },
   {
    "duration": 34,
    "start_time": "2023-02-02T21:12:11.621Z"
   },
   {
    "duration": 4,
    "start_time": "2023-02-02T21:12:11.657Z"
   },
   {
    "duration": 33,
    "start_time": "2023-02-02T21:12:11.662Z"
   },
   {
    "duration": 4,
    "start_time": "2023-02-02T21:12:11.697Z"
   },
   {
    "duration": 13,
    "start_time": "2023-02-02T21:12:11.704Z"
   },
   {
    "duration": 5,
    "start_time": "2023-02-02T21:12:11.719Z"
   },
   {
    "duration": 39,
    "start_time": "2023-02-02T21:12:11.726Z"
   },
   {
    "duration": 34,
    "start_time": "2023-02-02T21:12:11.767Z"
   },
   {
    "duration": 5,
    "start_time": "2023-02-02T21:12:11.803Z"
   },
   {
    "duration": 15,
    "start_time": "2023-02-02T21:12:11.811Z"
   },
   {
    "duration": 25,
    "start_time": "2023-02-02T21:12:11.829Z"
   },
   {
    "duration": 44,
    "start_time": "2023-02-02T21:12:11.856Z"
   },
   {
    "duration": 4,
    "start_time": "2023-02-02T21:12:11.902Z"
   },
   {
    "duration": 25,
    "start_time": "2023-02-02T21:12:11.908Z"
   },
   {
    "duration": 8,
    "start_time": "2023-02-02T21:12:11.935Z"
   },
   {
    "duration": 5,
    "start_time": "2023-02-02T21:12:11.946Z"
   },
   {
    "duration": 12,
    "start_time": "2023-02-02T21:12:11.953Z"
   },
   {
    "duration": 28,
    "start_time": "2023-02-02T21:12:11.967Z"
   },
   {
    "duration": 7,
    "start_time": "2023-02-02T21:12:11.997Z"
   },
   {
    "duration": 10,
    "start_time": "2023-02-02T21:12:12.005Z"
   },
   {
    "duration": 4,
    "start_time": "2023-02-02T21:12:12.017Z"
   },
   {
    "duration": 11,
    "start_time": "2023-02-02T21:12:12.023Z"
   },
   {
    "duration": 11,
    "start_time": "2023-02-02T21:12:12.036Z"
   },
   {
    "duration": 4,
    "start_time": "2023-02-02T21:12:12.050Z"
   },
   {
    "duration": 39,
    "start_time": "2023-02-02T21:12:12.056Z"
   },
   {
    "duration": 11,
    "start_time": "2023-02-02T21:12:12.097Z"
   },
   {
    "duration": 7,
    "start_time": "2023-02-02T21:12:12.110Z"
   },
   {
    "duration": 11,
    "start_time": "2023-02-02T21:12:12.118Z"
   },
   {
    "duration": 542,
    "start_time": "2023-02-03T07:03:31.127Z"
   },
   {
    "duration": 24,
    "start_time": "2023-02-03T07:03:31.671Z"
   },
   {
    "duration": 34,
    "start_time": "2023-02-03T07:03:31.696Z"
   },
   {
    "duration": 9,
    "start_time": "2023-02-03T07:03:31.732Z"
   },
   {
    "duration": 29,
    "start_time": "2023-02-03T07:03:31.743Z"
   },
   {
    "duration": 48,
    "start_time": "2023-02-03T07:03:31.774Z"
   },
   {
    "duration": 4,
    "start_time": "2023-02-03T07:03:31.824Z"
   },
   {
    "duration": 21,
    "start_time": "2023-02-03T07:03:31.830Z"
   },
   {
    "duration": 31,
    "start_time": "2023-02-03T07:03:31.853Z"
   },
   {
    "duration": 24,
    "start_time": "2023-02-03T07:03:31.886Z"
   },
   {
    "duration": 32,
    "start_time": "2023-02-03T07:03:31.911Z"
   },
   {
    "duration": 64,
    "start_time": "2023-02-03T07:03:31.944Z"
   },
   {
    "duration": 9,
    "start_time": "2023-02-03T07:03:32.010Z"
   },
   {
    "duration": 27,
    "start_time": "2023-02-03T07:03:32.021Z"
   },
   {
    "duration": 17,
    "start_time": "2023-02-03T07:03:32.050Z"
   },
   {
    "duration": 48,
    "start_time": "2023-02-03T07:03:32.068Z"
   },
   {
    "duration": 40,
    "start_time": "2023-02-03T07:03:32.118Z"
   },
   {
    "duration": 15,
    "start_time": "2023-02-03T07:03:32.160Z"
   },
   {
    "duration": 27,
    "start_time": "2023-02-03T07:03:32.177Z"
   },
   {
    "duration": 28,
    "start_time": "2023-02-03T07:03:32.206Z"
   },
   {
    "duration": 30,
    "start_time": "2023-02-03T07:03:32.236Z"
   },
   {
    "duration": 48,
    "start_time": "2023-02-03T07:03:32.268Z"
   },
   {
    "duration": 26,
    "start_time": "2023-02-03T07:03:32.318Z"
   },
   {
    "duration": 46,
    "start_time": "2023-02-03T07:03:32.346Z"
   },
   {
    "duration": 29,
    "start_time": "2023-02-03T07:03:32.394Z"
   },
   {
    "duration": 31,
    "start_time": "2023-02-03T07:03:32.424Z"
   },
   {
    "duration": 97,
    "start_time": "2023-02-03T07:03:32.457Z"
   },
   {
    "duration": 0,
    "start_time": "2023-02-03T07:03:32.557Z"
   },
   {
    "duration": 0,
    "start_time": "2023-02-03T07:03:32.558Z"
   },
   {
    "duration": 0,
    "start_time": "2023-02-03T07:03:32.559Z"
   },
   {
    "duration": 1,
    "start_time": "2023-02-03T07:03:32.560Z"
   },
   {
    "duration": 0,
    "start_time": "2023-02-03T07:03:32.562Z"
   },
   {
    "duration": 0,
    "start_time": "2023-02-03T07:03:32.563Z"
   },
   {
    "duration": 0,
    "start_time": "2023-02-03T07:03:32.565Z"
   },
   {
    "duration": 7,
    "start_time": "2023-02-03T07:04:23.319Z"
   },
   {
    "duration": 5,
    "start_time": "2023-02-03T07:15:06.853Z"
   },
   {
    "duration": 18,
    "start_time": "2023-02-03T08:57:11.219Z"
   },
   {
    "duration": 15,
    "start_time": "2023-02-03T08:57:30.614Z"
   },
   {
    "duration": 13,
    "start_time": "2023-02-03T08:58:16.314Z"
   },
   {
    "duration": 5,
    "start_time": "2023-02-03T08:59:55.903Z"
   },
   {
    "duration": 17,
    "start_time": "2023-02-03T08:59:58.186Z"
   },
   {
    "duration": 9,
    "start_time": "2023-02-03T09:00:19.298Z"
   },
   {
    "duration": 12,
    "start_time": "2023-02-03T09:01:05.761Z"
   },
   {
    "duration": 5,
    "start_time": "2023-02-03T09:01:27.335Z"
   },
   {
    "duration": 3,
    "start_time": "2023-02-03T09:03:42.004Z"
   },
   {
    "duration": 3,
    "start_time": "2023-02-03T09:03:55.037Z"
   },
   {
    "duration": 8,
    "start_time": "2023-02-03T09:04:02.245Z"
   },
   {
    "duration": 72,
    "start_time": "2023-02-03T09:04:08.220Z"
   },
   {
    "duration": 18,
    "start_time": "2023-02-03T09:04:08.294Z"
   },
   {
    "duration": 35,
    "start_time": "2023-02-03T09:04:08.314Z"
   },
   {
    "duration": 21,
    "start_time": "2023-02-03T09:04:08.352Z"
   },
   {
    "duration": 30,
    "start_time": "2023-02-03T09:04:08.375Z"
   },
   {
    "duration": 54,
    "start_time": "2023-02-03T09:04:08.408Z"
   },
   {
    "duration": 11,
    "start_time": "2023-02-03T09:04:08.464Z"
   },
   {
    "duration": 32,
    "start_time": "2023-02-03T09:04:08.477Z"
   },
   {
    "duration": 11,
    "start_time": "2023-02-03T09:04:08.511Z"
   },
   {
    "duration": 35,
    "start_time": "2023-02-03T09:04:08.526Z"
   },
   {
    "duration": 21,
    "start_time": "2023-02-03T09:04:08.567Z"
   },
   {
    "duration": 65,
    "start_time": "2023-02-03T09:04:08.590Z"
   },
   {
    "duration": 9,
    "start_time": "2023-02-03T09:04:08.658Z"
   },
   {
    "duration": 19,
    "start_time": "2023-02-03T09:04:08.669Z"
   },
   {
    "duration": 29,
    "start_time": "2023-02-03T09:04:08.690Z"
   },
   {
    "duration": 30,
    "start_time": "2023-02-03T09:04:08.721Z"
   },
   {
    "duration": 31,
    "start_time": "2023-02-03T09:04:08.753Z"
   },
   {
    "duration": 4,
    "start_time": "2023-02-03T09:04:08.786Z"
   },
   {
    "duration": 32,
    "start_time": "2023-02-03T09:04:08.791Z"
   },
   {
    "duration": 14,
    "start_time": "2023-02-03T09:04:08.825Z"
   },
   {
    "duration": 15,
    "start_time": "2023-02-03T09:04:08.841Z"
   },
   {
    "duration": 33,
    "start_time": "2023-02-03T09:04:08.857Z"
   },
   {
    "duration": 17,
    "start_time": "2023-02-03T09:04:08.891Z"
   },
   {
    "duration": 32,
    "start_time": "2023-02-03T09:04:08.910Z"
   },
   {
    "duration": 23,
    "start_time": "2023-02-03T09:04:08.943Z"
   },
   {
    "duration": 17,
    "start_time": "2023-02-03T09:04:08.968Z"
   },
   {
    "duration": 28,
    "start_time": "2023-02-03T09:04:08.987Z"
   },
   {
    "duration": 26,
    "start_time": "2023-02-03T09:04:09.019Z"
   },
   {
    "duration": 22,
    "start_time": "2023-02-03T09:04:09.046Z"
   },
   {
    "duration": 32,
    "start_time": "2023-02-03T09:04:09.070Z"
   },
   {
    "duration": 19,
    "start_time": "2023-02-03T09:04:09.104Z"
   },
   {
    "duration": 0,
    "start_time": "2023-02-03T09:04:09.125Z"
   },
   {
    "duration": 0,
    "start_time": "2023-02-03T09:04:09.126Z"
   },
   {
    "duration": 0,
    "start_time": "2023-02-03T09:04:09.127Z"
   },
   {
    "duration": 0,
    "start_time": "2023-02-03T09:04:09.128Z"
   },
   {
    "duration": 9,
    "start_time": "2023-02-03T09:04:16.644Z"
   },
   {
    "duration": 4,
    "start_time": "2023-02-03T09:04:25.715Z"
   },
   {
    "duration": 5,
    "start_time": "2023-02-03T09:04:36.447Z"
   },
   {
    "duration": 103,
    "start_time": "2023-02-03T09:21:28.330Z"
   },
   {
    "duration": 74,
    "start_time": "2023-02-03T09:21:46.352Z"
   },
   {
    "duration": 143,
    "start_time": "2023-02-03T09:22:38.859Z"
   },
   {
    "duration": 10,
    "start_time": "2023-02-03T09:23:31.058Z"
   },
   {
    "duration": 93,
    "start_time": "2023-02-03T09:24:01.974Z"
   },
   {
    "duration": 27,
    "start_time": "2023-02-03T09:24:02.070Z"
   },
   {
    "duration": 50,
    "start_time": "2023-02-03T09:24:02.099Z"
   },
   {
    "duration": 16,
    "start_time": "2023-02-03T09:24:02.151Z"
   },
   {
    "duration": 23,
    "start_time": "2023-02-03T09:24:02.169Z"
   },
   {
    "duration": 67,
    "start_time": "2023-02-03T09:24:02.194Z"
   },
   {
    "duration": 5,
    "start_time": "2023-02-03T09:24:02.263Z"
   },
   {
    "duration": 19,
    "start_time": "2023-02-03T09:24:02.269Z"
   },
   {
    "duration": 11,
    "start_time": "2023-02-03T09:24:02.290Z"
   },
   {
    "duration": 34,
    "start_time": "2023-02-03T09:24:02.303Z"
   },
   {
    "duration": 6,
    "start_time": "2023-02-03T09:24:02.340Z"
   },
   {
    "duration": 47,
    "start_time": "2023-02-03T09:24:02.349Z"
   },
   {
    "duration": 12,
    "start_time": "2023-02-03T09:24:02.398Z"
   },
   {
    "duration": 27,
    "start_time": "2023-02-03T09:24:02.411Z"
   },
   {
    "duration": 18,
    "start_time": "2023-02-03T09:24:02.440Z"
   },
   {
    "duration": 24,
    "start_time": "2023-02-03T09:24:02.460Z"
   },
   {
    "duration": 19,
    "start_time": "2023-02-03T09:24:02.486Z"
   },
   {
    "duration": 32,
    "start_time": "2023-02-03T09:24:02.508Z"
   },
   {
    "duration": 21,
    "start_time": "2023-02-03T09:24:02.542Z"
   },
   {
    "duration": 13,
    "start_time": "2023-02-03T09:24:02.566Z"
   },
   {
    "duration": 6,
    "start_time": "2023-02-03T09:24:02.581Z"
   },
   {
    "duration": 19,
    "start_time": "2023-02-03T09:24:02.589Z"
   },
   {
    "duration": 3,
    "start_time": "2023-02-03T09:24:02.611Z"
   },
   {
    "duration": 7,
    "start_time": "2023-02-03T09:24:02.637Z"
   },
   {
    "duration": 10,
    "start_time": "2023-02-03T09:24:02.646Z"
   },
   {
    "duration": 17,
    "start_time": "2023-02-03T09:24:02.658Z"
   },
   {
    "duration": 7,
    "start_time": "2023-02-03T09:24:02.677Z"
   },
   {
    "duration": 18,
    "start_time": "2023-02-03T09:24:02.687Z"
   },
   {
    "duration": 39,
    "start_time": "2023-02-03T09:24:02.708Z"
   },
   {
    "duration": 17,
    "start_time": "2023-02-03T09:24:02.749Z"
   },
   {
    "duration": 13,
    "start_time": "2023-02-03T09:24:02.768Z"
   },
   {
    "duration": 0,
    "start_time": "2023-02-03T09:24:02.784Z"
   },
   {
    "duration": 1,
    "start_time": "2023-02-03T09:24:02.784Z"
   },
   {
    "duration": 0,
    "start_time": "2023-02-03T09:24:02.786Z"
   },
   {
    "duration": 0,
    "start_time": "2023-02-03T09:24:02.788Z"
   },
   {
    "duration": 0,
    "start_time": "2023-02-03T09:24:02.789Z"
   },
   {
    "duration": 9,
    "start_time": "2023-02-03T09:26:37.947Z"
   },
   {
    "duration": 9,
    "start_time": "2023-02-03T09:35:36.430Z"
   },
   {
    "duration": 10,
    "start_time": "2023-02-03T09:36:07.499Z"
   },
   {
    "duration": 9,
    "start_time": "2023-02-03T09:36:24.842Z"
   },
   {
    "duration": 92,
    "start_time": "2023-02-03T09:37:10.651Z"
   },
   {
    "duration": 8,
    "start_time": "2023-02-03T09:37:20.898Z"
   },
   {
    "duration": 9,
    "start_time": "2023-02-03T09:37:53.107Z"
   },
   {
    "duration": 9,
    "start_time": "2023-02-03T09:38:45.132Z"
   },
   {
    "duration": 125,
    "start_time": "2023-02-03T09:39:46.835Z"
   },
   {
    "duration": 74,
    "start_time": "2023-02-03T09:40:28.586Z"
   },
   {
    "duration": 103,
    "start_time": "2023-02-03T09:41:33.043Z"
   },
   {
    "duration": 79,
    "start_time": "2023-02-03T09:41:54.646Z"
   },
   {
    "duration": 91,
    "start_time": "2023-02-03T09:42:02.491Z"
   },
   {
    "duration": 70,
    "start_time": "2023-02-03T09:42:25.436Z"
   },
   {
    "duration": 88,
    "start_time": "2023-02-03T09:42:42.772Z"
   },
   {
    "duration": 92,
    "start_time": "2023-02-03T09:43:11.508Z"
   },
   {
    "duration": 77,
    "start_time": "2023-02-03T09:43:55.205Z"
   },
   {
    "duration": 74,
    "start_time": "2023-02-03T09:44:08.108Z"
   },
   {
    "duration": 4,
    "start_time": "2023-02-03T09:44:52.544Z"
   },
   {
    "duration": 4,
    "start_time": "2023-02-03T09:45:43.349Z"
   },
   {
    "duration": 9,
    "start_time": "2023-02-03T09:46:55.020Z"
   },
   {
    "duration": 12,
    "start_time": "2023-02-03T09:47:35.783Z"
   },
   {
    "duration": 9,
    "start_time": "2023-02-03T09:49:05.501Z"
   },
   {
    "duration": 5,
    "start_time": "2023-02-03T09:49:29.173Z"
   },
   {
    "duration": 68,
    "start_time": "2023-02-03T09:49:43.492Z"
   },
   {
    "duration": 72,
    "start_time": "2023-02-03T09:50:14.823Z"
   },
   {
    "duration": 84,
    "start_time": "2023-02-03T09:50:29.005Z"
   },
   {
    "duration": 5,
    "start_time": "2023-02-03T09:50:49.998Z"
   },
   {
    "duration": 76,
    "start_time": "2023-02-03T09:51:01.389Z"
   },
   {
    "duration": 70,
    "start_time": "2023-02-03T09:51:23.503Z"
   },
   {
    "duration": 16,
    "start_time": "2023-02-03T09:51:23.576Z"
   },
   {
    "duration": 15,
    "start_time": "2023-02-03T09:51:23.594Z"
   },
   {
    "duration": 10,
    "start_time": "2023-02-03T09:51:23.636Z"
   },
   {
    "duration": 13,
    "start_time": "2023-02-03T09:51:23.648Z"
   },
   {
    "duration": 32,
    "start_time": "2023-02-03T09:51:23.662Z"
   },
   {
    "duration": 3,
    "start_time": "2023-02-03T09:51:23.696Z"
   },
   {
    "duration": 37,
    "start_time": "2023-02-03T09:51:23.701Z"
   },
   {
    "duration": 5,
    "start_time": "2023-02-03T09:51:23.739Z"
   },
   {
    "duration": 7,
    "start_time": "2023-02-03T09:51:23.746Z"
   },
   {
    "duration": 6,
    "start_time": "2023-02-03T09:51:23.755Z"
   },
   {
    "duration": 40,
    "start_time": "2023-02-03T09:51:23.763Z"
   },
   {
    "duration": 32,
    "start_time": "2023-02-03T09:51:23.804Z"
   },
   {
    "duration": 4,
    "start_time": "2023-02-03T09:51:23.839Z"
   },
   {
    "duration": 17,
    "start_time": "2023-02-03T09:51:23.844Z"
   },
   {
    "duration": 20,
    "start_time": "2023-02-03T09:51:23.862Z"
   },
   {
    "duration": 18,
    "start_time": "2023-02-03T09:51:23.883Z"
   },
   {
    "duration": 3,
    "start_time": "2023-02-03T09:51:23.903Z"
   },
   {
    "duration": 32,
    "start_time": "2023-02-03T09:51:23.908Z"
   },
   {
    "duration": 8,
    "start_time": "2023-02-03T09:51:23.942Z"
   },
   {
    "duration": 5,
    "start_time": "2023-02-03T09:51:23.952Z"
   },
   {
    "duration": 11,
    "start_time": "2023-02-03T09:51:23.958Z"
   },
   {
    "duration": 2,
    "start_time": "2023-02-03T09:51:23.971Z"
   },
   {
    "duration": 9,
    "start_time": "2023-02-03T09:51:23.975Z"
   },
   {
    "duration": 8,
    "start_time": "2023-02-03T09:51:23.985Z"
   },
   {
    "duration": 8,
    "start_time": "2023-02-03T09:51:23.995Z"
   },
   {
    "duration": 32,
    "start_time": "2023-02-03T09:51:24.005Z"
   },
   {
    "duration": 15,
    "start_time": "2023-02-03T09:51:24.040Z"
   },
   {
    "duration": 11,
    "start_time": "2023-02-03T09:51:24.057Z"
   },
   {
    "duration": 12,
    "start_time": "2023-02-03T09:51:24.069Z"
   },
   {
    "duration": 5,
    "start_time": "2023-02-03T09:51:24.082Z"
   },
   {
    "duration": 80,
    "start_time": "2023-02-03T09:51:24.089Z"
   },
   {
    "duration": 0,
    "start_time": "2023-02-03T09:51:24.171Z"
   },
   {
    "duration": 0,
    "start_time": "2023-02-03T09:51:24.173Z"
   },
   {
    "duration": 0,
    "start_time": "2023-02-03T09:51:24.174Z"
   },
   {
    "duration": 0,
    "start_time": "2023-02-03T09:51:24.175Z"
   },
   {
    "duration": 81,
    "start_time": "2023-02-03T09:52:06.078Z"
   },
   {
    "duration": 74,
    "start_time": "2023-02-03T09:52:36.845Z"
   },
   {
    "duration": 10,
    "start_time": "2023-02-03T09:52:59.838Z"
   },
   {
    "duration": 17,
    "start_time": "2023-02-03T09:55:09.794Z"
   },
   {
    "duration": 16,
    "start_time": "2023-02-03T09:55:16.288Z"
   },
   {
    "duration": 15,
    "start_time": "2023-02-03T09:55:53.537Z"
   },
   {
    "duration": 72,
    "start_time": "2023-02-03T09:56:55.262Z"
   },
   {
    "duration": 17,
    "start_time": "2023-02-03T09:56:55.336Z"
   },
   {
    "duration": 18,
    "start_time": "2023-02-03T09:56:55.355Z"
   },
   {
    "duration": 10,
    "start_time": "2023-02-03T09:56:55.375Z"
   },
   {
    "duration": 14,
    "start_time": "2023-02-03T09:56:55.387Z"
   },
   {
    "duration": 60,
    "start_time": "2023-02-03T09:56:55.403Z"
   },
   {
    "duration": 4,
    "start_time": "2023-02-03T09:56:55.465Z"
   },
   {
    "duration": 13,
    "start_time": "2023-02-03T09:56:55.471Z"
   },
   {
    "duration": 7,
    "start_time": "2023-02-03T09:56:55.486Z"
   },
   {
    "duration": 7,
    "start_time": "2023-02-03T09:56:55.495Z"
   },
   {
    "duration": 17,
    "start_time": "2023-02-03T09:56:55.504Z"
   },
   {
    "duration": 46,
    "start_time": "2023-02-03T09:56:55.522Z"
   },
   {
    "duration": 9,
    "start_time": "2023-02-03T09:56:55.570Z"
   },
   {
    "duration": 3,
    "start_time": "2023-02-03T09:56:55.582Z"
   },
   {
    "duration": 13,
    "start_time": "2023-02-03T09:56:55.587Z"
   },
   {
    "duration": 44,
    "start_time": "2023-02-03T09:56:55.601Z"
   },
   {
    "duration": 17,
    "start_time": "2023-02-03T09:56:55.647Z"
   },
   {
    "duration": 3,
    "start_time": "2023-02-03T09:56:55.666Z"
   },
   {
    "duration": 20,
    "start_time": "2023-02-03T09:56:55.671Z"
   },
   {
    "duration": 6,
    "start_time": "2023-02-03T09:56:55.693Z"
   },
   {
    "duration": 11,
    "start_time": "2023-02-03T09:56:55.701Z"
   },
   {
    "duration": 46,
    "start_time": "2023-02-03T09:56:55.714Z"
   },
   {
    "duration": 13,
    "start_time": "2023-02-03T09:56:55.761Z"
   },
   {
    "duration": 16,
    "start_time": "2023-02-03T09:56:55.776Z"
   },
   {
    "duration": 11,
    "start_time": "2023-02-03T09:56:55.794Z"
   },
   {
    "duration": 19,
    "start_time": "2023-02-03T09:56:55.806Z"
   },
   {
    "duration": 27,
    "start_time": "2023-02-03T09:56:55.827Z"
   },
   {
    "duration": 17,
    "start_time": "2023-02-03T09:56:55.855Z"
   },
   {
    "duration": 22,
    "start_time": "2023-02-03T09:56:55.873Z"
   },
   {
    "duration": 30,
    "start_time": "2023-02-03T09:56:55.897Z"
   },
   {
    "duration": 0,
    "start_time": "2023-02-03T09:56:55.928Z"
   },
   {
    "duration": 0,
    "start_time": "2023-02-03T09:56:55.930Z"
   },
   {
    "duration": 0,
    "start_time": "2023-02-03T09:56:55.931Z"
   },
   {
    "duration": 0,
    "start_time": "2023-02-03T09:56:55.932Z"
   },
   {
    "duration": 0,
    "start_time": "2023-02-03T09:56:55.933Z"
   },
   {
    "duration": 0,
    "start_time": "2023-02-03T09:56:55.934Z"
   },
   {
    "duration": 14,
    "start_time": "2023-02-03T09:57:41.919Z"
   },
   {
    "duration": 7,
    "start_time": "2023-02-03T09:58:21.505Z"
   },
   {
    "duration": 14,
    "start_time": "2023-02-03T09:58:59.239Z"
   },
   {
    "duration": 11,
    "start_time": "2023-02-03T09:59:12.241Z"
   },
   {
    "duration": 10,
    "start_time": "2023-02-03T09:59:26.563Z"
   },
   {
    "duration": 13,
    "start_time": "2023-02-03T09:59:56.232Z"
   },
   {
    "duration": 13,
    "start_time": "2023-02-03T10:00:02.513Z"
   },
   {
    "duration": 14,
    "start_time": "2023-02-03T10:00:11.588Z"
   },
   {
    "duration": 17,
    "start_time": "2023-02-03T10:02:00.914Z"
   },
   {
    "duration": 21,
    "start_time": "2023-02-03T10:02:16.091Z"
   },
   {
    "duration": 11,
    "start_time": "2023-02-03T10:03:19.394Z"
   },
   {
    "duration": 11,
    "start_time": "2023-02-03T10:03:31.682Z"
   },
   {
    "duration": 9,
    "start_time": "2023-02-03T10:06:40.324Z"
   },
   {
    "duration": 9,
    "start_time": "2023-02-03T10:09:00.214Z"
   },
   {
    "duration": 11,
    "start_time": "2023-02-03T10:11:10.421Z"
   },
   {
    "duration": 91,
    "start_time": "2023-02-03T10:13:58.528Z"
   },
   {
    "duration": 11,
    "start_time": "2023-02-03T10:14:03.848Z"
   },
   {
    "duration": 9,
    "start_time": "2023-02-03T10:14:44.061Z"
   },
   {
    "duration": 11,
    "start_time": "2023-02-03T10:14:55.289Z"
   },
   {
    "duration": 17,
    "start_time": "2023-02-03T10:16:02.848Z"
   },
   {
    "duration": 17,
    "start_time": "2023-02-03T10:16:07.576Z"
   },
   {
    "duration": 21,
    "start_time": "2023-02-03T10:16:19.969Z"
   },
   {
    "duration": 11,
    "start_time": "2023-02-03T10:19:01.322Z"
   },
   {
    "duration": 13,
    "start_time": "2023-02-03T10:19:13.057Z"
   },
   {
    "duration": 3,
    "start_time": "2023-02-03T10:19:40.977Z"
   },
   {
    "duration": 11,
    "start_time": "2023-02-03T10:19:45.232Z"
   },
   {
    "duration": 4,
    "start_time": "2023-02-03T10:20:40.832Z"
   },
   {
    "duration": 11,
    "start_time": "2023-02-03T10:20:42.769Z"
   },
   {
    "duration": 8,
    "start_time": "2023-02-03T10:30:02.981Z"
   },
   {
    "duration": 10,
    "start_time": "2023-02-03T10:30:05.419Z"
   },
   {
    "duration": 7,
    "start_time": "2023-02-03T10:36:27.924Z"
   },
   {
    "duration": 12,
    "start_time": "2023-02-03T10:36:31.748Z"
   },
   {
    "duration": 12,
    "start_time": "2023-02-03T11:04:17.928Z"
   },
   {
    "duration": 10,
    "start_time": "2023-02-03T11:05:03.839Z"
   },
   {
    "duration": 14,
    "start_time": "2023-02-03T11:05:09.839Z"
   },
   {
    "duration": 15,
    "start_time": "2023-02-03T11:05:15.248Z"
   },
   {
    "duration": 9,
    "start_time": "2023-02-03T11:06:15.209Z"
   },
   {
    "duration": 4,
    "start_time": "2023-02-03T11:07:07.681Z"
   },
   {
    "duration": 5,
    "start_time": "2023-02-03T11:07:27.450Z"
   },
   {
    "duration": 3,
    "start_time": "2023-02-03T11:07:34.863Z"
   },
   {
    "duration": 4,
    "start_time": "2023-02-03T11:07:52.327Z"
   },
   {
    "duration": 9,
    "start_time": "2023-02-03T11:08:09.986Z"
   },
   {
    "duration": 3,
    "start_time": "2023-02-03T11:08:26.802Z"
   },
   {
    "duration": 6,
    "start_time": "2023-02-03T11:08:50.483Z"
   },
   {
    "duration": 13,
    "start_time": "2023-02-03T11:08:54.480Z"
   },
   {
    "duration": 5,
    "start_time": "2023-02-03T11:09:34.536Z"
   },
   {
    "duration": 73,
    "start_time": "2023-02-03T11:11:06.854Z"
   },
   {
    "duration": 18,
    "start_time": "2023-02-03T11:11:06.929Z"
   },
   {
    "duration": 20,
    "start_time": "2023-02-03T11:11:06.948Z"
   },
   {
    "duration": 10,
    "start_time": "2023-02-03T11:11:06.970Z"
   },
   {
    "duration": 14,
    "start_time": "2023-02-03T11:11:06.982Z"
   },
   {
    "duration": 61,
    "start_time": "2023-02-03T11:11:06.998Z"
   },
   {
    "duration": 4,
    "start_time": "2023-02-03T11:11:07.061Z"
   },
   {
    "duration": 11,
    "start_time": "2023-02-03T11:11:07.067Z"
   },
   {
    "duration": 4,
    "start_time": "2023-02-03T11:11:07.080Z"
   },
   {
    "duration": 7,
    "start_time": "2023-02-03T11:11:07.087Z"
   },
   {
    "duration": 4,
    "start_time": "2023-02-03T11:11:07.096Z"
   },
   {
    "duration": 66,
    "start_time": "2023-02-03T11:11:07.102Z"
   },
   {
    "duration": 10,
    "start_time": "2023-02-03T11:11:07.170Z"
   },
   {
    "duration": 4,
    "start_time": "2023-02-03T11:11:07.182Z"
   },
   {
    "duration": 13,
    "start_time": "2023-02-03T11:11:07.187Z"
   },
   {
    "duration": 47,
    "start_time": "2023-02-03T11:11:07.202Z"
   },
   {
    "duration": 68,
    "start_time": "2023-02-03T11:11:07.251Z"
   },
   {
    "duration": 15,
    "start_time": "2023-02-03T11:11:07.321Z"
   },
   {
    "duration": 13,
    "start_time": "2023-02-03T11:11:07.338Z"
   },
   {
    "duration": 6,
    "start_time": "2023-02-03T11:11:07.353Z"
   },
   {
    "duration": 3,
    "start_time": "2023-02-03T11:11:07.361Z"
   },
   {
    "duration": 11,
    "start_time": "2023-02-03T11:11:07.366Z"
   },
   {
    "duration": 6,
    "start_time": "2023-02-03T11:11:07.379Z"
   },
   {
    "duration": 7,
    "start_time": "2023-02-03T11:11:07.386Z"
   },
   {
    "duration": 42,
    "start_time": "2023-02-03T11:11:07.395Z"
   },
   {
    "duration": 9,
    "start_time": "2023-02-03T11:11:07.439Z"
   },
   {
    "duration": 25,
    "start_time": "2023-02-03T11:11:07.449Z"
   },
   {
    "duration": 21,
    "start_time": "2023-02-03T11:11:07.477Z"
   },
   {
    "duration": 25,
    "start_time": "2023-02-03T11:11:07.499Z"
   },
   {
    "duration": 18,
    "start_time": "2023-02-03T11:11:07.526Z"
   },
   {
    "duration": 0,
    "start_time": "2023-02-03T11:11:07.546Z"
   },
   {
    "duration": 0,
    "start_time": "2023-02-03T11:11:07.547Z"
   },
   {
    "duration": 0,
    "start_time": "2023-02-03T11:11:07.548Z"
   },
   {
    "duration": 0,
    "start_time": "2023-02-03T11:11:07.549Z"
   },
   {
    "duration": 0,
    "start_time": "2023-02-03T11:11:07.550Z"
   },
   {
    "duration": 0,
    "start_time": "2023-02-03T11:11:07.551Z"
   },
   {
    "duration": 0,
    "start_time": "2023-02-03T11:11:07.552Z"
   },
   {
    "duration": 0,
    "start_time": "2023-02-03T11:11:07.554Z"
   },
   {
    "duration": 5,
    "start_time": "2023-02-03T11:12:06.883Z"
   },
   {
    "duration": 4,
    "start_time": "2023-02-03T11:13:52.793Z"
   },
   {
    "duration": 4,
    "start_time": "2023-02-03T11:14:07.490Z"
   },
   {
    "duration": 10,
    "start_time": "2023-02-03T11:14:41.625Z"
   },
   {
    "duration": 8,
    "start_time": "2023-02-03T11:15:03.180Z"
   },
   {
    "duration": 8,
    "start_time": "2023-02-03T11:15:23.803Z"
   },
   {
    "duration": 9,
    "start_time": "2023-02-03T11:17:13.473Z"
   },
   {
    "duration": 72,
    "start_time": "2023-02-03T11:17:17.911Z"
   },
   {
    "duration": 17,
    "start_time": "2023-02-03T11:17:17.985Z"
   },
   {
    "duration": 49,
    "start_time": "2023-02-03T11:17:18.003Z"
   },
   {
    "duration": 10,
    "start_time": "2023-02-03T11:17:18.055Z"
   },
   {
    "duration": 15,
    "start_time": "2023-02-03T11:17:18.066Z"
   },
   {
    "duration": 53,
    "start_time": "2023-02-03T11:17:18.083Z"
   },
   {
    "duration": 4,
    "start_time": "2023-02-03T11:17:18.138Z"
   },
   {
    "duration": 12,
    "start_time": "2023-02-03T11:17:18.144Z"
   },
   {
    "duration": 4,
    "start_time": "2023-02-03T11:17:18.158Z"
   },
   {
    "duration": 10,
    "start_time": "2023-02-03T11:17:18.165Z"
   },
   {
    "duration": 5,
    "start_time": "2023-02-03T11:17:18.177Z"
   },
   {
    "duration": 63,
    "start_time": "2023-02-03T11:17:18.184Z"
   },
   {
    "duration": 10,
    "start_time": "2023-02-03T11:17:18.248Z"
   },
   {
    "duration": 4,
    "start_time": "2023-02-03T11:17:18.260Z"
   },
   {
    "duration": 16,
    "start_time": "2023-02-03T11:17:18.266Z"
   },
   {
    "duration": 23,
    "start_time": "2023-02-03T11:17:18.284Z"
   },
   {
    "duration": 42,
    "start_time": "2023-02-03T11:17:18.309Z"
   },
   {
    "duration": 5,
    "start_time": "2023-02-03T11:17:18.353Z"
   },
   {
    "duration": 12,
    "start_time": "2023-02-03T11:17:18.360Z"
   },
   {
    "duration": 16,
    "start_time": "2023-02-03T11:17:18.374Z"
   },
   {
    "duration": 5,
    "start_time": "2023-02-03T11:17:18.392Z"
   },
   {
    "duration": 19,
    "start_time": "2023-02-03T11:17:18.398Z"
   },
   {
    "duration": 30,
    "start_time": "2023-02-03T11:17:18.419Z"
   },
   {
    "duration": 14,
    "start_time": "2023-02-03T11:17:18.452Z"
   },
   {
    "duration": 9,
    "start_time": "2023-02-03T11:17:18.469Z"
   },
   {
    "duration": 11,
    "start_time": "2023-02-03T11:17:18.480Z"
   },
   {
    "duration": 19,
    "start_time": "2023-02-03T11:17:18.493Z"
   },
   {
    "duration": 23,
    "start_time": "2023-02-03T11:17:18.516Z"
   },
   {
    "duration": 8,
    "start_time": "2023-02-03T11:17:18.541Z"
   },
   {
    "duration": 16,
    "start_time": "2023-02-03T11:17:18.552Z"
   },
   {
    "duration": 0,
    "start_time": "2023-02-03T11:17:18.570Z"
   },
   {
    "duration": 0,
    "start_time": "2023-02-03T11:17:18.571Z"
   },
   {
    "duration": 0,
    "start_time": "2023-02-03T11:17:18.573Z"
   },
   {
    "duration": 0,
    "start_time": "2023-02-03T11:17:18.574Z"
   },
   {
    "duration": 0,
    "start_time": "2023-02-03T11:17:18.576Z"
   },
   {
    "duration": 0,
    "start_time": "2023-02-03T11:17:18.577Z"
   },
   {
    "duration": 0,
    "start_time": "2023-02-03T11:17:18.578Z"
   },
   {
    "duration": 0,
    "start_time": "2023-02-03T11:17:18.579Z"
   },
   {
    "duration": 11,
    "start_time": "2023-02-03T11:20:33.956Z"
   },
   {
    "duration": 8,
    "start_time": "2023-02-03T11:20:53.946Z"
   },
   {
    "duration": 7,
    "start_time": "2023-02-03T11:21:15.807Z"
   },
   {
    "duration": 8,
    "start_time": "2023-02-03T11:21:22.613Z"
   },
   {
    "duration": 7,
    "start_time": "2023-02-03T11:21:26.237Z"
   },
   {
    "duration": 4,
    "start_time": "2023-02-03T11:21:30.974Z"
   },
   {
    "duration": 4,
    "start_time": "2023-02-03T11:21:42.541Z"
   },
   {
    "duration": 5,
    "start_time": "2023-02-03T11:21:48.532Z"
   },
   {
    "duration": 5,
    "start_time": "2023-02-03T11:21:53.530Z"
   },
   {
    "duration": 7,
    "start_time": "2023-02-03T11:21:57.778Z"
   },
   {
    "duration": 8,
    "start_time": "2023-02-03T11:22:18.005Z"
   },
   {
    "duration": 13,
    "start_time": "2023-02-03T11:22:30.604Z"
   },
   {
    "duration": 9,
    "start_time": "2023-02-03T11:22:39.771Z"
   },
   {
    "duration": 12,
    "start_time": "2023-02-03T11:22:58.530Z"
   },
   {
    "duration": 4,
    "start_time": "2023-02-03T11:23:11.558Z"
   },
   {
    "duration": 13,
    "start_time": "2023-02-03T11:23:20.643Z"
   },
   {
    "duration": 11,
    "start_time": "2023-02-03T11:23:33.957Z"
   },
   {
    "duration": 52,
    "start_time": "2023-02-03T14:30:43.259Z"
   },
   {
    "duration": 678,
    "start_time": "2023-02-03T14:30:47.111Z"
   },
   {
    "duration": 27,
    "start_time": "2023-02-03T14:30:47.791Z"
   },
   {
    "duration": 13,
    "start_time": "2023-02-03T14:30:47.820Z"
   },
   {
    "duration": 9,
    "start_time": "2023-02-03T14:30:47.836Z"
   },
   {
    "duration": 15,
    "start_time": "2023-02-03T14:30:47.846Z"
   },
   {
    "duration": 76,
    "start_time": "2023-02-03T14:30:47.863Z"
   },
   {
    "duration": 4,
    "start_time": "2023-02-03T14:30:47.941Z"
   },
   {
    "duration": 10,
    "start_time": "2023-02-03T14:30:47.946Z"
   },
   {
    "duration": 34,
    "start_time": "2023-02-03T14:30:47.958Z"
   },
   {
    "duration": 9,
    "start_time": "2023-02-03T14:30:47.994Z"
   },
   {
    "duration": 6,
    "start_time": "2023-02-03T14:30:48.005Z"
   },
   {
    "duration": 31,
    "start_time": "2023-02-03T14:30:48.013Z"
   },
   {
    "duration": 9,
    "start_time": "2023-02-03T14:30:48.046Z"
   },
   {
    "duration": 36,
    "start_time": "2023-02-03T14:30:48.057Z"
   },
   {
    "duration": 21,
    "start_time": "2023-02-03T14:30:48.096Z"
   },
   {
    "duration": 35,
    "start_time": "2023-02-03T14:30:48.120Z"
   },
   {
    "duration": 17,
    "start_time": "2023-02-03T14:30:48.157Z"
   },
   {
    "duration": 8,
    "start_time": "2023-02-03T14:30:48.192Z"
   },
   {
    "duration": 20,
    "start_time": "2023-02-03T14:30:48.203Z"
   },
   {
    "duration": 8,
    "start_time": "2023-02-03T14:30:48.225Z"
   },
   {
    "duration": 4,
    "start_time": "2023-02-03T14:30:48.235Z"
   },
   {
    "duration": 11,
    "start_time": "2023-02-03T14:30:48.241Z"
   },
   {
    "duration": 3,
    "start_time": "2023-02-03T14:30:48.253Z"
   },
   {
    "duration": 6,
    "start_time": "2023-02-03T14:30:48.257Z"
   },
   {
    "duration": 8,
    "start_time": "2023-02-03T14:30:48.264Z"
   },
   {
    "duration": 24,
    "start_time": "2023-02-03T14:30:48.274Z"
   },
   {
    "duration": 5,
    "start_time": "2023-02-03T14:30:48.300Z"
   },
   {
    "duration": 14,
    "start_time": "2023-02-03T14:30:48.308Z"
   },
   {
    "duration": 11,
    "start_time": "2023-02-03T14:30:48.324Z"
   },
   {
    "duration": 10,
    "start_time": "2023-02-03T14:30:48.336Z"
   },
   {
    "duration": 64,
    "start_time": "2023-02-03T14:30:48.348Z"
   },
   {
    "duration": 3,
    "start_time": "2023-02-03T14:30:48.413Z"
   },
   {
    "duration": 14,
    "start_time": "2023-02-03T14:30:48.418Z"
   },
   {
    "duration": 14,
    "start_time": "2023-02-03T14:30:48.434Z"
   },
   {
    "duration": 11,
    "start_time": "2023-02-03T14:30:48.450Z"
   },
   {
    "duration": 8,
    "start_time": "2023-02-03T14:30:48.492Z"
   },
   {
    "duration": 13,
    "start_time": "2023-02-03T14:30:48.502Z"
   },
   {
    "duration": 6,
    "start_time": "2023-02-03T14:34:16.433Z"
   },
   {
    "duration": 107,
    "start_time": "2023-02-03T14:43:40.160Z"
   },
   {
    "duration": 38,
    "start_time": "2023-02-03T14:43:51.612Z"
   },
   {
    "duration": 76,
    "start_time": "2023-02-03T14:44:47.387Z"
   },
   {
    "duration": 4,
    "start_time": "2023-02-03T14:44:55.484Z"
   },
   {
    "duration": 88,
    "start_time": "2023-02-03T14:45:14.017Z"
   },
   {
    "duration": 85,
    "start_time": "2023-02-03T14:45:27.094Z"
   },
   {
    "duration": 3,
    "start_time": "2023-02-03T14:45:42.881Z"
   },
   {
    "duration": 454,
    "start_time": "2023-02-04T10:29:23.463Z"
   },
   {
    "duration": 33,
    "start_time": "2023-02-04T10:29:23.919Z"
   },
   {
    "duration": 12,
    "start_time": "2023-02-04T10:29:23.954Z"
   },
   {
    "duration": 20,
    "start_time": "2023-02-04T10:29:23.968Z"
   },
   {
    "duration": 12,
    "start_time": "2023-02-04T10:29:23.990Z"
   },
   {
    "duration": 32,
    "start_time": "2023-02-04T10:29:24.004Z"
   },
   {
    "duration": 3,
    "start_time": "2023-02-04T10:29:24.043Z"
   },
   {
    "duration": 15,
    "start_time": "2023-02-04T10:29:24.050Z"
   },
   {
    "duration": 4,
    "start_time": "2023-02-04T10:29:24.067Z"
   },
   {
    "duration": 8,
    "start_time": "2023-02-04T10:29:24.072Z"
   },
   {
    "duration": 5,
    "start_time": "2023-02-04T10:29:24.081Z"
   },
   {
    "duration": 30,
    "start_time": "2023-02-04T10:29:24.087Z"
   },
   {
    "duration": 32,
    "start_time": "2023-02-04T10:29:24.119Z"
   },
   {
    "duration": 8,
    "start_time": "2023-02-04T10:29:24.154Z"
   },
   {
    "duration": 12,
    "start_time": "2023-02-04T10:29:24.164Z"
   },
   {
    "duration": 19,
    "start_time": "2023-02-04T10:29:24.177Z"
   },
   {
    "duration": 42,
    "start_time": "2023-02-04T10:29:24.198Z"
   },
   {
    "duration": 4,
    "start_time": "2023-02-04T10:29:24.243Z"
   },
   {
    "duration": 16,
    "start_time": "2023-02-04T10:29:24.248Z"
   },
   {
    "duration": 8,
    "start_time": "2023-02-04T10:29:24.266Z"
   },
   {
    "duration": 7,
    "start_time": "2023-02-04T10:29:24.276Z"
   },
   {
    "duration": 41,
    "start_time": "2023-02-04T10:29:24.285Z"
   },
   {
    "duration": 13,
    "start_time": "2023-02-04T10:29:24.328Z"
   },
   {
    "duration": 25,
    "start_time": "2023-02-04T10:29:24.349Z"
   },
   {
    "duration": 7,
    "start_time": "2023-02-04T10:29:24.376Z"
   },
   {
    "duration": 9,
    "start_time": "2023-02-04T10:29:24.385Z"
   },
   {
    "duration": 9,
    "start_time": "2023-02-04T10:29:24.395Z"
   },
   {
    "duration": 10,
    "start_time": "2023-02-04T10:29:24.406Z"
   },
   {
    "duration": 5,
    "start_time": "2023-02-04T10:29:24.418Z"
   },
   {
    "duration": 23,
    "start_time": "2023-02-04T10:29:24.425Z"
   },
   {
    "duration": 15,
    "start_time": "2023-02-04T10:29:24.450Z"
   },
   {
    "duration": 23,
    "start_time": "2023-02-04T10:29:24.467Z"
   },
   {
    "duration": 18,
    "start_time": "2023-02-04T10:29:24.492Z"
   },
   {
    "duration": 3,
    "start_time": "2023-02-04T10:29:24.512Z"
   },
   {
    "duration": 11,
    "start_time": "2023-02-04T10:29:24.516Z"
   },
   {
    "duration": 23,
    "start_time": "2023-02-04T10:29:24.529Z"
   },
   {
    "duration": 11,
    "start_time": "2023-02-04T10:29:24.553Z"
   },
   {
    "duration": 6,
    "start_time": "2023-02-04T10:29:24.565Z"
   },
   {
    "duration": 11,
    "start_time": "2023-02-04T10:29:24.573Z"
   },
   {
    "duration": 710,
    "start_time": "2023-02-04T13:06:11.762Z"
   },
   {
    "duration": 21,
    "start_time": "2023-02-04T13:06:12.474Z"
   },
   {
    "duration": 16,
    "start_time": "2023-02-04T13:06:12.497Z"
   },
   {
    "duration": 14,
    "start_time": "2023-02-04T13:06:12.515Z"
   },
   {
    "duration": 12,
    "start_time": "2023-02-04T13:06:12.530Z"
   },
   {
    "duration": 31,
    "start_time": "2023-02-04T13:06:12.544Z"
   },
   {
    "duration": 4,
    "start_time": "2023-02-04T13:06:12.576Z"
   },
   {
    "duration": 10,
    "start_time": "2023-02-04T13:06:12.581Z"
   },
   {
    "duration": 4,
    "start_time": "2023-02-04T13:06:12.593Z"
   },
   {
    "duration": 7,
    "start_time": "2023-02-04T13:06:12.630Z"
   },
   {
    "duration": 19,
    "start_time": "2023-02-04T13:06:12.639Z"
   },
   {
    "duration": 48,
    "start_time": "2023-02-04T13:06:12.660Z"
   },
   {
    "duration": 19,
    "start_time": "2023-02-04T13:06:12.709Z"
   },
   {
    "duration": 4,
    "start_time": "2023-02-04T13:06:12.730Z"
   },
   {
    "duration": 15,
    "start_time": "2023-02-04T13:06:12.735Z"
   },
   {
    "duration": 30,
    "start_time": "2023-02-04T13:06:12.752Z"
   },
   {
    "duration": 17,
    "start_time": "2023-02-04T13:06:12.784Z"
   },
   {
    "duration": 4,
    "start_time": "2023-02-04T13:06:12.802Z"
   },
   {
    "duration": 26,
    "start_time": "2023-02-04T13:06:12.807Z"
   },
   {
    "duration": 5,
    "start_time": "2023-02-04T13:06:12.835Z"
   },
   {
    "duration": 8,
    "start_time": "2023-02-04T13:06:12.842Z"
   },
   {
    "duration": 20,
    "start_time": "2023-02-04T13:06:12.851Z"
   },
   {
    "duration": 3,
    "start_time": "2023-02-04T13:06:12.873Z"
   },
   {
    "duration": 14,
    "start_time": "2023-02-04T13:06:12.878Z"
   },
   {
    "duration": 6,
    "start_time": "2023-02-04T13:06:12.894Z"
   },
   {
    "duration": 11,
    "start_time": "2023-02-04T13:06:12.901Z"
   },
   {
    "duration": 16,
    "start_time": "2023-02-04T13:06:12.914Z"
   },
   {
    "duration": 10,
    "start_time": "2023-02-04T13:06:12.934Z"
   },
   {
    "duration": 10,
    "start_time": "2023-02-04T13:06:12.946Z"
   },
   {
    "duration": 18,
    "start_time": "2023-02-04T13:06:12.957Z"
   },
   {
    "duration": 13,
    "start_time": "2023-02-04T13:06:12.977Z"
   },
   {
    "duration": 90,
    "start_time": "2023-02-04T13:06:12.992Z"
   },
   {
    "duration": 0,
    "start_time": "2023-02-04T13:06:13.085Z"
   },
   {
    "duration": 0,
    "start_time": "2023-02-04T13:06:13.086Z"
   },
   {
    "duration": 0,
    "start_time": "2023-02-04T13:06:13.087Z"
   },
   {
    "duration": 0,
    "start_time": "2023-02-04T13:06:13.089Z"
   },
   {
    "duration": 0,
    "start_time": "2023-02-04T13:06:13.099Z"
   },
   {
    "duration": 0,
    "start_time": "2023-02-04T13:06:13.101Z"
   },
   {
    "duration": 0,
    "start_time": "2023-02-04T13:06:13.102Z"
   },
   {
    "duration": 0,
    "start_time": "2023-02-04T13:06:13.104Z"
   },
   {
    "duration": 17,
    "start_time": "2023-02-04T13:14:22.789Z"
   },
   {
    "duration": 25,
    "start_time": "2023-02-04T13:14:43.929Z"
   },
   {
    "duration": 10,
    "start_time": "2023-02-04T13:15:10.540Z"
   },
   {
    "duration": 14,
    "start_time": "2023-02-04T13:33:35.813Z"
   },
   {
    "duration": 22,
    "start_time": "2023-02-04T13:36:21.332Z"
   },
   {
    "duration": 23,
    "start_time": "2023-02-04T13:36:57.497Z"
   },
   {
    "duration": 14,
    "start_time": "2023-02-04T13:37:52.530Z"
   },
   {
    "duration": 15,
    "start_time": "2023-02-04T13:38:23.436Z"
   },
   {
    "duration": 15,
    "start_time": "2023-02-04T13:38:50.805Z"
   },
   {
    "duration": 20,
    "start_time": "2023-02-04T13:39:02.604Z"
   },
   {
    "duration": 11,
    "start_time": "2023-02-04T13:40:57.651Z"
   },
   {
    "duration": 80,
    "start_time": "2023-02-04T13:41:37.587Z"
   },
   {
    "duration": 18,
    "start_time": "2023-02-04T13:42:04.155Z"
   },
   {
    "duration": 21,
    "start_time": "2023-02-04T13:43:22.844Z"
   },
   {
    "duration": 19,
    "start_time": "2023-02-04T13:43:41.190Z"
   },
   {
    "duration": 29,
    "start_time": "2023-02-04T13:44:18.588Z"
   },
   {
    "duration": 15,
    "start_time": "2023-02-04T13:46:08.205Z"
   },
   {
    "duration": 1448,
    "start_time": "2023-02-04T13:46:16.545Z"
   },
   {
    "duration": 22,
    "start_time": "2023-02-04T13:47:25.880Z"
   },
   {
    "duration": 27,
    "start_time": "2023-02-04T13:49:07.934Z"
   },
   {
    "duration": 26,
    "start_time": "2023-02-04T13:49:25.493Z"
   },
   {
    "duration": 28,
    "start_time": "2023-02-04T13:50:44.778Z"
   },
   {
    "duration": 25,
    "start_time": "2023-02-04T13:51:48.902Z"
   },
   {
    "duration": 24,
    "start_time": "2023-02-04T13:52:00.576Z"
   },
   {
    "duration": 23,
    "start_time": "2023-02-04T13:55:12.767Z"
   },
   {
    "duration": 72,
    "start_time": "2023-02-04T13:55:32.055Z"
   },
   {
    "duration": 26,
    "start_time": "2023-02-04T13:56:03.912Z"
   },
   {
    "duration": 83,
    "start_time": "2023-02-04T13:56:44.695Z"
   },
   {
    "duration": 70,
    "start_time": "2023-02-04T13:57:02.711Z"
   },
   {
    "duration": 43,
    "start_time": "2023-02-04T13:57:47.994Z"
   },
   {
    "duration": 29,
    "start_time": "2023-02-04T13:58:49.721Z"
   },
   {
    "duration": 73,
    "start_time": "2023-02-04T14:02:54.337Z"
   },
   {
    "duration": 25,
    "start_time": "2023-02-04T14:04:48.441Z"
   },
   {
    "duration": 17,
    "start_time": "2023-02-04T14:16:10.500Z"
   },
   {
    "duration": 28,
    "start_time": "2023-02-04T14:16:23.336Z"
   },
   {
    "duration": 56,
    "start_time": "2023-02-04T14:16:56.989Z"
   },
   {
    "duration": 1288,
    "start_time": "2023-02-04T14:18:02.693Z"
   },
   {
    "duration": 53,
    "start_time": "2023-02-04T14:18:16.389Z"
   },
   {
    "duration": 509,
    "start_time": "2023-02-05T07:31:52.520Z"
   },
   {
    "duration": 20,
    "start_time": "2023-02-05T07:31:53.031Z"
   },
   {
    "duration": 13,
    "start_time": "2023-02-05T07:31:53.052Z"
   },
   {
    "duration": 10,
    "start_time": "2023-02-05T07:31:53.066Z"
   },
   {
    "duration": 12,
    "start_time": "2023-02-05T07:31:53.078Z"
   },
   {
    "duration": 53,
    "start_time": "2023-02-05T07:31:53.092Z"
   },
   {
    "duration": 4,
    "start_time": "2023-02-05T07:31:53.146Z"
   },
   {
    "duration": 13,
    "start_time": "2023-02-05T07:31:53.151Z"
   },
   {
    "duration": 12,
    "start_time": "2023-02-05T07:31:53.165Z"
   },
   {
    "duration": 8,
    "start_time": "2023-02-05T07:31:53.180Z"
   },
   {
    "duration": 4,
    "start_time": "2023-02-05T07:31:53.189Z"
   },
   {
    "duration": 43,
    "start_time": "2023-02-05T07:31:53.194Z"
   },
   {
    "duration": 9,
    "start_time": "2023-02-05T07:31:53.239Z"
   },
   {
    "duration": 5,
    "start_time": "2023-02-05T07:31:53.249Z"
   },
   {
    "duration": 22,
    "start_time": "2023-02-05T07:31:53.255Z"
   },
   {
    "duration": 24,
    "start_time": "2023-02-05T07:31:53.279Z"
   },
   {
    "duration": 17,
    "start_time": "2023-02-05T07:31:53.305Z"
   },
   {
    "duration": 4,
    "start_time": "2023-02-05T07:31:53.336Z"
   },
   {
    "duration": 15,
    "start_time": "2023-02-05T07:31:53.342Z"
   },
   {
    "duration": 5,
    "start_time": "2023-02-05T07:31:53.359Z"
   },
   {
    "duration": 10,
    "start_time": "2023-02-05T07:31:53.365Z"
   },
   {
    "duration": 18,
    "start_time": "2023-02-05T07:31:53.376Z"
   },
   {
    "duration": 8,
    "start_time": "2023-02-05T07:31:53.395Z"
   },
   {
    "duration": 8,
    "start_time": "2023-02-05T07:31:53.404Z"
   },
   {
    "duration": 14,
    "start_time": "2023-02-05T07:31:53.413Z"
   },
   {
    "duration": 36,
    "start_time": "2023-02-05T07:31:53.429Z"
   },
   {
    "duration": 5,
    "start_time": "2023-02-05T07:31:53.466Z"
   },
   {
    "duration": 10,
    "start_time": "2023-02-05T07:31:53.474Z"
   },
   {
    "duration": 6,
    "start_time": "2023-02-05T07:31:53.486Z"
   },
   {
    "duration": 16,
    "start_time": "2023-02-05T07:31:53.494Z"
   },
   {
    "duration": 12,
    "start_time": "2023-02-05T07:31:53.513Z"
   },
   {
    "duration": 48,
    "start_time": "2023-02-05T07:31:53.526Z"
   },
   {
    "duration": 37,
    "start_time": "2023-02-05T07:31:53.576Z"
   },
   {
    "duration": 6,
    "start_time": "2023-02-05T07:31:53.614Z"
   },
   {
    "duration": 33,
    "start_time": "2023-02-05T07:31:53.622Z"
   },
   {
    "duration": 3,
    "start_time": "2023-02-05T07:31:53.657Z"
   },
   {
    "duration": 17,
    "start_time": "2023-02-05T07:31:53.661Z"
   },
   {
    "duration": 12,
    "start_time": "2023-02-05T07:31:53.679Z"
   },
   {
    "duration": 8,
    "start_time": "2023-02-05T07:31:53.693Z"
   },
   {
    "duration": 9,
    "start_time": "2023-02-05T07:31:53.703Z"
   },
   {
    "duration": 29,
    "start_time": "2023-02-05T07:31:53.713Z"
   },
   {
    "duration": 66,
    "start_time": "2023-02-05T08:17:21.442Z"
   },
   {
    "duration": 15,
    "start_time": "2023-02-05T08:17:59.532Z"
   },
   {
    "duration": 8,
    "start_time": "2023-02-05T08:20:04.552Z"
   },
   {
    "duration": 8,
    "start_time": "2023-02-05T08:20:14.179Z"
   },
   {
    "duration": 73,
    "start_time": "2023-02-05T08:20:16.800Z"
   },
   {
    "duration": 14,
    "start_time": "2023-02-05T08:20:16.875Z"
   },
   {
    "duration": 19,
    "start_time": "2023-02-05T08:20:16.890Z"
   },
   {
    "duration": 28,
    "start_time": "2023-02-05T08:20:16.910Z"
   },
   {
    "duration": 21,
    "start_time": "2023-02-05T08:20:16.947Z"
   },
   {
    "duration": 32,
    "start_time": "2023-02-05T08:20:16.970Z"
   },
   {
    "duration": 3,
    "start_time": "2023-02-05T08:20:17.003Z"
   },
   {
    "duration": 12,
    "start_time": "2023-02-05T08:20:17.007Z"
   },
   {
    "duration": 4,
    "start_time": "2023-02-05T08:20:17.020Z"
   },
   {
    "duration": 20,
    "start_time": "2023-02-05T08:20:17.043Z"
   },
   {
    "duration": 5,
    "start_time": "2023-02-05T08:20:17.067Z"
   },
   {
    "duration": 35,
    "start_time": "2023-02-05T08:20:17.074Z"
   },
   {
    "duration": 8,
    "start_time": "2023-02-05T08:20:17.110Z"
   },
   {
    "duration": 6,
    "start_time": "2023-02-05T08:20:17.119Z"
   },
   {
    "duration": 23,
    "start_time": "2023-02-05T08:20:17.127Z"
   },
   {
    "duration": 20,
    "start_time": "2023-02-05T08:20:17.160Z"
   },
   {
    "duration": 16,
    "start_time": "2023-02-05T08:20:17.181Z"
   },
   {
    "duration": 3,
    "start_time": "2023-02-05T08:20:17.198Z"
   },
   {
    "duration": 14,
    "start_time": "2023-02-05T08:20:17.203Z"
   },
   {
    "duration": 6,
    "start_time": "2023-02-05T08:20:17.218Z"
   },
   {
    "duration": 4,
    "start_time": "2023-02-05T08:20:17.225Z"
   },
   {
    "duration": 41,
    "start_time": "2023-02-05T08:20:17.230Z"
   },
   {
    "duration": 9,
    "start_time": "2023-02-05T08:20:17.273Z"
   },
   {
    "duration": 11,
    "start_time": "2023-02-05T08:20:17.284Z"
   },
   {
    "duration": 4,
    "start_time": "2023-02-05T08:20:17.296Z"
   },
   {
    "duration": 9,
    "start_time": "2023-02-05T08:20:17.301Z"
   },
   {
    "duration": 3,
    "start_time": "2023-02-05T08:20:17.311Z"
   },
   {
    "duration": 10,
    "start_time": "2023-02-05T08:20:17.317Z"
   },
   {
    "duration": 6,
    "start_time": "2023-02-05T08:20:17.328Z"
   },
   {
    "duration": 38,
    "start_time": "2023-02-05T08:20:17.335Z"
   },
   {
    "duration": 10,
    "start_time": "2023-02-05T08:20:17.375Z"
   },
   {
    "duration": 29,
    "start_time": "2023-02-05T08:20:17.387Z"
   },
   {
    "duration": 40,
    "start_time": "2023-02-05T08:20:17.417Z"
   },
   {
    "duration": 8,
    "start_time": "2023-02-05T08:20:17.461Z"
   },
   {
    "duration": 20,
    "start_time": "2023-02-05T08:20:17.470Z"
   },
   {
    "duration": 3,
    "start_time": "2023-02-05T08:20:17.491Z"
   },
   {
    "duration": 9,
    "start_time": "2023-02-05T08:20:17.496Z"
   },
   {
    "duration": 0,
    "start_time": "2023-02-05T08:20:17.507Z"
   },
   {
    "duration": 0,
    "start_time": "2023-02-05T08:20:17.508Z"
   },
   {
    "duration": 0,
    "start_time": "2023-02-05T08:20:17.509Z"
   },
   {
    "duration": 0,
    "start_time": "2023-02-05T08:20:17.510Z"
   },
   {
    "duration": 10,
    "start_time": "2023-02-05T08:21:29.324Z"
   },
   {
    "duration": 871,
    "start_time": "2023-02-05T08:36:04.995Z"
   },
   {
    "duration": 325,
    "start_time": "2023-02-05T08:36:58.607Z"
   },
   {
    "duration": 207,
    "start_time": "2023-02-05T08:38:19.999Z"
   },
   {
    "duration": 356,
    "start_time": "2023-02-05T08:38:29.783Z"
   },
   {
    "duration": 336,
    "start_time": "2023-02-05T08:42:14.992Z"
   },
   {
    "duration": 70,
    "start_time": "2023-02-05T08:47:21.598Z"
   },
   {
    "duration": 14,
    "start_time": "2023-02-05T08:47:21.669Z"
   },
   {
    "duration": 29,
    "start_time": "2023-02-05T08:47:21.685Z"
   },
   {
    "duration": 8,
    "start_time": "2023-02-05T08:47:21.716Z"
   },
   {
    "duration": 27,
    "start_time": "2023-02-05T08:47:21.726Z"
   },
   {
    "duration": 32,
    "start_time": "2023-02-05T08:47:21.755Z"
   },
   {
    "duration": 3,
    "start_time": "2023-02-05T08:47:21.788Z"
   },
   {
    "duration": 14,
    "start_time": "2023-02-05T08:47:21.793Z"
   },
   {
    "duration": 5,
    "start_time": "2023-02-05T08:47:21.809Z"
   },
   {
    "duration": 10,
    "start_time": "2023-02-05T08:47:21.816Z"
   },
   {
    "duration": 10,
    "start_time": "2023-02-05T08:47:21.828Z"
   },
   {
    "duration": 31,
    "start_time": "2023-02-05T08:47:21.840Z"
   },
   {
    "duration": 9,
    "start_time": "2023-02-05T08:47:21.874Z"
   },
   {
    "duration": 11,
    "start_time": "2023-02-05T08:47:21.884Z"
   },
   {
    "duration": 17,
    "start_time": "2023-02-05T08:47:21.897Z"
   },
   {
    "duration": 35,
    "start_time": "2023-02-05T08:47:21.915Z"
   },
   {
    "duration": 18,
    "start_time": "2023-02-05T08:47:21.952Z"
   },
   {
    "duration": 16,
    "start_time": "2023-02-05T08:47:21.972Z"
   },
   {
    "duration": 25,
    "start_time": "2023-02-05T08:47:21.990Z"
   },
   {
    "duration": 17,
    "start_time": "2023-02-05T08:47:22.017Z"
   },
   {
    "duration": 4,
    "start_time": "2023-02-05T08:47:22.036Z"
   },
   {
    "duration": 26,
    "start_time": "2023-02-05T08:47:22.042Z"
   },
   {
    "duration": 7,
    "start_time": "2023-02-05T08:47:22.070Z"
   },
   {
    "duration": 15,
    "start_time": "2023-02-05T08:47:22.079Z"
   },
   {
    "duration": 5,
    "start_time": "2023-02-05T08:47:22.095Z"
   },
   {
    "duration": 6,
    "start_time": "2023-02-05T08:47:22.102Z"
   },
   {
    "duration": 8,
    "start_time": "2023-02-05T08:47:22.110Z"
   },
   {
    "duration": 8,
    "start_time": "2023-02-05T08:47:22.121Z"
   },
   {
    "duration": 7,
    "start_time": "2023-02-05T08:47:22.130Z"
   },
   {
    "duration": 17,
    "start_time": "2023-02-05T08:47:22.139Z"
   },
   {
    "duration": 18,
    "start_time": "2023-02-05T08:47:22.157Z"
   },
   {
    "duration": 33,
    "start_time": "2023-02-05T08:47:22.176Z"
   },
   {
    "duration": 31,
    "start_time": "2023-02-05T08:47:22.211Z"
   },
   {
    "duration": 452,
    "start_time": "2023-02-05T08:47:22.244Z"
   },
   {
    "duration": 7,
    "start_time": "2023-02-05T08:47:22.698Z"
   },
   {
    "duration": 31,
    "start_time": "2023-02-05T08:47:22.706Z"
   },
   {
    "duration": 4,
    "start_time": "2023-02-05T08:47:22.738Z"
   },
   {
    "duration": 12,
    "start_time": "2023-02-05T08:47:22.743Z"
   },
   {
    "duration": 11,
    "start_time": "2023-02-05T08:47:22.757Z"
   },
   {
    "duration": 14,
    "start_time": "2023-02-05T08:47:22.770Z"
   },
   {
    "duration": 24,
    "start_time": "2023-02-05T08:47:22.785Z"
   },
   {
    "duration": 17,
    "start_time": "2023-02-05T08:47:22.810Z"
   },
   {
    "duration": 432,
    "start_time": "2023-02-05T18:53:57.782Z"
   },
   {
    "duration": 20,
    "start_time": "2023-02-05T18:53:58.216Z"
   },
   {
    "duration": 13,
    "start_time": "2023-02-05T18:53:58.238Z"
   },
   {
    "duration": 9,
    "start_time": "2023-02-05T18:53:58.253Z"
   },
   {
    "duration": 21,
    "start_time": "2023-02-05T18:53:58.263Z"
   },
   {
    "duration": 32,
    "start_time": "2023-02-05T18:53:58.285Z"
   },
   {
    "duration": 3,
    "start_time": "2023-02-05T18:53:58.318Z"
   },
   {
    "duration": 26,
    "start_time": "2023-02-05T18:53:58.323Z"
   },
   {
    "duration": 24,
    "start_time": "2023-02-05T18:53:58.350Z"
   },
   {
    "duration": 9,
    "start_time": "2023-02-05T18:53:58.378Z"
   },
   {
    "duration": 4,
    "start_time": "2023-02-05T18:53:58.389Z"
   },
   {
    "duration": 35,
    "start_time": "2023-02-05T18:53:58.394Z"
   },
   {
    "duration": 9,
    "start_time": "2023-02-05T18:53:58.430Z"
   },
   {
    "duration": 4,
    "start_time": "2023-02-05T18:53:58.440Z"
   },
   {
    "duration": 26,
    "start_time": "2023-02-05T18:53:58.445Z"
   },
   {
    "duration": 22,
    "start_time": "2023-02-05T18:53:58.473Z"
   },
   {
    "duration": 18,
    "start_time": "2023-02-05T18:53:58.496Z"
   },
   {
    "duration": 4,
    "start_time": "2023-02-05T18:53:58.516Z"
   },
   {
    "duration": 31,
    "start_time": "2023-02-05T18:53:58.522Z"
   },
   {
    "duration": 6,
    "start_time": "2023-02-05T18:53:58.554Z"
   },
   {
    "duration": 5,
    "start_time": "2023-02-05T18:53:58.561Z"
   },
   {
    "duration": 11,
    "start_time": "2023-02-05T18:53:58.567Z"
   },
   {
    "duration": 5,
    "start_time": "2023-02-05T18:53:58.579Z"
   },
   {
    "duration": 10,
    "start_time": "2023-02-05T18:53:58.585Z"
   },
   {
    "duration": 10,
    "start_time": "2023-02-05T18:53:58.596Z"
   },
   {
    "duration": 10,
    "start_time": "2023-02-05T18:53:58.607Z"
   },
   {
    "duration": 5,
    "start_time": "2023-02-05T18:53:58.619Z"
   },
   {
    "duration": 17,
    "start_time": "2023-02-05T18:53:58.627Z"
   },
   {
    "duration": 4,
    "start_time": "2023-02-05T18:53:58.646Z"
   },
   {
    "duration": 30,
    "start_time": "2023-02-05T18:53:58.651Z"
   },
   {
    "duration": 12,
    "start_time": "2023-02-05T18:53:58.683Z"
   },
   {
    "duration": 41,
    "start_time": "2023-02-05T18:53:58.696Z"
   },
   {
    "duration": 30,
    "start_time": "2023-02-05T18:53:58.739Z"
   },
   {
    "duration": 1017,
    "start_time": "2023-02-05T18:53:58.771Z"
   },
   {
    "duration": 7,
    "start_time": "2023-02-05T18:53:59.789Z"
   },
   {
    "duration": 20,
    "start_time": "2023-02-05T18:53:59.798Z"
   },
   {
    "duration": 3,
    "start_time": "2023-02-05T18:53:59.819Z"
   },
   {
    "duration": 11,
    "start_time": "2023-02-05T18:53:59.843Z"
   },
   {
    "duration": 12,
    "start_time": "2023-02-05T18:53:59.856Z"
   },
   {
    "duration": 9,
    "start_time": "2023-02-05T18:53:59.870Z"
   },
   {
    "duration": 7,
    "start_time": "2023-02-05T18:53:59.881Z"
   },
   {
    "duration": 11,
    "start_time": "2023-02-05T18:53:59.889Z"
   },
   {
    "duration": 807,
    "start_time": "2023-02-05T21:38:16.362Z"
   },
   {
    "duration": 33,
    "start_time": "2023-02-05T21:38:17.171Z"
   },
   {
    "duration": 21,
    "start_time": "2023-02-05T21:38:17.206Z"
   },
   {
    "duration": 11,
    "start_time": "2023-02-05T21:38:17.229Z"
   },
   {
    "duration": 13,
    "start_time": "2023-02-05T21:38:17.241Z"
   },
   {
    "duration": 50,
    "start_time": "2023-02-05T21:38:17.256Z"
   },
   {
    "duration": 5,
    "start_time": "2023-02-05T21:38:17.308Z"
   },
   {
    "duration": 18,
    "start_time": "2023-02-05T21:38:17.315Z"
   },
   {
    "duration": 9,
    "start_time": "2023-02-05T21:38:17.335Z"
   },
   {
    "duration": 8,
    "start_time": "2023-02-05T21:38:17.348Z"
   },
   {
    "duration": 8,
    "start_time": "2023-02-05T21:38:17.358Z"
   },
   {
    "duration": 64,
    "start_time": "2023-02-05T21:38:17.368Z"
   },
   {
    "duration": 9,
    "start_time": "2023-02-05T21:38:17.434Z"
   },
   {
    "duration": 8,
    "start_time": "2023-02-05T21:38:17.445Z"
   },
   {
    "duration": 11,
    "start_time": "2023-02-05T21:38:17.454Z"
   },
   {
    "duration": 48,
    "start_time": "2023-02-05T21:38:17.467Z"
   },
   {
    "duration": 18,
    "start_time": "2023-02-05T21:38:17.517Z"
   },
   {
    "duration": 4,
    "start_time": "2023-02-05T21:38:17.537Z"
   },
   {
    "duration": 13,
    "start_time": "2023-02-05T21:38:17.542Z"
   },
   {
    "duration": 5,
    "start_time": "2023-02-05T21:38:17.556Z"
   },
   {
    "duration": 3,
    "start_time": "2023-02-05T21:38:17.563Z"
   },
   {
    "duration": 44,
    "start_time": "2023-02-05T21:38:17.567Z"
   },
   {
    "duration": 2,
    "start_time": "2023-02-05T21:38:17.617Z"
   },
   {
    "duration": 6,
    "start_time": "2023-02-05T21:38:17.621Z"
   },
   {
    "duration": 4,
    "start_time": "2023-02-05T21:38:17.629Z"
   },
   {
    "duration": 8,
    "start_time": "2023-02-05T21:38:17.635Z"
   },
   {
    "duration": 4,
    "start_time": "2023-02-05T21:38:17.644Z"
   },
   {
    "duration": 8,
    "start_time": "2023-02-05T21:38:17.650Z"
   },
   {
    "duration": 4,
    "start_time": "2023-02-05T21:38:17.660Z"
   },
   {
    "duration": 48,
    "start_time": "2023-02-05T21:38:17.665Z"
   },
   {
    "duration": 11,
    "start_time": "2023-02-05T21:38:17.721Z"
   },
   {
    "duration": 29,
    "start_time": "2023-02-05T21:38:17.734Z"
   },
   {
    "duration": 36,
    "start_time": "2023-02-05T21:38:17.764Z"
   },
   {
    "duration": 1323,
    "start_time": "2023-02-05T21:38:17.802Z"
   },
   {
    "duration": 7,
    "start_time": "2023-02-05T21:38:19.127Z"
   },
   {
    "duration": 20,
    "start_time": "2023-02-05T21:38:19.136Z"
   },
   {
    "duration": 3,
    "start_time": "2023-02-05T21:38:19.157Z"
   },
   {
    "duration": 52,
    "start_time": "2023-02-05T21:38:19.161Z"
   },
   {
    "duration": 21,
    "start_time": "2023-02-05T21:38:19.215Z"
   },
   {
    "duration": 10,
    "start_time": "2023-02-05T21:38:19.238Z"
   },
   {
    "duration": 7,
    "start_time": "2023-02-05T21:38:19.250Z"
   },
   {
    "duration": 12,
    "start_time": "2023-02-05T21:38:19.259Z"
   },
   {
    "duration": 380,
    "start_time": "2023-02-05T21:38:53.084Z"
   }
  ],
  "colab": {
   "provenance": []
  },
  "kernelspec": {
   "display_name": "Python 3 (ipykernel)",
   "language": "python",
   "name": "python3"
  },
  "language_info": {
   "codemirror_mode": {
    "name": "ipython",
    "version": 3
   },
   "file_extension": ".py",
   "mimetype": "text/x-python",
   "name": "python",
   "nbconvert_exporter": "python",
   "pygments_lexer": "ipython3",
   "version": "3.9.13"
  },
  "toc": {
   "base_numbering": 1,
   "nav_menu": {},
   "number_sections": true,
   "sideBar": true,
   "skip_h1_title": true,
   "title_cell": "Table of Contents",
   "title_sidebar": "Contents",
   "toc_cell": false,
   "toc_position": {},
   "toc_section_display": true,
   "toc_window_display": true
  }
 },
 "nbformat": 4,
 "nbformat_minor": 5
}
