{
 "cells": [
  {
   "cell_type": "markdown",
   "id": "4f11de00",
   "metadata": {
    "deletable": false,
    "editable": false,
    "id": "4f11de00"
   },
   "source": [
    "# Исследование надежности заемщиков"
   ]
  },
  {
   "cell_type": "markdown",
   "id": "f09d6878",
   "metadata": {
    "deletable": false,
    "editable": false,
    "id": "f09d6878"
   },
   "source": [
    "Это первая часть проекта, она будет проверена автоматически. Вторую часть проверит ревьюер. "
   ]
  },
  {
   "cell_type": "markdown",
   "id": "516620ee",
   "metadata": {
    "deletable": false,
    "editable": false,
    "id": "516620ee"
   },
   "source": [
    "## Откройте таблицу и изучите общую информацию о данных"
   ]
  },
  {
   "cell_type": "markdown",
   "id": "76a8a9ce",
   "metadata": {
    "deletable": false,
    "editable": false,
    "id": "76a8a9ce",
    "tags": [
     "start_task"
    ]
   },
   "source": [
    "**Задание 1. Импортируйте библиотеку pandas. Считайте данные из csv-файла в датафрейм и сохраните в переменную `data`. Путь к файлу:**\n",
    "\n",
    "`/datasets/data.csv`"
   ]
  },
  {
   "cell_type": "code",
   "execution_count": 65,
   "id": "fab207d0",
   "metadata": {
    "id": "fab207d0"
   },
   "outputs": [],
   "source": [
    "# импортируйте библиотеку pandas\n",
    "import pandas as pd"
   ]
  },
  {
   "cell_type": "code",
   "execution_count": 66,
   "id": "6c82b607",
   "metadata": {
    "id": "6c82b607"
   },
   "outputs": [],
   "source": [
    "# прочитайте csv-файл\n",
    "data = pd.read_csv('/datasets/data.csv')"
   ]
  },
  {
   "cell_type": "markdown",
   "id": "08bbb5b3",
   "metadata": {
    "deletable": false,
    "editable": false,
    "id": "08bbb5b3",
    "tags": [
     "start_task"
    ]
   },
   "source": [
    "**Задание 2. Выведите первые 20 строчек датафрейма `data` на экран.**"
   ]
  },
  {
   "cell_type": "code",
   "execution_count": 67,
   "id": "4ff33b36",
   "metadata": {
    "id": "4ff33b36"
   },
   "outputs": [
    {
     "name": "stdout",
     "output_type": "stream",
     "text": [
      "    children  days_employed  dob_years            education  education_id  \\\n",
      "0          1   -8437.673028         42               высшее             0   \n",
      "1          1   -4024.803754         36              среднее             1   \n",
      "2          0   -5623.422610         33              Среднее             1   \n",
      "3          3   -4124.747207         32              среднее             1   \n",
      "4          0  340266.072047         53              среднее             1   \n",
      "5          0    -926.185831         27               высшее             0   \n",
      "6          0   -2879.202052         43               высшее             0   \n",
      "7          0    -152.779569         50              СРЕДНЕЕ             1   \n",
      "8          2   -6929.865299         35               ВЫСШЕЕ             0   \n",
      "9          0   -2188.756445         41              среднее             1   \n",
      "10         2   -4171.483647         36               высшее             0   \n",
      "11         0    -792.701887         40              среднее             1   \n",
      "12         0            NaN         65              среднее             1   \n",
      "13         0   -1846.641941         54  неоконченное высшее             2   \n",
      "14         0   -1844.956182         56               высшее             0   \n",
      "15         1    -972.364419         26              среднее             1   \n",
      "16         0   -1719.934226         35              среднее             1   \n",
      "17         0   -2369.999720         33               высшее             0   \n",
      "18         0  400281.136913         53              среднее             1   \n",
      "19         0  -10038.818549         48              СРЕДНЕЕ             1   \n",
      "\n",
      "       family_status  family_status_id gender income_type  debt  \\\n",
      "0    женат / замужем                 0      F   сотрудник     0   \n",
      "1    женат / замужем                 0      F   сотрудник     0   \n",
      "2    женат / замужем                 0      M   сотрудник     0   \n",
      "3    женат / замужем                 0      M   сотрудник     0   \n",
      "4   гражданский брак                 1      F   пенсионер     0   \n",
      "5   гражданский брак                 1      M   компаньон     0   \n",
      "6    женат / замужем                 0      F   компаньон     0   \n",
      "7    женат / замужем                 0      M   сотрудник     0   \n",
      "8   гражданский брак                 1      F   сотрудник     0   \n",
      "9    женат / замужем                 0      M   сотрудник     0   \n",
      "10   женат / замужем                 0      M   компаньон     0   \n",
      "11   женат / замужем                 0      F   сотрудник     0   \n",
      "12  гражданский брак                 1      M   пенсионер     0   \n",
      "13   женат / замужем                 0      F   сотрудник     0   \n",
      "14  гражданский брак                 1      F   компаньон     1   \n",
      "15   женат / замужем                 0      F   сотрудник     0   \n",
      "16   женат / замужем                 0      F   сотрудник     0   \n",
      "17  гражданский брак                 1      M   сотрудник     0   \n",
      "18    вдовец / вдова                 2      F   пенсионер     0   \n",
      "19         в разводе                 3      F   сотрудник     0   \n",
      "\n",
      "     total_income                                 purpose  \n",
      "0   253875.639453                           покупка жилья  \n",
      "1   112080.014102                 приобретение автомобиля  \n",
      "2   145885.952297                           покупка жилья  \n",
      "3   267628.550329              дополнительное образование  \n",
      "4   158616.077870                         сыграть свадьбу  \n",
      "5   255763.565419                           покупка жилья  \n",
      "6   240525.971920                       операции с жильем  \n",
      "7   135823.934197                             образование  \n",
      "8    95856.832424                   на проведение свадьбы  \n",
      "9   144425.938277                 покупка жилья для семьи  \n",
      "10  113943.491460                    покупка недвижимости  \n",
      "11   77069.234271       покупка коммерческой недвижимости  \n",
      "12            NaN                         сыграть свадьбу  \n",
      "13  130458.228857                 приобретение автомобиля  \n",
      "14  165127.911772              покупка жилой недвижимости  \n",
      "15  116820.904450  строительство собственной недвижимости  \n",
      "16  289202.704229                            недвижимость  \n",
      "17   90410.586745              строительство недвижимости  \n",
      "18   56823.777243      на покупку подержанного автомобиля  \n",
      "19  242831.107982            на покупку своего автомобиля  \n"
     ]
    }
   ],
   "source": [
    "# ваш код здесь\n",
    "print (data.head(20))"
   ]
  },
  {
   "cell_type": "markdown",
   "id": "c8f382ae",
   "metadata": {
    "deletable": false,
    "editable": false,
    "id": "c8f382ae",
    "tags": [
     "start_task"
    ]
   },
   "source": [
    "**Задание 3. Выведите основную информацию о датафрейме с помощью метода `info()`.**"
   ]
  },
  {
   "cell_type": "code",
   "execution_count": 68,
   "id": "e1ed9908",
   "metadata": {
    "id": "e1ed9908"
   },
   "outputs": [
    {
     "name": "stdout",
     "output_type": "stream",
     "text": [
      "<class 'pandas.core.frame.DataFrame'>\n",
      "RangeIndex: 21525 entries, 0 to 21524\n",
      "Data columns (total 12 columns):\n",
      " #   Column            Non-Null Count  Dtype  \n",
      "---  ------            --------------  -----  \n",
      " 0   children          21525 non-null  int64  \n",
      " 1   days_employed     19351 non-null  float64\n",
      " 2   dob_years         21525 non-null  int64  \n",
      " 3   education         21525 non-null  object \n",
      " 4   education_id      21525 non-null  int64  \n",
      " 5   family_status     21525 non-null  object \n",
      " 6   family_status_id  21525 non-null  int64  \n",
      " 7   gender            21525 non-null  object \n",
      " 8   income_type       21525 non-null  object \n",
      " 9   debt              21525 non-null  int64  \n",
      " 10  total_income      19351 non-null  float64\n",
      " 11  purpose           21525 non-null  object \n",
      "dtypes: float64(2), int64(5), object(5)\n",
      "memory usage: 2.0+ MB\n"
     ]
    }
   ],
   "source": [
    "# ваш код здесь\n",
    "data.info()"
   ]
  },
  {
   "cell_type": "markdown",
   "id": "f969a1cd",
   "metadata": {
    "deletable": false,
    "editable": false,
    "id": "f969a1cd"
   },
   "source": [
    "## Предобработка данных"
   ]
  },
  {
   "cell_type": "markdown",
   "id": "7283e864",
   "metadata": {
    "deletable": false,
    "editable": false,
    "id": "7283e864"
   },
   "source": [
    "### Удаление пропусков"
   ]
  },
  {
   "cell_type": "markdown",
   "id": "c9a0745e",
   "metadata": {
    "deletable": false,
    "editable": false,
    "id": "c9a0745e",
    "tags": [
     "start_task"
    ]
   },
   "source": [
    "**Задание 4. Выведите количество пропущенных значений для каждого столбца. Используйте комбинацию двух методов.**"
   ]
  },
  {
   "cell_type": "code",
   "execution_count": 69,
   "id": "b7a096e1",
   "metadata": {
    "id": "b7a096e1"
   },
   "outputs": [
    {
     "name": "stdout",
     "output_type": "stream",
     "text": [
      "children               0\n",
      "days_employed       2174\n",
      "dob_years              0\n",
      "education              0\n",
      "education_id           0\n",
      "family_status          0\n",
      "family_status_id       0\n",
      "gender                 0\n",
      "income_type            0\n",
      "debt                   0\n",
      "total_income        2174\n",
      "purpose                0\n",
      "dtype: int64\n"
     ]
    }
   ],
   "source": [
    "# ваш код здесь\n",
    "print(data.isna().sum())"
   ]
  },
  {
   "cell_type": "markdown",
   "id": "c2578616",
   "metadata": {
    "deletable": false,
    "editable": false,
    "id": "c2578616",
    "tags": [
     "start_task"
    ]
   },
   "source": [
    "**Задание 5. В двух столбцах есть пропущенные значения. Один из них — `days_employed`. Пропуски в этом столбце вы обработаете на следующем этапе. Другой столбец с пропущенными значениями — `total_income` — хранит данные о доходах. На сумму дохода сильнее всего влияет тип занятости, поэтому заполнить пропуски в этом столбце нужно медианным значением по каждому типу из столбца `income_type`. Например, у человека с типом занятости `сотрудник` пропуск в столбце `total_income` должен быть заполнен медианным доходом среди всех записей с тем же типом.**"
   ]
  },
  {
   "cell_type": "code",
   "execution_count": 70,
   "id": "e8afc4bc",
   "metadata": {
    "id": "e8afc4bc"
   },
   "outputs": [
    {
     "name": "stdout",
     "output_type": "stream",
     "text": [
      "children               0\n",
      "days_employed       2174\n",
      "dob_years              0\n",
      "education              0\n",
      "education_id           0\n",
      "family_status          0\n",
      "family_status_id       0\n",
      "gender                 0\n",
      "income_type            0\n",
      "debt                   0\n",
      "total_income           0\n",
      "purpose                0\n",
      "dtype: int64\n"
     ]
    }
   ],
   "source": [
    "# ваш код здесь\n",
    "for type in data['income_type'].unique():\n",
    "    data.loc[(data['income_type'] == type) & (data['total_income'].isna()),'total_income'] = data.loc[(data['income_type'] == type),'total_income'].median()\n",
    "print(data.isna().sum())"
   ]
  },
  {
   "cell_type": "markdown",
   "id": "ae986d46",
   "metadata": {
    "deletable": false,
    "editable": false,
    "id": "ae986d46"
   },
   "source": [
    "### Обработка аномальных значений"
   ]
  },
  {
   "cell_type": "markdown",
   "id": "b049cbae",
   "metadata": {
    "deletable": false,
    "editable": false,
    "id": "b049cbae",
    "tags": [
     "start_task"
    ]
   },
   "source": [
    "**Задание 6. В данных могут встречаться артефакты (аномалии) — значения, которые не отражают действительность и появились по какой-то ошибке. Таким артефактом будет отрицательное количество дней трудового стажа в столбце `days_employed`. Для реальных данных это нормально. Обработайте значения в этом столбце: замените все отрицательные значения положительными с помощью метода `abs()`.**"
   ]
  },
  {
   "cell_type": "code",
   "execution_count": 71,
   "id": "187779b0",
   "metadata": {
    "id": "187779b0"
   },
   "outputs": [],
   "source": [
    "data['days_employed'] = data['days_employed'].abs()"
   ]
  },
  {
   "cell_type": "markdown",
   "id": "a13054c2",
   "metadata": {
    "deletable": false,
    "editable": false,
    "id": "a13054c2",
    "tags": [
     "start_task"
    ]
   },
   "source": [
    "**Задание 7. Для каждого типа занятости выведите медианное значение трудового стажа `days_employed` в днях.**"
   ]
  },
  {
   "cell_type": "code",
   "execution_count": 72,
   "id": "f3f5810c",
   "metadata": {
    "id": "f3f5810c"
   },
   "outputs": [
    {
     "data": {
      "text/plain": [
       "income_type\n",
       "безработный        366413.652744\n",
       "в декрете            3296.759962\n",
       "госслужащий          2689.368353\n",
       "компаньон            1547.382223\n",
       "пенсионер          365213.306266\n",
       "предприниматель       520.848083\n",
       "сотрудник            1574.202821\n",
       "студент               578.751554\n",
       "Name: days_employed, dtype: float64"
      ]
     },
     "execution_count": 72,
     "metadata": {},
     "output_type": "execute_result"
    }
   ],
   "source": [
    "mediana_days = data.groupby('income_type')['days_employed'].median()\n",
    "mediana_days"
   ]
  },
  {
   "cell_type": "markdown",
   "id": "dbc3168c",
   "metadata": {
    "deletable": false,
    "editable": false,
    "id": "dbc3168c"
   },
   "source": [
    "У двух типов (безработные и пенсионеры) получатся аномально большие значения. Исправить такие значения сложно, поэтому оставьте их как есть."
   ]
  },
  {
   "cell_type": "markdown",
   "id": "ff4378c2",
   "metadata": {
    "deletable": false,
    "editable": false,
    "id": "ff4378c2",
    "tags": [
     "start_task"
    ]
   },
   "source": [
    "**Задание 8. Выведите перечень уникальных значений столбца `children`.**"
   ]
  },
  {
   "cell_type": "code",
   "execution_count": 73,
   "id": "9bd0c232",
   "metadata": {
    "id": "9bd0c232"
   },
   "outputs": [
    {
     "data": {
      "text/plain": [
       "array([ 1,  0,  3,  2, -1,  4, 20,  5])"
      ]
     },
     "execution_count": 73,
     "metadata": {},
     "output_type": "execute_result"
    }
   ],
   "source": [
    "data['children'].unique()"
   ]
  },
  {
   "cell_type": "markdown",
   "id": "8e911990",
   "metadata": {
    "deletable": false,
    "editable": false,
    "id": "8e911990",
    "tags": [
     "start_task"
    ]
   },
   "source": [
    "**Задание 9. В столбце `children` есть два аномальных значения. Удалите строки, в которых встречаются такие аномальные значения из датафрейма `data`.**"
   ]
  },
  {
   "cell_type": "code",
   "execution_count": 74,
   "id": "6d5ba289",
   "metadata": {
    "id": "6d5ba289"
   },
   "outputs": [],
   "source": [
    "# ваш код здесь\n",
    "data = data.loc[data['children'] != -1]\n",
    "data = data.loc[data['children'] != 20]\n"
   ]
  },
  {
   "cell_type": "markdown",
   "id": "18d77455",
   "metadata": {
    "deletable": false,
    "editable": false,
    "id": "18d77455",
    "tags": [
     "start_task"
    ]
   },
   "source": [
    "**Задание 10. Ещё раз выведите перечень уникальных значений столбца `children`, чтобы убедиться, что артефакты удалены.**"
   ]
  },
  {
   "cell_type": "code",
   "execution_count": 75,
   "id": "2c5fa92c",
   "metadata": {
    "id": "2c5fa92c"
   },
   "outputs": [
    {
     "data": {
      "text/plain": [
       "array([1, 0, 3, 2, 4, 5])"
      ]
     },
     "execution_count": 75,
     "metadata": {},
     "output_type": "execute_result"
    }
   ],
   "source": [
    "# ваш код здесь\n",
    "data['children'].unique()"
   ]
  },
  {
   "cell_type": "markdown",
   "id": "0ec07dee",
   "metadata": {
    "deletable": false,
    "editable": false,
    "id": "0ec07dee"
   },
   "source": [
    "### Удаление пропусков (продолжение)"
   ]
  },
  {
   "cell_type": "markdown",
   "id": "0fc3ae3f",
   "metadata": {
    "deletable": false,
    "editable": false,
    "id": "0fc3ae3f",
    "tags": [
     "start_task"
    ]
   },
   "source": [
    "**Задание 11. Заполните пропуски в столбце `days_employed` медианными значениями по каждому типу занятости `income_type`.**"
   ]
  },
  {
   "cell_type": "code",
   "execution_count": 87,
   "id": "e2aea7ac",
   "metadata": {
    "id": "e2aea7ac",
    "scrolled": true
   },
   "outputs": [
    {
     "name": "stdout",
     "output_type": "stream",
     "text": [
      "children            0\n",
      "days_employed       0\n",
      "dob_years           0\n",
      "education           0\n",
      "education_id        0\n",
      "family_status       0\n",
      "family_status_id    0\n",
      "gender              0\n",
      "income_type         0\n",
      "debt                0\n",
      "total_income        0\n",
      "purpose             0\n",
      "dtype: int64\n"
     ]
    }
   ],
   "source": [
    "# ваш код здесь\n",
    "for type in data['income_type'].unique():\n",
    "    data.loc[(data['income_type'] == type) & (data['days_employed'].isna()),'days_employed'] = data.loc[(data['income_type'] == type),'days_employed'].median()\n"
   ]
  },
  {
   "cell_type": "markdown",
   "id": "97b0b795",
   "metadata": {
    "deletable": false,
    "editable": false,
    "id": "97b0b795",
    "tags": [
     "start_task"
    ]
   },
   "source": [
    "**Задание 12. Убедитесь, что все пропуски заполнены. Проверьте себя и ещё раз выведите количество пропущенных значений для каждого столбца с помощью двух методов.**"
   ]
  },
  {
   "cell_type": "code",
   "execution_count": 88,
   "id": "79632a21",
   "metadata": {
    "id": "79632a21"
   },
   "outputs": [
    {
     "name": "stdout",
     "output_type": "stream",
     "text": [
      "children            0\n",
      "days_employed       0\n",
      "dob_years           0\n",
      "education           0\n",
      "education_id        0\n",
      "family_status       0\n",
      "family_status_id    0\n",
      "gender              0\n",
      "income_type         0\n",
      "debt                0\n",
      "total_income        0\n",
      "purpose             0\n",
      "dtype: int64\n"
     ]
    }
   ],
   "source": [
    "# ваш код здесь\n",
    "print(data.isna().sum())"
   ]
  },
  {
   "cell_type": "markdown",
   "id": "bd4aeb20",
   "metadata": {
    "deletable": false,
    "editable": false,
    "id": "bd4aeb20"
   },
   "source": [
    "### Изменение типов данных"
   ]
  },
  {
   "cell_type": "markdown",
   "id": "963bfa58",
   "metadata": {
    "deletable": false,
    "editable": false,
    "id": "963bfa58",
    "tags": [
     "start_task"
    ]
   },
   "source": [
    "**Задание 13. Замените вещественный тип данных в столбце `total_income` на целочисленный с помощью метода `astype()`.**"
   ]
  },
  {
   "cell_type": "code",
   "execution_count": 90,
   "id": "73da6ea0",
   "metadata": {
    "id": "73da6ea0"
   },
   "outputs": [
    {
     "data": {
      "text/plain": [
       "0        253875\n",
       "1        112080\n",
       "2        145885\n",
       "3        267628\n",
       "4        158616\n",
       "          ...  \n",
       "21520    224791\n",
       "21521    155999\n",
       "21522     89672\n",
       "21523    244093\n",
       "21524     82047\n",
       "Name: total_income, Length: 21402, dtype: int64"
      ]
     },
     "execution_count": 90,
     "metadata": {},
     "output_type": "execute_result"
    }
   ],
   "source": [
    "# ваш код здесь\n",
    "data['total_income'] = data['total_income'].astype('int')"
   ]
  },
  {
   "cell_type": "markdown",
   "id": "d290239e",
   "metadata": {
    "deletable": false,
    "editable": false,
    "id": "d290239e"
   },
   "source": [
    "### Обработка дубликатов"
   ]
  },
  {
   "cell_type": "markdown",
   "id": "1b5844fd",
   "metadata": {
    "deletable": false,
    "editable": false,
    "id": "1b5844fd",
    "tags": [
     "start_task"
    ]
   },
   "source": [
    "**Задание 14. Обработайте неявные дубликаты в столбце `education`. В этом столбце есть одни и те же значения, но записанные по-разному: с использованием заглавных и строчных букв. Приведите их к нижнему регистру.**"
   ]
  },
  {
   "cell_type": "code",
   "execution_count": 96,
   "id": "3f2504b3",
   "metadata": {
    "id": "3f2504b3"
   },
   "outputs": [],
   "source": [
    "data['education'] = data['education'].str.lower()\n"
   ]
  },
  {
   "cell_type": "markdown",
   "id": "4c22acbc",
   "metadata": {
    "deletable": false,
    "editable": false,
    "id": "4c22acbc",
    "tags": [
     "start_task"
    ]
   },
   "source": [
    "**Задание 15. Выведите на экран количество строк-дубликатов в данных. Если такие строки присутствуют, удалите их.**"
   ]
  },
  {
   "cell_type": "code",
   "execution_count": 97,
   "id": "d34a4325",
   "metadata": {
    "id": "d34a4325"
   },
   "outputs": [
    {
     "data": {
      "text/plain": [
       "71"
      ]
     },
     "execution_count": 97,
     "metadata": {},
     "output_type": "execute_result"
    }
   ],
   "source": [
    "data.duplicated().sum()\n",
    "\n"
   ]
  },
  {
   "cell_type": "code",
   "execution_count": 100,
   "id": "6e1a6499",
   "metadata": {
    "id": "6e1a6499"
   },
   "outputs": [
    {
     "data": {
      "text/plain": [
       "0"
      ]
     },
     "execution_count": 100,
     "metadata": {},
     "output_type": "execute_result"
    }
   ],
   "source": [
    "# удалите дубликаты\n",
    "data = data.drop_duplicates() \n",
    "data.duplicated().sum()"
   ]
  },
  {
   "cell_type": "markdown",
   "id": "e5686ccc",
   "metadata": {
    "deletable": false,
    "editable": false,
    "id": "e5686ccc"
   },
   "source": [
    "### Категоризация данных"
   ]
  },
  {
   "cell_type": "markdown",
   "id": "636e9acd",
   "metadata": {
    "deletable": false,
    "editable": false,
    "id": "636e9acd",
    "tags": [
     "start_task"
    ]
   },
   "source": [
    "**Задание 16. На основании диапазонов, указанных ниже, создайте в датафрейме `data` столбец `total_income_category` с категориями:**\n",
    "\n",
    "- 0–30000 — `'E'`;\n",
    "- 30001–50000 — `'D'`;\n",
    "- 50001–200000 — `'C'`;\n",
    "- 200001–1000000 — `'B'`;\n",
    "- 1000001 и выше — `'A'`.\n",
    "\n",
    "\n",
    "**Например, кредитополучателю с доходом 25000 нужно назначить категорию `'E'`, а клиенту, получающему 235000, — `'B'`. Используйте собственную функцию с именем `categorize_income()` и метод `apply()`.**"
   ]
  },
  {
   "cell_type": "code",
   "execution_count": 101,
   "id": "880a77e5",
   "metadata": {
    "id": "880a77e5"
   },
   "outputs": [],
   "source": [
    "# создайте функцию categorize_income()\n",
    "def categorize_income(income):\n",
    "     if income <= 30000:\n",
    "         return 'E'\n",
    "     elif income <= 50000:\n",
    "         return 'D'\n",
    "     elif income <= 200000:\n",
    "         return 'C'\n",
    "     elif income <= 1000000:\n",
    "         return 'B'\n",
    "     return 'A'\n",
    "     "
   ]
  },
  {
   "cell_type": "code",
   "execution_count": 102,
   "id": "6f25f161",
   "metadata": {
    "id": "6f25f161"
   },
   "outputs": [],
   "source": [
    "# примените функцию методом apply()\n",
    "data['total_income_category'] = data['total_income'].apply(categorize_income)"
   ]
  },
  {
   "cell_type": "markdown",
   "id": "3363b685",
   "metadata": {
    "deletable": false,
    "editable": false,
    "id": "3363b685",
    "tags": [
     "start_task"
    ]
   },
   "source": [
    "**Задание 17. Выведите на экран перечень уникальных целей взятия кредита из столбца `purpose`.**"
   ]
  },
  {
   "cell_type": "code",
   "execution_count": 103,
   "id": "e59f2c15",
   "metadata": {
    "id": "e59f2c15"
   },
   "outputs": [
    {
     "data": {
      "text/plain": [
       "array(['покупка жилья', 'приобретение автомобиля',\n",
       "       'дополнительное образование', 'сыграть свадьбу',\n",
       "       'операции с жильем', 'образование', 'на проведение свадьбы',\n",
       "       'покупка жилья для семьи', 'покупка недвижимости',\n",
       "       'покупка коммерческой недвижимости', 'покупка жилой недвижимости',\n",
       "       'строительство собственной недвижимости', 'недвижимость',\n",
       "       'строительство недвижимости', 'на покупку подержанного автомобиля',\n",
       "       'на покупку своего автомобиля',\n",
       "       'операции с коммерческой недвижимостью',\n",
       "       'строительство жилой недвижимости', 'жилье',\n",
       "       'операции со своей недвижимостью', 'автомобили',\n",
       "       'заняться образованием', 'сделка с подержанным автомобилем',\n",
       "       'получение образования', 'автомобиль', 'свадьба',\n",
       "       'получение дополнительного образования', 'покупка своего жилья',\n",
       "       'операции с недвижимостью', 'получение высшего образования',\n",
       "       'свой автомобиль', 'сделка с автомобилем',\n",
       "       'профильное образование', 'высшее образование',\n",
       "       'покупка жилья для сдачи', 'на покупку автомобиля', 'ремонт жилью',\n",
       "       'заняться высшим образованием'], dtype=object)"
      ]
     },
     "execution_count": 103,
     "metadata": {},
     "output_type": "execute_result"
    }
   ],
   "source": [
    "# ваш код здесь\n",
    "data['purpose'].unique()"
   ]
  },
  {
   "cell_type": "markdown",
   "id": "bb33e847",
   "metadata": {
    "deletable": false,
    "editable": false,
    "id": "bb33e847",
    "tags": [
     "start_task"
    ]
   },
   "source": [
    "**Задание 18. Создайте функцию, которая на основании данных из столбца `purpose` сформирует новый столбец `purpose_category`, в который войдут следующие категории:**\n",
    "\n",
    "- `'операции с автомобилем'`,\n",
    "- `'операции с недвижимостью'`,\n",
    "- `'проведение свадьбы'`,\n",
    "- `'получение образования'`.\n",
    "\n",
    "**Например, если в столбце `purpose` находится подстрока `'на покупку автомобиля'`, то в столбце `purpose_category` должна появиться строка `'операции с автомобилем'`.**\n",
    "\n",
    "**Используйте собственную функцию с именем `categorize_purpose()` и метод `apply()`. Изучите данные в столбце `purpose` и определите, какие подстроки помогут вам правильно определить категорию.**"
   ]
  },
  {
   "cell_type": "code",
   "execution_count": 111,
   "id": "63909b83",
   "metadata": {
    "id": "63909b83"
   },
   "outputs": [],
   "source": [
    "# создайте функцию categorize_purpose()\n",
    "def categorize_purpose(purpose):\n",
    "    if 'авто' in purpose:\n",
    "        return 'операции с автомобилем'\n",
    "    elif 'недвиж' in purpose:\n",
    "        return 'операции с недвижимостью'\n",
    "    elif 'жиль' in purpose:\n",
    "        return 'операции с недвижимостью'\n",
    "    elif 'свадьб' in purpose:\n",
    "        return 'проведение свадьбы'\n",
    "    elif 'образов' in purpose:\n",
    "        return 'получение образования'\n",
    "    return 'Проверить цель'\n"
   ]
  },
  {
   "cell_type": "code",
   "execution_count": 112,
   "id": "7cb4a81d",
   "metadata": {
    "id": "7cb4a81d"
   },
   "outputs": [
    {
     "data": {
      "text/plain": [
       "array(['операции с недвижимостью', 'операции с автомобилем',\n",
       "       'получение образования', 'проведение свадьбы'], dtype=object)"
      ]
     },
     "execution_count": 112,
     "metadata": {},
     "output_type": "execute_result"
    }
   ],
   "source": [
    "# примените функцию методом apply()\n",
    "data['purpose_category'] = data['purpose'].apply(categorize_purpose)"
   ]
  },
  {
   "cell_type": "code",
   "execution_count": 113,
   "id": "77d5fc4e",
   "metadata": {},
   "outputs": [
    {
     "data": {
      "text/html": [
       "<div>\n",
       "<style scoped>\n",
       "    .dataframe tbody tr th:only-of-type {\n",
       "        vertical-align: middle;\n",
       "    }\n",
       "\n",
       "    .dataframe tbody tr th {\n",
       "        vertical-align: top;\n",
       "    }\n",
       "\n",
       "    .dataframe thead th {\n",
       "        text-align: right;\n",
       "    }\n",
       "</style>\n",
       "<table border=\"1\" class=\"dataframe\">\n",
       "  <thead>\n",
       "    <tr style=\"text-align: right;\">\n",
       "      <th></th>\n",
       "      <th>children</th>\n",
       "      <th>days_employed</th>\n",
       "      <th>dob_years</th>\n",
       "      <th>education</th>\n",
       "      <th>education_id</th>\n",
       "      <th>family_status</th>\n",
       "      <th>family_status_id</th>\n",
       "      <th>gender</th>\n",
       "      <th>income_type</th>\n",
       "      <th>debt</th>\n",
       "      <th>total_income</th>\n",
       "      <th>purpose</th>\n",
       "      <th>total_income_category</th>\n",
       "      <th>purpose_category</th>\n",
       "    </tr>\n",
       "  </thead>\n",
       "  <tbody>\n",
       "  </tbody>\n",
       "</table>\n",
       "</div>"
      ],
      "text/plain": [
       "Empty DataFrame\n",
       "Columns: [children, days_employed, dob_years, education, education_id, family_status, family_status_id, gender, income_type, debt, total_income, purpose, total_income_category, purpose_category]\n",
       "Index: []"
      ]
     },
     "execution_count": 113,
     "metadata": {},
     "output_type": "execute_result"
    }
   ],
   "source": [
    "data.loc[data['purpose_category'] == 'Проверить цель']"
   ]
  },
  {
   "cell_type": "code",
   "execution_count": null,
   "id": "3576ad10",
   "metadata": {},
   "outputs": [],
   "source": []
  }
 ],
 "metadata": {
  "ExecuteTimeLog": [
   {
    "duration": 458,
    "start_time": "2023-02-01T08:40:56.070Z"
   },
   {
    "duration": 188,
    "start_time": "2023-02-01T08:40:56.531Z"
   },
   {
    "duration": 12,
    "start_time": "2023-02-01T08:40:56.722Z"
   },
   {
    "duration": 41,
    "start_time": "2023-02-01T08:40:56.736Z"
   },
   {
    "duration": 43,
    "start_time": "2023-02-01T08:40:56.779Z"
   },
   {
    "duration": 11,
    "start_time": "2023-02-01T08:40:56.825Z"
   },
   {
    "duration": 18,
    "start_time": "2023-02-01T08:40:56.837Z"
   },
   {
    "duration": 5,
    "start_time": "2023-02-01T08:40:56.856Z"
   },
   {
    "duration": 5,
    "start_time": "2023-02-01T08:40:56.863Z"
   },
   {
    "duration": 6,
    "start_time": "2023-02-01T08:40:56.870Z"
   },
   {
    "duration": 12,
    "start_time": "2023-02-01T08:40:56.878Z"
   },
   {
    "duration": 35,
    "start_time": "2023-02-01T08:40:56.892Z"
   },
   {
    "duration": 6,
    "start_time": "2023-02-01T08:40:56.929Z"
   },
   {
    "duration": 4,
    "start_time": "2023-02-01T08:40:56.937Z"
   },
   {
    "duration": 6,
    "start_time": "2023-02-01T08:40:56.943Z"
   },
   {
    "duration": 8,
    "start_time": "2023-02-01T08:40:56.950Z"
   },
   {
    "duration": 12,
    "start_time": "2023-02-01T08:40:56.960Z"
   },
   {
    "duration": 13,
    "start_time": "2023-02-01T08:40:56.974Z"
   },
   {
    "duration": 32,
    "start_time": "2023-02-01T08:40:56.988Z"
   },
   {
    "duration": 6,
    "start_time": "2023-02-01T08:40:57.021Z"
   },
   {
    "duration": 10,
    "start_time": "2023-02-01T08:40:57.029Z"
   },
   {
    "duration": 5,
    "start_time": "2023-02-01T08:40:57.040Z"
   },
   {
    "duration": 9,
    "start_time": "2023-02-01T08:50:29.822Z"
   },
   {
    "duration": 4,
    "start_time": "2023-02-01T08:52:54.350Z"
   },
   {
    "duration": 54,
    "start_time": "2023-02-01T08:54:01.162Z"
   },
   {
    "duration": 53,
    "start_time": "2023-02-01T08:54:09.197Z"
   },
   {
    "duration": 5,
    "start_time": "2023-02-01T08:54:28.653Z"
   },
   {
    "duration": 4,
    "start_time": "2023-02-01T08:55:21.086Z"
   },
   {
    "duration": 66,
    "start_time": "2023-02-01T08:55:41.686Z"
   },
   {
    "duration": 6,
    "start_time": "2023-02-01T08:55:56.142Z"
   },
   {
    "duration": 473,
    "start_time": "2023-02-01T16:29:03.299Z"
   },
   {
    "duration": 159,
    "start_time": "2023-02-01T16:29:03.774Z"
   },
   {
    "duration": 14,
    "start_time": "2023-02-01T16:29:03.935Z"
   },
   {
    "duration": 41,
    "start_time": "2023-02-01T16:29:03.952Z"
   },
   {
    "duration": 21,
    "start_time": "2023-02-01T16:29:03.996Z"
   },
   {
    "duration": 71,
    "start_time": "2023-02-01T16:29:04.019Z"
   },
   {
    "duration": 6,
    "start_time": "2023-02-01T16:29:04.092Z"
   },
   {
    "duration": 35,
    "start_time": "2023-02-01T16:29:04.099Z"
   },
   {
    "duration": 22,
    "start_time": "2023-02-01T16:29:04.136Z"
   },
   {
    "duration": 21,
    "start_time": "2023-02-01T16:29:04.160Z"
   },
   {
    "duration": 12,
    "start_time": "2023-02-01T16:29:04.184Z"
   },
   {
    "duration": 15,
    "start_time": "2023-02-01T16:29:04.199Z"
   },
   {
    "duration": 42,
    "start_time": "2023-02-01T16:29:04.220Z"
   },
   {
    "duration": 15,
    "start_time": "2023-02-01T16:29:04.265Z"
   },
   {
    "duration": 7,
    "start_time": "2023-02-01T16:29:04.282Z"
   },
   {
    "duration": 37,
    "start_time": "2023-02-01T16:29:04.291Z"
   },
   {
    "duration": 22,
    "start_time": "2023-02-01T16:29:04.332Z"
   },
   {
    "duration": 10,
    "start_time": "2023-02-01T16:29:04.357Z"
   },
   {
    "duration": 9,
    "start_time": "2023-02-01T16:29:04.369Z"
   },
   {
    "duration": 10,
    "start_time": "2023-02-01T16:29:04.380Z"
   },
   {
    "duration": 27,
    "start_time": "2023-02-01T16:29:04.392Z"
   },
   {
    "duration": 36,
    "start_time": "2023-02-01T16:29:04.423Z"
   },
   {
    "duration": 12,
    "start_time": "2023-02-01T16:31:45.729Z"
   },
   {
    "duration": 3,
    "start_time": "2023-02-01T16:52:18.595Z"
   },
   {
    "duration": 44,
    "start_time": "2023-02-01T16:52:54.218Z"
   },
   {
    "duration": 3,
    "start_time": "2023-02-01T16:53:09.496Z"
   },
   {
    "duration": 90,
    "start_time": "2023-02-01T16:53:09.501Z"
   },
   {
    "duration": 20,
    "start_time": "2023-02-01T16:53:09.594Z"
   },
   {
    "duration": 22,
    "start_time": "2023-02-01T16:53:09.618Z"
   },
   {
    "duration": 8,
    "start_time": "2023-02-01T16:53:09.642Z"
   },
   {
    "duration": 44,
    "start_time": "2023-02-01T16:53:09.652Z"
   },
   {
    "duration": 14,
    "start_time": "2023-02-01T16:53:09.704Z"
   },
   {
    "duration": 11,
    "start_time": "2023-02-01T16:53:09.720Z"
   },
   {
    "duration": 8,
    "start_time": "2023-02-01T16:53:09.732Z"
   },
   {
    "duration": 42,
    "start_time": "2023-02-01T16:53:09.742Z"
   },
   {
    "duration": 0,
    "start_time": "2023-02-01T16:53:09.786Z"
   },
   {
    "duration": 0,
    "start_time": "2023-02-01T16:53:09.787Z"
   },
   {
    "duration": 0,
    "start_time": "2023-02-01T16:53:09.788Z"
   },
   {
    "duration": 0,
    "start_time": "2023-02-01T16:53:09.790Z"
   },
   {
    "duration": 0,
    "start_time": "2023-02-01T16:53:09.791Z"
   },
   {
    "duration": 0,
    "start_time": "2023-02-01T16:53:09.792Z"
   },
   {
    "duration": 0,
    "start_time": "2023-02-01T16:53:09.793Z"
   },
   {
    "duration": 0,
    "start_time": "2023-02-01T16:53:09.795Z"
   },
   {
    "duration": 0,
    "start_time": "2023-02-01T16:53:09.796Z"
   },
   {
    "duration": 0,
    "start_time": "2023-02-01T16:53:09.797Z"
   },
   {
    "duration": 0,
    "start_time": "2023-02-01T16:53:09.798Z"
   },
   {
    "duration": 0,
    "start_time": "2023-02-01T16:53:09.799Z"
   },
   {
    "duration": 77,
    "start_time": "2023-02-01T16:53:43.393Z"
   },
   {
    "duration": 8,
    "start_time": "2023-02-01T16:54:06.519Z"
   },
   {
    "duration": 21,
    "start_time": "2023-02-01T16:54:37.292Z"
   },
   {
    "duration": 8,
    "start_time": "2023-02-01T17:14:16.931Z"
   },
   {
    "duration": 3,
    "start_time": "2023-02-01T17:14:25.994Z"
   },
   {
    "duration": 82,
    "start_time": "2023-02-01T17:14:25.998Z"
   },
   {
    "duration": 8,
    "start_time": "2023-02-01T17:14:26.082Z"
   },
   {
    "duration": 27,
    "start_time": "2023-02-01T17:14:26.091Z"
   },
   {
    "duration": 13,
    "start_time": "2023-02-01T17:14:26.120Z"
   },
   {
    "duration": 40,
    "start_time": "2023-02-01T17:14:26.135Z"
   },
   {
    "duration": 3,
    "start_time": "2023-02-01T17:14:26.177Z"
   },
   {
    "duration": 37,
    "start_time": "2023-02-01T17:14:26.181Z"
   },
   {
    "duration": 9,
    "start_time": "2023-02-01T17:14:26.220Z"
   },
   {
    "duration": 8,
    "start_time": "2023-02-01T17:14:26.231Z"
   },
   {
    "duration": 16,
    "start_time": "2023-02-01T17:14:26.241Z"
   },
   {
    "duration": 18,
    "start_time": "2023-02-01T17:14:26.259Z"
   },
   {
    "duration": 10,
    "start_time": "2023-02-01T17:14:26.278Z"
   },
   {
    "duration": 13,
    "start_time": "2023-02-01T17:14:26.290Z"
   },
   {
    "duration": 12,
    "start_time": "2023-02-01T17:14:26.314Z"
   },
   {
    "duration": 7,
    "start_time": "2023-02-01T17:14:26.328Z"
   },
   {
    "duration": 9,
    "start_time": "2023-02-01T17:14:26.336Z"
   },
   {
    "duration": 10,
    "start_time": "2023-02-01T17:14:26.347Z"
   },
   {
    "duration": 8,
    "start_time": "2023-02-01T17:14:26.359Z"
   },
   {
    "duration": 10,
    "start_time": "2023-02-01T17:14:26.368Z"
   },
   {
    "duration": 5,
    "start_time": "2023-02-01T17:14:26.379Z"
   },
   {
    "duration": 7,
    "start_time": "2023-02-01T17:14:26.386Z"
   },
   {
    "duration": 23,
    "start_time": "2023-02-01T17:15:12.494Z"
   },
   {
    "duration": 9,
    "start_time": "2023-02-01T17:15:52.690Z"
   },
   {
    "duration": 40,
    "start_time": "2023-02-01T17:18:49.226Z"
   },
   {
    "duration": 2,
    "start_time": "2023-02-01T17:19:40.253Z"
   },
   {
    "duration": 79,
    "start_time": "2023-02-01T17:19:40.257Z"
   },
   {
    "duration": 8,
    "start_time": "2023-02-01T17:19:40.337Z"
   },
   {
    "duration": 24,
    "start_time": "2023-02-01T17:19:40.347Z"
   },
   {
    "duration": 8,
    "start_time": "2023-02-01T17:19:40.372Z"
   },
   {
    "duration": 58,
    "start_time": "2023-02-01T17:19:40.381Z"
   },
   {
    "duration": 3,
    "start_time": "2023-02-01T17:19:40.441Z"
   },
   {
    "duration": 11,
    "start_time": "2023-02-01T17:19:40.445Z"
   },
   {
    "duration": 5,
    "start_time": "2023-02-01T17:19:40.459Z"
   },
   {
    "duration": 30,
    "start_time": "2023-02-01T17:19:40.465Z"
   },
   {
    "duration": 28,
    "start_time": "2023-02-01T17:19:40.497Z"
   },
   {
    "duration": 63,
    "start_time": "2023-02-01T17:19:40.527Z"
   },
   {
    "duration": 2,
    "start_time": "2023-02-01T17:19:40.591Z"
   },
   {
    "duration": 22,
    "start_time": "2023-02-01T17:19:40.595Z"
   },
   {
    "duration": 10,
    "start_time": "2023-02-01T17:19:40.619Z"
   },
   {
    "duration": 21,
    "start_time": "2023-02-01T17:19:40.631Z"
   },
   {
    "duration": 6,
    "start_time": "2023-02-01T17:19:40.653Z"
   },
   {
    "duration": 13,
    "start_time": "2023-02-01T17:19:40.660Z"
   },
   {
    "duration": 7,
    "start_time": "2023-02-01T17:19:40.675Z"
   },
   {
    "duration": 32,
    "start_time": "2023-02-01T17:19:40.683Z"
   },
   {
    "duration": 11,
    "start_time": "2023-02-01T17:19:40.717Z"
   },
   {
    "duration": 10,
    "start_time": "2023-02-01T17:19:40.729Z"
   },
   {
    "duration": 47,
    "start_time": "2023-02-01T17:20:52.392Z"
   },
   {
    "duration": 16,
    "start_time": "2023-02-01T17:21:39.296Z"
   },
   {
    "duration": 7,
    "start_time": "2023-02-01T17:22:18.617Z"
   },
   {
    "duration": 6,
    "start_time": "2023-02-01T17:22:25.515Z"
   },
   {
    "duration": 5,
    "start_time": "2023-02-01T18:42:31.885Z"
   },
   {
    "duration": 7,
    "start_time": "2023-02-01T18:43:02.071Z"
   },
   {
    "duration": 7,
    "start_time": "2023-02-01T18:43:13.085Z"
   },
   {
    "duration": 14,
    "start_time": "2023-02-01T18:44:08.357Z"
   },
   {
    "duration": 20,
    "start_time": "2023-02-01T18:44:51.581Z"
   },
   {
    "duration": 12,
    "start_time": "2023-02-01T18:46:12.445Z"
   },
   {
    "duration": 60,
    "start_time": "2023-02-01T18:48:07.183Z"
   },
   {
    "duration": 3,
    "start_time": "2023-02-01T18:48:15.686Z"
   },
   {
    "duration": 40,
    "start_time": "2023-02-01T18:48:44.086Z"
   },
   {
    "duration": 31,
    "start_time": "2023-02-01T18:48:55.934Z"
   },
   {
    "duration": 4,
    "start_time": "2023-02-01T19:28:50.902Z"
   },
   {
    "duration": 13,
    "start_time": "2023-02-01T19:28:53.225Z"
   },
   {
    "duration": 10,
    "start_time": "2023-02-01T19:29:46.401Z"
   },
   {
    "duration": 4,
    "start_time": "2023-02-01T19:43:10.997Z"
   },
   {
    "duration": 24,
    "start_time": "2023-02-01T19:43:13.897Z"
   },
   {
    "duration": 66,
    "start_time": "2023-02-01T19:44:24.191Z"
   },
   {
    "duration": 45,
    "start_time": "2023-02-01T19:45:27.551Z"
   },
   {
    "duration": 3,
    "start_time": "2023-02-01T19:45:38.494Z"
   },
   {
    "duration": 21,
    "start_time": "2023-02-01T19:46:24.901Z"
   },
   {
    "duration": 25,
    "start_time": "2023-02-01T19:46:41.728Z"
   },
   {
    "duration": 3,
    "start_time": "2023-02-01T19:47:53.094Z"
   },
   {
    "duration": 18,
    "start_time": "2023-02-01T19:47:57.219Z"
   },
   {
    "duration": 12,
    "start_time": "2023-02-01T19:48:11.612Z"
   }
  ],
  "colab": {
   "provenance": []
  },
  "kernelspec": {
   "display_name": "Python 3 (ipykernel)",
   "language": "python",
   "name": "python3"
  },
  "language_info": {
   "codemirror_mode": {
    "name": "ipython",
    "version": 3
   },
   "file_extension": ".py",
   "mimetype": "text/x-python",
   "name": "python",
   "nbconvert_exporter": "python",
   "pygments_lexer": "ipython3",
   "version": "3.9.5"
  },
  "toc": {
   "base_numbering": 1,
   "nav_menu": {},
   "number_sections": true,
   "sideBar": true,
   "skip_h1_title": true,
   "title_cell": "Table of Contents",
   "title_sidebar": "Contents",
   "toc_cell": false,
   "toc_position": {},
   "toc_section_display": true,
   "toc_window_display": false
  }
 },
 "nbformat": 4,
 "nbformat_minor": 5
}
